{
 "cells": [
  {
   "cell_type": "code",
   "execution_count": 54,
   "metadata": {},
   "outputs": [],
   "source": [
    "import numpy as np\n",
    "import pandas as pd\n",
    "import os\n",
    "from pyplink import PyPlink\n",
    "from basic_tools import *"
   ]
  },
  {
   "cell_type": "code",
   "execution_count": 2,
   "metadata": {},
   "outputs": [],
   "source": [
    "#plink=PyPlink(\"data/genotype/4_merge/KCHIP_HLA_AA_SNP_1000G_merged\")"
   ]
  },
  {
   "cell_type": "markdown",
   "metadata": {},
   "source": [
    "# Individuals common in data"
   ]
  },
  {
   "cell_type": "code",
   "execution_count": 3,
   "metadata": {},
   "outputs": [],
   "source": [
    "pheno_ind=pd.read_csv(pheno_all_file_path,sep='\\t')[\"ID\"]"
   ]
  },
  {
   "cell_type": "code",
   "execution_count": 4,
   "metadata": {},
   "outputs": [],
   "source": [
    "_1000G_ind=pd.read_csv('data/genotype/0_1000G/KCHIP_HLA_6_28Mb_35Mb_20200113_QC.fam',sep=' ',header=None)[0]"
   ]
  },
  {
   "cell_type": "code",
   "execution_count": 7,
   "metadata": {},
   "outputs": [],
   "source": [
    "bmarker_ind=pd.read_csv('data/genotype/3_KCHIP_bmarkerphased/KCHIP_HLA.hg18.intersection_HAN.LABELED.NoSameAllele.bMarkers.2field.saveRareAllele.fam',sep=' ',header=None)[0]"
   ]
  },
  {
   "cell_type": "code",
   "execution_count": 8,
   "metadata": {},
   "outputs": [],
   "source": [
    "individual_common=pd.DataFrame(pd.Index(pheno_ind).intersection(pd.Index(_1000G_ind)).intersection(pd.Index(bmarker_ind))).sort_values(0)[[0,0]]"
   ]
  },
  {
   "cell_type": "code",
   "execution_count": 35,
   "metadata": {},
   "outputs": [],
   "source": [
    "individual_common.to_csv(individual_common_path,sep='\\t',index=None,header=None)"
   ]
  },
  {
   "cell_type": "code",
   "execution_count": 11,
   "metadata": {},
   "outputs": [],
   "source": [
    "#individual_common"
   ]
  },
  {
   "cell_type": "markdown",
   "metadata": {},
   "source": [
    "# Imputation(CookHLA) included in HATK"
   ]
  },
  {
   "cell_type": "markdown",
   "metadata": {},
   "source": [
    "HATK returns `*.ped` and `*.alleles`"
   ]
  },
  {
   "cell_type": "markdown",
   "metadata": {},
   "source": [
    "# NomenCleaner"
   ]
  },
  {
   "cell_type": "markdown",
   "metadata": {},
   "source": [
    "# BmarkerGenerator"
   ]
  },
  {
   "cell_type": "markdown",
   "metadata": {},
   "source": [
    "# Beagle phasing"
   ]
  },
  {
   "cell_type": "markdown",
   "metadata": {},
   "source": [
    "# AA call (deprecated)\n",
    "run_subprocess(' '.join(['Rscript AllCC_Get_Phased_AA_Calls.R',\n",
    "                bmarker_phased_path,\n",
    "                bmarker_plink_path+'.fam',\n",
    "                bmarker_aa_path                        \n",
    "                        ]),dry=True)"
   ]
  },
  {
   "cell_type": "markdown",
   "metadata": {},
   "source": [
    "# KCHIP + 1000G"
   ]
  },
  {
   "cell_type": "markdown",
   "metadata": {},
   "source": [
    "## 1000G"
   ]
  },
  {
   "cell_type": "code",
   "execution_count": 45,
   "metadata": {},
   "outputs": [
    {
     "data": {
      "text/plain": [
       "'plink --vcf data/genotype/0_1000G/KCHIP_HLA_6_28Mb_35Mb_20200113_QC.recode.vcf.gz --keep-allele-order --make-bed --out data/genotype/0_1000G/KCHIP_HLA_6_28Mb_35Mb_20200113_QC'"
      ]
     },
     "execution_count": 45,
     "metadata": {},
     "output_type": "execute_result"
    }
   ],
   "source": [
    "command='plink --vcf data/genotype/0_1000G/KCHIP_HLA_6_28Mb_35Mb_20200113_QC.recode.vcf.gz \\\n",
    "--keep-allele-order \\\n",
    "--make-bed \\\n",
    "--out data/genotype/0_1000G/KCHIP_HLA_6_28Mb_35Mb_20200113_QC'.format(individual_common_path)\n",
    "command"
   ]
  },
  {
   "cell_type": "code",
   "execution_count": null,
   "metadata": {},
   "outputs": [],
   "source": []
  },
  {
   "cell_type": "code",
   "execution_count": 52,
   "metadata": {},
   "outputs": [
    {
     "name": "stderr",
     "output_type": "stream",
     "text": [
      "/home/ch6845/tools/miniconda3/envs/pytorch/lib/python3.6/site-packages/ipykernel_launcher.py:1: ParserWarning: Falling back to the 'python' engine because the 'c' engine does not support regex separators (separators > 1 char and different from '\\s+' are interpreted as regex); you can avoid this warning by specifying engine='python'.\n",
      "  \"\"\"Entry point for launching an IPython kernel.\n"
     ]
    }
   ],
   "source": [
    "frq=pd.read_csv('data/genotype/0_1000G/KCHIP_HLA_6_28Mb_35Mb_20200113_QC.newfilter.frq',sep=r'\\s*')"
   ]
  },
  {
   "cell_type": "code",
   "execution_count": 55,
   "metadata": {},
   "outputs": [],
   "source": [
    "#frq.sort_values('MAF')"
   ]
  },
  {
   "cell_type": "code",
   "execution_count": null,
   "metadata": {},
   "outputs": [],
   "source": []
  },
  {
   "cell_type": "code",
   "execution_count": 46,
   "metadata": {},
   "outputs": [
    {
     "data": {
      "text/plain": [
       "'plink --bfile data/genotype/0_1000G/KCHIP_HLA_6_28Mb_35Mb_20200113_QC --keep data/individual.tsv --keep-allele-order --make-bed --out data/genotype/0_1000G/KCHIP_HLA_6_28Mb_35Mb_20200113_QC.newfilter'"
      ]
     },
     "execution_count": 46,
     "metadata": {},
     "output_type": "execute_result"
    }
   ],
   "source": [
    "command='plink --bfile data/genotype/0_1000G/KCHIP_HLA_6_28Mb_35Mb_20200113_QC \\\n",
    "--keep {} \\\n",
    "--keep-allele-order \\\n",
    "--make-bed \\\n",
    "--out data/genotype/0_1000G/KCHIP_HLA_6_28Mb_35Mb_20200113_QC.newfilter'.format(individual_common_path)\n",
    "command"
   ]
  },
  {
   "cell_type": "markdown",
   "metadata": {},
   "source": [
    "1000G\n",
    "MAF 0.01\n",
    "Imputation quality score 0.8\n",
    "\n",
    "hwe 1e-10"
   ]
  },
  {
   "cell_type": "code",
   "execution_count": 12,
   "metadata": {},
   "outputs": [
    {
     "data": {
      "text/plain": [
       "(63544, 6)"
      ]
     },
     "execution_count": 12,
     "metadata": {},
     "output_type": "execute_result"
    }
   ],
   "source": [
    "_1000G_bim=pd.read_csv('data/genotype/0_1000G/KCHIP_HLA_6_28Mb_35Mb_20200113_QC.newfilter'+'.bim',sep='\\t',names=['CHR','SNP','CM','BP','A1','A2'])\n",
    "_1000G_bim.shape"
   ]
  },
  {
   "cell_type": "code",
   "execution_count": 13,
   "metadata": {},
   "outputs": [
    {
     "data": {
      "text/plain": [
       "(12101, 6)"
      ]
     },
     "execution_count": 13,
     "metadata": {},
     "output_type": "execute_result"
    }
   ],
   "source": [
    "bmarker_bim=pd.read_csv('data/genotype/3_KCHIP_bmarkerphased/KCHIP_HLA.hg18.intersection_HAN.LABELED.NoSameAllele.bMarkers.2field.saveRareAllele'+'.bim',sep='\\t',names=['CHR','SNP','CM','BP','A1','A2'])\n",
    "bmarker_bim.shape"
   ]
  },
  {
   "cell_type": "code",
   "execution_count": 14,
   "metadata": {},
   "outputs": [],
   "source": [
    "_1000G_bmarker=_1000G_bim.rename(columns=lambda x: str(x)+'_1000G').merge(right=bmarker_bim.rename(columns=lambda x: str(x)+'_bmarker'),how='inner',left_on='BP_1000G',right_on='BP_bmarker')"
   ]
  },
  {
   "cell_type": "code",
   "execution_count": 26,
   "metadata": {},
   "outputs": [
    {
     "name": "stderr",
     "output_type": "stream",
     "text": [
      "/home/ch6845/tools/miniconda3/envs/pytorch/lib/python3.6/site-packages/ipykernel_launcher.py:1: FutureWarning: The signature of `Series.to_csv` was aligned to that of `DataFrame.to_csv`, and argument 'header' will change its default value from False to True: please pass an explicit value to suppress this warning.\n",
      "  \"\"\"Entry point for launching an IPython kernel.\n"
     ]
    }
   ],
   "source": [
    "_1000G_bmarker['SNP_1000G'].to_csv('data/genotype/0_1000G/1000G_bmarker_overlap.tsv',index=None,header=None)"
   ]
  },
  {
   "cell_type": "code",
   "execution_count": 27,
   "metadata": {},
   "outputs": [
    {
     "name": "stdout",
     "output_type": "stream",
     "text": [
      "------RUN-----\n",
      "plink --bfile data/genotype/0_1000G/KCHIP_HLA_6_28Mb_35Mb_20200113_QC.newfilter --exclude data/genotype/0_1000G/1000G_bmarker_overlap.tsv --make-bed --out data/genotype/0_1000G/KCHIP_HLA_6_28Mb_35Mb_20200113_QC.newfilter.nooverlap\n"
     ]
    }
   ],
   "source": [
    "run_subprocess('plink --bfile data/genotype/0_1000G/KCHIP_HLA_6_28Mb_35Mb_20200113_QC.newfilter --exclude data/genotype/0_1000G/1000G_bmarker_overlap.tsv --make-bed --out data/genotype/0_1000G/KCHIP_HLA_6_28Mb_35Mb_20200113_QC.newfilter.nooverlap',dry=True)"
   ]
  },
  {
   "cell_type": "markdown",
   "metadata": {},
   "source": [
    "## KCHIP"
   ]
  },
  {
   "cell_type": "code",
   "execution_count": 40,
   "metadata": {},
   "outputs": [
    {
     "data": {
      "text/plain": [
       "'plink --bfile data/genotype/3_KCHIP_bmarkerphased/KCHIP_HLA.hg18.intersection_HAN.LABELED.NoSameAllele.bMarkers.2field.saveRareAllele --keep data/individual.tsv --freq --keep-allele-order --out data/genotype/3_KCHIP_bmarkerphased/KCHIP_HLA.hg18.intersection_HAN.LABELED.NoSameAllele.bMarkers.2field.saveRareAllele'"
      ]
     },
     "execution_count": 40,
     "metadata": {},
     "output_type": "execute_result"
    }
   ],
   "source": [
    "command=\"plink --bfile data/genotype/3_KCHIP_bmarkerphased/KCHIP_HLA.hg18.intersection_HAN.LABELED.NoSameAllele.bMarkers.2field.saveRareAllele \\\n",
    "--keep {} \\\n",
    "--freq \\\n",
    "--keep-allele-order \\\n",
    "--out data/genotype/3_KCHIP_bmarkerphased/KCHIP_HLA.hg18.intersection_HAN.LABELED.NoSameAllele.bMarkers.2field.saveRareAllele\".format(individual_common_path)\n",
    "command"
   ]
  },
  {
   "cell_type": "code",
   "execution_count": 45,
   "metadata": {},
   "outputs": [
    {
     "data": {
      "text/plain": [
       "'plink --bfile data/genotype/3_KCHIP_bmarkerphased/KCHIP_HLA.hg18.intersection_HAN.LABELED.NoSameAllele.bMarkers.2field.saveRareAllele --keep data/individual.tsv --maf 0.005 --make-bed --keep-allele-order --freq --out data/genotype/3_KCHIP_bmarkerphased/KCHIP_HLA.hg18.intersection_HAN.LABELED.NoSameAllele.bMarkers.2field.saveRareAllele.QC'"
      ]
     },
     "execution_count": 45,
     "metadata": {},
     "output_type": "execute_result"
    }
   ],
   "source": [
    "command=\"plink --bfile data/genotype/3_KCHIP_bmarkerphased/KCHIP_HLA.hg18.intersection_HAN.LABELED.NoSameAllele.bMarkers.2field.saveRareAllele \\\n",
    "--keep {} \\\n",
    "--maf 0.005 \\\n",
    "--make-bed \\\n",
    "--keep-allele-order \\\n",
    "--freq \\\n",
    "--out data/genotype/3_KCHIP_bmarkerphased/KCHIP_HLA.hg18.intersection_HAN.LABELED.NoSameAllele.bMarkers.2field.saveRareAllele.QC\".format(individual_common_path)\n",
    "command"
   ]
  },
  {
   "cell_type": "code",
   "execution_count": 16,
   "metadata": {},
   "outputs": [],
   "source": [
    "bmarker_qc_bim=pd.read_csv('data/genotype/3_KCHIP_bmarkerphased/KCHIP_HLA.hg18.intersection_HAN.LABELED.NoSameAllele.bMarkers.2field.saveRareAllele.QC'+'.bim',sep='\\t',names=['CHR','SNP','CM','BP','A1','A2'])"
   ]
  },
  {
   "cell_type": "code",
   "execution_count": 22,
   "metadata": {},
   "outputs": [
    {
     "name": "stderr",
     "output_type": "stream",
     "text": [
      "/home/ch6845/tools/miniconda3/envs/pytorch/lib/python3.6/site-packages/ipykernel_launcher.py:1: FutureWarning: The signature of `Series.to_csv` was aligned to that of `DataFrame.to_csv`, and argument 'header' will change its default value from False to True: please pass an explicit value to suppress this warning.\n",
      "  \"\"\"Entry point for launching an IPython kernel.\n",
      "/home/ch6845/tools/miniconda3/envs/pytorch/lib/python3.6/site-packages/ipykernel_launcher.py:3: FutureWarning: The signature of `Series.to_csv` was aligned to that of `DataFrame.to_csv`, and argument 'header' will change its default value from False to True: please pass an explicit value to suppress this warning.\n",
      "  This is separate from the ipykernel package so we can avoid doing imports until\n"
     ]
    }
   ],
   "source": [
    "bmarker_qc_bim[(bmarker_qc_bim.SNP.str.slice(stop=3)=='AA_') | (bmarker_qc_bim.SNP.str.slice(stop=3)=='HLA')]['SNP'].to_csv('data/genotype/3_KCHIP_bmarkerphased/KCHIP_HLA.hg18.intersection_HAN.LABELED.NoSameAllele.bMarkers.2field.saveRareAllele.QC.HLA_aa_list.tsv',index=None,header=None)\n",
    "\n",
    "bmarker_qc_bim[(bmarker_qc_bim.SNP.str.slice(stop=3)=='AA_')]['SNP'].to_csv('data/genotype/3_KCHIP_bmarkerphased/KCHIP_HLA.hg18.intersection_HAN.LABELED.NoSameAllele.bMarkers.2field.saveRareAllele.QC.aa_list.tsv',index=None,header=None)\n"
   ]
  },
  {
   "cell_type": "code",
   "execution_count": 23,
   "metadata": {},
   "outputs": [
    {
     "data": {
      "text/plain": [
       "'plink --bfile data/genotype/3_KCHIP_bmarkerphased/KCHIP_HLA.hg18.intersection_HAN.LABELED.NoSameAllele.bMarkers.2field.saveRareAllele.QC --exclude data/genotype/3_KCHIP_bmarkerphased/KCHIP_HLA.hg18.intersection_HAN.LABELED.NoSameAllele.bMarkers.2field.saveRareAllele.QC.HLA_aa_list.tsv --make-bed --keep-allele-order --out data/genotype/3_KCHIP_bmarkerphased/KCHIP_HLA.hg18.intersection_HAN.LABELED.NoSameAllele.bMarkers.2field.saveRareAllele.QC.noHLAaa'"
      ]
     },
     "execution_count": 23,
     "metadata": {},
     "output_type": "execute_result"
    }
   ],
   "source": [
    "command=\"plink --bfile data/genotype/3_KCHIP_bmarkerphased/KCHIP_HLA.hg18.intersection_HAN.LABELED.NoSameAllele.bMarkers.2field.saveRareAllele.QC \\\n",
    "--exclude data/genotype/3_KCHIP_bmarkerphased/KCHIP_HLA.hg18.intersection_HAN.LABELED.NoSameAllele.bMarkers.2field.saveRareAllele.QC.HLA_aa_list.tsv \\\n",
    "--make-bed \\\n",
    "--keep-allele-order \\\n",
    "--out data/genotype/3_KCHIP_bmarkerphased/KCHIP_HLA.hg18.intersection_HAN.LABELED.NoSameAllele.bMarkers.2field.saveRareAllele.QC.noHLAaa\"\n",
    "command"
   ]
  },
  {
   "cell_type": "code",
   "execution_count": 24,
   "metadata": {},
   "outputs": [
    {
     "data": {
      "text/plain": [
       "'plink --bfile data/genotype/3_KCHIP_bmarkerphased/KCHIP_HLA.hg18.intersection_HAN.LABELED.NoSameAllele.bMarkers.2field.saveRareAllele.QC --exclude data/genotype/3_KCHIP_bmarkerphased/KCHIP_HLA.hg18.intersection_HAN.LABELED.NoSameAllele.bMarkers.2field.saveRareAllele.QC.aa_list.tsv --make-bed --keep-allele-order --out data/genotype/3_KCHIP_bmarkerphased/KCHIP_HLA.hg18.intersection_HAN.LABELED.NoSameAllele.bMarkers.2field.saveRareAllele.QC.noaa'"
      ]
     },
     "execution_count": 24,
     "metadata": {},
     "output_type": "execute_result"
    }
   ],
   "source": [
    "command=\"plink --bfile data/genotype/3_KCHIP_bmarkerphased/KCHIP_HLA.hg18.intersection_HAN.LABELED.NoSameAllele.bMarkers.2field.saveRareAllele.QC \\\n",
    "--exclude data/genotype/3_KCHIP_bmarkerphased/KCHIP_HLA.hg18.intersection_HAN.LABELED.NoSameAllele.bMarkers.2field.saveRareAllele.QC.aa_list.tsv \\\n",
    "--make-bed \\\n",
    "--keep-allele-order \\\n",
    "--out data/genotype/3_KCHIP_bmarkerphased/KCHIP_HLA.hg18.intersection_HAN.LABELED.NoSameAllele.bMarkers.2field.saveRareAllele.QC.noaa\"\n",
    "command"
   ]
  },
  {
   "cell_type": "code",
   "execution_count": 25,
   "metadata": {},
   "outputs": [],
   "source": [
    "before_maf=pd.read_csv('data/genotype/3_KCHIP_bmarkerphased/KCHIP_HLA.hg18.intersection_HAN.LABELED.NoSameAllele.bMarkers.2field.saveRareAllele.bim',sep='\\t',names=['CHR','SNP','CM','BP','A1','A2'])"
   ]
  },
  {
   "cell_type": "code",
   "execution_count": 26,
   "metadata": {},
   "outputs": [],
   "source": [
    "after_maf=pd.read_csv('data/genotype/3_KCHIP_bmarkerphased/KCHIP_HLA.hg18.intersection_HAN.LABELED.NoSameAllele.bMarkers.2field.saveRareAllele.QC.bim',sep='\\t',names=['CHR','SNP','CM','BP','A1','A2'])"
   ]
  },
  {
   "cell_type": "code",
   "execution_count": 27,
   "metadata": {},
   "outputs": [
    {
     "data": {
      "text/plain": [
       "1"
      ]
     },
     "execution_count": 27,
     "metadata": {},
     "output_type": "execute_result"
    }
   ],
   "source": [
    "(after_maf.SNP=='rs2523942').sum()"
   ]
  },
  {
   "cell_type": "code",
   "execution_count": 34,
   "metadata": {},
   "outputs": [],
   "source": [
    "removed=pd.Index(before_maf.SNP).difference(after_maf.SNP)\n",
    "removed=pd.Series(removed)"
   ]
  },
  {
   "cell_type": "code",
   "execution_count": 36,
   "metadata": {},
   "outputs": [],
   "source": [
    "#removed_aaformat=['_'.join(i.split('_')[:3]) if i[:3]=='AA_' else i for i in removed]\n",
    "#removed_aaformat_nodup=pd.Series(removed_aaformat)[~pd.Series(removed_aaformat).duplicated(keep=False)].values"
   ]
  },
  {
   "cell_type": "code",
   "execution_count": 37,
   "metadata": {},
   "outputs": [
    {
     "data": {
      "text/plain": [
       "0              AA_A_-22_30018317_exon1\n",
       "1               AA_A_19_30018567_exon2\n",
       "2              AA_A_236_30020038_exon4\n",
       "3              AA_A_245_30020065_exon4\n",
       "4              AA_A_268_30020134_exon4\n",
       "                    ...               \n",
       "557    SNPS_DRB1_4380_32661118_intron1\n",
       "558    SNPS_DRB1_6220_32659278_intron2\n",
       "559      SNPS_DRB1_7920_32657578_exon3\n",
       "560    SNPS_DRB1_8565_32656933_intron3\n",
       "561    SNPS_DRB1_9302_32656196_intron4\n",
       "Name: SNP, Length: 562, dtype: object"
      ]
     },
     "execution_count": 37,
     "metadata": {},
     "output_type": "execute_result"
    }
   ],
   "source": [
    "removed"
   ]
  },
  {
   "cell_type": "code",
   "execution_count": 38,
   "metadata": {},
   "outputs": [
    {
     "data": {
      "text/plain": [
       "562"
      ]
     },
     "execution_count": 38,
     "metadata": {},
     "output_type": "execute_result"
    }
   ],
   "source": [
    "len(removed)"
   ]
  },
  {
   "cell_type": "markdown",
   "metadata": {},
   "source": [
    "## iid matching"
   ]
  },
  {
   "cell_type": "code",
   "execution_count": 30,
   "metadata": {},
   "outputs": [],
   "source": [
    "individual_common=pd.read_csv(individual_common_path,sep='\\t',header=None)[0]"
   ]
  },
  {
   "cell_type": "code",
   "execution_count": 31,
   "metadata": {},
   "outputs": [],
   "source": [
    "f_in=open(\"data/genotype/3_KCHIP_bmarkerphased/KCHIP_HLA.hg18.intersection_HAN.LABELED.NoSameAllele.bMarkers.2field.saveRareAllele.beagle5.1.AGM.bgl.phased\",'r')\n",
    "iid_df=pd.DataFrame(f_in.readline().strip().split(' ')[2:],columns=['iid']).reset_index()\n",
    "f_in.close()"
   ]
  },
  {
   "cell_type": "code",
   "execution_count": 32,
   "metadata": {},
   "outputs": [
    {
     "data": {
      "text/plain": [
       "125872.0"
      ]
     },
     "execution_count": 32,
     "metadata": {},
     "output_type": "execute_result"
    }
   ],
   "source": [
    "iid_df.shape[0]/2"
   ]
  },
  {
   "cell_type": "code",
   "execution_count": 39,
   "metadata": {},
   "outputs": [],
   "source": [
    "iid_df_merged=pd.DataFrame(individual_common).merge(right=iid_df,right_on='iid',left_on=0,how='inner')"
   ]
  },
  {
   "cell_type": "code",
   "execution_count": 43,
   "metadata": {},
   "outputs": [],
   "source": [
    "#removed"
   ]
  },
  {
   "cell_type": "code",
   "execution_count": 41,
   "metadata": {},
   "outputs": [],
   "source": [
    "assert np.all(iid_df_merged.iid.unique()==individual_common)"
   ]
  },
  {
   "cell_type": "code",
   "execution_count": 52,
   "metadata": {},
   "outputs": [
    {
     "data": {
      "text/plain": [
       "True"
      ]
     },
     "execution_count": 52,
     "metadata": {},
     "output_type": "execute_result"
    }
   ],
   "source": [
    "'AA_A_-22_30018317_exon1' in removed.values"
   ]
  },
  {
   "cell_type": "code",
   "execution_count": 53,
   "metadata": {},
   "outputs": [
    {
     "name": "stdout",
     "output_type": "stream",
     "text": [
      "HLA_A*01:03 remoed\n",
      "HLA_A*02:02 remoed\n",
      "HLA_A*02:05 remoed\n",
      "HLA_A*02:09 remoed\n",
      "HLA_A*02:10 remoed\n",
      "HLA_A*02:11 remoed\n",
      "HLA_A*03:02 remoed\n",
      "HLA_A*11:02 remoed\n",
      "HLA_A*11:03 remoed\n",
      "HLA_A*11:12 remoed\n",
      "HLA_A*11:77 remoed\n",
      "HLA_A*23:01 remoed\n",
      "HLA_A*24:03 remoed\n",
      "HLA_A*24:04 remoed\n",
      "HLA_A*24:07 remoed\n",
      "HLA_A*24:08 remoed\n",
      "HLA_A*24:10 remoed\n",
      "HLA_A*24:20 remoed\n",
      "HLA_A*25:01 remoed\n",
      "HLA_A*29:02 remoed\n",
      "HLA_A*31:02 remoed\n",
      "HLA_A*34:01 remoed\n",
      "HLA_A*68:01 remoed\n",
      "HLA_A*68:71 remoed\n",
      "HLA_A*69:01 remoed\n",
      "SNPS_A_7_30018316_exon1 remoed\n",
      "AA_A_-22_30018317_exon1 remoed\n",
      "AA_A_3_30018519_exon2 remoed\n",
      "SNPS_A_211_30018520_exon2 remoed\n",
      "SNPS_A_257_30018566_exon2 remoed\n",
      "AA_A_19_30018567_exon2 remoed\n",
      "AA_A_43_30018639_exon2 remoed\n",
      "SNPS_A_330_30018639_exon2 remoed\n",
      "SNPS_A_773_30019082_exon3 remoed\n",
      "SNPS_A_1567_30019876_intron3 remoed\n",
      "AA_A_236_30020038_exon4 remoed\n",
      "SNPS_A_1729_30020038_exon4 remoed\n",
      "AA_A_245_30020065_exon4 remoed\n",
      "SNPS_A_1756_30020065_exon4 remoed\n",
      "SNPS_A_1824_30020133_exon4 remoed\n",
      "AA_A_268_30020134_exon4 remoed\n",
      "AA_A_283_30020281_exon5 remoed\n",
      "SNPS_A_1972_30020281_exon5 remoed\n",
      "SNPS_A_1986_30020295_exon5 remoed\n",
      "AA_A_288_30020296_exon5 remoed\n",
      "SNPS_A_2828_30021137_intron7 remoed\n",
      "HLA_C*01:03 remoed\n",
      "HLA_C*01:06 remoed\n",
      "HLA_C*01:14 remoed\n",
      "HLA_C*03:40 remoed\n",
      "HLA_C*04:03 remoed\n",
      "HLA_C*04:82 remoed\n",
      "HLA_C*07:01 remoed\n",
      "HLA_C*07:18 remoed\n",
      "HLA_C*08:41 remoed\n",
      "HLA_C*15:04 remoed\n",
      "HLA_C*15:43 remoed\n",
      "HLA_C*16:02 remoed\n",
      "HLA_C*16:04 remoed\n",
      "HLA_C*17:01 remoed\n",
      "SNPS_C_2825_31345003_intron7 remoed\n",
      "SNPS_C_2584_31345244_intron6 remoed\n",
      "SNPS_C_2403_31345425_intron5 remoed\n",
      "SNPS_C_2328_31345500_intron5 remoed\n",
      "SNPS_C_2269_31345559_intron5 remoed\n",
      "SNPS_C_2206_31345622_intron5 remoed\n",
      "AA_C_309_31345746_exon5 remoed\n",
      "SNPS_C_2082_31345746_exon5 remoed\n",
      "SNPS_C_2081_31345747_exon5 remoed\n",
      "SNPS_C_2080_31345748_exon5 remoed\n",
      "AA_C_308_31345749_exon5 remoed\n",
      "SNPS_C_2077_31345751_exon5 remoed\n",
      "INS_AA_C_300x301_31345772 remoed\n",
      "INS_SNPS_C_2053x2054_31345774 remoed\n",
      "INS_SNPS_C_2033x2034_31345794 remoed\n",
      "SNPS_C_2029_31345799_exon5 remoed\n",
      "AA_C_291_31345800_exon5 remoed\n",
      "SNPS_C_2028_31345800_exon5 remoed\n",
      "AA_C_289_31345806_exon5 remoed\n",
      "SNPS_C_2021_31345807_exon5 remoed\n",
      "AA_C_285_31345818_exon5_L remoed\n",
      "SNPS_C_2009_31345819_exon5_A remoed\n",
      "AA_C_284_31345821_exon5 remoed\n",
      "SNPS_C_2007_31345821_exon5 remoed\n",
      "SNPS_C_1949_31345879_intron4 remoed\n",
      "SNPS_C_1946_31345882_intron4 remoed\n",
      "AA_C_270_31345984_exon4 remoed\n",
      "SNPS_C_1844_31345984_exon4 remoed\n",
      "SNPS_C_1843_31345985_exon4 remoed\n",
      "SNPS_C_1797_31346031_exon4 remoed\n",
      "AA_C_193_31346215_exon4 remoed\n",
      "SNPS_C_1613_31346215_exon4 remoed\n",
      "AA_C_184_31346242_exon4_R remoed\n",
      "SNPS_C_1586_31346242_exon4_C remoed\n",
      "SNPS_C_1481_31346347_intron3 remoed\n",
      "SNPS_C_1439_31346389_intron3 remoed\n",
      "SNPS_C_1417_31346411_intron3 remoed\n",
      "SNPS_C_1350_31346478_intron3 remoed\n",
      "SNPS_C_1309_31346519_intron3 remoed\n",
      "SNPS_C_1256_31346572_intron3 remoed\n",
      "SNPS_C_1150_31346678_intron3 remoed\n",
      "SNPS_C_1129_31346699_intron3 remoed\n",
      "AA_C_170_31346871_exon3 remoed\n",
      "SNPS_C_956_31346872_exon3 remoed\n",
      "AA_C_156_31346913_exon3_Q remoed\n",
      "AA_C_152_31346925_exon3_V remoed\n",
      "SNPS_C_903_31346925_exon3_A remoed\n",
      "AA_C_143_31346952_exon3 remoed\n",
      "SNPS_C_875_31346953_exon3 remoed\n",
      "SNPS_C_853_31346975_exon3_C remoed\n",
      "SNPS_C_721_31347107_exon3 remoed\n",
      "SNPS_C_688_31347140_intron2 remoed\n",
      "SNPS_C_612_31347216_intron2 remoed\n",
      "SNPS_C_598_31347230_intron2 remoed\n",
      "SNPS_C_565_31347263_intron2 remoed\n",
      "SNPS_C_486_31347342_intron2 remoed\n",
      "AA_C_-5_31347769_exon1 remoed\n",
      "SNPS_C_59_31347769_exon1 remoed\n",
      "AA_C_-18_31347808_exon1 remoed\n",
      "SNPS_C_20_31347808_exon1 remoed\n",
      "HLA_B*07:06 remoed\n",
      "HLA_B*08:01 remoed\n",
      "HLA_B*15:02 remoed\n",
      "HLA_B*15:03 remoed\n",
      "HLA_B*15:05 remoed\n",
      "HLA_B*15:08 remoed\n",
      "HLA_B*15:12 remoed\n",
      "HLA_B*15:13 remoed\n",
      "HLA_B*15:15 remoed\n",
      "HLA_B*15:17 remoed\n",
      "HLA_B*15:20 remoed\n",
      "HLA_B*15:25 remoed\n",
      "HLA_B*15:27 remoed\n",
      "HLA_B*15:32 remoed\n",
      "HLA_B*15:46 remoed\n",
      "HLA_B*15:50 remoed\n",
      "HLA_B*15:58 remoed\n",
      "HLA_B*18:01 remoed\n",
      "HLA_B*18:02 remoed\n",
      "HLA_B*27:02 remoed\n",
      "HLA_B*27:04 remoed\n",
      "HLA_B*27:06 remoed\n",
      "HLA_B*27:07 remoed\n",
      "HLA_B*27:11 remoed\n",
      "HLA_B*27:24 remoed\n",
      "HLA_B*35:02 remoed\n",
      "HLA_B*35:03 remoed\n",
      "HLA_B*35:05 remoed\n",
      "HLA_B*35:08 remoed\n",
      "HLA_B*35:11 remoed\n",
      "HLA_B*35:14 remoed\n",
      "HLA_B*35:15 remoed\n",
      "HLA_B*35:30 remoed\n",
      "HLA_B*35:31 remoed\n",
      "HLA_B*35:43 remoed\n",
      "HLA_B*38:01 remoed\n",
      "HLA_B*39:03 remoed\n",
      "HLA_B*39:05 remoed\n",
      "HLA_B*39:09 remoed\n",
      "HLA_B*40:05 remoed\n",
      "HLA_B*40:40 remoed\n",
      "HLA_B*41:01 remoed\n",
      "HLA_B*44:46 remoed\n",
      "HLA_B*45:01 remoed\n",
      "HLA_B*47:01 remoed\n",
      "HLA_B*48:02 remoed\n",
      "HLA_B*48:03 remoed\n",
      "HLA_B*49:01 remoed\n",
      "HLA_B*50:01 remoed\n",
      "HLA_B*51:04 remoed\n",
      "HLA_B*51:07 remoed\n",
      "HLA_B*51:08 remoed\n",
      "HLA_B*51:42 remoed\n",
      "HLA_B*53:01 remoed\n",
      "HLA_B*55:01 remoed\n",
      "HLA_B*55:04 remoed\n",
      "HLA_B*55:12 remoed\n",
      "HLA_B*55:24 remoed\n",
      "HLA_B*56:01 remoed\n",
      "HLA_B*56:03 remoed\n",
      "HLA_B*56:04 remoed\n",
      "HLA_B*57:01 remoed\n",
      "HLA_B*78:02 remoed\n",
      "HLA_B*81:01 remoed\n",
      "AA_B_325_31430282_exon7_x remoed\n",
      "SNPS_B_2596_31430319_intron6_T remoed\n",
      "SNPS_B_2551_31430364_intron6 remoed\n",
      "SNPS_B_2325_31430590_intron5 remoed\n",
      "SNPS_B_2246_31430669_intron5 remoed\n",
      "SNPS_B_2245_31430670_intron5 remoed\n",
      "SNPS_B_2170_31430745_intron5 remoed\n",
      "SNPS_B_2156_31430759_intron5 remoed\n",
      "SNPS_B_2146_31430769_intron5 remoed\n",
      "SNPS_B_2051_31430864_exon5 remoed\n",
      "AA_B_307_31430883_exon5_M remoed\n",
      "AA_B_307_31430883_exon5_V remoed\n",
      "AA_B_307_31430883_exon5_x remoed\n",
      "SNPS_B_2031_31430884_exon5 remoed\n",
      "AA_B_305_31430889_exon5_x remoed\n",
      "AA_B_282_31430958_exon5_x remoed\n",
      "SNPS_B_1949_31430966_exon5 remoed\n",
      "SNPS_B_1820_31431095_exon4 remoed\n",
      "AA_B_211_31431264_exon4 remoed\n",
      "SNPS_B_1651_31431264_exon4 remoed\n",
      "SNPS_B_1520_31431395_intron3 remoed\n",
      "SNPS_B_1481_31431434_intron3 remoed\n",
      "SNPS_B_1435_31431480_intron3 remoed\n",
      "SNPS_B_1434_31431481_intron3 remoed\n",
      "SNPS_B_1430_31431485_intron3 remoed\n",
      "SNPS_B_1379_31431536_intron3 remoed\n",
      "SNPS_B_1356_31431559_intron3 remoed\n",
      "SNPS_B_1350_31431565_intron3 remoed\n",
      "SNPS_B_1267_31431648_intron3 remoed\n",
      "SNPS_B_1200_31431715_intron3 remoed\n",
      "SNPS_B_1126_31431789_intron3 remoed\n",
      "AA_B_167_31431970_exon3_G remoed\n",
      "SNPS_B_944_31431971_exon3 remoed\n",
      "SNPS_B_943_31431972_exon3 remoed\n",
      "AA_B_166_31431973_exon3 remoed\n",
      "AA_B_109_31432144_exon3 remoed\n",
      "SNPS_B_770_31432145_exon3 remoed\n",
      "AA_B_99_31432174_exon3_F remoed\n",
      "SNPS_B_741_31432174_exon3_A remoed\n",
      "AA_B_97_31432180_exon3_V remoed\n",
      "SNPS_B_735_31432180_exon3_A remoed\n",
      "SNPS_B_734_31432181_exon3_C remoed\n",
      "INS_SNPS_B_681x682_31432234 remoed\n",
      "SNPS_B_667_31432248_intron2 remoed\n",
      "SNPS_B_563_31432352_intron2_. remoed\n",
      "SNPS_B_560_31432355_intron2 remoed\n",
      "SNPS_B_362_31432553_exon2 remoed\n",
      "AA_B_30_31432626_exon2 remoed\n",
      "SNPS_B_289_31432626_exon2 remoed\n",
      "AA_B_9_31432689_exon2_D remoed\n",
      "SNPS_B_225_31432690_exon2_C remoed\n",
      "SNPS_B_199_31432716_intron1 remoed\n",
      "SNPS_B_193_31432722_intron1_A remoed\n",
      "SNPS_B_138_31432777_intron1 remoed\n",
      "SNPS_B_117_31432798_intron1 remoed\n",
      "SNPS_B_107_31432808_intron1_T remoed\n",
      "HLA_DRB1*01:02 remoed\n",
      "HLA_DRB1*03:17 remoed\n",
      "HLA_DRB1*03:24 remoed\n",
      "HLA_DRB1*04:02 remoed\n",
      "HLA_DRB1*04:07 remoed\n",
      "HLA_DRB1*04:08 remoed\n",
      "HLA_DRB1*08:01 remoed\n",
      "HLA_DRB1*08:09 remoed\n",
      "HLA_DRB1*11:04 remoed\n",
      "HLA_DRB1*11:06 remoed\n",
      "HLA_DRB1*11:11 remoed\n",
      "HLA_DRB1*12:10 remoed\n",
      "HLA_DRB1*12:17 remoed\n",
      "HLA_DRB1*13:12 remoed\n",
      "HLA_DRB1*14:01 remoed\n",
      "HLA_DRB1*14:02 remoed\n",
      "HLA_DRB1*14:04 remoed\n",
      "HLA_DRB1*14:07 remoed\n",
      "HLA_DRB1*14:141 remoed\n",
      "HLA_DRB1*15:04 remoed\n",
      "INS_SNPS_DRB1_9539x9540_32655958 remoed\n",
      "AA_DRB1_233_32656026_exon5_x remoed\n",
      "AA_DRB1_231_32656032_exon5_x remoed\n",
      "SNPS_DRB1_9302_32656196_intron4 remoed\n",
      "AA_DRB1_189_32656645_exon4_x remoed\n",
      "SNPS_DRB1_8565_32656933_intron3 remoed\n",
      "INS_SNPS_DRB1_8459x8460_32657038 remoed\n",
      "AA_DRB1_181_32657370_exon3_x remoed\n",
      "AA_DRB1_180_32657373_exon3_x remoed\n",
      "AA_DRB1_166_32657415_exon3_x remoed\n",
      "AA_DRB1_149_32657466_exon3_x remoed\n",
      "AA_DRB1_142_32657487_exon3_x remoed\n",
      "AA_DRB1_140_32657493_exon3_x remoed\n",
      "AA_DRB1_133_32657514_exon3_x remoed\n",
      "AA_DRB1_120_32657553_exon3_x remoed\n",
      "AA_DRB1_112_32657577_exon3_H remoed\n",
      "AA_DRB1_112_32657577_exon3_Y remoed\n",
      "AA_DRB1_112_32657577_exon3_x remoed\n",
      "SNPS_DRB1_7920_32657578_exon3 remoed\n",
      "AA_DRB1_104_32657601_exon3_x remoed\n",
      "AA_DRB1_98_32657619_exon3_x remoed\n",
      "AA_DRB1_96_32657625_exon3_x remoed\n",
      "INS_SNPS_DRB1_7616x7617_32657882 remoed\n",
      "INS_SNPS_DRB1_7043x7044_32658454 remoed\n",
      "INS_SNPS_DRB1_6716x6717_32658782 remoed\n",
      "INS_SNPS_DRB1_6510x6511_32658988 remoed\n",
      "INS_SNPS_DRB1_6427x6428_32659070 remoed\n",
      "INS_SNPS_DRB1_6277x6278_32659220 remoed\n",
      "SNPS_DRB1_6220_32659278_intron2 remoed\n",
      "AA_DRB1_51_32659987_exon2 remoed\n",
      "AA_DRB1_10_32660110_exon2_L remoed\n",
      "INS_SNPS_DRB1_4747x4748_32660750 remoed\n",
      "INS_SNPS_DRB1_4390x4391_32661108 remoed\n",
      "INS_SNPS_DRB1_4380x4381_32661118 remoed\n",
      "SNPS_DRB1_4380_32661118_intron1 remoed\n",
      "SNPS_DRB1_4312_32661186_intron1 remoed\n",
      "INS_SNPS_DRB1_4268x4269_32661230 remoed\n",
      "SNPS_DRB1_4204_32661294_intron1_A remoed\n",
      "SNPS_DRB1_3829_32661669_intron1_G remoed\n",
      "SNPS_DRB1_3199_32662299_intron1 remoed\n",
      "INS_SNPS_DRB1_3195x3196_32662302 remoed\n",
      "SNPS_DRB1_3196_32662302_intron1 remoed\n",
      "INS_SNPS_DRB1_3177x3178_32662320 remoed\n",
      "INS_SNPS_DRB1_2998x2999_32662500 remoed\n",
      "INS_SNPS_DRB1_2668x2669_32662830 remoed\n",
      "SNPS_DRB1_2348_32663150_intron1 remoed\n",
      "SNPS_DRB1_1858_32663640_intron1 remoed\n",
      "SNPS_DRB1_249_32665249_intron1_. remoed\n",
      "SNPS_DRB1_248_32665250_intron1 remoed\n",
      "SNPS_DRB1_247_32665251_intron1 remoed\n",
      "AA_DRB1_4_32665400_exon1_x remoed\n",
      "AA_DRB1_-1_32665412_exon1_x remoed\n",
      "AA_DRB1_-16_32665457_exon1_I remoed\n",
      "AA_DRB1_-16_32665457_exon1_x remoed\n",
      "AA_DRB1_-17_32665460_exon1_x remoed\n",
      "AA_DRB1_-24_32665481_exon1_x remoed\n",
      "AA_DRB1_-25_32665484_exon1_x remoed\n",
      "HLA_DQA1*05:06 remoed\n",
      "HLA_DQA1*05:09 remoed\n",
      "SNPS_DQA1_70_32713283_exon1 remoed\n",
      "AA_DQA1_1_32713284_exon1 remoed\n",
      "SNPS_DQA1_4561_32717774_exon3 remoed\n",
      "AA_DQA1_102_32717775_exon3 remoed\n",
      "HLA_DQB1*03:05 remoed\n",
      "HLA_DQB1*03:100 remoed\n",
      "HLA_DQB1*03:19 remoed\n",
      "SNPS_DQB1_777_32741586_intron1_A remoed\n",
      "HLA_DPA1*03:01 remoed\n",
      "HLA_DPA1*04:01 remoed\n",
      "AA_DPA1_190_33144526_exon4 remoed\n",
      "SNPS_DPA1_4799_33144527_exon4 remoed\n",
      "SNPS_DPA1_4727_33144599_intron3 remoed\n",
      "SNPS_DPA1_4705_33144621_intron3 remoed\n",
      "SNPS_DPA1_4659_33144667_intron3 remoed\n",
      "AA_DPA1_96_33145022_exon3 remoed\n",
      "SNPS_DPA1_4303_33145023_exon3 remoed\n",
      "SNPS_DPA1_3896_33145430_exon2 remoed\n",
      "AA_DPA1_73_33145431_exon2 remoed\n",
      "SNPS_DPA1_3895_33145431_exon2 remoed\n",
      "SNPS_DPA1_3894_33145432_exon2 remoed\n",
      "AA_DPA1_72_33145434_exon2 remoed\n",
      "SNPS_DPA1_3892_33145434_exon2 remoed\n",
      "AA_DPA1_66_33145452_exon2 remoed\n",
      "SNPS_DPA1_3874_33145452_exon2 remoed\n",
      "SNPS_DPA1_3761_33145565_exon2 remoed\n",
      "AA_DPA1_28_33145566_exon2 remoed\n",
      "SNPS_DPA1_3752_33145574_exon2 remoed\n",
      "AA_DPA1_18_33145596_exon2 remoed\n",
      "SNPS_DPA1_3729_33145597_exon2 remoed\n",
      "SNPS_DPA1_3645_33145681_intron1 remoed\n",
      "SNPS_DPA1_3642_33145684_intron1 remoed\n",
      "SNPS_DPA1_3626_33145700_intron1 remoed\n",
      "SNPS_DPA1_3574_33145752_intron1 remoed\n",
      "SNPS_DPA1_3532_33145794_intron1 remoed\n",
      "SNPS_DPA1_3515_33145811_intron1 remoed\n",
      "SNPS_DPA1_3471_33145855_intron1 remoed\n",
      "SNPS_DPA1_3465_33145861_intron1 remoed\n",
      "SNPS_DPA1_3369_33145957_intron1 remoed\n",
      "SNPS_DPA1_3364_33145962_intron1 remoed\n",
      "SNPS_DPA1_3353_33145973_intron1 remoed\n",
      "SNPS_DPA1_3277_33146049_intron1 remoed\n",
      "SNPS_DPA1_3245_33146081_intron1 remoed\n",
      "SNPS_DPA1_3189_33146137_intron1 remoed\n",
      "SNPS_DPA1_3188_33146138_intron1 remoed\n",
      "SNPS_DPA1_3176_33146150_intron1 remoed\n",
      "SNPS_DPA1_3067_33146259_intron1 remoed\n",
      "SNPS_DPA1_3053_33146273_intron1 remoed\n",
      "SNPS_DPA1_2834_33146492_intron1 remoed\n",
      "SNPS_DPA1_2831_33146495_intron1 remoed\n",
      "SNPS_DPA1_2797_33146529_intron1 remoed\n",
      "SNPS_DPA1_2759_33146567_intron1 remoed\n",
      "SNPS_DPA1_2745_33146581_intron1 remoed\n",
      "SNPS_DPA1_2739_33146587_intron1 remoed\n",
      "SNPS_DPA1_2690_33146636_intron1 remoed\n",
      "SNPS_DPA1_2655_33146671_intron1 remoed\n",
      "SNPS_DPA1_2634_33146692_intron1 remoed\n",
      "SNPS_DPA1_2628_33146698_intron1 remoed\n",
      "SNPS_DPA1_2601_33146725_intron1 remoed\n",
      "SNPS_DPA1_2591_33146735_intron1 remoed\n",
      "SNPS_DPA1_2581_33146745_intron1 remoed\n",
      "SNPS_DPA1_2567_33146759_intron1 remoed\n",
      "SNPS_DPA1_2536_33146790_intron1 remoed\n",
      "SNPS_DPA1_2510_33146816_intron1 remoed\n",
      "SNPS_DPA1_2507_33146819_intron1 remoed\n",
      "SNPS_DPA1_2506_33146820_intron1 remoed\n",
      "SNPS_DPA1_2503_33146823_intron1 remoed\n",
      "SNPS_DPA1_2474_33146852_intron1 remoed\n",
      "SNPS_DPA1_2468_33146858_intron1 remoed\n",
      "SNPS_DPA1_2442_33146884_intron1_A remoed\n",
      "SNPS_DPA1_2439_33146887_intron1_C remoed\n",
      "SNPS_DPA1_2438_33146888_intron1_A remoed\n",
      "SNPS_DPA1_2404_33146922_intron1 remoed\n",
      "SNPS_DPA1_2385_33146941_intron1 remoed\n",
      "SNPS_DPA1_2380_33146946_intron1 remoed\n",
      "SNPS_DPA1_2334_33146992_intron1 remoed\n",
      "INS_SNPS_DPA1_2328x2329_33146998 remoed\n",
      "SNPS_DPA1_2307_33147019_intron1 remoed\n",
      "SNPS_DPA1_2301_33147025_intron1 remoed\n",
      "SNPS_DPA1_2296_33147030_intron1 remoed\n",
      "SNPS_DPA1_2294_33147032_intron1 remoed\n",
      "SNPS_DPA1_2293_33147033_intron1 remoed\n",
      "SNPS_DPA1_2292_33147034_intron1 remoed\n",
      "SNPS_DPA1_2287_33147039_intron1 remoed\n",
      "SNPS_DPA1_2258_33147068_intron1 remoed\n",
      "SNPS_DPA1_2251_33147075_intron1 remoed\n",
      "SNPS_DPA1_2175_33147151_intron1 remoed\n",
      "SNPS_DPA1_2170_33147156_intron1 remoed\n",
      "SNPS_DPA1_2167_33147159_intron1 remoed\n",
      "SNPS_DPA1_2149_33147177_intron1 remoed\n",
      "SNPS_DPA1_2148_33147178_intron1 remoed\n",
      "SNPS_DPA1_2131_33147195_intron1 remoed\n",
      "SNPS_DPA1_2127_33147199_intron1 remoed\n",
      "SNPS_DPA1_2121_33147205_intron1 remoed\n",
      "SNPS_DPA1_2101_33147225_intron1 remoed\n",
      "SNPS_DPA1_2091_33147235_intron1 remoed\n",
      "SNPS_DPA1_2090_33147236_intron1 remoed\n",
      "SNPS_DPA1_2086_33147240_intron1 remoed\n",
      "SNPS_DPA1_2072_33147254_intron1 remoed\n",
      "SNPS_DPA1_2041_33147285_intron1 remoed\n",
      "SNPS_DPA1_2016_33147310_intron1 remoed\n",
      "SNPS_DPA1_2003_33147323_intron1 remoed\n",
      "SNPS_DPA1_1990_33147336_intron1 remoed\n",
      "SNPS_DPA1_1984_33147342_intron1 remoed\n",
      "SNPS_DPA1_1973_33147353_intron1 remoed\n",
      "SNPS_DPA1_1952_33147374_intron1 remoed\n",
      "SNPS_DPA1_1933_33147393_intron1 remoed\n",
      "SNPS_DPA1_1930_33147396_intron1 remoed\n",
      "SNPS_DPA1_1927_33147399_intron1 remoed\n",
      "SNPS_DPA1_1911_33147415_intron1 remoed\n",
      "SNPS_DPA1_1866_33147460_intron1 remoed\n",
      "SNPS_DPA1_1847_33147479_intron1 remoed\n",
      "SNPS_DPA1_1820_33147506_intron1 remoed\n",
      "SNPS_DPA1_1787_33147539_intron1 remoed\n",
      "SNPS_DPA1_1776_33147550_intron1 remoed\n",
      "SNPS_DPA1_1775_33147551_intron1 remoed\n",
      "SNPS_DPA1_1763_33147563_intron1 remoed\n",
      "SNPS_DPA1_1761_33147565_intron1 remoed\n",
      "SNPS_DPA1_1757_33147569_intron1 remoed\n",
      "SNPS_DPA1_1723_33147603_intron1 remoed\n",
      "INS_SNPS_DPA1_1577x1578_33147748 remoed\n",
      "SNPS_DPA1_1544_33147782_intron1_A remoed\n",
      "SNPS_DPA1_1517_33147809_intron1 remoed\n",
      "SNPS_DPA1_1472_33147854_intron1 remoed\n",
      "SNPS_DPA1_1308_33148018_intron1 remoed\n",
      "SNPS_DPA1_1208_33148118_intron1 remoed\n",
      "SNPS_DPA1_1063_33148263_intron1 remoed\n",
      "SNPS_DPA1_1062_33148264_intron1 remoed\n",
      "SNPS_DPA1_1061_33148265_intron1 remoed\n",
      "SNPS_DPA1_1023_33148303_intron1 remoed\n",
      "SNPS_DPA1_1003_33148323_intron1 remoed\n",
      "SNPS_DPA1_993_33148333_intron1 remoed\n",
      "SNPS_DPA1_984_33148342_intron1 remoed\n",
      "SNPS_DPA1_952_33148374_intron1 remoed\n",
      "SNPS_DPA1_942_33148384_intron1 remoed\n",
      "SNPS_DPA1_929_33148397_intron1 remoed\n",
      "SNPS_DPA1_923_33148403_intron1 remoed\n",
      "SNPS_DPA1_852_33148474_intron1 remoed\n",
      "SNPS_DPA1_826_33148500_intron1 remoed\n",
      "SNPS_DPA1_737_33148589_intron1 remoed\n",
      "SNPS_DPA1_693_33148633_intron1 remoed\n",
      "SNPS_DPA1_640_33148686_intron1 remoed\n",
      "SNPS_DPA1_622_33148704_intron1 remoed\n",
      "SNPS_DPA1_588_33148738_intron1 remoed\n",
      "SNPS_DPA1_362_33148964_intron1 remoed\n",
      "SNPS_DPA1_355_33148971_intron1 remoed\n",
      "SNPS_DPA1_336_33148990_intron1 remoed\n",
      "SNPS_DPA1_314_33149012_intron1_T remoed\n",
      "SNPS_DPA1_256_33149070_intron1 remoed\n",
      "SNPS_DPA1_177_33149149_intron1 remoed\n",
      "SNPS_DPA1_129_33149197_intron1 remoed\n",
      "SNPS_DPA1_108_33149218_intron1 remoed\n",
      "SNPS_DPA1_9_33149317_exon1 remoed\n",
      "HLA_DPB1*01:01 remoed\n",
      "HLA_DPB1*06:01 remoed\n",
      "HLA_DPB1*104:01 remoed\n",
      "HLA_DPB1*105:01 remoed\n",
      "HLA_DPB1*106:01 remoed\n",
      "HLA_DPB1*107:01 remoed\n",
      "HLA_DPB1*10:01 remoed\n",
      "HLA_DPB1*11:01 remoed\n",
      "HLA_DPB1*135:01 remoed\n",
      "HLA_DPB1*15:01 remoed\n",
      "HLA_DPB1*16:01 remoed\n",
      "HLA_DPB1*19:01 remoed\n",
      "HLA_DPB1*21:01 remoed\n",
      "HLA_DPB1*26:01 remoed\n",
      "HLA_DPB1*45:01 remoed\n",
      "AA_DPB1_-14_33151843_exon1_M remoed\n",
      "AA_DPB1_-14_33151843_exon1_T remoed\n",
      "AA_DPB1_-14_33151843_exon1_x remoed\n",
      "SNPS_DPB1_355_33152151_intron1 remoed\n",
      "SNPS_DPB1_405_33152201_intron1 remoed\n",
      "SNPS_DPB1_699_33152495_intron1 remoed\n",
      "SNPS_DPB1_889_33152685_intron1 remoed\n",
      "SNPS_DPB1_1079_33152875_intron1 remoed\n",
      "SNPS_DPB1_1887_33153683_intron1 remoed\n",
      "SNPS_DPB1_1923_33153719_intron1 remoed\n",
      "SNPS_DPB1_1958_33153754_intron1 remoed\n",
      "SNPS_DPB1_1961_33153757_intron1 remoed\n",
      "SNPS_DPB1_2170_33153966_intron1 remoed\n",
      "SNPS_DPB1_2301_33154097_intron1 remoed\n",
      "SNPS_DPB1_2725_33154521_intron1 remoed\n",
      "SNPS_DPB1_3360_33155156_intron1 remoed\n",
      "SNPS_DPB1_3820_33155616_intron1 remoed\n",
      "SNPS_DPB1_3964_33155760_intron1 remoed\n",
      "SNPS_DPB1_4079_33155875_intron1 remoed\n",
      "SNPS_DPB1_4165_33155961_intron1 remoed\n",
      "SNPS_DPB1_4318_33156114_intron1 remoed\n",
      "SNPS_DPB1_4369_33156165_intron1 remoed\n",
      "SNPS_DPB1_4371_33156167_intron1 remoed\n",
      "SNPS_DPB1_4382_33156178_intron1 remoed\n",
      "SNPS_DPB1_4387_33156183_intron1 remoed\n",
      "INS_SNPS_DPB1_4412x4413_33156208 remoed\n",
      "SNPS_DPB1_4499_33156295_intron1 remoed\n",
      "SNPS_DPB1_4527_33156323_intron1 remoed\n",
      "SNPS_DPB1_4541_33156337_intron1 remoed\n",
      "SNPS_DPB1_4719_33156515_exon2 remoed\n",
      "AA_DPB1_33_33156516_exon2 remoed\n",
      "SNPS_DPB1_4751_33156547_exon2 remoed\n",
      "AA_DPB1_69_33156624_exon2_R remoed\n",
      "SNPS_DPB1_4828_33156624_exon2 remoed\n",
      "AA_DPB1_84_33156669_exon2_V remoed\n",
      "SNPS_DPB1_4873_33156669_exon2_T remoed\n",
      "SNPS_DPB1_4941_33156737_intron2 remoed\n",
      "SNPS_DPB1_4997_33156793_intron2 remoed\n",
      "SNPS_DPB1_4998_33156794_intron2 remoed\n",
      "SNPS_DPB1_5030_33156826_intron2 remoed\n",
      "SNPS_DPB1_5032_33156828_intron2 remoed\n",
      "INS_SNPS_DPB1_5035x5036_33156832 remoed\n",
      "SNPS_DPB1_5162_33156958_intron2 remoed\n",
      "SNPS_DPB1_5254_33157050_intron2 remoed\n",
      "SNPS_DPB1_5262_33157058_intron2_A remoed\n",
      "SNPS_DPB1_5335_33157131_intron2 remoed\n",
      "SNPS_DPB1_5347_33157143_intron2 remoed\n",
      "SNPS_DPB1_5373_33157169_intron2 remoed\n",
      "SNPS_DPB1_5763_33157559_intron2 remoed\n",
      "SNPS_DPB1_5952_33157748_intron2 remoed\n",
      "SNPS_DPB1_6089_33157885_intron2 remoed\n",
      "SNPS_DPB1_6090_33157886_intron2 remoed\n",
      "SNPS_DPB1_6153_33157949_intron2 remoed\n",
      "SNPS_DPB1_6271_33158067_intron2 remoed\n",
      "SNPS_DPB1_6346_33158142_intron2_A remoed\n",
      "SNPS_DPB1_6366_33158162_intron2 remoed\n",
      "SNPS_DPB1_7269_33159065_intron2 remoed\n",
      "SNPS_DPB1_7505_33159301_intron2 remoed\n",
      "SNPS_DPB1_8711_33160507_intron2 remoed\n",
      "AA_DPB1_96_33160656_exon3_x remoed\n",
      "AA_DPB1_170_33160878_exon3_x remoed\n",
      "AA_DPB1_178_33160902_exon3_x remoed\n",
      "SNPS_DPB1_9122_33160918_exon3 remoed\n",
      "SNPS_DPB1_9150_33160946_intron3_A remoed\n",
      "SNPS_DPB1_9204_33161000_intron3 remoed\n",
      "AA_DPB1_194_33161497_exon4_Q remoed\n",
      "AA_DPB1_194_33161497_exon4_R remoed\n",
      "AA_DPB1_194_33161497_exon4_x remoed\n",
      "SNPS_DPB1_9701_33161497_exon4 remoed\n",
      "AA_DPB1_205_33161530_exon4_x remoed\n",
      "AA_DPB1_215_33161560_exon4_I remoed\n",
      "AA_DPB1_215_33161560_exon4_T remoed\n",
      "AA_DPB1_215_33161560_exon4_x remoed\n",
      "SNPS_DPB1_9764_33161560_exon4 remoed\n",
      "SNPS_DPB1_9944_33161740_intron4_T remoed\n",
      "562 removed\n"
     ]
    }
   ],
   "source": [
    "f_in=open(\"data/genotype/3_KCHIP_bmarkerphased/KCHIP_HLA.hg18.intersection_HAN.LABELED.NoSameAllele.bMarkers.2field.saveRareAllele.beagle5.1.AGM.bgl.phased\",'r')\n",
    "f_out=open(\"data/genotype/3_KCHIP_bmarkerphased/KCHIP_HLA.hg18.intersection_HAN.LABELED.NoSameAllele.bMarkers.2field.saveRareAllele.beagle5.1.AGM.bgl.phased.QC\",'w')\n",
    "\n",
    "ind_count=None\n",
    "line_cnt=0\n",
    "total_removed=0\n",
    "\n",
    "while True:\n",
    "    line_cnt+=1\n",
    "    line=f_in.readline().strip()\n",
    "    line_split=line.split(' ')\n",
    "    if not line:\n",
    "        break\n",
    "    if ind_count is None:\n",
    "        ind_count=int(len(line_split[2:])/2)\n",
    "    else:\n",
    "        assert ind_count==int(len(line_split[2:])/2)\n",
    "    \n",
    "    line_type=line_split[0]\n",
    "    line_id=line_split[1]\n",
    "    line_data=line_split[2:]\n",
    "    line_data=np.array(line_data)[iid_df_merged['index'].tolist()]\n",
    "    \n",
    "    if line_id in removed.values:\n",
    "        total_removed+=1\n",
    "        print(line_id,\"remoed\")\n",
    "    else:\n",
    "        f_out.write(' '.join([line_type,line_id]+line_data.tolist())+'\\n')\n",
    "print(total_removed,\"removed\")        \n",
    "f_in.close()\n",
    "f_out.close()"
   ]
  },
  {
   "cell_type": "markdown",
   "metadata": {},
   "source": [
    "# Merge"
   ]
  },
  {
   "cell_type": "markdown",
   "metadata": {},
   "source": [
    "_1000G_nooverlap=PyPlink(\"data/genotype/0_1000G/KCHIP_HLA_6_28Mb_35Mb_20200113_QC.newfilter.nooverlap\")\n",
    "\n",
    "_1000G_nooverlap_bim=_1000G_nooverlap.get_bim()\n",
    "_1000G_nooverlap_fam=_1000G_nooverlap.get_fam()\n",
    "\n",
    "_1000G_nooverlap_bim"
   ]
  },
  {
   "cell_type": "markdown",
   "metadata": {},
   "source": [
    "np.all(iid_df_merged['iid']==np.repeat(_1000G_nooverlap_fam['iid'].values,2))"
   ]
  },
  {
   "cell_type": "markdown",
   "metadata": {},
   "source": [
    "f=open(\"data/genotype/3_KCHIP_bmarkerphased/KCHIP_HLA.hg18.intersection_HAN.LABELED.NoSameAllele.bMarkers.2field.saveRareAllele.beagle5.1.AGM.bgl.phased.QC_\",'a')\n",
    "\n",
    "for idx_bim,(SNP,row) in enumerate(_1000G_nooverlap_bim.iterrows()):\n",
    "    if len(np.unique(_1000G_nooverlap.get_geno_marker(SNP)))!=3:\n",
    "        print(SNP,'may induce some error')\n",
    "    line_type='N'\n",
    "    line_id=SNP+'_'+SNP[-1]\n",
    "    line_data=np.repeat(_1000G_nooverlap.get_geno_marker(SNP),2).astype('str')\n",
    "    \n",
    "    f.write(' '.join([line_type,line_id]+line_data.tolist())+'\\n')"
   ]
  },
  {
   "cell_type": "markdown",
   "metadata": {},
   "source": [
    "f.close()"
   ]
  },
  {
   "cell_type": "markdown",
   "metadata": {},
   "source": [
    "f_in=open(\"data/genotype/3_KCHIP_bmarkerphased/KCHIP_HLA.hg18.intersection_HAN.LABELED.NoSameAllele.bMarkers.2field.saveRareAllele.beagle5.1.AGM.bgl.phased\",'r')\n",
    "f_out=open(\"data/genotype/3_KCHIP_bmarkerphased/KCHIP_HLA.hg18.intersection_HAN.LABELED.NoSameAllele.bMarkers.2field.saveRareAllele.beagle5.1.AGM.bgl.phased.QC\",'w')\n",
    "\n",
    "ind_count=None\n",
    "line_cnt=0\n",
    "total_removed=0\n",
    "\n",
    "while True:\n",
    "    line_cnt+=1\n",
    "    line=f_in.readline().strip()\n",
    "    line_split=line.split(' ')\n",
    "    if not line:\n",
    "        break\n",
    "    if ind_count is None:\n",
    "        ind_count=int(len(line_split[2:])/2)\n",
    "    else:\n",
    "        assert ind_count==int(len(line_split[2:])/2)\n",
    "    \n",
    "    line_type=line_split[0]\n",
    "    line_id=line_split[1]\n",
    "    line_data=line_split[2:]\n",
    "    line_data=np.array(line_data)[iid_df_merged['index'].tolist()]\n",
    "    \n",
    "    if line_id in removed.values:\n",
    "        total_removed+=1\n",
    "        print(line_id,\"remoed\")\n",
    "    else:\n",
    "        f_out.write(' '.join([line_type,line_id]+line_data.tolist())+'\\n')\n",
    "print(total_removed,\"removed\")        \n",
    "f_in.close()\n",
    "f_out.close()"
   ]
  },
  {
   "cell_type": "markdown",
   "metadata": {},
   "source": [
    "for idx_bim,(SNP,row) in enumerate(_1000G_nooverlap_bim.iterrows()):\n",
    "    if len(np.unique(_1000G_nooverlap.get_geno_marker(SNP)))!=3:\n",
    "        print(SNP)"
   ]
  },
  {
   "cell_type": "markdown",
   "metadata": {},
   "source": [
    "_1000G_nooverlap_bim.index.str.slice(start=-1)"
   ]
  },
  {
   "cell_type": "markdown",
   "metadata": {},
   "source": [
    "SNP=\"6:28000361_T/C\"\n",
    "#SNP=\"6:28000610_C/A\""
   ]
  },
  {
   "cell_type": "markdown",
   "metadata": {},
   "source": [
    "_1000G_nooverlap_bim.index"
   ]
  },
  {
   "cell_type": "markdown",
   "metadata": {},
   "source": [
    "np.any(_1000G_nooverlap_bim.index.str.slice(start=-1)==_1000G_nooverlap_bim['a1'])"
   ]
  },
  {
   "cell_type": "markdown",
   "metadata": {},
   "source": [
    "_1000G_nooverlap_bim"
   ]
  },
  {
   "cell_type": "markdown",
   "metadata": {},
   "source": [
    "dosage=_1000G_nooverlap.get_geno_marker(SNP)\n",
    "dosage\n",
    "(2*(dosage==2).sum()+(dosage==1).sum())/(len(dosage)*2)\n",
    "dosage"
   ]
  },
  {
   "cell_type": "markdown",
   "metadata": {},
   "source": [
    "_1000G_nooverlap.get_acgt_geno_marker(SNP)"
   ]
  },
  {
   "cell_type": "markdown",
   "metadata": {},
   "source": [
    "            \n",
    "aa_marker_name_list_aaonly=pd.Series(aa_marker_name_list)[pd.Series(aa_marker_name_list).str.slice(stop=3)=='AA_'].values            "
   ]
  },
  {
   "cell_type": "markdown",
   "metadata": {},
   "source": [
    "_1000G_nooverlap_fam['iid']"
   ]
  },
  {
   "cell_type": "markdown",
   "metadata": {},
   "source": [
    "pd.Series(_1000G_nooverlap.get_geno_marker('6:28000361_T/C')).value_counts()"
   ]
  },
  {
   "cell_type": "markdown",
   "metadata": {},
   "source": [
    "(2*1089+21692)/(2*125673)"
   ]
  },
  {
   "cell_type": "markdown",
   "metadata": {},
   "source": [
    "_1000G_nooverlap.get_geno_marker('6:28000361_T/C').shape"
   ]
  },
  {
   "cell_type": "markdown",
   "metadata": {},
   "source": [
    "pd.Series(_1000G_nooverlap.get_geno_marker('6:28000610_C/A')).value_counts()"
   ]
  },
  {
   "cell_type": "markdown",
   "metadata": {},
   "source": [
    "_1000G_nooverlap_fam"
   ]
  },
  {
   "cell_type": "code",
   "execution_count": 28,
   "metadata": {},
   "outputs": [],
   "source": [
    "!echo 'data/genotype/0_1000G/KCHIP_HLA_6_28Mb_35Mb_20200113_QC.newfilter.nooverlap' > data/genotype/4_merge/merge_list.tsv"
   ]
  },
  {
   "cell_type": "code",
   "execution_count": 46,
   "metadata": {},
   "outputs": [
    {
     "data": {
      "text/plain": [
       "'plink --bfile data/genotype/3_KCHIP_bmarkerphased/KCHIP_HLA.hg18.intersection_HAN.LABELED.NoSameAllele.bMarkers.2field.saveRareAllele.QC --merge-list data/genotype/4_merge/merge_list.tsv --make-bed --keep-allele-order --out data/genotype/4_merge/KCHIP_HLA_AA_SNP_1000G_merged'"
      ]
     },
     "execution_count": 46,
     "metadata": {},
     "output_type": "execute_result"
    }
   ],
   "source": [
    "command='plink --bfile data/genotype/3_KCHIP_bmarkerphased/KCHIP_HLA.hg18.intersection_HAN.LABELED.NoSameAllele.bMarkers.2field.saveRareAllele.QC \\\n",
    "--merge-list data/genotype/4_merge/merge_list.tsv \\\n",
    "--make-bed \\\n",
    "--keep-allele-order \\\n",
    "--out data/genotype/4_merge/KCHIP_HLA_AA_SNP_1000G_merged'\n",
    "command"
   ]
  },
  {
   "cell_type": "code",
   "execution_count": 138,
   "metadata": {},
   "outputs": [
    {
     "data": {
      "text/plain": [
       "'plink --bfile data/genotype/3_KCHIP_bmarkerphased/KCHIP_HLA.hg18.intersection_HAN.LABELED.NoSameAllele.bMarkers.2field.saveRareAllele.QC --make-bed --keep-allele-order --out data/genotype/4_merge/KCHIP_HLA_AA_SNP'"
      ]
     },
     "execution_count": 138,
     "metadata": {},
     "output_type": "execute_result"
    }
   ],
   "source": [
    "command='plink --bfile data/genotype/3_KCHIP_bmarkerphased/KCHIP_HLA.hg18.intersection_HAN.LABELED.NoSameAllele.bMarkers.2field.saveRareAllele.QC \\\n",
    "--make-bed \\\n",
    "--keep-allele-order \\\n",
    "--out data/genotype/4_merge/KCHIP_HLA_AA_SNP'\n",
    "command"
   ]
  },
  {
   "cell_type": "code",
   "execution_count": 47,
   "metadata": {},
   "outputs": [
    {
     "data": {
      "text/plain": [
       "'plink --bfile data/genotype/3_KCHIP_bmarkerphased/KCHIP_HLA.hg18.intersection_HAN.LABELED.NoSameAllele.bMarkers.2field.saveRareAllele.QC.noaa --merge-list data/genotype/4_merge/merge_list.tsv --make-bed --keep-allele-order --out data/genotype/4_merge/KCHIP_HLA_SNP_1000G_merged'"
      ]
     },
     "execution_count": 47,
     "metadata": {},
     "output_type": "execute_result"
    }
   ],
   "source": [
    "command='plink --bfile data/genotype/3_KCHIP_bmarkerphased/KCHIP_HLA.hg18.intersection_HAN.LABELED.NoSameAllele.bMarkers.2field.saveRareAllele.QC.noaa \\\n",
    "--merge-list data/genotype/4_merge/merge_list.tsv \\\n",
    "--make-bed \\\n",
    "--keep-allele-order \\\n",
    "--out data/genotype/4_merge/KCHIP_HLA_SNP_1000G_merged'\n",
    "command"
   ]
  },
  {
   "cell_type": "code",
   "execution_count": 139,
   "metadata": {},
   "outputs": [
    {
     "data": {
      "text/plain": [
       "'plink --bfile data/genotype/3_KCHIP_bmarkerphased/KCHIP_HLA.hg18.intersection_HAN.LABELED.NoSameAllele.bMarkers.2field.saveRareAllele.QC.noaa --make-bed --keep-allele-order --out data/genotype/4_merge/KCHIP_HLA_SNP'"
      ]
     },
     "execution_count": 139,
     "metadata": {},
     "output_type": "execute_result"
    }
   ],
   "source": [
    "command='plink --bfile data/genotype/3_KCHIP_bmarkerphased/KCHIP_HLA.hg18.intersection_HAN.LABELED.NoSameAllele.bMarkers.2field.saveRareAllele.QC.noaa \\\n",
    "--make-bed \\\n",
    "--keep-allele-order \\\n",
    "--out data/genotype/4_merge/KCHIP_HLA_SNP'\n",
    "command"
   ]
  },
  {
   "cell_type": "code",
   "execution_count": 48,
   "metadata": {},
   "outputs": [
    {
     "data": {
      "text/plain": [
       "'plink --bfile data/genotype/3_KCHIP_bmarkerphased/KCHIP_HLA.hg18.intersection_HAN.LABELED.NoSameAllele.bMarkers.2field.saveRareAllele.QC.noHLAaa --merge-list data/genotype/4_merge/merge_list.tsv --make-bed --keep-allele-order --out data/genotype/4_merge/KCHIP_SNP_1000G_merged'"
      ]
     },
     "execution_count": 48,
     "metadata": {},
     "output_type": "execute_result"
    }
   ],
   "source": [
    "command='plink --bfile data/genotype/3_KCHIP_bmarkerphased/KCHIP_HLA.hg18.intersection_HAN.LABELED.NoSameAllele.bMarkers.2field.saveRareAllele.QC.noHLAaa \\\n",
    "--merge-list data/genotype/4_merge/merge_list.tsv \\\n",
    "--make-bed \\\n",
    "--keep-allele-order \\\n",
    "--out data/genotype/4_merge/KCHIP_SNP_1000G_merged'\n",
    "command"
   ]
  },
  {
   "cell_type": "code",
   "execution_count": 140,
   "metadata": {},
   "outputs": [
    {
     "data": {
      "text/plain": [
       "'plink --bfile data/genotype/3_KCHIP_bmarkerphased/KCHIP_HLA.hg18.intersection_HAN.LABELED.NoSameAllele.bMarkers.2field.saveRareAllele.QC.noHLAaa --make-bed --keep-allele-order --out data/genotype/4_merge/KCHIP_SNP'"
      ]
     },
     "execution_count": 140,
     "metadata": {},
     "output_type": "execute_result"
    }
   ],
   "source": [
    "command='plink --bfile data/genotype/3_KCHIP_bmarkerphased/KCHIP_HLA.hg18.intersection_HAN.LABELED.NoSameAllele.bMarkers.2field.saveRareAllele.QC.noHLAaa \\\n",
    "--make-bed \\\n",
    "--keep-allele-order \\\n",
    "--out data/genotype/4_merge/KCHIP_SNP'\n",
    "command"
   ]
  },
  {
   "cell_type": "code",
   "execution_count": 121,
   "metadata": {},
   "outputs": [],
   "source": [
    "! cp data/genotype/3_KCHIP_bmarkerphased/KCHIP_HLA.hg18.intersection_HAN.LABELED.NoSameAllele.bMarkers.2field.saveRareAllele.beagle5.1.AGM.bgl.phased.QC \\\n",
    "data/genotype/4_merge/KCHIP_HLA.hg18.intersection_HAN.LABELED.NoSameAllele.bMarkers.2field.saveRareAllele.beagle5.1.AGM.bgl.phased.QC"
   ]
  },
  {
   "cell_type": "code",
   "execution_count": 65,
   "metadata": {},
   "outputs": [],
   "source": [
    "#bim_read=pd.read_csv(\"data/genotype/4_merge/KCHIP_HLA_AA_SNP_1000G_merged.bim\",header=None,sep='\\t',names=['CHR','SNP','CM','BP','A1','A2'])"
   ]
  },
  {
   "cell_type": "code",
   "execution_count": 76,
   "metadata": {},
   "outputs": [],
   "source": [
    "#bim_read[(bim_read['SNP'].str.slice(stop=3)=='HLA')|(bim_read['SNP'].str.slice(stop=3)=='AA_')]['SNP'].to_csv(\"HLA_aa_list.tsv\",sep='\\t',index=None,header=None)"
   ]
  },
  {
   "cell_type": "code",
   "execution_count": 59,
   "metadata": {},
   "outputs": [
    {
     "data": {
      "text/plain": [
       "'gcta64 --bfile data/genotype/4_merge/KCHIP_HLA_AA_SNP_1000G_merged --make-grm --out data/genotype/4_merge/KCHIP_HLA_AA_SNP_1000G_merged.grm --thread-num 40'"
      ]
     },
     "execution_count": 59,
     "metadata": {},
     "output_type": "execute_result"
    }
   ],
   "source": [
    "command='gcta64 --bfile {} --make-grm --out {} --thread-num 40'.format(final_plink_aa_path,final_plink_aa_path+'.grm')\n",
    "command"
   ]
  },
  {
   "cell_type": "code",
   "execution_count": 78,
   "metadata": {},
   "outputs": [
    {
     "data": {
      "text/plain": [
       "'gcta64 --bfile data/genotype/4_merge/KCHIP_SNP_1000G_merged --make-grm --out data/genotype/4_merge/KCHIP_SNP_1000G_merged.grm --thread-num 40'"
      ]
     },
     "execution_count": 78,
     "metadata": {},
     "output_type": "execute_result"
    }
   ],
   "source": [
    "command='gcta64 --bfile {} --make-grm --out {} --thread-num 40'.format('data/genotype/4_merge/KCHIP_SNP_1000G_merged','data/genotype/4_merge/KCHIP_SNP_1000G_merged'+'.grm')\n",
    "command"
   ]
  },
  {
   "cell_type": "code",
   "execution_count": 137,
   "metadata": {},
   "outputs": [
    {
     "name": "stdout",
     "output_type": "stream",
     "text": [
      "0 100 200 300 400 HLA_A*01:01\n",
      "HLA_A*02:01\n",
      "HLA_A*02:03\n",
      "HLA_A*02:06\n",
      "HLA_A*02:07\n",
      "HLA_A*03:01\n",
      "HLA_A*11:01\n",
      "HLA_A*24:02\n",
      "HLA_A*26:01\n",
      "HLA_A*26:02\n",
      "HLA_A*26:03\n",
      "HLA_A*29:01\n",
      "HLA_A*30:01\n",
      "HLA_A*30:04\n",
      "HLA_A*31:01\n",
      "HLA_A*32:01\n",
      "HLA_A*33:03\n",
      "AA_A_-15_30018338_exon1\n",
      "AA_A_-11_30018350_exon1\n",
      "AA_A_9_30018537_exon2_F\n",
      "AA_A_9_30018537_exon2_S\n",
      "AA_A_9_30018537_exon2_T\n",
      "AA_A_9_30018537_exon2_Y\n",
      "AA_A_17_30018561_exon2\n",
      "AA_A_44_30018642_exon2\n",
      "AA_A_56_30018678_exon2\n",
      "AA_A_62_30018696_exon2_E\n",
      "AA_A_62_30018696_exon2_G\n",
      "AA_A_62_30018696_exon2_L\n",
      "AA_A_62_30018696_exon2_Q\n",
      "AA_A_62_30018696_exon2_R\n",
      "500 AA_A_63_30018699_exon2_E\n",
      "AA_A_63_30018699_exon2_N\n",
      "AA_A_63_30018699_exon2_Q\n",
      "AA_A_65_30018705_exon2\n",
      "AA_A_66_30018708_exon2\n",
      "AA_A_67_30018711_exon2\n",
      "AA_A_70_30018720_exon2\n",
      "AA_A_73_30018729_exon2\n",
      "AA_A_74_30018732_exon2\n",
      "AA_A_76_30018738_exon2_A\n",
      "AA_A_76_30018738_exon2_E\n",
      "AA_A_76_30018738_exon2_V\n",
      "AA_A_77_30018741_exon2_D\n",
      "AA_A_77_30018741_exon2_N\n",
      "AA_A_77_30018741_exon2_S\n",
      "AA_A_79_30018747_exon2\n",
      "AA_A_80_30018750_exon2\n",
      "AA_A_81_30018753_exon2\n",
      "AA_A_82_30018756_exon2\n",
      "AA_A_83_30018759_exon2\n",
      "AA_A_90_30018780_exon2\n",
      "AA_A_95_30019036_exon3_I\n",
      "AA_A_95_30019036_exon3_L\n",
      "AA_A_95_30019036_exon3_V\n",
      "AA_A_97_30019042_exon3_I\n",
      "AA_A_97_30019042_exon3_M\n",
      "AA_A_97_30019042_exon3_R\n",
      "AA_A_99_30019048_exon3_C\n",
      "AA_A_99_30019048_exon3_F\n",
      "AA_A_99_30019048_exon3_Y\n",
      "AA_A_102_30019057_exon3\n",
      "AA_A_105_30019066_exon3\n",
      "AA_A_107_30019072_exon3\n",
      "AA_A_109_30019078_exon3\n",
      "AA_A_114_30019093_exon3_E\n",
      "AA_A_114_30019093_exon3_H\n",
      "AA_A_114_30019093_exon3_Q\n",
      "AA_A_114_30019093_exon3_R\n",
      "600 AA_A_116_30019099_exon3_D\n",
      "AA_A_116_30019099_exon3_H\n",
      "AA_A_116_30019099_exon3_N\n",
      "AA_A_116_30019099_exon3_Y\n",
      "AA_A_127_30019132_exon3\n",
      "AA_A_142_30019177_exon3\n",
      "AA_A_144_30019183_exon3\n",
      "AA_A_145_30019186_exon3\n",
      "AA_A_149_30019198_exon3\n",
      "AA_A_150_30019201_exon3\n",
      "AA_A_151_30019204_exon3\n",
      "AA_A_152_30019207_exon3_A\n",
      "AA_A_152_30019207_exon3_E\n",
      "AA_A_152_30019207_exon3_V\n",
      "AA_A_152_30019207_exon3_W\n",
      "AA_A_156_30019219_exon3_L\n",
      "AA_A_156_30019219_exon3_Q\n",
      "AA_A_156_30019219_exon3_R\n",
      "AA_A_156_30019219_exon3_W\n",
      "AA_A_158_30019225_exon3\n",
      "AA_A_161_30019234_exon3\n",
      "AA_A_163_30019240_exon3\n",
      "AA_A_166_30019249_exon3\n",
      "AA_A_167_30019252_exon3\n",
      "AA_A_184_30019882_exon4\n",
      "AA_A_193_30019909_exon4\n",
      "AA_A_194_30019912_exon4\n",
      "700 AA_A_207_30019951_exon4\n",
      "AA_A_246_30020068_exon4\n",
      "AA_A_253_30020089_exon4\n",
      "AA_A_276_30020260_exon5\n",
      "AA_A_282_30020278_exon5\n",
      "AA_A_294_30020314_exon5\n",
      "AA_A_297_30020323_exon5\n",
      "AA_A_298_30020326_exon5\n",
      "AA_A_299_30020329_exon5\n",
      "AA_A_307_30020353_exon5\n",
      "AA_A_311_30020365_exon5\n",
      "AA_A_321_30020837_exon6\n",
      "AA_A_334_30021018_exon7\n",
      "800 900 1000 1100 1200 1300 1400 1500 1600 HLA_C*01:02\n",
      "HLA_C*02:02\n",
      "HLA_C*03:02\n",
      "HLA_C*03:03\n",
      "HLA_C*03:04\n",
      "HLA_C*04:01\n",
      "HLA_C*05:01\n",
      "HLA_C*06:02\n",
      "HLA_C*07:02\n",
      "HLA_C*07:04\n",
      "HLA_C*07:06\n",
      "HLA_C*08:01\n",
      "HLA_C*08:02\n",
      "HLA_C*08:03\n",
      "HLA_C*08:22\n",
      "HLA_C*12:02\n",
      "HLA_C*12:03\n",
      "HLA_C*14:02\n",
      "HLA_C*14:03\n",
      "HLA_C*15:02\n",
      "HLA_C*15:05\n",
      "AA_C_339_31345110_exon7\n",
      "AA_C_326_31345149_exon7\n",
      "AA_C_324_31345262_exon6\n",
      "AA_C_321_31345271_exon6\n",
      "1700 AA_C_307_31345752_exon5_K\n",
      "AA_C_307_31345752_exon5_M\n",
      "AA_C_307_31345752_exon5_V\n",
      "AA_C_306_31345755_exon5\n",
      "AA_C_305_31345758_exon5\n",
      "AA_C_304_31345761_exon5\n",
      "AA_C_303_31345764_exon5\n",
      "AA_C_295_31345788_exon5\n",
      "AA_C_285_31345818_exon5_M\n",
      "AA_C_285_31345818_exon5_V\n",
      "AA_C_275_31345848_exon5_E\n",
      "AA_C_275_31345848_exon5_G\n",
      "AA_C_275_31345848_exon5_K\n",
      "AA_C_273_31345975_exon4\n",
      "AA_C_267_31345993_exon4\n",
      "AA_C_261_31346011_exon4\n",
      "AA_C_253_31346035_exon4\n",
      "AA_C_248_31346050_exon4\n",
      "AA_C_219_31346137_exon4\n",
      "AA_C_211_31346161_exon4\n",
      "AA_C_194_31346212_exon4\n",
      "AA_C_184_31346242_exon4_H\n",
      "AA_C_184_31346242_exon4_P\n",
      "1800 AA_C_177_31346850_exon3\n",
      "AA_C_175_31346856_exon3\n",
      "AA_C_173_31346862_exon3\n",
      "AA_C_163_31346892_exon3_E\n",
      "AA_C_163_31346892_exon3_L\n",
      "AA_C_163_31346892_exon3_T\n",
      "AA_C_156_31346913_exon3_D\n",
      "AA_C_156_31346913_exon3_L\n",
      "AA_C_156_31346913_exon3_R\n",
      "AA_C_156_31346913_exon3_W\n",
      "AA_C_152_31346925_exon3_A\n",
      "AA_C_152_31346925_exon3_E\n",
      "AA_C_152_31346925_exon3_T\n",
      "AA_C_147_31346940_exon3\n",
      "AA_C_138_31346967_exon3\n",
      "AA_C_116_31347033_exon3_F\n",
      "AA_C_116_31347033_exon3_L\n",
      "AA_C_116_31347033_exon3_S\n",
      "AA_C_116_31347033_exon3_Y\n",
      "AA_C_114_31347039_exon3\n",
      "AA_C_113_31347042_exon3\n",
      "AA_C_103_31347072_exon3\n",
      "AA_C_99_31347084_exon3_C\n",
      "AA_C_99_31347084_exon3_F\n",
      "AA_C_99_31347084_exon3_S\n",
      "AA_C_99_31347084_exon3_Y\n",
      "AA_C_97_31347090_exon3\n",
      "AA_C_95_31347096_exon3_F\n",
      "AA_C_95_31347096_exon3_I\n",
      "AA_C_95_31347096_exon3_L\n",
      "AA_C_94_31347099_exon3\n",
      "AA_C_91_31347108_exon3\n",
      "1900 AA_C_90_31347357_exon2\n",
      "AA_C_80_31347387_exon2\n",
      "AA_C_77_31347396_exon2\n",
      "AA_C_73_31347408_exon2\n",
      "AA_C_66_31347429_exon2\n",
      "AA_C_49_31347480_exon2\n",
      "AA_C_35_31347522_exon2\n",
      "AA_C_24_31347555_exon2\n",
      "AA_C_21_31347564_exon2\n",
      "AA_C_16_31347579_exon2\n",
      "AA_C_14_31347585_exon2\n",
      "AA_C_11_31347594_exon2\n",
      "AA_C_9_31347600_exon2_D\n",
      "AA_C_9_31347600_exon2_F\n",
      "AA_C_9_31347600_exon2_S\n",
      "AA_C_9_31347600_exon2_Y\n",
      "AA_C_6_31347609_exon2\n",
      "AA_C_1_31347624_exon2\n",
      "AA_C_-9_31347781_exon1\n",
      "AA_C_-15_31347799_exon1\n",
      "AA_C_-17_31347805_exon1\n",
      "2000 HLA_B*07:02\n",
      "HLA_B*07:05\n",
      "HLA_B*13:01\n",
      "HLA_B*13:02\n",
      "HLA_B*14:01\n",
      "HLA_B*15:01\n",
      "HLA_B*15:07\n",
      "HLA_B*15:11\n",
      "HLA_B*15:18\n",
      "HLA_B*27:05\n",
      "HLA_B*35:01\n",
      "HLA_B*37:01\n",
      "HLA_B*38:02\n",
      "HLA_B*39:01\n",
      "HLA_B*40:01\n",
      "HLA_B*40:02\n",
      "HLA_B*40:03\n",
      "HLA_B*40:06\n",
      "HLA_B*44:02\n",
      "HLA_B*44:03\n",
      "HLA_B*46:01\n",
      "HLA_B*48:01\n",
      "HLA_B*51:01\n",
      "HLA_B*51:02\n",
      "HLA_B*52:01\n",
      "HLA_B*54:01\n",
      "HLA_B*55:02\n",
      "HLA_B*58:01\n",
      "HLA_B*59:01\n",
      "HLA_B*67:01\n",
      "AA_B_325_31430282_exon7_C\n",
      "AA_B_325_31430282_exon7_S\n",
      "AA_B_305_31430889_exon5_A\n",
      "AA_B_305_31430889_exon5_T\n",
      "AA_B_282_31430958_exon5_I\n",
      "2100 AA_B_282_31430958_exon5_V\n",
      "AA_B_245_31431162_exon4\n",
      "AA_B_199_31431300_exon4\n",
      "AA_B_194_31431315_exon4\n",
      "AA_B_180_31431931_exon3\n",
      "AA_B_178_31431937_exon3\n",
      "AA_B_177_31431940_exon3\n",
      "AA_B_171_31431958_exon3\n",
      "AA_B_167_31431970_exon3_S\n",
      "AA_B_167_31431970_exon3_W\n",
      "AA_B_163_31431982_exon3_E\n",
      "AA_B_163_31431982_exon3_L\n",
      "AA_B_163_31431982_exon3_T\n",
      "AA_B_158_31431997_exon3\n",
      "AA_B_156_31432003_exon3_D\n",
      "AA_B_156_31432003_exon3_L\n",
      "AA_B_156_31432003_exon3_R\n",
      "AA_B_156_31432003_exon3_W\n",
      "AA_B_152_31432015_exon3\n",
      "AA_B_147_31432030_exon3\n",
      "AA_B_145_31432036_exon3\n",
      "AA_B_143_31432042_exon3\n",
      "AA_B_131_31432078_exon3\n",
      "AA_B_116_31432123_exon3_D\n",
      "AA_B_116_31432123_exon3_F\n",
      "AA_B_116_31432123_exon3_L\n",
      "AA_B_116_31432123_exon3_S\n",
      "AA_B_116_31432123_exon3_Y\n",
      "AA_B_114_31432129_exon3_D\n",
      "AA_B_114_31432129_exon3_H\n",
      "AA_B_114_31432129_exon3_N\n",
      "2200 AA_B_113_31432132_exon3\n",
      "AA_B_103_31432162_exon3\n",
      "AA_B_99_31432174_exon3_S\n",
      "AA_B_99_31432174_exon3_Y\n",
      "AA_B_97_31432180_exon3_N\n",
      "AA_B_97_31432180_exon3_R\n",
      "AA_B_97_31432180_exon3_S\n",
      "AA_B_97_31432180_exon3_T\n",
      "AA_B_97_31432180_exon3_W\n",
      "AA_B_95_31432186_exon3_I\n",
      "AA_B_95_31432186_exon3_L\n",
      "AA_B_95_31432186_exon3_W\n",
      "AA_B_94_31432189_exon3\n",
      "AA_B_83_31432467_exon2\n",
      "AA_B_82_31432470_exon2\n",
      "AA_B_81_31432473_exon2\n",
      "AA_B_80_31432476_exon2_I\n",
      "AA_B_80_31432476_exon2_N\n",
      "AA_B_80_31432476_exon2_T\n",
      "AA_B_77_31432485_exon2_D\n",
      "AA_B_77_31432485_exon2_N\n",
      "AA_B_77_31432485_exon2_S\n",
      "AA_B_76_31432488_exon2\n",
      "AA_B_74_31432494_exon2\n",
      "AA_B_71_31432503_exon2\n",
      "AA_B_70_31432506_exon2_K\n",
      "AA_B_70_31432506_exon2_N\n",
      "AA_B_70_31432506_exon2_Q\n",
      "AA_B_70_31432506_exon2_S\n",
      "AA_B_69_31432509_exon2_A\n",
      "AA_B_69_31432509_exon2_R\n",
      "AA_B_69_31432509_exon2_T\n",
      "AA_B_67_31432515_exon2_C\n",
      "AA_B_67_31432515_exon2_F\n",
      "AA_B_67_31432515_exon2_M\n",
      "AA_B_67_31432515_exon2_S\n",
      "AA_B_67_31432515_exon2_Y\n",
      "2300 AA_B_66_31432518_exon2_I\n",
      "AA_B_66_31432518_exon2_K\n",
      "AA_B_66_31432518_exon2_N\n",
      "AA_B_65_31432521_exon2\n",
      "AA_B_63_31432527_exon2\n",
      "AA_B_62_31432530_exon2\n",
      "AA_B_52_31432560_exon2\n",
      "AA_B_46_31432578_exon2\n",
      "AA_B_45_31432581_exon2_E\n",
      "AA_B_45_31432581_exon2_G\n",
      "AA_B_45_31432581_exon2_K\n",
      "AA_B_45_31432581_exon2_M\n",
      "AA_B_45_31432581_exon2_T\n",
      "AA_B_41_31432593_exon2\n",
      "AA_B_32_31432620_exon2\n",
      "AA_B_24_31432644_exon2_A\n",
      "AA_B_24_31432644_exon2_S\n",
      "AA_B_24_31432644_exon2_T\n",
      "AA_B_12_31432680_exon2\n",
      "AA_B_11_31432683_exon2\n",
      "AA_B_9_31432689_exon2_H\n",
      "AA_B_9_31432689_exon2_Y\n",
      "AA_B_-8_31432865_exon1\n",
      "AA_B_-10_31432871_exon1\n",
      "AA_B_-11_31432874_exon1\n",
      "AA_B_-16_31432889_exon1\n",
      "AA_B_-21_31432904_exon1\n",
      "AA_B_-23_31432910_exon1\n",
      "2400 2500 2600 2700 2800 2900 HLA_DRB1*01:01\n",
      "HLA_DRB1*03:01\n",
      "HLA_DRB1*04:01\n",
      "HLA_DRB1*04:03\n",
      "HLA_DRB1*04:04\n",
      "HLA_DRB1*04:05\n",
      "HLA_DRB1*04:06\n",
      "HLA_DRB1*04:10\n",
      "HLA_DRB1*07:01\n",
      "HLA_DRB1*08:02\n",
      "HLA_DRB1*08:03\n",
      "HLA_DRB1*09:01\n",
      "HLA_DRB1*10:01\n",
      "HLA_DRB1*11:01\n",
      "HLA_DRB1*12:01\n",
      "HLA_DRB1*12:02\n",
      "HLA_DRB1*13:01\n",
      "HLA_DRB1*13:02\n",
      "HLA_DRB1*14:03\n",
      "HLA_DRB1*14:05\n",
      "HLA_DRB1*14:54\n",
      "HLA_DRB1*15:01\n",
      "HLA_DRB1*15:02\n",
      "HLA_DRB1*16:02\n",
      "3000 3100 3200 3300 3400 3500 3600 3700 3800 3900 4000 4100 4200 4300 4400 4500 4600 4700 4800 4900 5000 AA_DRB1_233_32656026_exon5_R\n",
      "AA_DRB1_233_32656026_exon5_T\n",
      "AA_DRB1_231_32656032_exon5_P\n",
      "AA_DRB1_231_32656032_exon5_Q\n",
      "5100 AA_DRB1_189_32656645_exon4_R\n",
      "AA_DRB1_189_32656645_exon4_S\n",
      "5200 5300 AA_DRB1_181_32657370_exon3_M\n",
      "AA_DRB1_181_32657370_exon3_T\n",
      "AA_DRB1_180_32657373_exon3_L\n",
      "AA_DRB1_180_32657373_exon3_V\n",
      "AA_DRB1_166_32657415_exon3_Q\n",
      "AA_DRB1_166_32657415_exon3_R\n",
      "AA_DRB1_149_32657466_exon3_H\n",
      "AA_DRB1_149_32657466_exon3_Q\n",
      "AA_DRB1_142_32657487_exon3_M\n",
      "AA_DRB1_142_32657487_exon3_V\n",
      "AA_DRB1_140_32657493_exon3_A\n",
      "AA_DRB1_140_32657493_exon3_T\n",
      "AA_DRB1_133_32657514_exon3_L\n",
      "AA_DRB1_133_32657514_exon3_R\n",
      "AA_DRB1_120_32657553_exon3_N\n",
      "AA_DRB1_120_32657553_exon3_S\n",
      "AA_DRB1_104_32657601_exon3_A\n",
      "AA_DRB1_104_32657601_exon3_S\n",
      "AA_DRB1_98_32657619_exon3_E\n",
      "AA_DRB1_98_32657619_exon3_K\n",
      "AA_DRB1_96_32657625_exon3_E\n",
      "AA_DRB1_96_32657625_exon3_H\n",
      "AA_DRB1_96_32657625_exon3_Q\n",
      "AA_DRB1_96_32657625_exon3_Y\n",
      "5400 5500 5600 5700 5800 5900 6000 AA_DRB1_86_32659882_exon2\n",
      "AA_DRB1_85_32659885_exon2\n",
      "AA_DRB1_78_32659906_exon2\n",
      "AA_DRB1_77_32659909_exon2\n",
      "AA_DRB1_74_32659918_exon2_A\n",
      "AA_DRB1_74_32659918_exon2_E\n",
      "AA_DRB1_74_32659918_exon2_L\n",
      "AA_DRB1_74_32659918_exon2_Q\n",
      "AA_DRB1_74_32659918_exon2_R\n",
      "AA_DRB1_73_32659921_exon2\n",
      "AA_DRB1_71_32659927_exon2_A\n",
      "AA_DRB1_71_32659927_exon2_E\n",
      "AA_DRB1_71_32659927_exon2_K\n",
      "AA_DRB1_71_32659927_exon2_R\n",
      "AA_DRB1_70_32659930_exon2_D\n",
      "AA_DRB1_70_32659930_exon2_Q\n",
      "AA_DRB1_70_32659930_exon2_R\n",
      "AA_DRB1_67_32659939_exon2_F\n",
      "AA_DRB1_67_32659939_exon2_I\n",
      "AA_DRB1_67_32659939_exon2_L\n",
      "AA_DRB1_60_32659960_exon2_H\n",
      "AA_DRB1_60_32659960_exon2_S\n",
      "AA_DRB1_60_32659960_exon2_Y\n",
      "AA_DRB1_58_32659966_exon2\n",
      "AA_DRB1_57_32659969_exon2_A\n",
      "AA_DRB1_57_32659969_exon2_D\n",
      "AA_DRB1_57_32659969_exon2_S\n",
      "AA_DRB1_57_32659969_exon2_V\n",
      "AA_DRB1_47_32659999_exon2\n",
      "6100 AA_DRB1_40_32660020_exon2\n",
      "AA_DRB1_38_32660026_exon2_A\n",
      "AA_DRB1_38_32660026_exon2_L\n",
      "AA_DRB1_38_32660026_exon2_V\n",
      "AA_DRB1_37_32660029_exon2_F\n",
      "AA_DRB1_37_32660029_exon2_L\n",
      "AA_DRB1_37_32660029_exon2_N\n",
      "AA_DRB1_37_32660029_exon2_S\n",
      "AA_DRB1_37_32660029_exon2_Y\n",
      "AA_DRB1_33_32660041_exon2\n",
      "AA_DRB1_32_32660044_exon2\n",
      "AA_DRB1_31_32660047_exon2_F\n",
      "AA_DRB1_31_32660047_exon2_I\n",
      "AA_DRB1_31_32660047_exon2_V\n",
      "AA_DRB1_30_32660050_exon2_C\n",
      "AA_DRB1_30_32660050_exon2_G\n",
      "AA_DRB1_30_32660050_exon2_H\n",
      "AA_DRB1_30_32660050_exon2_L\n",
      "AA_DRB1_30_32660050_exon2_R\n",
      "AA_DRB1_30_32660050_exon2_Y\n",
      "AA_DRB1_28_32660056_exon2_D\n",
      "AA_DRB1_28_32660056_exon2_E\n",
      "AA_DRB1_28_32660056_exon2_H\n",
      "AA_DRB1_26_32660062_exon2_F\n",
      "AA_DRB1_26_32660062_exon2_L\n",
      "AA_DRB1_26_32660062_exon2_Y\n",
      "AA_DRB1_25_32660065_exon2\n",
      "AA_DRB1_16_32660092_exon2_H\n",
      "AA_DRB1_16_32660092_exon2_Q\n",
      "AA_DRB1_16_32660092_exon2_Y\n",
      "AA_DRB1_14_32660098_exon2\n",
      "AA_DRB1_13_32660101_exon2_F\n",
      "AA_DRB1_13_32660101_exon2_G\n",
      "AA_DRB1_13_32660101_exon2_H\n",
      "AA_DRB1_13_32660101_exon2_R\n",
      "AA_DRB1_13_32660101_exon2_S\n",
      "AA_DRB1_13_32660101_exon2_Y\n",
      "AA_DRB1_12_32660104_exon2\n",
      "AA_DRB1_11_32660107_exon2_D\n",
      "AA_DRB1_11_32660107_exon2_G\n",
      "AA_DRB1_11_32660107_exon2_L\n",
      "AA_DRB1_11_32660107_exon2_P\n",
      "AA_DRB1_11_32660107_exon2_S\n",
      "AA_DRB1_11_32660107_exon2_V\n",
      "AA_DRB1_10_32660110_exon2_E\n",
      "6200 AA_DRB1_10_32660110_exon2_Q\n",
      "AA_DRB1_10_32660110_exon2_Y\n",
      "AA_DRB1_9_32660113_exon2_E\n",
      "AA_DRB1_9_32660113_exon2_K\n",
      "AA_DRB1_9_32660113_exon2_W\n",
      "6300 6400 6500 6600 6700 6800 6900 7000 7100 7200 7300 7400 7500 AA_DRB1_4_32665400_exon1_Q\n",
      "AA_DRB1_4_32665400_exon1_R\n",
      "AA_DRB1_-1_32665412_exon1_A\n",
      "AA_DRB1_-1_32665412_exon1_S\n",
      "AA_DRB1_-16_32665457_exon1_A\n",
      "AA_DRB1_-16_32665457_exon1_V\n",
      "AA_DRB1_-17_32665460_exon1_A\n",
      "AA_DRB1_-17_32665460_exon1_T\n",
      "AA_DRB1_-24_32665481_exon1_F\n",
      "AA_DRB1_-24_32665481_exon1_L\n",
      "AA_DRB1_-25_32665484_exon1_K\n",
      "AA_DRB1_-25_32665484_exon1_R\n",
      "HLA_DQA1*01:01\n",
      "HLA_DQA1*01:02\n",
      "HLA_DQA1*01:03\n",
      "HLA_DQA1*01:04\n",
      "HLA_DQA1*01:05\n",
      "HLA_DQA1*02:01\n",
      "HLA_DQA1*03:01\n",
      "HLA_DQA1*03:02\n",
      "HLA_DQA1*03:03\n",
      "HLA_DQA1*04:01\n",
      "HLA_DQA1*05:01\n",
      "HLA_DQA1*05:03\n",
      "HLA_DQA1*05:05\n",
      "HLA_DQA1*05:08\n",
      "HLA_DQA1*06:01\n",
      "AA_DQA1_-16_32713236_exon1\n",
      "AA_DQA1_-13_32713245_exon1\n",
      "7600 AA_DQA1_-7_32713263_exon1\n",
      "AA_DQA1_-6_32713266_exon1\n",
      "AA_DQA1_2_32713287_exon1\n",
      "7700 7800 7900 8000 8100 8200 8300 AA_DQA1_11_32717089_exon2\n",
      "AA_DQA1_18_32717110_exon2\n",
      "AA_DQA1_25_32717131_exon2\n",
      "AA_DQA1_26_32717134_exon2\n",
      "AA_DQA1_34_32717158_exon2\n",
      "AA_DQA1_40_32717176_exon2\n",
      "AA_DQA1_41_32717179_exon2\n",
      "AA_DQA1_45_32717191_exon2\n",
      "AA_DQA1_47_32717197_exon2_C\n",
      "AA_DQA1_47_32717197_exon2_K\n",
      "AA_DQA1_47_32717197_exon2_Q\n",
      "AA_DQA1_47_32717197_exon2_R\n",
      "AA_DQA1_48_32717200_exon2\n",
      "AA_DQA1_50_32717206_exon2_E\n",
      "AA_DQA1_50_32717206_exon2_L\n",
      "AA_DQA1_50_32717206_exon2_V\n",
      "AA_DQA1_51_32717209_exon2\n",
      "AA_DQA1_52_32717212_exon2_H\n",
      "8400 AA_DQA1_52_32717212_exon2_R\n",
      "AA_DQA1_52_32717212_exon2_S\n",
      "AA_DQA1_53_32717215_exon2_K\n",
      "AA_DQA1_53_32717215_exon2_Q\n",
      "AA_DQA1_53_32717215_exon2_R\n",
      "AA_DQA1_54_32717218_exon2\n",
      "AA_DQA1_55_32717221_exon2\n",
      "AA_DQA1_56_32717224_exon2_.\n",
      "AA_DQA1_56_32717224_exon2_G\n",
      "AA_DQA1_56_32717224_exon2_R\n",
      "AA_DQA1_61_32717239_exon2\n",
      "AA_DQA1_64_32717248_exon2\n",
      "AA_DQA1_66_32717254_exon2\n",
      "AA_DQA1_69_32717263_exon2_A\n",
      "AA_DQA1_69_32717263_exon2_L\n",
      "AA_DQA1_69_32717263_exon2_T\n",
      "AA_DQA1_75_32717281_exon2\n",
      "AA_DQA1_76_32717284_exon2_L\n",
      "AA_DQA1_76_32717284_exon2_M\n",
      "AA_DQA1_76_32717284_exon2_V\n",
      "AA_DQA1_80_32717296_exon2\n",
      "8500 AA_DQA1_107_32717790_exon3\n",
      "AA_DQA1_129_32717856_exon3\n",
      "AA_DQA1_130_32717859_exon3\n",
      "AA_DQA1_139_32717886_exon3\n",
      "AA_DQA1_156_32717937_exon3\n",
      "AA_DQA1_160_32717949_exon3_A\n",
      "AA_DQA1_160_32717949_exon3_D\n",
      "AA_DQA1_160_32717949_exon3_S\n",
      "AA_DQA1_161_32717952_exon3\n",
      "AA_DQA1_163_32717958_exon3\n",
      "AA_DQA1_175_32717994_exon3_E\n",
      "AA_DQA1_175_32717994_exon3_K\n",
      "AA_DQA1_175_32717994_exon3_Q\n",
      "8600 AA_DQA1_187_32718388_exon4\n",
      "AA_DQA1_199_32718424_exon4\n",
      "AA_DQA1_207_32718448_exon4\n",
      "AA_DQA1_215_32718472_exon4\n",
      "AA_DQA1_218_32718481_exon4\n",
      "HLA_DQB1*02:01\n",
      "HLA_DQB1*02:02\n",
      "HLA_DQB1*03:01\n",
      "HLA_DQB1*03:02\n",
      "HLA_DQB1*03:03\n",
      "HLA_DQB1*04:01\n",
      "HLA_DQB1*04:02\n",
      "HLA_DQB1*05:01\n",
      "HLA_DQB1*05:02\n",
      "HLA_DQB1*05:03\n",
      "HLA_DQB1*06:01\n",
      "HLA_DQB1*06:02\n",
      "HLA_DQB1*06:03\n",
      "HLA_DQB1*06:04\n",
      "HLA_DQB1*06:09\n",
      "AA_DQB1_234_32735627_exon6\n",
      "8700 AA_DQB1_233_32736241_exon5\n",
      "AA_DQB1_232_32736244_exon5\n",
      "AA_DQB1_231_32736247_exon5\n",
      "AA_DQB1_230_32736250_exon5\n",
      "AA_DQB1_229_32736253_exon5\n",
      "AA_DQB1_228_32736256_exon5\n",
      "AA_DQB1_227_32736259_exon5\n",
      "8800 8900 AA_DQB1_224_32736753_exon4\n",
      "AA_DQB1_221_32736762_exon4\n",
      "AA_DQB1_220_32736765_exon4\n",
      "AA_DQB1_203_32736816_exon4\n",
      "AA_DQB1_197_32736834_exon4\n",
      "9000 AA_DQB1_185_32737386_exon3\n",
      "AA_DQB1_182_32737395_exon3\n",
      "AA_DQB1_167_32737440_exon3\n",
      "AA_DQB1_140_32737521_exon3\n",
      "AA_DQB1_135_32737536_exon3\n",
      "AA_DQB1_130_32737551_exon3\n",
      "AA_DQB1_126_32737563_exon3\n",
      "AA_DQB1_125_32737566_exon3_A\n",
      "AA_DQB1_125_32737566_exon3_G\n",
      "AA_DQB1_125_32737566_exon3_S\n",
      "AA_DQB1_116_32737593_exon3\n",
      "9100 9200 9300 9400 9500 9600 9700 9800 9900 10000 AA_DQB1_90_32740560_exon2\n",
      "AA_DQB1_89_32740563_exon2\n",
      "AA_DQB1_87_32740569_exon2_F\n",
      "AA_DQB1_87_32740569_exon2_L\n",
      "AA_DQB1_87_32740569_exon2_Y\n",
      "AA_DQB1_86_32740572_exon2_A\n",
      "AA_DQB1_86_32740572_exon2_E\n",
      "AA_DQB1_86_32740572_exon2_G\n",
      "AA_DQB1_85_32740575_exon2\n",
      "AA_DQB1_84_32740578_exon2\n",
      "10100 AA_DQB1_77_32740599_exon2\n",
      "AA_DQB1_75_32740605_exon2\n",
      "AA_DQB1_74_32740608_exon2_A\n",
      "AA_DQB1_74_32740608_exon2_E\n",
      "AA_DQB1_74_32740608_exon2_S\n",
      "AA_DQB1_71_32740617_exon2_A\n",
      "AA_DQB1_71_32740617_exon2_D\n",
      "AA_DQB1_71_32740617_exon2_K\n",
      "AA_DQB1_71_32740617_exon2_T\n",
      "AA_DQB1_70_32740620_exon2_E\n",
      "AA_DQB1_70_32740620_exon2_G\n",
      "AA_DQB1_70_32740620_exon2_R\n",
      "AA_DQB1_67_32740629_exon2\n",
      "AA_DQB1_66_32740632_exon2\n",
      "AA_DQB1_57_32740659_exon2_A\n",
      "AA_DQB1_57_32740659_exon2_D\n",
      "AA_DQB1_57_32740659_exon2_S\n",
      "AA_DQB1_57_32740659_exon2_V\n",
      "AA_DQB1_56_32740662_exon2\n",
      "AA_DQB1_55_32740665_exon2_L\n",
      "AA_DQB1_55_32740665_exon2_P\n",
      "AA_DQB1_55_32740665_exon2_R\n",
      "AA_DQB1_53_32740671_exon2\n",
      "AA_DQB1_52_32740674_exon2\n",
      "AA_DQB1_47_32740689_exon2\n",
      "AA_DQB1_46_32740692_exon2\n",
      "AA_DQB1_45_32740695_exon2\n",
      "AA_DQB1_38_32740716_exon2\n",
      "AA_DQB1_37_32740719_exon2_D\n",
      "AA_DQB1_37_32740719_exon2_I\n",
      "AA_DQB1_37_32740719_exon2_Y\n",
      "AA_DQB1_30_32740740_exon2_H\n",
      "AA_DQB1_30_32740740_exon2_S\n",
      "AA_DQB1_30_32740740_exon2_Y\n",
      "AA_DQB1_28_32740746_exon2\n",
      "AA_DQB1_26_32740752_exon2_G\n",
      "AA_DQB1_26_32740752_exon2_L\n",
      "AA_DQB1_26_32740752_exon2_Y\n",
      "AA_DQB1_23_32740761_exon2\n",
      "AA_DQB1_14_32740788_exon2\n",
      "AA_DQB1_13_32740791_exon2\n",
      "10200 AA_DQB1_9_32740803_exon2_F\n",
      "AA_DQB1_9_32740803_exon2_L\n",
      "AA_DQB1_9_32740803_exon2_Y\n",
      "10300 10400 10500 AA_DQB1_3_32742259_exon1\n",
      "AA_DQB1_-4_32742277_exon1\n",
      "AA_DQB1_-5_32742280_exon1_L\n",
      "AA_DQB1_-5_32742280_exon1_P\n",
      "AA_DQB1_-5_32742280_exon1_S\n",
      "AA_DQB1_-6_32742283_exon1\n",
      "AA_DQB1_-9_32742292_exon1\n",
      "AA_DQB1_-10_32742295_exon1\n",
      "AA_DQB1_-17_32742316_exon1\n",
      "AA_DQB1_-18_32742319_exon1\n",
      "AA_DQB1_-21_32742328_exon1\n",
      "AA_DQB1_-27_32742346_exon1\n",
      "10600 10700 10800 HLA_DPA1*01:03\n",
      "HLA_DPA1*02:01\n",
      "HLA_DPA1*02:02\n",
      "AA_DPA1_228_33144412_exon4\n",
      "AA_DPA1_160_33144830_exon3\n",
      "AA_DPA1_127_33144929_exon3\n",
      "10900 AA_DPA1_111_33144977_exon3\n",
      "AA_DPA1_83_33145401_exon2\n",
      "AA_DPA1_50_33145500_exon2\n",
      "AA_DPA1_31_33145557_exon2\n",
      "AA_DPA1_11_33145617_exon2\n",
      "11000 HLA_DPB1*02:01\n",
      "HLA_DPB1*02:02\n",
      "HLA_DPB1*03:01\n",
      "HLA_DPB1*04:01\n",
      "HLA_DPB1*04:02\n",
      "HLA_DPB1*05:01\n",
      "HLA_DPB1*09:01\n",
      "HLA_DPB1*13:01\n",
      "HLA_DPB1*14:01\n",
      "HLA_DPB1*17:01\n",
      "11100 AA_DPB1_8_33156441_exon2\n",
      "AA_DPB1_9_33156444_exon2_F\n",
      "AA_DPB1_9_33156444_exon2_H\n",
      "AA_DPB1_9_33156444_exon2_Y\n",
      "AA_DPB1_11_33156450_exon2\n",
      "AA_DPB1_35_33156522_exon2_F\n",
      "AA_DPB1_35_33156522_exon2_L\n",
      "AA_DPB1_35_33156522_exon2_Y\n",
      "AA_DPB1_36_33156525_exon2\n",
      "AA_DPB1_55_33156582_exon2_A\n",
      "AA_DPB1_55_33156582_exon2_D\n",
      "AA_DPB1_55_33156582_exon2_E\n",
      "AA_DPB1_56_33156585_exon2\n",
      "AA_DPB1_57_33156588_exon2\n",
      "AA_DPB1_65_33156612_exon2\n",
      "AA_DPB1_69_33156624_exon2_E\n",
      "AA_DPB1_69_33156624_exon2_K\n",
      "AA_DPB1_76_33156645_exon2_I\n",
      "AA_DPB1_76_33156645_exon2_M\n",
      "AA_DPB1_76_33156645_exon2_V\n",
      "AA_DPB1_84_33156669_exon2_D\n",
      "AA_DPB1_84_33156669_exon2_G\n",
      "AA_DPB1_85_33156672_exon2\n",
      "AA_DPB1_86_33156675_exon2\n",
      "AA_DPB1_87_33156678_exon2\n",
      "11200 11300 AA_DPB1_96_33160656_exon3_K\n",
      "AA_DPB1_96_33160656_exon3_R\n",
      "AA_DPB1_170_33160878_exon3_I\n",
      "AA_DPB1_170_33160878_exon3_T\n",
      "AA_DPB1_178_33160902_exon3_L\n",
      "AA_DPB1_178_33160902_exon3_M\n",
      "AA_DPB1_205_33161530_exon4_M\n",
      "AA_DPB1_205_33161530_exon4_V\n",
      "11400 11500 "
     ]
    }
   ],
   "source": [
    "f_in=open(\"data/genotype/4_merge/KCHIP_HLA_AA_SNP.bgl.phased\",'r')\n",
    "f_out=open(\"data/genotype/4_merge/KCHIP_HLA_AA.bgl.phased\",'w')\n",
    "\n",
    "\n",
    "IID_list=[]\n",
    "sex_list=[]\n",
    "marker_name_list=[]\n",
    "marker_data_list=[]\n",
    "\n",
    "line_cnt=0\n",
    "while True:\n",
    "    if line_cnt%100==0:\n",
    "        print(line_cnt,end=' ')\n",
    "    line_cnt+=1\n",
    "    line=f_in.readline().strip()\n",
    "    if not line:\n",
    "        break\n",
    "        \n",
    "    line_split=line.split(' ')\n",
    "    line_type,line_id,line_data=line_split[0],line_split[1],np.array(line_split[2:])\n",
    "    \n",
    "    \n",
    "    if len(IID_list)>0:\n",
    "        assert len(line_data)==2*len(IID_list)\n",
    "    \n",
    "    if line_type=='P':\n",
    "        f_out.write(' '.join([line_type,line_id]+line_data.tolist())+'\\n')\n",
    "    elif line_type=='fID':\n",
    "        f_out.write(' '.join([line_type,line_id]+line_data.tolist())+'\\n')\n",
    "    elif line_type=='mID':\n",
    "        f_out.write(' '.join([line_type,line_id]+line_data.tolist())+'\\n')\n",
    "    elif line_type=='I':        \n",
    "        IID_list1=np.array([line_data[i] for i in range(0,len(line_data),2)])\n",
    "        IID_list2=np.array([line_data[i+1] for i in range(0,len(line_data),2)])\n",
    "        if np.all(IID_list1==IID_list2):\n",
    "            IID_list=IID_list1\n",
    "        else:\n",
    "            raise\n",
    "        f_out.write(' '.join([line_type,line_id]+line_data.tolist())+'\\n')\n",
    "    elif line_type=='C':\n",
    "        sex_list1=np.array([line_data[i] for i in range(0,len(line_data),2)])\n",
    "        sex_list2=np.array([line_data[i+1] for i in range(0,len(line_data),2)])\n",
    "        if np.all(sex_list1==sex_list2):\n",
    "            sex_list=sex_list1.astype(int)\n",
    "        else:\n",
    "            raise\n",
    "        f_out.write(' '.join([line_type,line_id]+line_data.tolist())+'\\n')    \n",
    "    elif line_type=='M':\n",
    "        marker_name_list.append(line_id)\n",
    "        marker_data_list.append(line_data)\n",
    "        if line_id[:3]=='HLA' or line_id[:3]=='AA_':\n",
    "            print(line_id)\n",
    "            f_out.write(' '.join([line_type,line_id]+line_data.tolist())+'\\n')    \n",
    "    else:\n",
    "        print(line_type)\n",
    "        raise     \n",
    "\n",
    "f_in.close()\n",
    "f_out.close()"
   ]
  },
  {
   "cell_type": "code",
   "execution_count": null,
   "metadata": {},
   "outputs": [],
   "source": []
  }
 ],
 "metadata": {
  "kernelspec": {
   "display_name": "Python 3",
   "language": "python",
   "name": "python3"
  },
  "language_info": {
   "codemirror_mode": {
    "name": "ipython",
    "version": 3
   },
   "file_extension": ".py",
   "mimetype": "text/x-python",
   "name": "python",
   "nbconvert_exporter": "python",
   "pygments_lexer": "ipython3",
   "version": "3.6.9"
  }
 },
 "nbformat": 4,
 "nbformat_minor": 4
}
