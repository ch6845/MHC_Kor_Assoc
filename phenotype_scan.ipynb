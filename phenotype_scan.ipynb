{
 "cells": [
  {
   "cell_type": "code",
   "execution_count": 3,
   "metadata": {},
   "outputs": [],
   "source": [
    "import numpy as np\n",
    "import pandas as pd\n",
    "\n",
    "import matplotlib.pyplot as plt\n",
    "from basic_tools import *\n",
    "\n",
    "debug=False"
   ]
  },
  {
   "cell_type": "markdown",
   "metadata": {},
   "source": [
    "# Load variables"
   ]
  },
  {
   "cell_type": "markdown",
   "metadata": {},
   "source": [
    "## Load codebook"
   ]
  },
  {
   "cell_type": "code",
   "execution_count": 4,
   "metadata": {},
   "outputs": [
    {
     "name": "stderr",
     "output_type": "stream",
     "text": [
      "/home/ch6845/tools/miniconda3/lib/python3.7/site-packages/ipykernel_launcher.py:16: FutureWarning: Sorting because non-concatenation axis is not aligned. A future version\n",
      "of pandas will change to not sort by default.\n",
      "\n",
      "To accept the future behavior, pass 'sort=False'.\n",
      "\n",
      "To retain the current behavior and silence the warning, pass 'sort=True'.\n",
      "\n",
      "  app.launch_new_instance()\n"
     ]
    }
   ],
   "source": [
    "codebook_AS=pd.read_csv(codebook_AS_path)#,header=1)\n",
    "codebook_CT=pd.read_csv(codebook_CT_path)#,header=1)\n",
    "codebook_NC=pd.read_csv(codebook_NC_path)\n",
    "\n",
    "codebook_column_dict={\"테이블명(영문)\":\"table_code\",\"변수명\": \"phenotype_code\",\"변수설명\":\"description\", \"변수값(코드) 설명\": \"value_description\",\"변수유형\":\"type\",\"설문지\":\"questionnaire\"}\n",
    "codebook_AS=codebook_AS.rename(columns=codebook_column_dict)\n",
    "codebook_CT=codebook_CT.rename(columns=codebook_column_dict)\n",
    "codebook_NC=codebook_NC.rename(columns=codebook_column_dict)\n",
    "\n",
    "codebook_AS['type']=codebook_AS['type'].replace('범주형','categorical').replace('연속형','continuous').replace('서술형','descriptive').replace('날짜','date')\n",
    "codebook_CT['type']=codebook_CT['type'].replace('범주형','categorical').replace('연속형','continuous').replace('서술형','descriptive').replace('날짜','date')\n",
    "codebook_NC['type']=codebook_NC['type'].replace('범주형','categorical').replace('연속형','continuous').replace('서술형','descriptive').replace('날짜','date')\n",
    "\n",
    "codebook_AS['phenotype_code']=codebook_AS['phenotype_code'].str.upper()\n",
    "\n",
    "codebook_total=pd.concat([codebook_AS,codebook_CT,codebook_NC])"
   ]
  },
  {
   "cell_type": "code",
   "execution_count": 5,
   "metadata": {},
   "outputs": [],
   "source": [
    "def codebook_selector(cohort):\n",
    "    if cohort=='AS':\n",
    "        return codebook_AS\n",
    "    elif cohort=='CT':\n",
    "        return codebook_CT\n",
    "    elif cohort=='NC':\n",
    "        return codebook_NC\n",
    "    else:\n",
    "        raise"
   ]
  },
  {
   "cell_type": "code",
   "execution_count": 6,
   "metadata": {},
   "outputs": [],
   "source": [
    "codebook_custommerge=pd.read_csv(codebook_custommerge_path)\n",
    "codebook_custommerge\n",
    "codebook_custommerge=codebook_custommerge.rename(columns=codebook_column_dict)\n",
    "codebook_custommerge['phenotype_code']=codebook_custommerge['phenotype_code'].str.upper()"
   ]
  },
  {
   "cell_type": "markdown",
   "metadata": {},
   "source": [
    "## Load phenotype information of individuals"
   ]
  },
  {
   "cell_type": "code",
   "execution_count": 7,
   "metadata": {},
   "outputs": [
    {
     "name": "stderr",
     "output_type": "stream",
     "text": [
      "/home/ch6845/tools/miniconda3/lib/python3.7/site-packages/IPython/core/interactiveshell.py:3049: DtypeWarning: Columns (9,11,158,552,1301) have mixed types. Specify dtype option on import or set low_memory=False.\n",
      "  interactivity=interactivity, compiler=compiler, result=result)\n",
      "/home/ch6845/tools/miniconda3/lib/python3.7/site-packages/IPython/core/interactiveshell.py:3049: DtypeWarning: Columns (391,516) have mixed types. Specify dtype option on import or set low_memory=False.\n",
      "  interactivity=interactivity, compiler=compiler, result=result)\n",
      "/home/ch6845/tools/miniconda3/lib/python3.7/site-packages/IPython/core/interactiveshell.py:3049: DtypeWarning: Columns (87,97,101,105,208,270,373,382,388) have mixed types. Specify dtype option on import or set low_memory=False.\n",
      "  interactivity=interactivity, compiler=compiler, result=result)\n"
     ]
    },
    {
     "data": {
      "text/plain": [
       "((7612, 1316), (99234, 578), (19004, 431))"
      ]
     },
     "execution_count": 7,
     "metadata": {},
     "output_type": "execute_result"
    }
   ],
   "source": [
    "phenotype_raw_AS=pd.read_csv(phenotype_raw_AS_path,sep='\\t',index_col='ID')\n",
    "phenotype_raw_AS['AS1_contain']=1\n",
    "phenotype_raw_CT=pd.read_csv(phenotype_raw_CT_path,sep='\\t',index_col='ID')\n",
    "phenotype_raw_CT['CT1_contain']=1\n",
    "phenotype_raw_NC=pd.read_csv(phenotype_raw_NC_path,sep='\\t',index_col='ID')\n",
    "phenotype_raw_NC.columns=phenotype_raw_NC.columns.str.replace('NCB','NC1')\n",
    "phenotype_raw_NC['NC1_contain']=1\n",
    "\n",
    "phenotype_raw_AS.shape,phenotype_raw_CT.shape,phenotype_raw_NC.shape"
   ]
  },
  {
   "cell_type": "code",
   "execution_count": 8,
   "metadata": {},
   "outputs": [
    {
     "name": "stderr",
     "output_type": "stream",
     "text": [
      "/home/ch6845/tools/miniconda3/lib/python3.7/site-packages/ipykernel_launcher.py:1: FutureWarning: Sorting because non-concatenation axis is not aligned. A future version\n",
      "of pandas will change to not sort by default.\n",
      "\n",
      "To accept the future behavior, pass 'sort=False'.\n",
      "\n",
      "To retain the current behavior and silence the warning, pass 'sort=True'.\n",
      "\n",
      "  \"\"\"Entry point for launching an IPython kernel.\n"
     ]
    },
    {
     "data": {
      "text/plain": [
       "(125850, 2325)"
      ]
     },
     "execution_count": 8,
     "metadata": {},
     "output_type": "execute_result"
    }
   ],
   "source": [
    "phenotype_raw=pd.concat([phenotype_raw_AS,phenotype_raw_CT,phenotype_raw_NC])\n",
    "phenotype_raw=phenotype_raw.sort_values('ID')\n",
    "phenotype_raw.shape"
   ]
  },
  {
   "cell_type": "markdown",
   "metadata": {},
   "source": [
    "# (deprecated) Step1. duplicated phenotype code"
   ]
  },
  {
   "cell_type": "markdown",
   "metadata": {},
   "source": [
    "## Group variable of common phenotype code"
   ]
  },
  {
   "cell_type": "code",
   "execution_count": 7,
   "metadata": {},
   "outputs": [],
   "source": [
    "phenotype_raw_columns=phenotype_raw.columns.to_series()\n",
    "phenotype_raw_columns[phenotype_raw_columns.index]=phenotype_raw_columns.index.str.slice(start=4)\n",
    "phenotype_raw_columns=phenotype_raw_columns[phenotype_raw_columns.duplicated(keep=False)]\n",
    "phenotype_groups=phenotype_raw_columns.groupby(phenotype_raw_columns).groups"
   ]
  },
  {
   "cell_type": "markdown",
   "metadata": {},
   "source": [
    "# Codes for conversion"
   ]
  },
  {
   "cell_type": "markdown",
   "metadata": {},
   "source": [
    "# Automatically make conversion manual"
   ]
  },
  {
   "cell_type": "code",
   "execution_count": 19,
   "metadata": {},
   "outputs": [],
   "source": [
    "conversion_manual=pd.DataFrame(columns=['phenotype_code','commands','custom_id'])\n",
    "conversion_manual.set_index('phenotype_code',inplace=True)"
   ]
  },
  {
   "cell_type": "code",
   "execution_count": 20,
   "metadata": {},
   "outputs": [],
   "source": [
    "codebook_total_temp=codebook_total.copy()\n",
    "codebook_total_temp=codebook_total_temp.applymap(lambda x: replace_characters(x,{'\\n':'',' ':'','■':'',',':''}))"
   ]
  },
  {
   "cell_type": "code",
   "execution_count": 21,
   "metadata": {},
   "outputs": [],
   "source": [
    "for idx,row in codebook_total_temp.iterrows():\n",
    "    try:\n",
    "        phenotype_raw_series=phenotype_raw[row['phenotype_code']]\n",
    "    except KeyError:\n",
    "        continue\n",
    "    \n",
    "    #ignore environmental \n",
    "    if '음주' in row['description'] or '빈도' in row['description']:\n",
    "        continue\n",
    "    \n",
    "    #set new phenotype name\n",
    "    phenotype_name=row['phenotype_code'][4:]\n",
    "    try:\n",
    "        phenotype_name_temp=codebook_merged.set_index('phenotype_code')['trait_name'][row['phenotype_code']]\n",
    "        #print(phenotype_name_temp,'here')\n",
    "        #print(phenotype_name_temp,type(phenotype_name_temp),np.isnan(phenotype_name_temp))\n",
    "        if type(phenotype_name_temp)==str:\n",
    "            phenotype_name=phenotype_name_temp\n",
    "    except:\n",
    "        pass\n",
    "    \n",
    "    phenotype_name=phenotype_name.replace(' ','_')\n",
    "    \n",
    "    if row['type']=='categorical':\n",
    "        #print(row['value_description'])\n",
    "        if row['value_description']=='1=아니오2=예':\n",
    "            conversion_manual.loc[row['phenotype_code']]='{}@x==1@1|{}@x==2@2'.format(phenotype_name,phenotype_name)\n",
    "        elif row['value_description']=='0=normal1=abnormal':\n",
    "            conversion_manual.loc[row['phenotype_code']]='{}@x==0@1|{}@x==1@2'.format(phenotype_name,phenotype_name)\n",
    "        else:\n",
    "            #print(row['description'],row['value_description'])\n",
    "            pass\n",
    "        \n",
    "    elif row['type']=='continuous':\n",
    "        conversion_manual.loc[row['phenotype_code']]='{}@(x!=66666)&(x!=77777)&(x!=99999)@x'.format(phenotype_name)"
   ]
  },
  {
   "cell_type": "code",
   "execution_count": 22,
   "metadata": {},
   "outputs": [],
   "source": [
    "conversion_manual['custom_id']=codebook_merged.set_index('phenotype_code')['일련번호merged'].loc[conversion_manual.index.values]\n",
    "#conversion_manual.sort_values('custom_id').to_csv(conversion_manual_path,sep='\\t')"
   ]
  },
  {
   "cell_type": "markdown",
   "metadata": {},
   "source": [
    "# Note\n",
    "Case filtering base. do not include\n",
    "\n",
    "if merge pheno only exist in a cohort, include them.\n",
    "\n",
    "exclude medication\n",
    "\n",
    "include treatment  (more explicit??)\n",
    "\n",
    "hierachy qudstion do not test under if upper is +"
   ]
  },
  {
   "cell_type": "markdown",
   "metadata": {},
   "source": [
    "# Run conversion manual"
   ]
  },
  {
   "cell_type": "markdown",
   "metadata": {},
   "source": [
    "## Run specific (for debugging)"
   ]
  },
  {
   "cell_type": "code",
   "execution_count": 29,
   "metadata": {},
   "outputs": [],
   "source": [
    "(phenotype_raw['AS1_TRTAS']==2).sum(),(phenotype_raw['AS1_PDAS']==2).sum()"
   ]
  },
  {
   "cell_type": "code",
   "execution_count": 9,
   "metadata": {},
   "outputs": [
    {
     "data": {
      "text/plain": [
       "Index([], dtype='object', name='ID')"
      ]
     },
     "execution_count": 9,
     "metadata": {},
     "output_type": "execute_result"
    }
   ],
   "source": [
    "phenotype_raw.index[(phenotype_raw['CT1_ASTHCU']>=1) & (phenotype_raw['CT1_ASTHCU']<=4)].difference(phenotype_raw.index[phenotype_raw['CT1_ASTH']==2])"
   ]
  },
  {
   "cell_type": "code",
   "execution_count": 10,
   "metadata": {},
   "outputs": [
    {
     "data": {
      "text/plain": [
       "36"
      ]
     },
     "execution_count": 10,
     "metadata": {},
     "output_type": "execute_result"
    }
   ],
   "source": [
    "a=phenotype_raw.index[phenotype_raw['AS1_TRTAS']==2].difference(phenotype_raw.index[phenotype_raw['AS1_PDAS']==1])\n",
    "\n",
    "len(a)\n",
    "#phenotype_raw['AS1_PDAS']==1\n",
    "#AS1_PdAs"
   ]
  },
  {
   "cell_type": "code",
   "execution_count": 20,
   "metadata": {},
   "outputs": [
    {
     "data": {
      "text/plain": [
       "(array([6.6666e+04,        nan, 1.0000e+00, 2.0000e+00, 9.9999e+04]),\n",
       " array(['77777', '66666', '99999', '전립선암', '폐암', '피부암', '대장암', '자궁암',\n",
       "        77777, 66666, 99999, nan], dtype=object))"
      ]
     },
     "execution_count": 20,
     "metadata": {},
     "output_type": "execute_result"
    }
   ],
   "source": [
    "phenotype_raw['NC1_CA1'].unique(),phenotype_raw['NC1_CA_NA2'].unique()\n",
    "#NC1_CA_NA1"
   ]
  },
  {
   "cell_type": "code",
   "execution_count": null,
   "metadata": {},
   "outputs": [],
   "source": [
    "phenotype_raw['AS1_HIP1'].unique()"
   ]
  },
  {
   "cell_type": "code",
   "execution_count": null,
   "metadata": {},
   "outputs": [],
   "source": [
    "phenotype_raw['AS1_HIP1'].hist"
   ]
  },
  {
   "cell_type": "code",
   "execution_count": 68,
   "metadata": {},
   "outputs": [
    {
     "data": {
      "text/plain": [
       "<matplotlib.axes._subplots.AxesSubplot at 0x7f915a58b400>"
      ]
     },
     "execution_count": 68,
     "metadata": {},
     "output_type": "execute_result"
    },
    {
     "data": {
      "image/png": "[encoded data removed]",
      "text/plain": [
       "<Figure size 432x288 with 1 Axes>"
      ]
     },
     "metadata": {
      "needs_background": "light"
     },
     "output_type": "display_data"
    }
   ],
   "source": [
    "(phenotype_raw['AS1_HIP1']-phenotype_raw['AS1_HIP2']).hist()"
   ]
  },
  {
   "cell_type": "code",
   "execution_count": 142,
   "metadata": {},
   "outputs": [],
   "source": [
    "phenotype_raw_CT.columns[phenotype_raw_CT.columns.str.contains('BLOOD')]#['CT1_BLOOD16_U']\n",
    "\n",
    "(phenotype_raw['NC1_CRP'][phenotype_raw['NC1_CRP']!=99999]*0.1).median()\n",
    "\n",
    "(phenotype_raw['AS1_PDDEM']).value_counts()\n",
    "\n",
    "#(phenotype_raw['AS1_PREGNO']-phenotype_raw['AS1_CHILD_P']-phenotype_raw['AS1_CHILD_D']).value_counts()"
   ]
  },
  {
   "cell_type": "code",
   "execution_count": 11,
   "metadata": {},
   "outputs": [
    {
     "data": {
      "text/plain": [
       "'\\ndef run_command_multiple(commands):\\n    series_converted_final=None\\n    for command in commands.split(\\' \\'):\\n        print(command)\\n        column_name,match_value,expression=command.split(\\'@\\')\\n        series_converted=run_command(phenotype_raw[column_name],match_value,expression)\\n        print(series_converted.unique(),series_converted.sum())\\n        if series_converted_final is None:\\n            series_converted_final= series_converted\\n        else:\\n            print(\"final\",series_converted_final.unique())\\n            series_converted_final.update(series_converted)\\n            print(\"final\",series_converted_final.unique())\\n    return series_converted_final\\n'"
      ]
     },
     "execution_count": 11,
     "metadata": {},
     "output_type": "execute_result"
    }
   ],
   "source": [
    "def run_command(series_in,match_value,expression):\n",
    "    series_out=series_in.copy()\n",
    "    series_out[series_out.index]=np.nan\n",
    "    if 'x' in match_value:\n",
    "        #expression='(x>10)&(x!=77777)&(x!=99999)'\n",
    "        #Only float variable is supported\n",
    "        def match_value_function(x):\n",
    "            try:\n",
    "                return False if pd.isnull(x) else eval(match_value.replace('x',str(x))) \n",
    "            except:\n",
    "                print(x,end='Error')\n",
    "                return False\n",
    "        match_bool=series_in.map(match_value_function)\n",
    "        expression_function=lambda x:eval(expression.replace('x',str(x)))\n",
    "        series_out[match_bool]=series_in[match_bool].map(expression_function)\n",
    "    else:\n",
    "        #print(np.sum(series_in==float(match_value)))\n",
    "        try:\n",
    "            match_value=float(match_value)\n",
    "        except:\n",
    "            pass\n",
    "        try:\n",
    "            expression=float(expression)\n",
    "        except:\n",
    "            pass\n",
    "        #print(series_in.unique(),(series_in=='폐암').sum(),'폐암',match_value,match_value.strip(\"'\")=='폐암',type('폐암'),type(match_value),match_value,expression)\n",
    "        if type(match_value)==str and '+' in match_value:\n",
    "            print(\"!! contain mode !!\")\n",
    "            series_out[series_in.map(lambda x: False if pd.isnull(x) or type(x)!=str else (match_value.replace('+','') in x))]=expression\n",
    "        else:\n",
    "            series_out[series_in==match_value]=expression\n",
    "    return series_out\n",
    "\n",
    "#conversion_manual.to_csv(conversion_manual_path,sep='\\t',index=None)"
   ]
  },
  {
   "cell_type": "code",
   "execution_count": null,
   "metadata": {},
   "outputs": [],
   "source": [
    "name_filter='blood_in_urine'\n",
    "test_match_value=1\n",
    "test_conversion_value=2\n",
    "\n",
    "conversion_manual=pd.read_csv(conversion_manual_path,sep='\\t',index_col='phenotype_code')\n",
    "\n",
    "\n",
    "##Run all 'commands' with name=='new_name'\n",
    "conversion_list_dict={}\n",
    "for idx,row in conversion_manual.iterrows():\n",
    "    for command in row['commands'].split('|'):\n",
    "        new_name,match_value,expression=command.split('@')\n",
    "        if new_name!=name_filter:\n",
    "            continue\n",
    "        print(idx,command,phenotype_raw[idx].unique())\n",
    "        print(\"# of filtered={} before: \".format(test_match_value),(phenotype_raw[idx]==test_match_value).sum())\n",
    "        conversion=run_command(phenotype_raw[idx],match_value,expression)\n",
    "        conversion_list_dict[new_name]=conversion_list_dict.get(new_name,[])+[conversion]\n",
    "        print(\"# of filtered={} after: \".format(test_conversion_value),(conversion==test_conversion_value).sum(),\", conversion unique\",conversion.unique())\n",
    "        print('-----------------------------------------')\n",
    "#print(conversion_list_dict)\n",
    "print(\"--------------Conversion----------------------\")\n",
    "# merge results of same 'new_name'\n",
    "conversion_dict={}\n",
    "for new_name,conversion_list in conversion_list_dict.items():\n",
    "    merge_result=None\n",
    "    for conversion_result in conversion_list:\n",
    "        if merge_result is None:\n",
    "            merge_result= conversion_result\n",
    "        else:\n",
    "            merge_result.update(conversion_result)\n",
    "    print(new_name,str(merge_result.unique())[:30])\n",
    "    conversion_dict[new_name]=merge_result\n",
    "    \n",
    "\n",
    "print('# of null:', conversion_dict[name_filter].isnull().sum())\n",
    "\n",
    "conversion_dict[name_filter].value_counts()\n",
    "#cohort 별 분포"
   ]
  },
  {
   "cell_type": "code",
   "execution_count": 90,
   "metadata": {},
   "outputs": [
    {
     "name": "stdout",
     "output_type": "stream",
     "text": [
      "# of 2 in AS: 0.0 / 7612.0 --- 0.00\n",
      "# of 2 in CT: 4232.0 / 99234.0 --- 4.26\n",
      "# of 2 in NC: 98.0 / 19004.0 --- 0.52\n"
     ]
    }
   ],
   "source": [
    "print('# of {} in AS:'.format(test_conversion_value), phenotype_raw['AS1_contain'][conversion_dict[name_filter]==test_conversion_value].sum(),'/',phenotype_raw['AS1_contain'].sum(),'---','{:.2f}'.format(phenotype_raw['AS1_contain'][conversion_dict[name_filter]==test_conversion_value].sum()/phenotype_raw['AS1_contain'].sum()*100))\n",
    "print('# of {} in CT:'.format(test_conversion_value), phenotype_raw['CT1_contain'][conversion_dict[name_filter]==test_conversion_value].sum(),'/',phenotype_raw['CT1_contain'].sum(),'---','{:.2f}'.format(phenotype_raw['CT1_contain'][conversion_dict[name_filter]==test_conversion_value].sum()/phenotype_raw['CT1_contain'].sum()*100))\n",
    "print('# of {} in NC:'.format(test_conversion_value), phenotype_raw['NC1_contain'][conversion_dict[name_filter]==test_conversion_value].sum(),'/',phenotype_raw['NC1_contain'].sum(),'---','{:.2f}'.format(phenotype_raw['NC1_contain'][conversion_dict[name_filter]==test_conversion_value].sum()/phenotype_raw['NC1_contain'].sum()*100))"
   ]
  },
  {
   "cell_type": "code",
   "execution_count": 78,
   "metadata": {},
   "outputs": [
    {
     "data": {
      "image/png": "[encoded data removed]",
      "text/plain": [
       "<Figure size 432x288 with 1 Axes>"
      ]
     },
     "metadata": {
      "needs_background": "light"
     },
     "output_type": "display_data"
    }
   ],
   "source": [
    "conversion_dict[name_filter].hist()\n",
    "plt.show()"
   ]
  },
  {
   "cell_type": "code",
   "execution_count": 43,
   "metadata": {},
   "outputs": [
    {
     "name": "stdout",
     "output_type": "stream",
     "text": [
      "# of 2 in AS: 0.0 / 7612.0 --- 0.00\n",
      "# of 2 in CT: 43.0 / 99234.0 --- 0.04\n",
      "# of 2 in NC: 16.0 / 19004.0 --- 0.08\n"
     ]
    }
   ],
   "source": [
    "print('# of {} in AS:'.format(test_match_value), phenotype_raw['AS1_contain'][conversion_dict[name_filter]==test_conversion_value].sum(),'/',phenotype_raw['AS1_contain'].sum(),'---','{:.2f}'.format(phenotype_raw['AS1_contain'][conversion_dict[name_filter]==test_conversion_value].sum()/phenotype_raw['AS1_contain'].sum()*100))\n",
    "print('# of {} in CT:'.format(test_match_value), phenotype_raw['CT1_contain'][conversion_dict[name_filter]==test_conversion_value].sum(),'/',phenotype_raw['CT1_contain'].sum(),'---','{:.2f}'.format(phenotype_raw['CT1_contain'][conversion_dict[name_filter]==test_conversion_value].sum()/phenotype_raw['CT1_contain'].sum()*100))\n",
    "print('# of {} in NC:'.format(test_match_value), phenotype_raw['NC1_contain'][conversion_dict[name_filter]==test_conversion_value].sum(),'/',phenotype_raw['NC1_contain'].sum(),'---','{:.2f}'.format(phenotype_raw['NC1_contain'][conversion_dict[name_filter]==test_conversion_value].sum()/phenotype_raw['NC1_contain'].sum()*100))"
   ]
  },
  {
   "cell_type": "markdown",
   "metadata": {},
   "source": [
    "## Run all"
   ]
  },
  {
   "cell_type": "code",
   "execution_count": null,
   "metadata": {},
   "outputs": [],
   "source": [
    "conversion_manual=pd.read_csv(conversion_manual_path,sep='\\t',index_col='phenotype_code')"
   ]
  },
  {
   "cell_type": "code",
   "execution_count": 18,
   "metadata": {},
   "outputs": [
    {
     "ename": "NameError",
     "evalue": "name 'conversion_manual' is not defined",
     "output_type": "error",
     "traceback": [
      "\u001b[0;31m---------------------------------------------------------------------------\u001b[0m",
      "\u001b[0;31mNameError\u001b[0m                                 Traceback (most recent call last)",
      "\u001b[0;32m<ipython-input-18-978379062881>\u001b[0m in \u001b[0;36m<module>\u001b[0;34m\u001b[0m\n\u001b[1;32m      2\u001b[0m \u001b[0mconversion_list_dict\u001b[0m\u001b[0;34m=\u001b[0m\u001b[0;34m{\u001b[0m\u001b[0;34m}\u001b[0m\u001b[0;34m\u001b[0m\u001b[0;34m\u001b[0m\u001b[0m\n\u001b[1;32m      3\u001b[0m \u001b[0mcnt\u001b[0m\u001b[0;34m=\u001b[0m\u001b[0;36m0\u001b[0m\u001b[0;34m\u001b[0m\u001b[0;34m\u001b[0m\u001b[0m\n\u001b[0;32m----> 4\u001b[0;31m \u001b[0;32mfor\u001b[0m \u001b[0midx\u001b[0m\u001b[0;34m,\u001b[0m\u001b[0mrow\u001b[0m \u001b[0;32min\u001b[0m \u001b[0mconversion_manual\u001b[0m\u001b[0;34m.\u001b[0m\u001b[0miterrows\u001b[0m\u001b[0;34m(\u001b[0m\u001b[0;34m)\u001b[0m\u001b[0;34m:\u001b[0m\u001b[0;34m\u001b[0m\u001b[0;34m\u001b[0m\u001b[0m\n\u001b[0m\u001b[1;32m      5\u001b[0m     \u001b[0;32mfor\u001b[0m \u001b[0mcommand\u001b[0m \u001b[0;32min\u001b[0m \u001b[0mrow\u001b[0m\u001b[0;34m[\u001b[0m\u001b[0;34m'commands'\u001b[0m\u001b[0;34m]\u001b[0m\u001b[0;34m.\u001b[0m\u001b[0msplit\u001b[0m\u001b[0;34m(\u001b[0m\u001b[0;34m'|'\u001b[0m\u001b[0;34m)\u001b[0m\u001b[0;34m:\u001b[0m\u001b[0;34m\u001b[0m\u001b[0;34m\u001b[0m\u001b[0m\n\u001b[1;32m      6\u001b[0m         \u001b[0mnew_name\u001b[0m\u001b[0;34m,\u001b[0m\u001b[0mmatch_value\u001b[0m\u001b[0;34m,\u001b[0m\u001b[0mexpression\u001b[0m\u001b[0;34m=\u001b[0m\u001b[0mcommand\u001b[0m\u001b[0;34m.\u001b[0m\u001b[0msplit\u001b[0m\u001b[0;34m(\u001b[0m\u001b[0;34m'@'\u001b[0m\u001b[0;34m)\u001b[0m\u001b[0;34m\u001b[0m\u001b[0;34m\u001b[0m\u001b[0m\n",
      "\u001b[0;31mNameError\u001b[0m: name 'conversion_manual' is not defined"
     ]
    }
   ],
   "source": [
    "## Run all 'commands' and group by 'new_name'\n",
    "conversion_list_dict={}\n",
    "cnt=0\n",
    "for idx,row in conversion_manual.iterrows():\n",
    "    for command in row['commands'].split('|'):\n",
    "        new_name,match_value,expression=command.split('@')\n",
    "        conversion=run_command(phenotype_raw[idx],match_value,expression)\n",
    "        conversion_list_dict[new_name]=conversion_list_dict.get(new_name,[])+[conversion]\n",
    "        \"\"\"\n",
    "        print(series_converted.unique(),series_converted.sum())\n",
    "        if series_converted_final is None:\n",
    "            series_converted_final= series_converted\n",
    "        else:\n",
    "            print(\"final\",series_converted_final.unique())\n",
    "            series_converted_final.update(series_converted)\n",
    "        \"\"\"\n",
    "    cnt+=1\n",
    "    if (cnt%int(conversion_manual.shape[0]/100))==0:\n",
    "        print(\"{:.2f}%\".format(cnt/conversion_manual.shape[0]*100),end=' ')"
   ]
  },
  {
   "cell_type": "code",
   "execution_count": null,
   "metadata": {},
   "outputs": [],
   "source": [
    "# merge results of same 'new_name'\n",
    "conversion_dict={}\n",
    "for new_name,conversion_list in conversion_list_dict.items():\n",
    "    merge_result=None\n",
    "    for conversion_result in conversion_list:\n",
    "        if merge_result is None:\n",
    "            merge_result= conversion_result\n",
    "        else:\n",
    "            merge_result.update(conversion_result)\n",
    "    print(new_name,str(merge_result.unique())[:30])\n",
    "    conversion_dict[new_name]=merge_result"
   ]
  },
  {
   "cell_type": "markdown",
   "metadata": {},
   "source": [
    "# Run genotype-phenotype association"
   ]
  },
  {
   "cell_type": "code",
   "execution_count": null,
   "metadata": {},
   "outputs": [],
   "source": [
    "for new_name,converson in conversion_dict.items():\n",
    "    print(conversion_dict[new_name].reset_index().isnull().sum())\n",
    "    phenotype_tosave=conversion_dict[new_name].reset_index().fillna(-9)\n",
    "    phenotype_tosave=phenotype_tosave[[phenotype_tosave.columns[0],phenotype_tosave.columns[0],phenotype_tosave.columns[1]]]\n",
    "    phenotype_tosave.to_csv(pheno_file_path.format(new_name),sep=' ',index=None,header=None)"
   ]
  },
  {
   "cell_type": "code",
   "execution_count": 56,
   "metadata": {},
   "outputs": [
    {
     "name": "stdout",
     "output_type": "stream",
     "text": [
      "------RUN-----\n",
      "plink --bfile data/genotype/HLA_IMPUTED_Result.KCHIP_HLA.MHC --assoc --pheno data/out_pheno/ACC.pheno --linear --out data/out_assoc/ACC\n",
      "------ERROR-----\n",
      "Error: --linear without --all-pheno requires a scalar phenotype.\n",
      "\n",
      "------OUTPUT-----\n",
      "PLINK v1.90b6.9 64-bit (4 Mar 2019)            www.cog-genomics.org/plink/1.9/\n",
      "(C) 2005-2019 Shaun Purcell, Christopher Chang   GNU General Public License v3\n",
      "Logging to data/out_assoc/ACC.log.\n",
      "Options in effect:\n",
      "  --assoc\n",
      "  --bfile data/genotype/HLA_IMPUTED_Result.KCHIP_HLA.MHC\n",
      "  --linear\n",
      "  --out data/out_assoc/ACC\n",
      "  --pheno data/out_pheno/ACC.pheno\n",
      "\n",
      "305729 MB RAM detected; reserving 152864 MB for main workspace.\n",
      "6354 variants loaded from .bim file.\n",
      "125872 people (45726 males, 80146 females) loaded from .fam.\n",
      "7531 phenotype values present after --pheno.\n",
      "\n"
     ]
    },
    {
     "data": {
      "text/plain": [
       "(b'PLINK v1.90b6.9 64-bit (4 Mar 2019)            www.cog-genomics.org/plink/1.9/\\n(C) 2005-2019 Shaun Purcell, Christopher Chang   GNU General Public License v3\\nLogging to data/out_assoc/ACC.log.\\nOptions in effect:\\n  --assoc\\n  --bfile data/genotype/HLA_IMPUTED_Result.KCHIP_HLA.MHC\\n  --linear\\n  --out data/out_assoc/ACC\\n  --pheno data/out_pheno/ACC.pheno\\n\\n305729 MB RAM detected; reserving 152864 MB for main workspace.\\n6354 variants loaded from .bim file.\\n125872 people (45726 males, 80146 females) loaded from .fam.\\n7531 phenotype values present after --pheno.\\n',\n",
       " b'Error: --linear without --all-pheno requires a scalar phenotype.\\n')"
      ]
     },
     "execution_count": 56,
     "metadata": {},
     "output_type": "execute_result"
    }
   ],
   "source": [
    "new_name='ACC'\n",
    "run_subprocess('plink --bfile {} --assoc --pheno {} --linear --out {}'.format(imputed_bfile_path,pheno_file_path.format(new_name),assoc_file_path.format(new_name)))"
   ]
  },
  {
   "cell_type": "code",
   "execution_count": null,
   "metadata": {},
   "outputs": [],
   "source": [
    "for new_name,converson in conversion_dict.items():\n",
    "    run_subprocess('plink --bfile {} --assoc --pheno {} --linear --out {}'.format(imputed_bfile_path,pheno_file_path.format(new_name),assoc_file_path.format(new_name)))"
   ]
  },
  {
   "cell_type": "code",
   "execution_count": null,
   "metadata": {},
   "outputs": [],
   "source": [
    "for new_name,converson in conversion_dict.items():\n",
    "    run_subprocess('plink --bfile {} --assoc --pheno {} --out {}'.format(imputed_bfile_path,pheno_file_path.format(new_name),assoc_file_path.format(new_name)))"
   ]
  },
  {
   "cell_type": "markdown",
   "metadata": {},
   "source": [
    "# Histogram"
   ]
  },
  {
   "cell_type": "code",
   "execution_count": null,
   "metadata": {},
   "outputs": [],
   "source": []
  }
 ],
 "metadata": {
  "kernelspec": {
   "display_name": "Python 3",
   "language": "python",
   "name": "python3"
  },
  "language_info": {
   "codemirror_mode": {
    "name": "ipython",
    "version": 3
   },
   "file_extension": ".py",
   "mimetype": "text/x-python",
   "name": "python",
   "nbconvert_exporter": "python",
   "pygments_lexer": "ipython3",
   "version": "3.7.3"
  },
  "toc-autonumbering": true
 },
 "nbformat": 4,
 "nbformat_minor": 2
}
