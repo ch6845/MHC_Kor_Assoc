{
 "cells": [
  {
   "cell_type": "code",
   "execution_count": 1,
   "metadata": {},
   "outputs": [],
   "source": [
    "import numpy as np\n",
    "import pandas as pd\n",
    "\n",
    "from pyplink import PyPlink\n",
    "\n",
    "from basic_tools import *"
   ]
  },
  {
   "cell_type": "code",
   "execution_count": 2,
   "metadata": {},
   "outputs": [],
   "source": [
    "plink_KCHIP_HLA_AA_SNP_1000G=PyPlink(plink_KCHIP_HLA_AA_SNP_1000G_path)\n",
    "plink_KCHIP_HLA_AA_SNP_1000G_fam=plink_KCHIP_HLA_AA_SNP_1000G.get_fam().astype({'fid':str,'iid':str}).rename(columns={'fid':'FID','iid':'IID'})\n",
    "plink_KCHIP_HLA_AA_SNP_1000G_bim=plink_KCHIP_HLA_AA_SNP_1000G.get_bim()"
   ]
  },
  {
   "cell_type": "code",
   "execution_count": 3,
   "metadata": {},
   "outputs": [],
   "source": [
    "SNP_DB=pd.read_csv('data/mart_export_SNP.txt',sep='\\t')"
   ]
  },
  {
   "cell_type": "markdown",
   "metadata": {},
   "source": [
    "# O"
   ]
  },
  {
   "cell_type": "code",
   "execution_count": 4,
   "metadata": {},
   "outputs": [
    {
     "data": {
      "text/html": [
       "<div>\n",
       "<style scoped>\n",
       "    .dataframe tbody tr th:only-of-type {\n",
       "        vertical-align: middle;\n",
       "    }\n",
       "\n",
       "    .dataframe tbody tr th {\n",
       "        vertical-align: top;\n",
       "    }\n",
       "\n",
       "    .dataframe thead th {\n",
       "        text-align: right;\n",
       "    }\n",
       "</style>\n",
       "<table border=\"1\" class=\"dataframe\">\n",
       "  <thead>\n",
       "    <tr style=\"text-align: right;\">\n",
       "      <th></th>\n",
       "      <th>Variant name</th>\n",
       "      <th>Variant source</th>\n",
       "      <th>Chromosome/scaffold name</th>\n",
       "      <th>Chromosome/scaffold position start (bp)</th>\n",
       "      <th>Chromosome/scaffold position end (bp)</th>\n",
       "      <th>Variant alleles</th>\n",
       "    </tr>\n",
       "  </thead>\n",
       "  <tbody>\n",
       "    <tr>\n",
       "      <th>726786</th>\n",
       "      <td>rs746718295</td>\n",
       "      <td>dbSNP</td>\n",
       "      <td>6</td>\n",
       "      <td>31324494</td>\n",
       "      <td>31324497</td>\n",
       "      <td>AGGT/-</td>\n",
       "    </tr>\n",
       "    <tr>\n",
       "      <th>726787</th>\n",
       "      <td>rs878867447</td>\n",
       "      <td>dbSNP</td>\n",
       "      <td>6</td>\n",
       "      <td>31324494</td>\n",
       "      <td>31324506</td>\n",
       "      <td>AGGTTCCGCAGGC/GCGGTGCGCAGGT</td>\n",
       "    </tr>\n",
       "    <tr>\n",
       "      <th>726789</th>\n",
       "      <td>rs770563406</td>\n",
       "      <td>dbSNP</td>\n",
       "      <td>6</td>\n",
       "      <td>31324495</td>\n",
       "      <td>31324497</td>\n",
       "      <td>GGT/-</td>\n",
       "    </tr>\n",
       "    <tr>\n",
       "      <th>726792</th>\n",
       "      <td>rs1131223</td>\n",
       "      <td>dbSNP</td>\n",
       "      <td>6</td>\n",
       "      <td>31324497</td>\n",
       "      <td>31324497</td>\n",
       "      <td>T/A/G</td>\n",
       "    </tr>\n",
       "    <tr>\n",
       "      <th>726793</th>\n",
       "      <td>rs66473235</td>\n",
       "      <td>dbSNP</td>\n",
       "      <td>6</td>\n",
       "      <td>31324497</td>\n",
       "      <td>31324498</td>\n",
       "      <td>TT/T</td>\n",
       "    </tr>\n",
       "    <tr>\n",
       "      <th>726794</th>\n",
       "      <td>rs1554212002</td>\n",
       "      <td>dbSNP</td>\n",
       "      <td>6</td>\n",
       "      <td>31324497</td>\n",
       "      <td>31324507</td>\n",
       "      <td>TTCCGCAGGCT/GTCCGCAGGTC</td>\n",
       "    </tr>\n",
       "  </tbody>\n",
       "</table>\n",
       "</div>"
      ],
      "text/plain": [
       "        Variant name Variant source  Chromosome/scaffold name  \\\n",
       "726786   rs746718295          dbSNP                         6   \n",
       "726787   rs878867447          dbSNP                         6   \n",
       "726789   rs770563406          dbSNP                         6   \n",
       "726792     rs1131223          dbSNP                         6   \n",
       "726793    rs66473235          dbSNP                         6   \n",
       "726794  rs1554212002          dbSNP                         6   \n",
       "\n",
       "        Chromosome/scaffold position start (bp)  \\\n",
       "726786                                 31324494   \n",
       "726787                                 31324494   \n",
       "726789                                 31324495   \n",
       "726792                                 31324497   \n",
       "726793                                 31324497   \n",
       "726794                                 31324497   \n",
       "\n",
       "        Chromosome/scaffold position end (bp)              Variant alleles  \n",
       "726786                               31324497                       AGGT/-  \n",
       "726787                               31324506  AGGTTCCGCAGGC/GCGGTGCGCAGGT  \n",
       "726789                               31324497                        GGT/-  \n",
       "726792                               31324497                        T/A/G  \n",
       "726793                               31324498                         TT/T  \n",
       "726794                               31324507      TTCCGCAGGCT/GTCCGCAGGTC  "
      ]
     },
     "execution_count": 4,
     "metadata": {},
     "output_type": "execute_result"
    }
   ],
   "source": [
    "pos=31324497\n",
    "SNP_DB[(SNP_DB['Chromosome/scaffold position start (bp)']<=pos)&\n",
    "       (SNP_DB['Chromosome/scaffold position end (bp)']>=pos)]"
   ]
  },
  {
   "cell_type": "code",
   "execution_count": 5,
   "metadata": {},
   "outputs": [
    {
     "data": {
      "text/html": [
       "<div>\n",
       "<style scoped>\n",
       "    .dataframe tbody tr th:only-of-type {\n",
       "        vertical-align: middle;\n",
       "    }\n",
       "\n",
       "    .dataframe tbody tr th {\n",
       "        vertical-align: top;\n",
       "    }\n",
       "\n",
       "    .dataframe thead th {\n",
       "        text-align: right;\n",
       "    }\n",
       "</style>\n",
       "<table border=\"1\" class=\"dataframe\">\n",
       "  <thead>\n",
       "    <tr style=\"text-align: right;\">\n",
       "      <th></th>\n",
       "      <th>chrom</th>\n",
       "      <th>pos</th>\n",
       "      <th>cm</th>\n",
       "      <th>a1</th>\n",
       "      <th>a2</th>\n",
       "    </tr>\n",
       "    <tr>\n",
       "      <th>snp</th>\n",
       "      <th></th>\n",
       "      <th></th>\n",
       "      <th></th>\n",
       "      <th></th>\n",
       "      <th></th>\n",
       "    </tr>\n",
       "  </thead>\n",
       "  <tbody>\n",
       "    <tr>\n",
       "      <th>AA_B_80_31324497_exon2_I</th>\n",
       "      <td>6</td>\n",
       "      <td>31324497</td>\n",
       "      <td>0</td>\n",
       "      <td>p</td>\n",
       "      <td>a</td>\n",
       "    </tr>\n",
       "    <tr>\n",
       "      <th>AA_B_80_31324497_exon2_N</th>\n",
       "      <td>6</td>\n",
       "      <td>31324497</td>\n",
       "      <td>0</td>\n",
       "      <td>p</td>\n",
       "      <td>a</td>\n",
       "    </tr>\n",
       "    <tr>\n",
       "      <th>AA_B_80_31324497_exon2_T</th>\n",
       "      <td>6</td>\n",
       "      <td>31324497</td>\n",
       "      <td>0</td>\n",
       "      <td>p</td>\n",
       "      <td>a</td>\n",
       "    </tr>\n",
       "    <tr>\n",
       "      <th>SNPS_B_439_31324497_exon2_A</th>\n",
       "      <td>6</td>\n",
       "      <td>31324497</td>\n",
       "      <td>0</td>\n",
       "      <td>p</td>\n",
       "      <td>a</td>\n",
       "    </tr>\n",
       "    <tr>\n",
       "      <th>SNPS_B_439_31324497_exon2_G</th>\n",
       "      <td>6</td>\n",
       "      <td>31324497</td>\n",
       "      <td>0</td>\n",
       "      <td>p</td>\n",
       "      <td>a</td>\n",
       "    </tr>\n",
       "    <tr>\n",
       "      <th>SNPS_B_439_31324497_exon2_T</th>\n",
       "      <td>6</td>\n",
       "      <td>31324497</td>\n",
       "      <td>0</td>\n",
       "      <td>p</td>\n",
       "      <td>a</td>\n",
       "    </tr>\n",
       "  </tbody>\n",
       "</table>\n",
       "</div>"
      ],
      "text/plain": [
       "                             chrom       pos  cm a1 a2\n",
       "snp                                                   \n",
       "AA_B_80_31324497_exon2_I         6  31324497   0  p  a\n",
       "AA_B_80_31324497_exon2_N         6  31324497   0  p  a\n",
       "AA_B_80_31324497_exon2_T         6  31324497   0  p  a\n",
       "SNPS_B_439_31324497_exon2_A      6  31324497   0  p  a\n",
       "SNPS_B_439_31324497_exon2_G      6  31324497   0  p  a\n",
       "SNPS_B_439_31324497_exon2_T      6  31324497   0  p  a"
      ]
     },
     "execution_count": 5,
     "metadata": {},
     "output_type": "execute_result"
    }
   ],
   "source": [
    "plink_KCHIP_HLA_AA_SNP_1000G_bim[plink_KCHIP_HLA_AA_SNP_1000G_bim['pos']==pos]"
   ]
  },
  {
   "cell_type": "markdown",
   "metadata": {},
   "source": [
    "# X"
   ]
  },
  {
   "cell_type": "code",
   "execution_count": 6,
   "metadata": {},
   "outputs": [
    {
     "data": {
      "text/html": [
       "<div>\n",
       "<style scoped>\n",
       "    .dataframe tbody tr th:only-of-type {\n",
       "        vertical-align: middle;\n",
       "    }\n",
       "\n",
       "    .dataframe tbody tr th {\n",
       "        vertical-align: top;\n",
       "    }\n",
       "\n",
       "    .dataframe thead th {\n",
       "        text-align: right;\n",
       "    }\n",
       "</style>\n",
       "<table border=\"1\" class=\"dataframe\">\n",
       "  <thead>\n",
       "    <tr style=\"text-align: right;\">\n",
       "      <th></th>\n",
       "      <th>Variant name</th>\n",
       "      <th>Variant source</th>\n",
       "      <th>Chromosome/scaffold name</th>\n",
       "      <th>Chromosome/scaffold position start (bp)</th>\n",
       "      <th>Chromosome/scaffold position end (bp)</th>\n",
       "      <th>Variant alleles</th>\n",
       "    </tr>\n",
       "  </thead>\n",
       "  <tbody>\n",
       "    <tr>\n",
       "      <th>1040692</th>\n",
       "      <td>rs9274326</td>\n",
       "      <td>dbSNP</td>\n",
       "      <td>6</td>\n",
       "      <td>32632237</td>\n",
       "      <td>32632237</td>\n",
       "      <td>C/A/G/T</td>\n",
       "    </tr>\n",
       "  </tbody>\n",
       "</table>\n",
       "</div>"
      ],
      "text/plain": [
       "        Variant name Variant source  Chromosome/scaffold name  \\\n",
       "1040692    rs9274326          dbSNP                         6   \n",
       "\n",
       "         Chromosome/scaffold position start (bp)  \\\n",
       "1040692                                 32632237   \n",
       "\n",
       "         Chromosome/scaffold position end (bp) Variant alleles  \n",
       "1040692                               32632237         C/A/G/T  "
      ]
     },
     "execution_count": 6,
     "metadata": {},
     "output_type": "execute_result"
    }
   ],
   "source": [
    "pos=32632237\n",
    "SNP_DB[(SNP_DB['Chromosome/scaffold position start (bp)']<=pos)&\n",
    "       (SNP_DB['Chromosome/scaffold position end (bp)']>=pos)]"
   ]
  },
  {
   "cell_type": "code",
   "execution_count": 7,
   "metadata": {
    "scrolled": true
   },
   "outputs": [
    {
     "data": {
      "text/html": [
       "<div>\n",
       "<style scoped>\n",
       "    .dataframe tbody tr th:only-of-type {\n",
       "        vertical-align: middle;\n",
       "    }\n",
       "\n",
       "    .dataframe tbody tr th {\n",
       "        vertical-align: top;\n",
       "    }\n",
       "\n",
       "    .dataframe thead th {\n",
       "        text-align: right;\n",
       "    }\n",
       "</style>\n",
       "<table border=\"1\" class=\"dataframe\">\n",
       "  <thead>\n",
       "    <tr style=\"text-align: right;\">\n",
       "      <th></th>\n",
       "      <th>chrom</th>\n",
       "      <th>pos</th>\n",
       "      <th>cm</th>\n",
       "      <th>a1</th>\n",
       "      <th>a2</th>\n",
       "    </tr>\n",
       "    <tr>\n",
       "      <th>snp</th>\n",
       "      <th></th>\n",
       "      <th></th>\n",
       "      <th></th>\n",
       "      <th></th>\n",
       "      <th></th>\n",
       "    </tr>\n",
       "  </thead>\n",
       "  <tbody>\n",
       "    <tr>\n",
       "      <th>6:32632237_C/T</th>\n",
       "      <td>6</td>\n",
       "      <td>32632237</td>\n",
       "      <td>0</td>\n",
       "      <td>C</td>\n",
       "      <td>T</td>\n",
       "    </tr>\n",
       "  </tbody>\n",
       "</table>\n",
       "</div>"
      ],
      "text/plain": [
       "                chrom       pos  cm a1 a2\n",
       "snp                                      \n",
       "6:32632237_C/T      6  32632237   0  C  T"
      ]
     },
     "execution_count": 7,
     "metadata": {},
     "output_type": "execute_result"
    }
   ],
   "source": [
    "plink_KCHIP_HLA_AA_SNP_1000G_bim[plink_KCHIP_HLA_AA_SNP_1000G_bim['pos']==pos]"
   ]
  },
  {
   "cell_type": "markdown",
   "metadata": {},
   "source": [
    "# O"
   ]
  },
  {
   "cell_type": "code",
   "execution_count": 8,
   "metadata": {},
   "outputs": [
    {
     "data": {
      "text/html": [
       "<div>\n",
       "<style scoped>\n",
       "    .dataframe tbody tr th:only-of-type {\n",
       "        vertical-align: middle;\n",
       "    }\n",
       "\n",
       "    .dataframe tbody tr th {\n",
       "        vertical-align: top;\n",
       "    }\n",
       "\n",
       "    .dataframe thead th {\n",
       "        text-align: right;\n",
       "    }\n",
       "</style>\n",
       "<table border=\"1\" class=\"dataframe\">\n",
       "  <thead>\n",
       "    <tr style=\"text-align: right;\">\n",
       "      <th></th>\n",
       "      <th>Variant name</th>\n",
       "      <th>Variant source</th>\n",
       "      <th>Chromosome/scaffold name</th>\n",
       "      <th>Chromosome/scaffold position start (bp)</th>\n",
       "      <th>Chromosome/scaffold position end (bp)</th>\n",
       "      <th>Variant alleles</th>\n",
       "    </tr>\n",
       "  </thead>\n",
       "  <tbody>\n",
       "    <tr>\n",
       "      <th>406010</th>\n",
       "      <td>rs2517754</td>\n",
       "      <td>dbSNP</td>\n",
       "      <td>6</td>\n",
       "      <td>29896680</td>\n",
       "      <td>29896680</td>\n",
       "      <td>A/G</td>\n",
       "    </tr>\n",
       "  </tbody>\n",
       "</table>\n",
       "</div>"
      ],
      "text/plain": [
       "       Variant name Variant source  Chromosome/scaffold name  \\\n",
       "406010    rs2517754          dbSNP                         6   \n",
       "\n",
       "        Chromosome/scaffold position start (bp)  \\\n",
       "406010                                 29896680   \n",
       "\n",
       "        Chromosome/scaffold position end (bp) Variant alleles  \n",
       "406010                               29896680             A/G  "
      ]
     },
     "execution_count": 8,
     "metadata": {},
     "output_type": "execute_result"
    }
   ],
   "source": [
    "pos=29896680\n",
    "SNP_DB[(SNP_DB['Chromosome/scaffold position start (bp)']<=pos)&\n",
    "       (SNP_DB['Chromosome/scaffold position end (bp)']>=pos)]"
   ]
  },
  {
   "cell_type": "code",
   "execution_count": 9,
   "metadata": {},
   "outputs": [
    {
     "data": {
      "text/html": [
       "<div>\n",
       "<style scoped>\n",
       "    .dataframe tbody tr th:only-of-type {\n",
       "        vertical-align: middle;\n",
       "    }\n",
       "\n",
       "    .dataframe tbody tr th {\n",
       "        vertical-align: top;\n",
       "    }\n",
       "\n",
       "    .dataframe thead th {\n",
       "        text-align: right;\n",
       "    }\n",
       "</style>\n",
       "<table border=\"1\" class=\"dataframe\">\n",
       "  <thead>\n",
       "    <tr style=\"text-align: right;\">\n",
       "      <th></th>\n",
       "      <th>chrom</th>\n",
       "      <th>pos</th>\n",
       "      <th>cm</th>\n",
       "      <th>a1</th>\n",
       "      <th>a2</th>\n",
       "    </tr>\n",
       "    <tr>\n",
       "      <th>snp</th>\n",
       "      <th></th>\n",
       "      <th></th>\n",
       "      <th></th>\n",
       "      <th></th>\n",
       "      <th></th>\n",
       "    </tr>\n",
       "  </thead>\n",
       "  <tbody>\n",
       "    <tr>\n",
       "      <th>6:29896680_A/G</th>\n",
       "      <td>6</td>\n",
       "      <td>29896680</td>\n",
       "      <td>0</td>\n",
       "      <td>A</td>\n",
       "      <td>G</td>\n",
       "    </tr>\n",
       "  </tbody>\n",
       "</table>\n",
       "</div>"
      ],
      "text/plain": [
       "                chrom       pos  cm a1 a2\n",
       "snp                                      \n",
       "6:29896680_A/G      6  29896680   0  A  G"
      ]
     },
     "execution_count": 9,
     "metadata": {},
     "output_type": "execute_result"
    }
   ],
   "source": [
    "plink_KCHIP_HLA_AA_SNP_1000G_bim[plink_KCHIP_HLA_AA_SNP_1000G_bim['pos']==pos]"
   ]
  },
  {
   "cell_type": "markdown",
   "metadata": {},
   "source": [
    "# O"
   ]
  },
  {
   "cell_type": "code",
   "execution_count": 10,
   "metadata": {},
   "outputs": [
    {
     "data": {
      "text/html": [
       "<div>\n",
       "<style scoped>\n",
       "    .dataframe tbody tr th:only-of-type {\n",
       "        vertical-align: middle;\n",
       "    }\n",
       "\n",
       "    .dataframe tbody tr th {\n",
       "        vertical-align: top;\n",
       "    }\n",
       "\n",
       "    .dataframe thead th {\n",
       "        text-align: right;\n",
       "    }\n",
       "</style>\n",
       "<table border=\"1\" class=\"dataframe\">\n",
       "  <thead>\n",
       "    <tr style=\"text-align: right;\">\n",
       "      <th></th>\n",
       "      <th>Variant name</th>\n",
       "      <th>Variant source</th>\n",
       "      <th>Chromosome/scaffold name</th>\n",
       "      <th>Chromosome/scaffold position start (bp)</th>\n",
       "      <th>Chromosome/scaffold position end (bp)</th>\n",
       "      <th>Variant alleles</th>\n",
       "    </tr>\n",
       "  </thead>\n",
       "  <tbody>\n",
       "    <tr>\n",
       "      <th>1043869</th>\n",
       "      <td>rs11751495</td>\n",
       "      <td>dbSNP</td>\n",
       "      <td>6</td>\n",
       "      <td>32638199</td>\n",
       "      <td>32638199</td>\n",
       "      <td>C/G</td>\n",
       "    </tr>\n",
       "  </tbody>\n",
       "</table>\n",
       "</div>"
      ],
      "text/plain": [
       "        Variant name Variant source  Chromosome/scaffold name  \\\n",
       "1043869   rs11751495          dbSNP                         6   \n",
       "\n",
       "         Chromosome/scaffold position start (bp)  \\\n",
       "1043869                                 32638199   \n",
       "\n",
       "         Chromosome/scaffold position end (bp) Variant alleles  \n",
       "1043869                               32638199             C/G  "
      ]
     },
     "execution_count": 10,
     "metadata": {},
     "output_type": "execute_result"
    }
   ],
   "source": [
    "pos=32638199\n",
    "SNP_DB[(SNP_DB['Chromosome/scaffold position start (bp)']<=pos)&\n",
    "       (SNP_DB['Chromosome/scaffold position end (bp)']>=pos)]"
   ]
  },
  {
   "cell_type": "code",
   "execution_count": 11,
   "metadata": {
    "scrolled": true
   },
   "outputs": [
    {
     "data": {
      "text/html": [
       "<div>\n",
       "<style scoped>\n",
       "    .dataframe tbody tr th:only-of-type {\n",
       "        vertical-align: middle;\n",
       "    }\n",
       "\n",
       "    .dataframe tbody tr th {\n",
       "        vertical-align: top;\n",
       "    }\n",
       "\n",
       "    .dataframe thead th {\n",
       "        text-align: right;\n",
       "    }\n",
       "</style>\n",
       "<table border=\"1\" class=\"dataframe\">\n",
       "  <thead>\n",
       "    <tr style=\"text-align: right;\">\n",
       "      <th></th>\n",
       "      <th>chrom</th>\n",
       "      <th>pos</th>\n",
       "      <th>cm</th>\n",
       "      <th>a1</th>\n",
       "      <th>a2</th>\n",
       "    </tr>\n",
       "    <tr>\n",
       "      <th>snp</th>\n",
       "      <th></th>\n",
       "      <th></th>\n",
       "      <th></th>\n",
       "      <th></th>\n",
       "      <th></th>\n",
       "    </tr>\n",
       "  </thead>\n",
       "  <tbody>\n",
       "    <tr>\n",
       "      <th>6:32638199_C/G</th>\n",
       "      <td>6</td>\n",
       "      <td>32638199</td>\n",
       "      <td>0</td>\n",
       "      <td>G</td>\n",
       "      <td>C</td>\n",
       "    </tr>\n",
       "  </tbody>\n",
       "</table>\n",
       "</div>"
      ],
      "text/plain": [
       "                chrom       pos  cm a1 a2\n",
       "snp                                      \n",
       "6:32638199_C/G      6  32638199   0  G  C"
      ]
     },
     "execution_count": 11,
     "metadata": {},
     "output_type": "execute_result"
    }
   ],
   "source": [
    "plink_KCHIP_HLA_AA_SNP_1000G_bim[plink_KCHIP_HLA_AA_SNP_1000G_bim['pos']==pos]"
   ]
  },
  {
   "cell_type": "markdown",
   "metadata": {},
   "source": [
    "# X"
   ]
  },
  {
   "cell_type": "code",
   "execution_count": 12,
   "metadata": {},
   "outputs": [
    {
     "data": {
      "text/html": [
       "<div>\n",
       "<style scoped>\n",
       "    .dataframe tbody tr th:only-of-type {\n",
       "        vertical-align: middle;\n",
       "    }\n",
       "\n",
       "    .dataframe tbody tr th {\n",
       "        vertical-align: top;\n",
       "    }\n",
       "\n",
       "    .dataframe thead th {\n",
       "        text-align: right;\n",
       "    }\n",
       "</style>\n",
       "<table border=\"1\" class=\"dataframe\">\n",
       "  <thead>\n",
       "    <tr style=\"text-align: right;\">\n",
       "      <th></th>\n",
       "      <th>Variant name</th>\n",
       "      <th>Variant source</th>\n",
       "      <th>Chromosome/scaffold name</th>\n",
       "      <th>Chromosome/scaffold position start (bp)</th>\n",
       "      <th>Chromosome/scaffold position end (bp)</th>\n",
       "      <th>Variant alleles</th>\n",
       "    </tr>\n",
       "  </thead>\n",
       "  <tbody>\n",
       "    <tr>\n",
       "      <th>1396124</th>\n",
       "      <td>rs2797963</td>\n",
       "      <td>dbSNP</td>\n",
       "      <td>6</td>\n",
       "      <td>34185749</td>\n",
       "      <td>34185749</td>\n",
       "      <td>C/G/T</td>\n",
       "    </tr>\n",
       "  </tbody>\n",
       "</table>\n",
       "</div>"
      ],
      "text/plain": [
       "        Variant name Variant source  Chromosome/scaffold name  \\\n",
       "1396124    rs2797963          dbSNP                         6   \n",
       "\n",
       "         Chromosome/scaffold position start (bp)  \\\n",
       "1396124                                 34185749   \n",
       "\n",
       "         Chromosome/scaffold position end (bp) Variant alleles  \n",
       "1396124                               34185749           C/G/T  "
      ]
     },
     "execution_count": 12,
     "metadata": {},
     "output_type": "execute_result"
    }
   ],
   "source": [
    "pos=34185749\n",
    "SNP_DB[(SNP_DB['Chromosome/scaffold position start (bp)']<=pos)&\n",
    "       (SNP_DB['Chromosome/scaffold position end (bp)']>=pos)]"
   ]
  },
  {
   "cell_type": "code",
   "execution_count": 13,
   "metadata": {
    "scrolled": true
   },
   "outputs": [
    {
     "data": {
      "text/html": [
       "<div>\n",
       "<style scoped>\n",
       "    .dataframe tbody tr th:only-of-type {\n",
       "        vertical-align: middle;\n",
       "    }\n",
       "\n",
       "    .dataframe tbody tr th {\n",
       "        vertical-align: top;\n",
       "    }\n",
       "\n",
       "    .dataframe thead th {\n",
       "        text-align: right;\n",
       "    }\n",
       "</style>\n",
       "<table border=\"1\" class=\"dataframe\">\n",
       "  <thead>\n",
       "    <tr style=\"text-align: right;\">\n",
       "      <th></th>\n",
       "      <th>chrom</th>\n",
       "      <th>pos</th>\n",
       "      <th>cm</th>\n",
       "      <th>a1</th>\n",
       "      <th>a2</th>\n",
       "    </tr>\n",
       "    <tr>\n",
       "      <th>snp</th>\n",
       "      <th></th>\n",
       "      <th></th>\n",
       "      <th></th>\n",
       "      <th></th>\n",
       "      <th></th>\n",
       "    </tr>\n",
       "  </thead>\n",
       "  <tbody>\n",
       "    <tr>\n",
       "      <th>6:34185749_C/T</th>\n",
       "      <td>6</td>\n",
       "      <td>34185749</td>\n",
       "      <td>0</td>\n",
       "      <td>C</td>\n",
       "      <td>T</td>\n",
       "    </tr>\n",
       "  </tbody>\n",
       "</table>\n",
       "</div>"
      ],
      "text/plain": [
       "                chrom       pos  cm a1 a2\n",
       "snp                                      \n",
       "6:34185749_C/T      6  34185749   0  C  T"
      ]
     },
     "execution_count": 13,
     "metadata": {},
     "output_type": "execute_result"
    }
   ],
   "source": [
    "plink_KCHIP_HLA_AA_SNP_1000G_bim[plink_KCHIP_HLA_AA_SNP_1000G_bim['pos']==pos]"
   ]
  },
  {
   "cell_type": "markdown",
   "metadata": {},
   "source": [
    "# X"
   ]
  },
  {
   "cell_type": "code",
   "execution_count": 14,
   "metadata": {},
   "outputs": [
    {
     "data": {
      "text/html": [
       "<div>\n",
       "<style scoped>\n",
       "    .dataframe tbody tr th:only-of-type {\n",
       "        vertical-align: middle;\n",
       "    }\n",
       "\n",
       "    .dataframe tbody tr th {\n",
       "        vertical-align: top;\n",
       "    }\n",
       "\n",
       "    .dataframe thead th {\n",
       "        text-align: right;\n",
       "    }\n",
       "</style>\n",
       "<table border=\"1\" class=\"dataframe\">\n",
       "  <thead>\n",
       "    <tr style=\"text-align: right;\">\n",
       "      <th></th>\n",
       "      <th>Variant name</th>\n",
       "      <th>Variant source</th>\n",
       "      <th>Chromosome/scaffold name</th>\n",
       "      <th>Chromosome/scaffold position start (bp)</th>\n",
       "      <th>Chromosome/scaffold position end (bp)</th>\n",
       "      <th>Variant alleles</th>\n",
       "    </tr>\n",
       "  </thead>\n",
       "  <tbody>\n",
       "    <tr>\n",
       "      <th>1392981</th>\n",
       "      <td>rs1187115</td>\n",
       "      <td>dbSNP</td>\n",
       "      <td>6</td>\n",
       "      <td>34172055</td>\n",
       "      <td>34172055</td>\n",
       "      <td>C/A</td>\n",
       "    </tr>\n",
       "    <tr>\n",
       "      <th>1392982</th>\n",
       "      <td>rs754595560</td>\n",
       "      <td>dbSNP</td>\n",
       "      <td>6</td>\n",
       "      <td>34172055</td>\n",
       "      <td>34172055</td>\n",
       "      <td>C/-</td>\n",
       "    </tr>\n",
       "  </tbody>\n",
       "</table>\n",
       "</div>"
      ],
      "text/plain": [
       "        Variant name Variant source  Chromosome/scaffold name  \\\n",
       "1392981    rs1187115          dbSNP                         6   \n",
       "1392982  rs754595560          dbSNP                         6   \n",
       "\n",
       "         Chromosome/scaffold position start (bp)  \\\n",
       "1392981                                 34172055   \n",
       "1392982                                 34172055   \n",
       "\n",
       "         Chromosome/scaffold position end (bp) Variant alleles  \n",
       "1392981                               34172055             C/A  \n",
       "1392982                               34172055             C/-  "
      ]
     },
     "execution_count": 14,
     "metadata": {},
     "output_type": "execute_result"
    }
   ],
   "source": [
    "pos=34172055\n",
    "SNP_DB[(SNP_DB['Chromosome/scaffold position start (bp)']<=pos)&\n",
    "       (SNP_DB['Chromosome/scaffold position end (bp)']>=pos)]"
   ]
  },
  {
   "cell_type": "code",
   "execution_count": 15,
   "metadata": {},
   "outputs": [
    {
     "data": {
      "text/html": [
       "<div>\n",
       "<style scoped>\n",
       "    .dataframe tbody tr th:only-of-type {\n",
       "        vertical-align: middle;\n",
       "    }\n",
       "\n",
       "    .dataframe tbody tr th {\n",
       "        vertical-align: top;\n",
       "    }\n",
       "\n",
       "    .dataframe thead th {\n",
       "        text-align: right;\n",
       "    }\n",
       "</style>\n",
       "<table border=\"1\" class=\"dataframe\">\n",
       "  <thead>\n",
       "    <tr style=\"text-align: right;\">\n",
       "      <th></th>\n",
       "      <th>chrom</th>\n",
       "      <th>pos</th>\n",
       "      <th>cm</th>\n",
       "      <th>a1</th>\n",
       "      <th>a2</th>\n",
       "    </tr>\n",
       "    <tr>\n",
       "      <th>snp</th>\n",
       "      <th></th>\n",
       "      <th></th>\n",
       "      <th></th>\n",
       "      <th></th>\n",
       "      <th></th>\n",
       "    </tr>\n",
       "  </thead>\n",
       "  <tbody>\n",
       "    <tr>\n",
       "      <th>6:34172055_C/A</th>\n",
       "      <td>6</td>\n",
       "      <td>34172055</td>\n",
       "      <td>0</td>\n",
       "      <td>C</td>\n",
       "      <td>A</td>\n",
       "    </tr>\n",
       "  </tbody>\n",
       "</table>\n",
       "</div>"
      ],
      "text/plain": [
       "                chrom       pos  cm a1 a2\n",
       "snp                                      \n",
       "6:34172055_C/A      6  34172055   0  C  A"
      ]
     },
     "execution_count": 15,
     "metadata": {},
     "output_type": "execute_result"
    }
   ],
   "source": [
    "plink_KCHIP_HLA_AA_SNP_1000G_bim[plink_KCHIP_HLA_AA_SNP_1000G_bim['pos']==pos]"
   ]
  },
  {
   "cell_type": "markdown",
   "metadata": {},
   "source": [
    "# X"
   ]
  },
  {
   "cell_type": "code",
   "execution_count": 16,
   "metadata": {
    "scrolled": true
   },
   "outputs": [
    {
     "data": {
      "text/html": [
       "<div>\n",
       "<style scoped>\n",
       "    .dataframe tbody tr th:only-of-type {\n",
       "        vertical-align: middle;\n",
       "    }\n",
       "\n",
       "    .dataframe tbody tr th {\n",
       "        vertical-align: top;\n",
       "    }\n",
       "\n",
       "    .dataframe thead th {\n",
       "        text-align: right;\n",
       "    }\n",
       "</style>\n",
       "<table border=\"1\" class=\"dataframe\">\n",
       "  <thead>\n",
       "    <tr style=\"text-align: right;\">\n",
       "      <th></th>\n",
       "      <th>Variant name</th>\n",
       "      <th>Variant source</th>\n",
       "      <th>Chromosome/scaffold name</th>\n",
       "      <th>Chromosome/scaffold position start (bp)</th>\n",
       "      <th>Chromosome/scaffold position end (bp)</th>\n",
       "      <th>Variant alleles</th>\n",
       "    </tr>\n",
       "  </thead>\n",
       "  <tbody>\n",
       "    <tr>\n",
       "      <th>1401289</th>\n",
       "      <td>rs1261237448</td>\n",
       "      <td>dbSNP</td>\n",
       "      <td>6</td>\n",
       "      <td>34205429</td>\n",
       "      <td>34205466</td>\n",
       "      <td>GGCGCACCTCGCGCGGCGGCCGCTCCCGCTGGAGCCGG/G</td>\n",
       "    </tr>\n",
       "    <tr>\n",
       "      <th>1401309</th>\n",
       "      <td>rs1290498218</td>\n",
       "      <td>dbSNP</td>\n",
       "      <td>6</td>\n",
       "      <td>34205459</td>\n",
       "      <td>34205470</td>\n",
       "      <td>GGAGCCGGAGCC/GGAGCCGGAGCCGGAGCC</td>\n",
       "    </tr>\n",
       "    <tr>\n",
       "      <th>1401312</th>\n",
       "      <td>rs370788671</td>\n",
       "      <td>dbSNP</td>\n",
       "      <td>6</td>\n",
       "      <td>34205465</td>\n",
       "      <td>34205465</td>\n",
       "      <td>G/C</td>\n",
       "    </tr>\n",
       "  </tbody>\n",
       "</table>\n",
       "</div>"
      ],
      "text/plain": [
       "         Variant name Variant source  Chromosome/scaffold name  \\\n",
       "1401289  rs1261237448          dbSNP                         6   \n",
       "1401309  rs1290498218          dbSNP                         6   \n",
       "1401312   rs370788671          dbSNP                         6   \n",
       "\n",
       "         Chromosome/scaffold position start (bp)  \\\n",
       "1401289                                 34205429   \n",
       "1401309                                 34205459   \n",
       "1401312                                 34205465   \n",
       "\n",
       "         Chromosome/scaffold position end (bp)  \\\n",
       "1401289                               34205466   \n",
       "1401309                               34205470   \n",
       "1401312                               34205465   \n",
       "\n",
       "                                  Variant alleles  \n",
       "1401289  GGCGCACCTCGCGCGGCGGCCGCTCCCGCTGGAGCCGG/G  \n",
       "1401309           GGAGCCGGAGCC/GGAGCCGGAGCCGGAGCC  \n",
       "1401312                                       G/C  "
      ]
     },
     "execution_count": 16,
     "metadata": {},
     "output_type": "execute_result"
    }
   ],
   "source": [
    "pos=34205465\n",
    "SNP_DB[(SNP_DB['Chromosome/scaffold position start (bp)']<=pos)&\n",
    "       (SNP_DB['Chromosome/scaffold position end (bp)']>=pos)]\n",
    "\n",
    "GGAGCCGGAGCC\n",
    "GGAGCCGGAGCCGGAGCC"
   ]
  },
  {
   "cell_type": "code",
   "execution_count": 17,
   "metadata": {},
   "outputs": [
    {
     "data": {
      "text/html": [
       "<div>\n",
       "<style scoped>\n",
       "    .dataframe tbody tr th:only-of-type {\n",
       "        vertical-align: middle;\n",
       "    }\n",
       "\n",
       "    .dataframe tbody tr th {\n",
       "        vertical-align: top;\n",
       "    }\n",
       "\n",
       "    .dataframe thead th {\n",
       "        text-align: right;\n",
       "    }\n",
       "</style>\n",
       "<table border=\"1\" class=\"dataframe\">\n",
       "  <thead>\n",
       "    <tr style=\"text-align: right;\">\n",
       "      <th></th>\n",
       "      <th>chrom</th>\n",
       "      <th>pos</th>\n",
       "      <th>cm</th>\n",
       "      <th>a1</th>\n",
       "      <th>a2</th>\n",
       "    </tr>\n",
       "    <tr>\n",
       "      <th>snp</th>\n",
       "      <th></th>\n",
       "      <th></th>\n",
       "      <th></th>\n",
       "      <th></th>\n",
       "      <th></th>\n",
       "    </tr>\n",
       "  </thead>\n",
       "  <tbody>\n",
       "    <tr>\n",
       "      <th>6:34205465_G/GGAGCCC</th>\n",
       "      <td>6</td>\n",
       "      <td>34205465</td>\n",
       "      <td>0</td>\n",
       "      <td>G</td>\n",
       "      <td>GGAGCCC</td>\n",
       "    </tr>\n",
       "  </tbody>\n",
       "</table>\n",
       "</div>"
      ],
      "text/plain": [
       "                      chrom       pos  cm a1       a2\n",
       "snp                                                  \n",
       "6:34205465_G/GGAGCCC      6  34205465   0  G  GGAGCCC"
      ]
     },
     "execution_count": 17,
     "metadata": {},
     "output_type": "execute_result"
    }
   ],
   "source": [
    "plink_KCHIP_HLA_AA_SNP_1000G_bim[plink_KCHIP_HLA_AA_SNP_1000G_bim['pos']==pos]"
   ]
  },
  {
   "cell_type": "markdown",
   "metadata": {},
   "source": [
    "# X"
   ]
  },
  {
   "cell_type": "code",
   "execution_count": 18,
   "metadata": {},
   "outputs": [
    {
     "data": {
      "text/html": [
       "<div>\n",
       "<style scoped>\n",
       "    .dataframe tbody tr th:only-of-type {\n",
       "        vertical-align: middle;\n",
       "    }\n",
       "\n",
       "    .dataframe tbody tr th {\n",
       "        vertical-align: top;\n",
       "    }\n",
       "\n",
       "    .dataframe thead th {\n",
       "        text-align: right;\n",
       "    }\n",
       "</style>\n",
       "<table border=\"1\" class=\"dataframe\">\n",
       "  <thead>\n",
       "    <tr style=\"text-align: right;\">\n",
       "      <th></th>\n",
       "      <th>Variant name</th>\n",
       "      <th>Variant source</th>\n",
       "      <th>Chromosome/scaffold name</th>\n",
       "      <th>Chromosome/scaffold position start (bp)</th>\n",
       "      <th>Chromosome/scaffold position end (bp)</th>\n",
       "      <th>Variant alleles</th>\n",
       "    </tr>\n",
       "  </thead>\n",
       "  <tbody>\n",
       "    <tr>\n",
       "      <th>1396124</th>\n",
       "      <td>rs2797963</td>\n",
       "      <td>dbSNP</td>\n",
       "      <td>6</td>\n",
       "      <td>34185749</td>\n",
       "      <td>34185749</td>\n",
       "      <td>C/G/T</td>\n",
       "    </tr>\n",
       "  </tbody>\n",
       "</table>\n",
       "</div>"
      ],
      "text/plain": [
       "        Variant name Variant source  Chromosome/scaffold name  \\\n",
       "1396124    rs2797963          dbSNP                         6   \n",
       "\n",
       "         Chromosome/scaffold position start (bp)  \\\n",
       "1396124                                 34185749   \n",
       "\n",
       "         Chromosome/scaffold position end (bp) Variant alleles  \n",
       "1396124                               34185749           C/G/T  "
      ]
     },
     "execution_count": 18,
     "metadata": {},
     "output_type": "execute_result"
    }
   ],
   "source": [
    "pos=34185749\n",
    "SNP_DB[(SNP_DB['Chromosome/scaffold position start (bp)']<=pos)&\n",
    "       (SNP_DB['Chromosome/scaffold position end (bp)']>=pos)]"
   ]
  },
  {
   "cell_type": "code",
   "execution_count": 19,
   "metadata": {},
   "outputs": [
    {
     "data": {
      "text/html": [
       "<div>\n",
       "<style scoped>\n",
       "    .dataframe tbody tr th:only-of-type {\n",
       "        vertical-align: middle;\n",
       "    }\n",
       "\n",
       "    .dataframe tbody tr th {\n",
       "        vertical-align: top;\n",
       "    }\n",
       "\n",
       "    .dataframe thead th {\n",
       "        text-align: right;\n",
       "    }\n",
       "</style>\n",
       "<table border=\"1\" class=\"dataframe\">\n",
       "  <thead>\n",
       "    <tr style=\"text-align: right;\">\n",
       "      <th></th>\n",
       "      <th>chrom</th>\n",
       "      <th>pos</th>\n",
       "      <th>cm</th>\n",
       "      <th>a1</th>\n",
       "      <th>a2</th>\n",
       "    </tr>\n",
       "    <tr>\n",
       "      <th>snp</th>\n",
       "      <th></th>\n",
       "      <th></th>\n",
       "      <th></th>\n",
       "      <th></th>\n",
       "      <th></th>\n",
       "    </tr>\n",
       "  </thead>\n",
       "  <tbody>\n",
       "    <tr>\n",
       "      <th>6:34185749_C/T</th>\n",
       "      <td>6</td>\n",
       "      <td>34185749</td>\n",
       "      <td>0</td>\n",
       "      <td>C</td>\n",
       "      <td>T</td>\n",
       "    </tr>\n",
       "  </tbody>\n",
       "</table>\n",
       "</div>"
      ],
      "text/plain": [
       "                chrom       pos  cm a1 a2\n",
       "snp                                      \n",
       "6:34185749_C/T      6  34185749   0  C  T"
      ]
     },
     "execution_count": 19,
     "metadata": {},
     "output_type": "execute_result"
    }
   ],
   "source": [
    "plink_KCHIP_HLA_AA_SNP_1000G_bim[plink_KCHIP_HLA_AA_SNP_1000G_bim['pos']==pos]"
   ]
  },
  {
   "cell_type": "markdown",
   "metadata": {},
   "source": [
    "# X"
   ]
  },
  {
   "cell_type": "code",
   "execution_count": 20,
   "metadata": {},
   "outputs": [
    {
     "data": {
      "text/html": [
       "<div>\n",
       "<style scoped>\n",
       "    .dataframe tbody tr th:only-of-type {\n",
       "        vertical-align: middle;\n",
       "    }\n",
       "\n",
       "    .dataframe tbody tr th {\n",
       "        vertical-align: top;\n",
       "    }\n",
       "\n",
       "    .dataframe thead th {\n",
       "        text-align: right;\n",
       "    }\n",
       "</style>\n",
       "<table border=\"1\" class=\"dataframe\">\n",
       "  <thead>\n",
       "    <tr style=\"text-align: right;\">\n",
       "      <th></th>\n",
       "      <th>Variant name</th>\n",
       "      <th>Variant source</th>\n",
       "      <th>Chromosome/scaffold name</th>\n",
       "      <th>Chromosome/scaffold position start (bp)</th>\n",
       "      <th>Chromosome/scaffold position end (bp)</th>\n",
       "      <th>Variant alleles</th>\n",
       "    </tr>\n",
       "  </thead>\n",
       "  <tbody>\n",
       "    <tr>\n",
       "      <th>319739</th>\n",
       "      <td>rs2534791</td>\n",
       "      <td>dbSNP</td>\n",
       "      <td>6</td>\n",
       "      <td>29522712</td>\n",
       "      <td>29522712</td>\n",
       "      <td>A/G/T</td>\n",
       "    </tr>\n",
       "  </tbody>\n",
       "</table>\n",
       "</div>"
      ],
      "text/plain": [
       "       Variant name Variant source  Chromosome/scaffold name  \\\n",
       "319739    rs2534791          dbSNP                         6   \n",
       "\n",
       "        Chromosome/scaffold position start (bp)  \\\n",
       "319739                                 29522712   \n",
       "\n",
       "        Chromosome/scaffold position end (bp) Variant alleles  \n",
       "319739                               29522712           A/G/T  "
      ]
     },
     "execution_count": 20,
     "metadata": {},
     "output_type": "execute_result"
    }
   ],
   "source": [
    "pos=29522712\n",
    "SNP_DB[(SNP_DB['Chromosome/scaffold position start (bp)']<=pos)&\n",
    "       (SNP_DB['Chromosome/scaffold position end (bp)']>=pos)]"
   ]
  },
  {
   "cell_type": "code",
   "execution_count": 21,
   "metadata": {},
   "outputs": [
    {
     "data": {
      "text/html": [
       "<div>\n",
       "<style scoped>\n",
       "    .dataframe tbody tr th:only-of-type {\n",
       "        vertical-align: middle;\n",
       "    }\n",
       "\n",
       "    .dataframe tbody tr th {\n",
       "        vertical-align: top;\n",
       "    }\n",
       "\n",
       "    .dataframe thead th {\n",
       "        text-align: right;\n",
       "    }\n",
       "</style>\n",
       "<table border=\"1\" class=\"dataframe\">\n",
       "  <thead>\n",
       "    <tr style=\"text-align: right;\">\n",
       "      <th></th>\n",
       "      <th>chrom</th>\n",
       "      <th>pos</th>\n",
       "      <th>cm</th>\n",
       "      <th>a1</th>\n",
       "      <th>a2</th>\n",
       "    </tr>\n",
       "    <tr>\n",
       "      <th>snp</th>\n",
       "      <th></th>\n",
       "      <th></th>\n",
       "      <th></th>\n",
       "      <th></th>\n",
       "      <th></th>\n",
       "    </tr>\n",
       "  </thead>\n",
       "  <tbody>\n",
       "    <tr>\n",
       "      <th>AX-11397307</th>\n",
       "      <td>6</td>\n",
       "      <td>29522712</td>\n",
       "      <td>0</td>\n",
       "      <td>G</td>\n",
       "      <td>A</td>\n",
       "    </tr>\n",
       "  </tbody>\n",
       "</table>\n",
       "</div>"
      ],
      "text/plain": [
       "             chrom       pos  cm a1 a2\n",
       "snp                                   \n",
       "AX-11397307      6  29522712   0  G  A"
      ]
     },
     "execution_count": 21,
     "metadata": {},
     "output_type": "execute_result"
    }
   ],
   "source": [
    "plink_KCHIP_HLA_AA_SNP_1000G_bim[plink_KCHIP_HLA_AA_SNP_1000G_bim['pos']==pos]"
   ]
  },
  {
   "cell_type": "markdown",
   "metadata": {},
   "source": [
    "# X"
   ]
  },
  {
   "cell_type": "code",
   "execution_count": 22,
   "metadata": {},
   "outputs": [
    {
     "data": {
      "text/html": [
       "<div>\n",
       "<style scoped>\n",
       "    .dataframe tbody tr th:only-of-type {\n",
       "        vertical-align: middle;\n",
       "    }\n",
       "\n",
       "    .dataframe tbody tr th {\n",
       "        vertical-align: top;\n",
       "    }\n",
       "\n",
       "    .dataframe thead th {\n",
       "        text-align: right;\n",
       "    }\n",
       "</style>\n",
       "<table border=\"1\" class=\"dataframe\">\n",
       "  <thead>\n",
       "    <tr style=\"text-align: right;\">\n",
       "      <th></th>\n",
       "      <th>Variant name</th>\n",
       "      <th>Variant source</th>\n",
       "      <th>Chromosome/scaffold name</th>\n",
       "      <th>Chromosome/scaffold position start (bp)</th>\n",
       "      <th>Chromosome/scaffold position end (bp)</th>\n",
       "      <th>Variant alleles</th>\n",
       "    </tr>\n",
       "  </thead>\n",
       "  <tbody>\n",
       "    <tr>\n",
       "      <th>356582</th>\n",
       "      <td>rs2743925</td>\n",
       "      <td>dbSNP</td>\n",
       "      <td>6</td>\n",
       "      <td>29698050</td>\n",
       "      <td>29698050</td>\n",
       "      <td>A/C/G</td>\n",
       "    </tr>\n",
       "  </tbody>\n",
       "</table>\n",
       "</div>"
      ],
      "text/plain": [
       "       Variant name Variant source  Chromosome/scaffold name  \\\n",
       "356582    rs2743925          dbSNP                         6   \n",
       "\n",
       "        Chromosome/scaffold position start (bp)  \\\n",
       "356582                                 29698050   \n",
       "\n",
       "        Chromosome/scaffold position end (bp) Variant alleles  \n",
       "356582                               29698050           A/C/G  "
      ]
     },
     "execution_count": 22,
     "metadata": {},
     "output_type": "execute_result"
    }
   ],
   "source": [
    "pos=29698050\n",
    "SNP_DB[(SNP_DB['Chromosome/scaffold position start (bp)']<=pos)&\n",
    "       (SNP_DB['Chromosome/scaffold position end (bp)']>=pos)]"
   ]
  },
  {
   "cell_type": "code",
   "execution_count": 23,
   "metadata": {},
   "outputs": [
    {
     "data": {
      "text/html": [
       "<div>\n",
       "<style scoped>\n",
       "    .dataframe tbody tr th:only-of-type {\n",
       "        vertical-align: middle;\n",
       "    }\n",
       "\n",
       "    .dataframe tbody tr th {\n",
       "        vertical-align: top;\n",
       "    }\n",
       "\n",
       "    .dataframe thead th {\n",
       "        text-align: right;\n",
       "    }\n",
       "</style>\n",
       "<table border=\"1\" class=\"dataframe\">\n",
       "  <thead>\n",
       "    <tr style=\"text-align: right;\">\n",
       "      <th></th>\n",
       "      <th>chrom</th>\n",
       "      <th>pos</th>\n",
       "      <th>cm</th>\n",
       "      <th>a1</th>\n",
       "      <th>a2</th>\n",
       "    </tr>\n",
       "    <tr>\n",
       "      <th>snp</th>\n",
       "      <th></th>\n",
       "      <th></th>\n",
       "      <th></th>\n",
       "      <th></th>\n",
       "      <th></th>\n",
       "    </tr>\n",
       "  </thead>\n",
       "  <tbody>\n",
       "    <tr>\n",
       "      <th>6:29698050_A/G</th>\n",
       "      <td>6</td>\n",
       "      <td>29698050</td>\n",
       "      <td>0</td>\n",
       "      <td>G</td>\n",
       "      <td>A</td>\n",
       "    </tr>\n",
       "  </tbody>\n",
       "</table>\n",
       "</div>"
      ],
      "text/plain": [
       "                chrom       pos  cm a1 a2\n",
       "snp                                      \n",
       "6:29698050_A/G      6  29698050   0  G  A"
      ]
     },
     "execution_count": 23,
     "metadata": {},
     "output_type": "execute_result"
    }
   ],
   "source": [
    "plink_KCHIP_HLA_AA_SNP_1000G_bim[plink_KCHIP_HLA_AA_SNP_1000G_bim['pos']==pos]"
   ]
  }
 ],
 "metadata": {
  "kernelspec": {
   "display_name": "Python 3",
   "language": "python",
   "name": "python3"
  },
  "language_info": {
   "codemirror_mode": {
    "name": "ipython",
    "version": 3
   },
   "file_extension": ".py",
   "mimetype": "text/x-python",
   "name": "python",
   "nbconvert_exporter": "python",
   "pygments_lexer": "ipython3",
   "version": "3.7.3"
  },
  "toc": {
   "base_numbering": 1,
   "nav_menu": {},
   "number_sections": true,
   "sideBar": true,
   "skip_h1_title": false,
   "title_cell": "Table of Contents",
   "title_sidebar": "Contents",
   "toc_cell": false,
   "toc_position": {},
   "toc_section_display": true,
   "toc_window_display": false
  }
 },
 "nbformat": 4,
 "nbformat_minor": 2
}
