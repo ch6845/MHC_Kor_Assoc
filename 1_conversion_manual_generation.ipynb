{
 "cells": [
  {
   "cell_type": "code",
   "execution_count": null,
   "metadata": {},
   "outputs": [],
   "source": [
    "import numpy as np\n",
    "import pandas as pd\n",
    "\n",
    "import matplotlib.pyplot as plt\n",
    "from basic_tools import *\n",
    "\n",
    "debug=False"
   ]
  },
  {
   "cell_type": "markdown",
   "metadata": {},
   "source": [
    "# (Optional) Automatically make conversion manual"
   ]
  },
  {
   "cell_type": "markdown",
   "metadata": {},
   "source": [
    "## Load codebook"
   ]
  },
  {
   "cell_type": "code",
   "execution_count": 2,
   "metadata": {},
   "outputs": [
    {
     "name": "stderr",
     "output_type": "stream",
     "text": [
      "/home/ch6845/tools/miniconda3/lib/python3.7/site-packages/ipykernel_launcher.py:16: FutureWarning: Sorting because non-concatenation axis is not aligned. A future version\n",
      "of pandas will change to not sort by default.\n",
      "\n",
      "To accept the future behavior, pass 'sort=False'.\n",
      "\n",
      "To retain the current behavior and silence the warning, pass 'sort=True'.\n",
      "\n",
      "  app.launch_new_instance()\n"
     ]
    }
   ],
   "source": [
    "codebook_AS=pd.read_csv(codebook_AS_path)#,header=1)\n",
    "codebook_CT=pd.read_csv(codebook_CT_path)#,header=1)\n",
    "codebook_NC=pd.read_csv(codebook_NC_path)\n",
    "\n",
    "codebook_column_dict={\"테이블명(영문)\":\"table_code\",\"변수명\": \"phenotype_code\",\"변수설명\":\"description\", \"변수값(코드) 설명\": \"value_description\",\"변수유형\":\"type\",\"설문지\":\"questionnaire\"}\n",
    "codebook_AS=codebook_AS.rename(columns=codebook_column_dict)\n",
    "codebook_CT=codebook_CT.rename(columns=codebook_column_dict)\n",
    "codebook_NC=codebook_NC.rename(columns=codebook_column_dict)\n",
    "\n",
    "codebook_AS['type']=codebook_AS['type'].replace('범주형','categorical').replace('연속형','continuous').replace('서술형','descriptive').replace('날짜','date')\n",
    "codebook_CT['type']=codebook_CT['type'].replace('범주형','categorical').replace('연속형','continuous').replace('서술형','descriptive').replace('날짜','date')\n",
    "codebook_NC['type']=codebook_NC['type'].replace('범주형','categorical').replace('연속형','continuous').replace('서술형','descriptive').replace('날짜','date')\n",
    "\n",
    "codebook_AS['phenotype_code']=codebook_AS['phenotype_code'].str.upper()\n",
    "\n",
    "codebook_total=pd.concat([codebook_AS,codebook_CT,codebook_NC])"
   ]
  },
  {
   "cell_type": "code",
   "execution_count": 3,
   "metadata": {},
   "outputs": [
    {
     "data": {
      "text/plain": [
       "\"\\ndef codebook_selector(cohort):\\n    if cohort=='AS':\\n        return codebook_AS\\n    elif cohort=='CT':\\n        return codebook_CT\\n    elif cohort=='NC':\\n        return codebook_NC\\n    else:\\n        raise\\n\""
      ]
     },
     "execution_count": 3,
     "metadata": {},
     "output_type": "execute_result"
    }
   ],
   "source": [
    "\"\"\"\n",
    "def codebook_selector(cohort):\n",
    "    if cohort=='AS':\n",
    "        return codebook_AS\n",
    "    elif cohort=='CT':\n",
    "        return codebook_CT\n",
    "    elif cohort=='NC':\n",
    "        return codebook_NC\n",
    "    else:\n",
    "        raise\n",
    "\"\"\""
   ]
  },
  {
   "cell_type": "code",
   "execution_count": 4,
   "metadata": {},
   "outputs": [
    {
     "data": {
      "text/plain": [
       "\"\\ncodebook_custommerge=pd.read_csv(codebook_custommerge_path)\\ncodebook_custommerge\\ncodebook_custommerge=codebook_custommerge.rename(columns=codebook_column_dict)\\ncodebook_custommerge['phenotype_code']=codebook_custommerge['phenotype_code'].str.upper()\\n\""
      ]
     },
     "execution_count": 4,
     "metadata": {},
     "output_type": "execute_result"
    }
   ],
   "source": [
    "\"\"\"\n",
    "codebook_custommerge=pd.read_csv(codebook_custommerge_path)\n",
    "codebook_custommerge\n",
    "codebook_custommerge=codebook_custommerge.rename(columns=codebook_column_dict)\n",
    "codebook_custommerge['phenotype_code']=codebook_custommerge['phenotype_code'].str.upper()\n",
    "\"\"\""
   ]
  },
  {
   "cell_type": "code",
   "execution_count": 20,
   "metadata": {},
   "outputs": [],
   "source": [
    "codebook_total_temp=codebook_total.copy()\n",
    "codebook_total_temp=codebook_total_temp.applymap(lambda x: replace_characters(x,{'\\n':'',' ':'','■':'',',':''}))"
   ]
  },
  {
   "cell_type": "code",
   "execution_count": 19,
   "metadata": {},
   "outputs": [],
   "source": [
    "conversion_manual=pd.DataFrame(columns=['phenotype_code','commands','custom_id'])\n",
    "conversion_manual.set_index('phenotype_code',inplace=True)"
   ]
  },
  {
   "cell_type": "code",
   "execution_count": 21,
   "metadata": {},
   "outputs": [],
   "source": [
    "for idx,row in codebook_total_temp.iterrows():\n",
    "    try:\n",
    "        phenotype_raw_series=phenotype_raw[row['phenotype_code']]\n",
    "    except KeyError:\n",
    "        continue\n",
    "    \n",
    "    #ignore environmental \n",
    "    if '음주' in row['description'] or '빈도' in row['description']:\n",
    "        continue\n",
    "    \n",
    "    #set new phenotype name\n",
    "    phenotype_name=row['phenotype_code'][4:]\n",
    "    try:\n",
    "        phenotype_name_temp=codebook_merged.set_index('phenotype_code')['trait_name'][row['phenotype_code']]\n",
    "        #print(phenotype_name_temp,'here')\n",
    "        #print(phenotype_name_temp,type(phenotype_name_temp),np.isnan(phenotype_name_temp))\n",
    "        if type(phenotype_name_temp)==str:\n",
    "            phenotype_name=phenotype_name_temp\n",
    "    except:\n",
    "        pass\n",
    "    \n",
    "    phenotype_name=phenotype_name.replace(' ','_')\n",
    "    \n",
    "    if row['type']=='categorical':\n",
    "        #print(row['value_description'])\n",
    "        if row['value_description']=='1=아니오2=예':\n",
    "            conversion_manual.loc[row['phenotype_code']]='{}@x==1@1|{}@x==2@2'.format(phenotype_name,phenotype_name)\n",
    "        elif row['value_description']=='0=normal1=abnormal':\n",
    "            conversion_manual.loc[row['phenotype_code']]='{}@x==0@1|{}@x==1@2'.format(phenotype_name,phenotype_name)\n",
    "        else:\n",
    "            #print(row['description'],row['value_description'])\n",
    "            pass\n",
    "        \n",
    "    elif row['type']=='continuous':\n",
    "        conversion_manual.loc[row['phenotype_code']]='{}@(x!=66666)&(x!=77777)&(x!=99999)@x'.format(phenotype_name)"
   ]
  },
  {
   "cell_type": "code",
   "execution_count": 22,
   "metadata": {},
   "outputs": [],
   "source": [
    "conversion_manual['custom_id']=codebook_merged.set_index('phenotype_code')['일련번호merged'].loc[conversion_manual.index.values]\n",
    "#conversion_manual.sort_values('custom_id').to_csv(conversion_manual_path,sep='\\t')"
   ]
  },
  {
   "cell_type": "markdown",
   "metadata": {},
   "source": [
    "# (deprecated) Step1. duplicated phenotype code"
   ]
  },
  {
   "cell_type": "markdown",
   "metadata": {},
   "source": [
    "## Group variable of common phenotype code"
   ]
  },
  {
   "cell_type": "code",
   "execution_count": 7,
   "metadata": {},
   "outputs": [],
   "source": [
    "phenotype_raw_columns=phenotype_raw.columns.to_series()\n",
    "phenotype_raw_columns[phenotype_raw_columns.index]=phenotype_raw_columns.index.str.slice(start=4)\n",
    "phenotype_raw_columns=phenotype_raw_columns[phenotype_raw_columns.duplicated(keep=False)]\n",
    "phenotype_groups=phenotype_raw_columns.groupby(phenotype_raw_columns).groups"
   ]
  }
 ],
 "metadata": {
  "kernelspec": {
   "display_name": "Python 3",
   "language": "python",
   "name": "python3"
  },
  "language_info": {
   "codemirror_mode": {
    "name": "ipython",
    "version": 3
   },
   "file_extension": ".py",
   "mimetype": "text/x-python",
   "name": "python",
   "nbconvert_exporter": "python",
   "pygments_lexer": "ipython3",
   "version": "3.7.3"
  },
  "toc-autonumbering": true
 },
 "nbformat": 4,
 "nbformat_minor": 2
}
