{
 "cells": [
  {
   "cell_type": "code",
   "execution_count": 3,
   "metadata": {},
   "outputs": [],
   "source": [
    "import pandas as pd\n",
    "import glob\n",
    "import numpy as np\n",
    "import subprocess\n",
    "\n",
    "from basic_tools import *\n",
    "#kchip_fam_path='kchipdata/HLA_IMPUTED_Result.KCHIP_HLA.MHC.fam'\n",
    "#koges_01_path='kogesdata/baseline/EX_NC1_01_EXAMINEE.csv'"
   ]
  },
  {
   "cell_type": "code",
   "execution_count": 8,
   "metadata": {},
   "outputs": [],
   "source": [
    "def run_command(command):\n",
    "    print(\"------{}-----\".format(\"RUN\"))\n",
    "    print(command)\n",
    "    process = subprocess.Popen(command.split(), stdout=subprocess.PIPE, stderr=subprocess.PIPE)\n",
    "    stdout, stderr = process.communicate()\n",
    "    print(\"------{}-----\".format(\"ERROR\"))\n",
    "    print(stderr.decode())\n",
    "    print(\"------{}-----\".format(\"OUTPUT\"))\n",
    "    print(stdout.decode())\n",
    "    return stdout,stderr"
   ]
  },
  {
   "cell_type": "code",
   "execution_count": 4,
   "metadata": {},
   "outputs": [],
   "source": [
    "kchip_fam=pd.read_csv(imputed_fam_path,sep='\\t',header=None,names=['FID','IID','IIDF','IIDM','SEX','PHE'])\n",
    "kchip_fam_sampled=kchip_fam.sample(n=10000)"
   ]
  },
  {
   "cell_type": "code",
   "execution_count": 6,
   "metadata": {},
   "outputs": [
    {
     "data": {
      "text/plain": [
       "('data/genotype/HLA_IMPUTED_Result.KCHIP_HLA.MHC.fam',\n",
       " 'data/genotype/HLA_IMPUTED_Result.KCHIP_HLA.MHC')"
      ]
     },
     "execution_count": 6,
     "metadata": {},
     "output_type": "execute_result"
    }
   ],
   "source": [
    ",i"
   ]
  },
  {
   "cell_type": "code",
   "execution_count": 5,
   "metadata": {},
   "outputs": [],
   "source": [
    "kchip_fam_sampled.to_csv('sampled.HLA_IMPUTED_Result.KCHIP_HLA.MHC.fam',sep='\\t',header=None,index=None)"
   ]
  },
  {
   "cell_type": "code",
   "execution_count": null,
   "metadata": {},
   "outputs": [],
   "source": [
    "#run_command('plink --bfile {} --keep {} --make-bed --out test'.format('kchipdata/HLA_IMPUTED_Result.KCHIP_HLA.MHC','sampled.HLA_IMPUTED_Result.KCHIP_HLA.MHC.fam'))\n",
    "#run_command('plink --bfile {} --keep {} --recode --out test'.format('test','sampled.HLA_IMPUTED_Result.KCHIP_HLA.MHC.fam'))\n",
    "\n",
    "\n",
    "#run_command('plink --bfile {} --keep {} --freq counts'.format('kchipdata/HLA_IMPUTED_Result.KCHIP_HLA.MHC','sampled.HLA_IMPUTED_Result.KCHIP_HLA.MHC.fam'))\n",
    "run_subprocess('plink --bfile {} --keep {} --freqx'.format(imputed_bfile_path,imputed_fam_path))\n",
    "\n",
    "\n"
   ]
  },
  {
   "cell_type": "code",
   "execution_count": 10,
   "metadata": {},
   "outputs": [
    {
     "name": "stdout",
     "output_type": "stream",
     "text": [
      "------RUN-----\n",
      "plink --bfile data/genotype/HLA_IMPUTED_Result.KCHIP_HLA.MHC --keep sampled.HLA_IMPUTED_Result.KCHIP_HLA.MHC.fam --reference-allele data/genotype/HLA_IMPUTED_Result.KCHIP_HLA.MHC.bim --freqx\n",
      "------ERROR-----\n",
      "\n",
      "------OUTPUT-----\n",
      "PLINK v1.90b6.9 64-bit (4 Mar 2019)            www.cog-genomics.org/plink/1.9/\n",
      "(C) 2005-2019 Shaun Purcell, Christopher Chang   GNU General Public License v3\n",
      "Logging to plink.log.\n",
      "Options in effect:\n",
      "  --a1-allele data/genotype/HLA_IMPUTED_Result.KCHIP_HLA.MHC.bim\n",
      "  --bfile data/genotype/HLA_IMPUTED_Result.KCHIP_HLA.MHC\n",
      "  --freqx\n",
      "  --keep sampled.HLA_IMPUTED_Result.KCHIP_HLA.MHC.fam\n",
      "\n",
      "305729 MB RAM detected; reserving 152864 MB for main workspace.\n",
      "6354 variants loaded from .bim file.\n",
      "125872 people (45726 males, 80146 females) loaded from .fam.\n",
      "125872 phenotype values loaded from .fam.\n",
      "--keep: 10000 people remaining.\n",
      "Using 1 thread (no multithreaded calculations invoked).\n",
      "Before main variant filters, 10000 founders and 0 nonfounders present.\n",
      "Calculating allele frequencies... 10111213141516171819202122232425262728293031323334353637383940414243444546474849505152535455565758596061626364656667686970717273747576777879808182838485868788899091929394959697989 done.\n",
      "--a1-allele: 0 assignments made.\n",
      "--freqx: Allele frequencies (founders only) written to plink.frqx .\n",
      "\n"
     ]
    },
    {
     "data": {
      "text/plain": [
       "(b'PLINK v1.90b6.9 64-bit (4 Mar 2019)            www.cog-genomics.org/plink/1.9/\\n(C) 2005-2019 Shaun Purcell, Christopher Chang   GNU General Public License v3\\nLogging to plink.log.\\nOptions in effect:\\n  --a1-allele data/genotype/HLA_IMPUTED_Result.KCHIP_HLA.MHC.bim\\n  --bfile data/genotype/HLA_IMPUTED_Result.KCHIP_HLA.MHC\\n  --freqx\\n  --keep sampled.HLA_IMPUTED_Result.KCHIP_HLA.MHC.fam\\n\\n305729 MB RAM detected; reserving 152864 MB for main workspace.\\n6354 variants loaded from .bim file.\\n125872 people (45726 males, 80146 females) loaded from .fam.\\n125872 phenotype values loaded from .fam.\\n--keep: 10000 people remaining.\\nUsing 1 thread (no multithreaded calculations invoked).\\nBefore main variant filters, 10000 founders and 0 nonfounders present.\\nCalculating allele frequencies... 0%\\x08\\x081%\\x08\\x082%\\x08\\x083%\\x08\\x084%\\x08\\x085%\\x08\\x086%\\x08\\x087%\\x08\\x088%\\x08\\x089%\\x08\\x0810%\\x08\\x08\\x0811%\\x08\\x08\\x0812%\\x08\\x08\\x0813%\\x08\\x08\\x0814%\\x08\\x08\\x0815%\\x08\\x08\\x0816%\\x08\\x08\\x0817%\\x08\\x08\\x0818%\\x08\\x08\\x0819%\\x08\\x08\\x0820%\\x08\\x08\\x0821%\\x08\\x08\\x0822%\\x08\\x08\\x0823%\\x08\\x08\\x0824%\\x08\\x08\\x0825%\\x08\\x08\\x0826%\\x08\\x08\\x0827%\\x08\\x08\\x0828%\\x08\\x08\\x0829%\\x08\\x08\\x0830%\\x08\\x08\\x0831%\\x08\\x08\\x0832%\\x08\\x08\\x0833%\\x08\\x08\\x0834%\\x08\\x08\\x0835%\\x08\\x08\\x0836%\\x08\\x08\\x0837%\\x08\\x08\\x0838%\\x08\\x08\\x0839%\\x08\\x08\\x0840%\\x08\\x08\\x0841%\\x08\\x08\\x0842%\\x08\\x08\\x0843%\\x08\\x08\\x0844%\\x08\\x08\\x0845%\\x08\\x08\\x0846%\\x08\\x08\\x0847%\\x08\\x08\\x0848%\\x08\\x08\\x0849%\\x08\\x08\\x0850%\\x08\\x08\\x0851%\\x08\\x08\\x0852%\\x08\\x08\\x0853%\\x08\\x08\\x0854%\\x08\\x08\\x0855%\\x08\\x08\\x0856%\\x08\\x08\\x0857%\\x08\\x08\\x0858%\\x08\\x08\\x0859%\\x08\\x08\\x0860%\\x08\\x08\\x0861%\\x08\\x08\\x0862%\\x08\\x08\\x0863%\\x08\\x08\\x0864%\\x08\\x08\\x0865%\\x08\\x08\\x0866%\\x08\\x08\\x0867%\\x08\\x08\\x0868%\\x08\\x08\\x0869%\\x08\\x08\\x0870%\\x08\\x08\\x0871%\\x08\\x08\\x0872%\\x08\\x08\\x0873%\\x08\\x08\\x0874%\\x08\\x08\\x0875%\\x08\\x08\\x0876%\\x08\\x08\\x0877%\\x08\\x08\\x0878%\\x08\\x08\\x0879%\\x08\\x08\\x0880%\\x08\\x08\\x0881%\\x08\\x08\\x0882%\\x08\\x08\\x0883%\\x08\\x08\\x0884%\\x08\\x08\\x0885%\\x08\\x08\\x0886%\\x08\\x08\\x0887%\\x08\\x08\\x0888%\\x08\\x08\\x0889%\\x08\\x08\\x0890%\\x08\\x08\\x0891%\\x08\\x08\\x0892%\\x08\\x08\\x0893%\\x08\\x08\\x0894%\\x08\\x08\\x0895%\\x08\\x08\\x0896%\\x08\\x08\\x0897%\\x08\\x08\\x0898%\\x08\\x08\\x0899%\\x08\\x08\\x08\\x08 done.\\n--a1-allele: 0 assignments made.\\n--freqx: Allele frequencies (founders only) written to plink.frqx .\\n',\n",
       " b'')"
      ]
     },
     "execution_count": 10,
     "metadata": {},
     "output_type": "execute_result"
    }
   ],
   "source": [
    "run_subprocess('plink --bfile {} --keep {} --reference-allele {} --freqx'.format(imputed_bfile_path,'sampled.HLA_IMPUTED_Result.KCHIP_HLA.MHC.fam',imputed_bim_path))"
   ]
  },
  {
   "cell_type": "code",
   "execution_count": 9,
   "metadata": {},
   "outputs": [
    {
     "name": "stdout",
     "output_type": "stream",
     "text": [
      "------RUN-----\n",
      "plink --bfile data/genotype/HLA_IMPUTED_Result.KCHIP_HLA.MHC --keep sampled.HLA_IMPUTED_Result.KCHIP_HLA.MHC.fam --reference-allele data/genotype/HLA_IMPUTED_Result.KCHIP_HLA.MHC.bim --freq counts\n",
      "------ERROR-----\n",
      "\n",
      "------OUTPUT-----\n",
      "PLINK v1.90b6.9 64-bit (4 Mar 2019)            www.cog-genomics.org/plink/1.9/\n",
      "(C) 2005-2019 Shaun Purcell, Christopher Chang   GNU General Public License v3\n",
      "Logging to plink.log.\n",
      "Options in effect:\n",
      "  --a1-allele data/genotype/HLA_IMPUTED_Result.KCHIP_HLA.MHC.bim\n",
      "  --bfile data/genotype/HLA_IMPUTED_Result.KCHIP_HLA.MHC\n",
      "  --freq counts\n",
      "  --keep sampled.HLA_IMPUTED_Result.KCHIP_HLA.MHC.fam\n",
      "\n",
      "305729 MB RAM detected; reserving 152864 MB for main workspace.\n",
      "6354 variants loaded from .bim file.\n",
      "125872 people (45726 males, 80146 females) loaded from .fam.\n",
      "125872 phenotype values loaded from .fam.\n",
      "--keep: 10000 people remaining.\n",
      "Using 1 thread (no multithreaded calculations invoked).\n",
      "Before main variant filters, 10000 founders and 0 nonfounders present.\n",
      "Calculating allele frequencies... 10111213141516171819202122232425262728293031323334353637383940414243444546474849505152535455565758596061626364656667686970717273747576777879808182838485868788899091929394959697989 done.\n",
      "--a1-allele: 0 assignments made.\n",
      "--freq counts: Allele frequencies (founders only) written to plink.frq.counts .\n",
      "\n"
     ]
    },
    {
     "data": {
      "text/plain": [
       "(b'PLINK v1.90b6.9 64-bit (4 Mar 2019)            www.cog-genomics.org/plink/1.9/\\n(C) 2005-2019 Shaun Purcell, Christopher Chang   GNU General Public License v3\\nLogging to plink.log.\\nOptions in effect:\\n  --a1-allele data/genotype/HLA_IMPUTED_Result.KCHIP_HLA.MHC.bim\\n  --bfile data/genotype/HLA_IMPUTED_Result.KCHIP_HLA.MHC\\n  --freq counts\\n  --keep sampled.HLA_IMPUTED_Result.KCHIP_HLA.MHC.fam\\n\\n305729 MB RAM detected; reserving 152864 MB for main workspace.\\n6354 variants loaded from .bim file.\\n125872 people (45726 males, 80146 females) loaded from .fam.\\n125872 phenotype values loaded from .fam.\\n--keep: 10000 people remaining.\\nUsing 1 thread (no multithreaded calculations invoked).\\nBefore main variant filters, 10000 founders and 0 nonfounders present.\\nCalculating allele frequencies... 0%\\x08\\x081%\\x08\\x082%\\x08\\x083%\\x08\\x084%\\x08\\x085%\\x08\\x086%\\x08\\x087%\\x08\\x088%\\x08\\x089%\\x08\\x0810%\\x08\\x08\\x0811%\\x08\\x08\\x0812%\\x08\\x08\\x0813%\\x08\\x08\\x0814%\\x08\\x08\\x0815%\\x08\\x08\\x0816%\\x08\\x08\\x0817%\\x08\\x08\\x0818%\\x08\\x08\\x0819%\\x08\\x08\\x0820%\\x08\\x08\\x0821%\\x08\\x08\\x0822%\\x08\\x08\\x0823%\\x08\\x08\\x0824%\\x08\\x08\\x0825%\\x08\\x08\\x0826%\\x08\\x08\\x0827%\\x08\\x08\\x0828%\\x08\\x08\\x0829%\\x08\\x08\\x0830%\\x08\\x08\\x0831%\\x08\\x08\\x0832%\\x08\\x08\\x0833%\\x08\\x08\\x0834%\\x08\\x08\\x0835%\\x08\\x08\\x0836%\\x08\\x08\\x0837%\\x08\\x08\\x0838%\\x08\\x08\\x0839%\\x08\\x08\\x0840%\\x08\\x08\\x0841%\\x08\\x08\\x0842%\\x08\\x08\\x0843%\\x08\\x08\\x0844%\\x08\\x08\\x0845%\\x08\\x08\\x0846%\\x08\\x08\\x0847%\\x08\\x08\\x0848%\\x08\\x08\\x0849%\\x08\\x08\\x0850%\\x08\\x08\\x0851%\\x08\\x08\\x0852%\\x08\\x08\\x0853%\\x08\\x08\\x0854%\\x08\\x08\\x0855%\\x08\\x08\\x0856%\\x08\\x08\\x0857%\\x08\\x08\\x0858%\\x08\\x08\\x0859%\\x08\\x08\\x0860%\\x08\\x08\\x0861%\\x08\\x08\\x0862%\\x08\\x08\\x0863%\\x08\\x08\\x0864%\\x08\\x08\\x0865%\\x08\\x08\\x0866%\\x08\\x08\\x0867%\\x08\\x08\\x0868%\\x08\\x08\\x0869%\\x08\\x08\\x0870%\\x08\\x08\\x0871%\\x08\\x08\\x0872%\\x08\\x08\\x0873%\\x08\\x08\\x0874%\\x08\\x08\\x0875%\\x08\\x08\\x0876%\\x08\\x08\\x0877%\\x08\\x08\\x0878%\\x08\\x08\\x0879%\\x08\\x08\\x0880%\\x08\\x08\\x0881%\\x08\\x08\\x0882%\\x08\\x08\\x0883%\\x08\\x08\\x0884%\\x08\\x08\\x0885%\\x08\\x08\\x0886%\\x08\\x08\\x0887%\\x08\\x08\\x0888%\\x08\\x08\\x0889%\\x08\\x08\\x0890%\\x08\\x08\\x0891%\\x08\\x08\\x0892%\\x08\\x08\\x0893%\\x08\\x08\\x0894%\\x08\\x08\\x0895%\\x08\\x08\\x0896%\\x08\\x08\\x0897%\\x08\\x08\\x0898%\\x08\\x08\\x0899%\\x08\\x08\\x08\\x08 done.\\n--a1-allele: 0 assignments made.\\n--freq counts: Allele frequencies (founders only) written to plink.frq.counts .\\n',\n",
       " b'')"
      ]
     },
     "execution_count": 9,
     "metadata": {},
     "output_type": "execute_result"
    }
   ],
   "source": [
    "run_subprocess('plink --bfile {} --keep {} --reference-allele {} --freq counts'.format(imputed_bfile_path,'sampled.HLA_IMPUTED_Result.KCHIP_HLA.MHC.fam',imputed_bim_path))"
   ]
  },
  {
   "cell_type": "code",
   "execution_count": null,
   "metadata": {},
   "outputs": [],
   "source": [
    "\n",
    "run_command('plink --bfile {} --keep {} --reference-allele {} --freq counts'.format('kchipdata/HLA_IMPUTED_Result.KCHIP_HLA.MHC','sampled.HLA_IMPUTED_Result.KCHIP_HLA.MHC.fam','reference.HLA_IMPUTED_Result.KCHIP_HLA.MHC.bim'))\n",
    "\n",
    "\n",
    "plink --bfile ../CookHLA3/china_pan_hg19_reference --keep sampled.HLA_IMPUTED_Result.KCHIP_HLA.MHC.fam --reference-allele reference.HLA_IMPUTED_Result.KCHIP_HLA.MHC.bim --freq counts --out test\n",
    "\n",
    "\n"
   ]
  },
  {
   "cell_type": "code",
   "execution_count": null,
   "metadata": {},
   "outputs": [],
   "source": [
    "\n",
    "run_command('plink --bfile {} --keep {} --freq --recode --out test'.format('kchipdata/HLA_IMPUTED_Result.KCHIP_HLA.MHC','sampled.HLA_IMPUTED_Result.KCHIP_HLA.MHC.fam'))\n",
    "\n",
    "\n"
   ]
  }
 ],
 "metadata": {
  "kernelspec": {
   "display_name": "Python 3",
   "language": "python",
   "name": "python3"
  },
  "language_info": {
   "codemirror_mode": {
    "name": "ipython",
    "version": 3
   },
   "file_extension": ".py",
   "mimetype": "text/x-python",
   "name": "python",
   "nbconvert_exporter": "python",
   "pygments_lexer": "ipython3",
   "version": "3.7.3"
  }
 },
 "nbformat": 4,
 "nbformat_minor": 2
}
