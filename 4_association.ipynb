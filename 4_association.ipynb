{
 "cells": [
  {
   "cell_type": "markdown",
   "metadata": {},
   "source": [
    "jupyter nbconvert 4_association.ipynb --to script\n",
    "\n",
    "cd /data/ch6845/MHC*;screen -S assoc;\n",
    "\n",
    "for i in {0..10};do python 4_association.py $i;done\n",
    "\n",
    "\n",
    "Rscript OmnibusTest_BHv5_modified.R logistic data/out_assoc/allergic_disease/step_02.omnibus data/genotype/4_merge/KCHIP_HLA_SNP_1000G_merged.fam data/out_assoc/allergic_disease/step_02.aa data/out_assoc/allergic_disease/phenotype.pheomnibus pheno data/out_assoc/allergic_disease/step_02.omnibus.covar header0 NA\n",
    "\n",
    "5*3=15\n",
    "\n",
    "for i in {00..10};do python 4_association.py $i;done\n",
    "for i in {11..20};do python 4_association.py $i;done\n",
    "\n",
    "for i in {21..30};do python 4_association.py $i;done\n",
    "for i in {31..40};do python 4_association.py $i;done\n",
    "\n",
    "for i in {41..50};do python 4_association.py $i;done\n",
    "for i in {51..60};do python 4_association.py $i;done\n",
    "\n",
    "for i in {61..70};do python 4_association.py $i;done\n",
    "for i in {71..80};do python 4_association.py $i;done\n",
    "\n",
    "for i in {81..90};do python 4_association.py $i;done\n",
    "for i in {91..101};do python 4_association.py $i;done\n",
    "\n",
    "\n",
    "\n",
    "for i in {21..40};do python 4_association.py $i;done \n",
    "for i in {41..60};do python 4_association.py $i;done \n",
    "for i in {61..80};do python 4_association.py $i;done \n",
    "for i in {81..101};do python 4_association.py $i;done\n",
    "\n",
    "Rscript OmnibusTest_BHv5_modified-Copy1.R linear data/out_assoc/age/step_01.omnibus data/genotype/4_merge/KCHIP_HLA_SNP_1000G_merged.fam data/out_assoc/age/step_01.aa data/out_assoc/age/phenotype.phe data/out_assoc/age/step_01.omnibus.covar header0,header1,header2,header3 NA\n",
    "\n",
    "Rscript OmnibusTest_BHv5_modified-Copy1.R linear data/out_assoc/grip_strength/step_01.omnibus data/genotype/4_merge/KCHIP_HLA_SNP_1000G_merged.fam data/out_assoc/grip_strength/step_01.aa data/out_assoc/grip_strength/phenotype.phe data/out_assoc/grip_strength/step_01.omnibus.covar header0,header1,header2,header3 NA\n",
    "\n",
    "Rscript OmnibusTest_BHv5_modified-Copy1.R linear data/out_assoc/cervical_cancer/step_01.omnibus data/genotype/4_merge/KCHIP_HLA_SNP_1000G_merged.fam data/out_assoc/cervical_cancer/step_01.aa data/out_assoc/cervical_cancer/phenotype.phe data/out_assoc/cervical_cancer/step_01.omnibus.covar header0,header1,header2,header3 NA\n",
    "\n",
    "Rscript OmnibusTest_BHv5_modified.R linear data/out_assoc/grip_strength/step_01.omnibus data/genotype/4_merge/KCHIP_HLA_SNP_1000G_merged.fam data/out_assoc/grip_strength/step_01.aa data/out_assoc/grip_strength/phenotype.phe data/out_assoc/grip_strength/step_01.omnibus.covar header0,header1,header2,header3 NA\n",
    "\n",
    "Rscript OmnibusTest_BHv5_modified-Copy1.R logistic data/out_assoc/asthma/step_01.omnibus data/genotype/4_merge/KCHIP_HLA_SNP_1000G_merged.fam data/out_assoc/asthma/step_01.aa data/out_assoc/asthma/phenotype.phe data/out_assoc/asthma/step_01.omnibus.covar header0,header1,header2,header3 NA\n",
    "\n",
    "\n",
    "https://www.ncbi.nlm.nih.gov/pmc/articles/PMC6292650/"
   ]
  },
  {
   "cell_type": "code",
   "execution_count": 1,
   "metadata": {},
   "outputs": [],
   "source": [
    "import os\n",
    "import sys\n",
    "\n",
    "import logging\n",
    "import re\n",
    "import pathlib\n",
    "\n",
    "import datetime\n",
    "\n",
    "import numpy as np\n",
    "import pandas as pd\n",
    "from scipy.stats import pearsonr\n",
    "\n",
    "import matplotlib.pyplot as plt\n",
    "\n",
    "from pyplink import PyPlink\n",
    "\n",
    "from basic_tools import *"
   ]
  },
  {
   "cell_type": "code",
   "execution_count": 2,
   "metadata": {},
   "outputs": [
    {
     "data": {
      "text/plain": [
       "('data/genotype/4_merge/KCHIP_HLA.hg18.intersection_HAN.LABELED.NoSameAllele.bMarkers.2field.saveRareAllele.beagle5.1.AGM.bgl.phased.QC.aa',\n",
       " 'data/genotype/4_merge/KCHIP_HLA_SNP_1000G_merged',\n",
       " 'data/genotype/4_merge/KCHIP_HLA_AA_SNP_1000G_merged')"
      ]
     },
     "execution_count": 2,
     "metadata": {},
     "output_type": "execute_result"
    }
   ],
   "source": [
    "final_aa_path,final_plink_path,final_plink_aa_path"
   ]
  },
  {
   "cell_type": "markdown",
   "metadata": {},
   "source": [
    "# load plink, aa and check integrity"
   ]
  },
  {
   "cell_type": "code",
   "execution_count": 3,
   "metadata": {},
   "outputs": [],
   "source": [
    "plink_path=final_plink_path\n",
    "plink_aa_path=final_plink_aa_path\n",
    "aa_path=final_aa_path"
   ]
  },
  {
   "cell_type": "code",
   "execution_count": 4,
   "metadata": {},
   "outputs": [],
   "source": [
    "plink=PyPlink(plink_path)\n",
    "fam=plink.get_fam().astype({'fid':str,'iid':str}).rename(columns={'fid':'FID','iid':'IID'})\n",
    "bim=plink.get_bim()"
   ]
  },
  {
   "cell_type": "code",
   "execution_count": 5,
   "metadata": {},
   "outputs": [],
   "source": [
    "plink_aa=PyPlink(plink_aa_path)\n",
    "fam_aa=plink_aa.get_fam().astype({'fid':str,'iid':str}).rename(columns={'fid':'FID','iid':'IID'})\n",
    "bim_aa=plink_aa.get_bim()"
   ]
  },
  {
   "cell_type": "code",
   "execution_count": 6,
   "metadata": {},
   "outputs": [],
   "source": [
    "assert (fam['IID']!=fam_aa['IID']).sum()==0"
   ]
  },
  {
   "cell_type": "code",
   "execution_count": 7,
   "metadata": {},
   "outputs": [],
   "source": [
    "f=open(aa_path,'r');aa_ind=f.readline().strip().split(' ')[2:];f.close()"
   ]
  },
  {
   "cell_type": "code",
   "execution_count": 8,
   "metadata": {},
   "outputs": [],
   "source": [
    "aa_ind_1=[aa_ind[i] for i in range(0,len(aa_ind),2)]\n",
    "aa_ind_2=[aa_ind[i+1] for i in range(0,len(aa_ind),2)]"
   ]
  },
  {
   "cell_type": "code",
   "execution_count": 9,
   "metadata": {},
   "outputs": [],
   "source": [
    "assert (fam['IID']!=aa_ind_1).sum()==0\n",
    "assert (fam['IID']!=aa_ind_2).sum()==0"
   ]
  },
  {
   "cell_type": "markdown",
   "metadata": {},
   "source": [
    "# load phenotype and check integrity"
   ]
  },
  {
   "cell_type": "code",
   "execution_count": 10,
   "metadata": {},
   "outputs": [
    {
     "data": {
      "text/plain": [
       "'ID  age  sex  asthma  chronic_bronchitis  allergic_disease  stomach_cancer  liver_cancer  colorectal_cancer  breast_cancer  cervical_cancer  lung_cancer  thyroid_cancer  prostate_cancer  bladder_cancer  colon_polyps  angina_pectoris_myocardial_infarction  hypertension  stroke  transient_ischemic_attacks  acute_liver_disease  diabetes  hyperlipidemia  thyroid_disease  arthritis  rheumatoid_arthritis  osteoporosis  parkinson  pwi_total  chronic_gastritis_stomach_ulcer  duodenal_ulcer  urinary_tract_infection  height  hip_circumference  waist_circumference  weight  systolic_blood_pressure  diastolic_blood_pressure  pulse  hysterectomy  menarche_onset_age  menopause_age  menopause_cycle  ovarian_extraction  child_delivery_number  big_baby  small_baby  child_present  child_dead  hematocrit  hemoglobin  platelet  rbc  wbc  mcv  mch  mchc  total_bilirubin  bun  creatinine  blood_in_urine  glucose_in_urine  alt  ast  gtp  total_cholesterol  hdl_cholesterol  hba1c  freet4  tsh  triglyceride  albumin  hscrp  protein_in_urine  heart_failure  peripheral_vascular_diseases  cataract  glaucoma  renal_failure  renin  fatty_liver  copd  tuberculosis  benign_prostatic_hyperplasia  gout  fracture  cholelithiasis_cholecystitis  periodontal_disease  insomnia  sleep_duration  neurosis  chest_x_ray_00  chest_x_ray_01  chest_x_ray_02  chest_x_ray_03  chest_x_ray_04  chest_x_ray_05  chest_x_ray_06  chest_x_ray_07  chest_x_ray_08  chest_x_ray_09  chest_x_ray_10  chest_x_ray_11  chest_x_ray_12  chest_x_ray_13  chest_x_ray_14  chest_x_ray_15  chest_x_ray_16  chest_x_ray_17  chest_x_ray_18  chest_x_ray_19  chest_x_ray_20  chest_x_ray_21  chest_x_ray_22  chest_x_ray_23  chest_x_ray_24  chest_x_ray_25  chest_x_ray_26  chest_x_ray_27  chest_x_ray_28  chest_x_ray_29  chest_x_ray_30  chest_x_ray_31  chest_x_ray_32  chest_x_ray_33  chest_x_ray_34  grip_strength  ALP  FVC_predicted  FEV_predicted  FEV_over_FVC_predicted  MVV_predicted  bone_density_distal_sos  bone_density_midshaft_sos  protein_in_blood  glucose_in_blood  cohort  bmi'"
      ]
     },
     "execution_count": 10,
     "metadata": {},
     "output_type": "execute_result"
    }
   ],
   "source": [
    "phenotypes=pd.read_csv(pheno_all_file_path,sep='\\t')\n",
    "'  '.join(phenotypes.columns)"
   ]
  },
  {
   "cell_type": "code",
   "execution_count": 11,
   "metadata": {},
   "outputs": [
    {
     "data": {
      "text/plain": [
       "(125673, 137)"
      ]
     },
     "execution_count": 11,
     "metadata": {},
     "output_type": "execute_result"
    }
   ],
   "source": [
    "phenotypes=phenotypes.set_index('ID').loc[fam.IID]\n",
    "phenotypes.shape"
   ]
  },
  {
   "cell_type": "code",
   "execution_count": 14,
   "metadata": {},
   "outputs": [],
   "source": [
    "assert (phenotypes.index!=fam['IID']).sum()==0"
   ]
  },
  {
   "cell_type": "code",
   "execution_count": 35,
   "metadata": {},
   "outputs": [
    {
     "data": {
      "text/plain": [
       "array([nan,  0.,  1.,  2.,  3.,  4.])"
      ]
     },
     "execution_count": 35,
     "metadata": {},
     "output_type": "execute_result"
    }
   ],
   "source": []
  },
  {
   "cell_type": "code",
   "execution_count": 15,
   "metadata": {},
   "outputs": [
    {
     "data": {
      "text/plain": [
       "(Index(['sex', 'asthma', 'chronic_bronchitis', 'allergic_disease',\n",
       "        'stomach_cancer', 'liver_cancer', 'colorectal_cancer', 'breast_cancer',\n",
       "        'cervical_cancer', 'lung_cancer', 'thyroid_cancer', 'prostate_cancer',\n",
       "        'bladder_cancer', 'colon_polyps',\n",
       "        'angina_pectoris_myocardial_infarction', 'hypertension', 'stroke',\n",
       "        'transient_ischemic_attacks', 'acute_liver_disease', 'diabetes',\n",
       "        'hyperlipidemia', 'thyroid_disease', 'arthritis',\n",
       "        'rheumatoid_arthritis', 'osteoporosis', 'parkinson',\n",
       "        'chronic_gastritis_stomach_ulcer', 'duodenal_ulcer',\n",
       "        'urinary_tract_infection', 'hysterectomy', 'ovarian_extraction',\n",
       "        'big_baby', 'small_baby', 'blood_in_urine', 'glucose_in_urine',\n",
       "        'protein_in_urine', 'heart_failure', 'peripheral_vascular_diseases',\n",
       "        'cataract', 'glaucoma', 'renal_failure', 'fatty_liver', 'copd',\n",
       "        'tuberculosis', 'benign_prostatic_hyperplasia', 'gout', 'fracture',\n",
       "        'cholelithiasis_cholecystitis', 'periodontal_disease', 'insomnia',\n",
       "        'neurosis'],\n",
       "       dtype='object'), 51)"
      ]
     },
     "execution_count": 15,
     "metadata": {},
     "output_type": "execute_result"
    }
   ],
   "source": [
    "binary_traits=phenotypes.columns[phenotypes.apply(lambda x: (not 'x_ray' in x.name) & (len(x.value_counts())<3),axis=0)]\n",
    "binary_traits,len(binary_traits)"
   ]
  },
  {
   "cell_type": "code",
   "execution_count": 16,
   "metadata": {},
   "outputs": [
    {
     "data": {
      "text/plain": [
       "Index(['age', 'pwi_total', 'height', 'hip_circumference',\n",
       "       'waist_circumference', 'weight', 'systolic_blood_pressure',\n",
       "       'diastolic_blood_pressure', 'pulse', 'menarche_onset_age',\n",
       "       'menopause_age', 'menopause_cycle', 'child_delivery_number',\n",
       "       'child_present', 'child_dead', 'hematocrit', 'hemoglobin', 'platelet',\n",
       "       'rbc', 'wbc', 'mcv', 'mch', 'mchc', 'total_bilirubin', 'bun',\n",
       "       'creatinine', 'alt', 'ast', 'gtp', 'total_cholesterol',\n",
       "       'hdl_cholesterol', 'hba1c', 'freet4', 'tsh', 'triglyceride', 'albumin',\n",
       "       'hscrp', 'renin', 'sleep_duration', 'grip_strength', 'ALP',\n",
       "       'FVC_predicted', 'FEV_predicted', 'FEV_over_FVC_predicted',\n",
       "       'MVV_predicted', 'bone_density_distal_sos', 'bone_density_midshaft_sos',\n",
       "       'protein_in_blood', 'glucose_in_blood', 'cohort', 'bmi'],\n",
       "      dtype='object')"
      ]
     },
     "execution_count": 16,
     "metadata": {},
     "output_type": "execute_result"
    }
   ],
   "source": [
    "continuous_traits=phenotypes.columns[phenotypes.apply(lambda x: (not 'x_ray' in x.name) & (len(x.value_counts())>=3),axis=0)]\n",
    "continuous_traits"
   ]
  },
  {
   "cell_type": "code",
   "execution_count": 55,
   "metadata": {},
   "outputs": [
    {
     "data": {
      "text/plain": [
       "12"
      ]
     },
     "execution_count": 55,
     "metadata": {},
     "output_type": "execute_result"
    }
   ],
   "source": [
    "#binary_continuous_traits.index('ast')"
   ]
  },
  {
   "cell_type": "code",
   "execution_count": 17,
   "metadata": {},
   "outputs": [
    {
     "data": {
      "text/plain": [
       "['ALP',\n",
       " 'FEV_over_FVC_predicted',\n",
       " 'FEV_predicted',\n",
       " 'FVC_predicted',\n",
       " 'MVV_predicted',\n",
       " 'acute_liver_disease',\n",
       " 'age',\n",
       " 'albumin',\n",
       " 'allergic_disease',\n",
       " 'alt',\n",
       " 'angina_pectoris_myocardial_infarction',\n",
       " 'arthritis',\n",
       " 'ast',\n",
       " 'asthma',\n",
       " 'benign_prostatic_hyperplasia',\n",
       " 'big_baby',\n",
       " 'bladder_cancer',\n",
       " 'blood_in_urine',\n",
       " 'bmi',\n",
       " 'bone_density_distal_sos',\n",
       " 'bone_density_midshaft_sos',\n",
       " 'breast_cancer',\n",
       " 'bun',\n",
       " 'cataract',\n",
       " 'cervical_cancer',\n",
       " 'child_dead',\n",
       " 'child_delivery_number',\n",
       " 'child_present',\n",
       " 'cholelithiasis_cholecystitis',\n",
       " 'chronic_bronchitis',\n",
       " 'chronic_gastritis_stomach_ulcer',\n",
       " 'cohort',\n",
       " 'colon_polyps',\n",
       " 'colorectal_cancer',\n",
       " 'copd',\n",
       " 'creatinine',\n",
       " 'diabetes',\n",
       " 'diastolic_blood_pressure',\n",
       " 'duodenal_ulcer',\n",
       " 'fatty_liver',\n",
       " 'fracture',\n",
       " 'freet4',\n",
       " 'glaucoma',\n",
       " 'glucose_in_blood',\n",
       " 'glucose_in_urine',\n",
       " 'gout',\n",
       " 'grip_strength',\n",
       " 'gtp',\n",
       " 'hba1c',\n",
       " 'hdl_cholesterol',\n",
       " 'heart_failure',\n",
       " 'height',\n",
       " 'hematocrit',\n",
       " 'hemoglobin',\n",
       " 'hip_circumference',\n",
       " 'hscrp',\n",
       " 'hyperlipidemia',\n",
       " 'hypertension',\n",
       " 'hysterectomy',\n",
       " 'insomnia',\n",
       " 'liver_cancer',\n",
       " 'lung_cancer',\n",
       " 'mch',\n",
       " 'mchc',\n",
       " 'mcv',\n",
       " 'menarche_onset_age',\n",
       " 'menopause_age',\n",
       " 'menopause_cycle',\n",
       " 'neurosis',\n",
       " 'osteoporosis',\n",
       " 'ovarian_extraction',\n",
       " 'parkinson',\n",
       " 'periodontal_disease',\n",
       " 'peripheral_vascular_diseases',\n",
       " 'platelet',\n",
       " 'prostate_cancer',\n",
       " 'protein_in_blood',\n",
       " 'protein_in_urine',\n",
       " 'pulse',\n",
       " 'pwi_total',\n",
       " 'rbc',\n",
       " 'renal_failure',\n",
       " 'renin',\n",
       " 'rheumatoid_arthritis',\n",
       " 'sex',\n",
       " 'sleep_duration',\n",
       " 'small_baby',\n",
       " 'stomach_cancer',\n",
       " 'stroke',\n",
       " 'systolic_blood_pressure',\n",
       " 'thyroid_cancer',\n",
       " 'thyroid_disease',\n",
       " 'total_bilirubin',\n",
       " 'total_cholesterol',\n",
       " 'transient_ischemic_attacks',\n",
       " 'triglyceride',\n",
       " 'tsh',\n",
       " 'tuberculosis',\n",
       " 'urinary_tract_infection',\n",
       " 'waist_circumference',\n",
       " 'wbc',\n",
       " 'weight']"
      ]
     },
     "execution_count": 17,
     "metadata": {},
     "output_type": "execute_result"
    }
   ],
   "source": [
    "binary_continuous_traits=sorted(binary_traits.union(continuous_traits))\n",
    "binary_continuous_traits"
   ]
  },
  {
   "cell_type": "markdown",
   "metadata": {},
   "source": [
    "# parse parameter"
   ]
  },
  {
   "cell_type": "code",
   "execution_count": 18,
   "metadata": {},
   "outputs": [],
   "source": [
    "if 'ipykernel' in sys.argv[0]:\n",
    "    ipykernel=True\n",
    "    phenotype_name='child_dead'\n",
    "    #phenotype_name='height'\n",
    "    \n",
    "else:\n",
    "    ipykernel=False\n",
    "    phenotype_name=sys.argv[1]\n",
    "    if phenotype_name.isdigit():\n",
    "        phenotype_name=int(phenotype_name)\n",
    "        phenotype_name=binary_continuous_traits[phenotype_name]\n",
    "\n",
    "if phenotype_name in binary_traits:\n",
    "    phenotype_type='binary'\n",
    "elif phenotype_name in continuous_traits:\n",
    "    phenotype_type='continuous'        "
   ]
  },
  {
   "cell_type": "code",
   "execution_count": 19,
   "metadata": {},
   "outputs": [],
   "source": [
    "data_out_assoc_phenotype_path=data_out_assoc_path+phenotype_name+'/'\n",
    "pathlib.Path(data_out_assoc_phenotype_path).mkdir(parents=True, exist_ok=True)"
   ]
  },
  {
   "cell_type": "code",
   "execution_count": 20,
   "metadata": {},
   "outputs": [],
   "source": [
    "log = logging.getLogger('logger')\n",
    "log.setLevel(logging.DEBUG)\n",
    "\n",
    "log_file_name=datetime.datetime.now().strftime('%Y%m%d_%H%M%S')+'.log'\n",
    "log_file_path=data_out_assoc_phenotype_path+log_file_name\n",
    "fileHandler = logging.FileHandler(log_file_path)\n",
    "streamHandler = logging.StreamHandler()\n",
    "\n",
    "formatter = logging.Formatter(' %(asctime)s [%(levelname)s] %(lineno)d > %(message)s')\n",
    "fileHandler.setFormatter(formatter)\n",
    "streamHandler.setFormatter(formatter)\n",
    "\n",
    "log.addHandler(fileHandler)\n",
    "log.addHandler(streamHandler)"
   ]
  },
  {
   "cell_type": "code",
   "execution_count": 21,
   "metadata": {},
   "outputs": [
    {
     "name": "stderr",
     "output_type": "stream",
     "text": [
      " 2020-02-28 15:34:46,240 [INFO] 1 > phenotype_name: child_dead, phenotype_type:continuous\n"
     ]
    }
   ],
   "source": [
    "log.info(\"phenotype_name: {}, phenotype_type:{}\".format(phenotype_name,phenotype_type))"
   ]
  },
  {
   "cell_type": "code",
   "execution_count": 39,
   "metadata": {},
   "outputs": [
    {
     "data": {
      "text/plain": [
       "303"
      ]
     },
     "execution_count": 39,
     "metadata": {},
     "output_type": "execute_result"
    }
   ],
   "source": [
    "phenotypes['child_dead'].unique(),phenotypes['child_present'].unique(),phenotypes['child_dead'].unique()\n",
    "(phenotypes['child_dead']>=1).sum()"
   ]
  },
  {
   "cell_type": "code",
   "execution_count": 22,
   "metadata": {},
   "outputs": [
    {
     "name": "stderr",
     "output_type": "stream",
     "text": [
      " 2020-02-28 15:34:47,412 [INFO] 27 > ------------------per cohort---------------------------\n",
      " 2020-02-28 15:34:47,416 [INFO] 31 > cohort: 1,  3934/ 7607 (51.716%)\n",
      " 2020-02-28 15:34:47,436 [INFO] 43 > Total values: 3934\n",
      " 2020-02-28 15:34:47,437 [INFO] 27 > ------------------per cohort---------------------------\n",
      " 2020-02-28 15:34:47,440 [INFO] 31 > cohort: 2,     0/99159 (0.000%)\n",
      " 2020-02-28 15:34:47,441 [INFO] 41 > cohort 2 ignored. it may due to nonexistence of questionnaire\n",
      " 2020-02-28 15:34:47,442 [INFO] 43 > Total values: 3934\n",
      " 2020-02-28 15:34:47,443 [INFO] 27 > ------------------per cohort---------------------------\n",
      " 2020-02-28 15:34:47,446 [INFO] 31 > cohort: 3,     0/18907 (0.000%)\n",
      " 2020-02-28 15:34:47,447 [INFO] 41 > cohort 3 ignored. it may due to nonexistence of questionnaire\n",
      " 2020-02-28 15:34:47,448 [INFO] 43 > Total values: 3934\n",
      " 2020-02-28 15:34:47,455 [INFO] 49 > median:0.000, mean: 0.101, std: 0.392, max: 4.000, min: 0.000\n",
      "/home/ch6845/tools/miniconda3/envs/pytorch/lib/python3.6/site-packages/ipykernel_launcher.py:52: RuntimeWarning: invalid value encountered in greater\n",
      "/home/ch6845/tools/miniconda3/envs/pytorch/lib/python3.6/site-packages/ipykernel_launcher.py:53: RuntimeWarning: invalid value encountered in less\n",
      " 2020-02-28 15:34:47,460 [INFO] 53 > >mean+3std:68, <mean-3std:0\n",
      "/home/ch6845/tools/miniconda3/envs/pytorch/lib/python3.6/site-packages/ipykernel_launcher.py:56: RuntimeWarning: invalid value encountered in greater\n",
      "/home/ch6845/tools/miniconda3/envs/pytorch/lib/python3.6/site-packages/ipykernel_launcher.py:57: RuntimeWarning: invalid value encountered in less\n",
      " 2020-02-28 15:34:47,466 [INFO] 59 > Total values: 3866\n"
     ]
    },
    {
     "data": {
      "image/png": "[encoded data removed]",
      "text/plain": [
       "<Figure size 432x288 with 1 Axes>"
      ]
     },
     "metadata": {
      "needs_background": "light"
     },
     "output_type": "display_data"
    }
   ],
   "source": [
    "phenotype_define=np.full(len(phenotypes.index),np.nan)\n",
    "\n",
    "if phenotype_type=='binary':\n",
    "    for cohort in sorted(phenotypes['cohort'].unique()):\n",
    "        log.info('------------------per cohort---------------------------')\n",
    "        cohort_check=(phenotypes['cohort']==cohort)\n",
    "        cohort_case_check=(phenotypes['cohort']==cohort)&(phenotypes[phenotype_name]==2)\n",
    "        cohort_control_check=(phenotypes['cohort']==cohort)&(~(phenotypes[phenotype_name]==2))\n",
    "        log.info('cohort: {}, {:5d}/{:5d} ({:.3f}%)'.format(cohort,cohort_case_check.sum(),cohort_check.sum(),100*cohort_case_check.sum()/cohort_check.sum()))\n",
    "\n",
    "        if cohort_case_check.sum()>0:\n",
    "            phenotype_define[cohort_case_check]=2\n",
    "            phenotype_define[cohort_control_check]=1\n",
    "        elif np.isnan(cohort):\n",
    "            raise\n",
    "            cohort_check_temp=(phenotypes['cohort'].isnull())\n",
    "            phenotype_define[cohort_check_temp]=-9\n",
    "            log.info('missing individuals founded: {}'.format(cohort_check_temp.sum()))\n",
    "        else:\n",
    "            log.info('cohort {} ignored. it may due to nonexistence of questionnaire'.format(cohort))\n",
    "\n",
    "        log.info('Total case:'+str((phenotype_define==2).sum()))\n",
    "    log.info(\"phenotype defined\\n\"+str(pd.Series(phenotype_define).value_counts()))\n",
    "    \n",
    "elif phenotype_type=='continuous':\n",
    "    for cohort in sorted(phenotypes['cohort'].unique()):\n",
    "        log.info('------------------per cohort---------------------------')\n",
    "        cohort_check=(phenotypes['cohort']==cohort)\n",
    "        cohort_notnull_check=(phenotypes['cohort']==cohort)&(~(phenotypes[phenotype_name].isnull()))\n",
    "        #print(cohort_notnull_check,type(cohort_notnull_check))\n",
    "        log.info('cohort: {}, {:5d}/{:5d} ({:.3f}%)'.format(cohort,cohort_notnull_check.sum(),cohort_check.sum(),100*cohort_notnull_check.sum()/cohort_check.sum()))\n",
    "\n",
    "        if cohort_notnull_check.sum()>0:\n",
    "            phenotype_define[cohort_notnull_check]=phenotypes[phenotype_name][cohort_notnull_check]\n",
    "        elif np.isnan(cohort):\n",
    "            raise\n",
    "            cohort_check_temp=(phenotypes['cohort'].isnull())\n",
    "            phenotype_define[cohort_check_temp]=-9\n",
    "            log.info('missing individuals founded: {}'.format(cohort_check_temp.sum()))\n",
    "        else:\n",
    "            log.info('cohort {} ignored. it may due to nonexistence of questionnaire'.format(cohort))\n",
    "\n",
    "        log.info('Total values: {}'.format((~np.isnan(phenotype_define)).sum()))\n",
    "    \n",
    "    log.info(\"median:{:.3f}, mean: {:.3f}, std: {:.3f}, max: {:.3f}, min: {:.3f}\".format(pd.Series(phenotype_define).median(),\n",
    "                                                         pd.Series(phenotype_define).mean(),\n",
    "                                                         pd.Series(phenotype_define).std(),\n",
    "                                                         pd.Series(phenotype_define).max(),\n",
    "                                                         pd.Series(phenotype_define).min()\n",
    "                                                        )\n",
    "         )\n",
    "    if phenotype_name!='child_dead':\n",
    "        log.info(\">mean+3std:{}, <mean-3std:{}\".format((phenotype_define>pd.Series(phenotype_define).mean()+3*pd.Series(phenotype_define).std()).sum(),\n",
    "                                                    (phenotype_define<pd.Series(phenotype_define).mean()-3*pd.Series(phenotype_define).std()).sum()\n",
    "                                                   )\n",
    "             )\n",
    "        phenotype_define[phenotype_define>pd.Series(phenotype_define).mean()+3*pd.Series(phenotype_define).std()]=np.nan\n",
    "        phenotype_define[phenotype_define<pd.Series(phenotype_define).mean()-3*pd.Series(phenotype_define).std()]=np.nan\n",
    "    \n",
    "    log.info('Total values: {}'.format((~np.isnan(phenotype_define)).sum()))                                                  \n",
    "    pd.Series(phenotype_define).hist()"
   ]
  },
  {
   "cell_type": "markdown",
   "metadata": {},
   "source": [
    "https://www.ncbi.nlm.nih.gov/pmc/articles/PMC6708789/\n",
    "    \n",
    "age, gender, race, diabetes, hyperlipidemia, hypertension, and all significant alleles.\n",
    "\n",
    "\n",
    "\n",
    "phenotypes[]\n",
    "union \n",
    "* diabetes\n",
    "* hyperlipidemia\n",
    "* hypertension\n",
    "* allergic_disease\n",
    "* colon polyps\n",
    "* rheumatoid_arthritis\n",
    "\n",
    "-> unhealthy individuals -> if overlap with case-> set as missing"
   ]
  },
  {
   "cell_type": "code",
   "execution_count": 23,
   "metadata": {},
   "outputs": [],
   "source": [
    "if phenotype_type=='binary' and phenotype_name!='sex':\n",
    "    unhealthy_individuals=(phenotypes['diabetes']==2)|\\\n",
    "                            (phenotypes['hyperlipidemia']==2)|\\\n",
    "                            (phenotypes['hypertension']==2)|\\\n",
    "                            (phenotypes['allergic_disease']==2)|\\\n",
    "                            (phenotypes['colon_polyps']==2)|\\\n",
    "                            (phenotypes['rheumatoid_arthritis']==2)\n",
    "    log.info(\"unhealthy individuals: {}\".format(unhealthy_individuals.sum()))\n",
    "    log.info(\"unhealthy individuals among control removed: {}\".format(((phenotype_define==1) & (unhealthy_individuals)).sum()))\n",
    "    phenotype_define[(phenotype_define==1) & (unhealthy_individuals)]=np.nan\n",
    "    ## change to np.nan and test!!\n",
    "    log.info(\"phenotype defined\\n\"+str(pd.Series(phenotype_define).value_counts()))"
   ]
  },
  {
   "cell_type": "code",
   "execution_count": 24,
   "metadata": {},
   "outputs": [],
   "source": [
    "if phenotype_type=='binary':\n",
    "    if phenotype_name=='breast_cancer' or phenotype_name=='cervical_cancer':\n",
    "        log.info('exclude men: {}'.format(((~np.isnan(phenotype_define))&(phenotypes['sex']==1)).sum()))\n",
    "        phenotype_define[(~np.isnan(phenotype_define))&(phenotypes['sex']==1)]=np.nan\n",
    "        log.info(\"phenotype defined\\n\"+str(pd.Series(phenotype_define).value_counts()))\n",
    "    elif phenotype_name=='prostate_cancer':\n",
    "        log.info('exclude women: {}'.format(((~np.isnan(phenotype_define))&(phenotypes['sex']==2)).sum()))\n",
    "        phenotype_define[(~np.isnan(phenotype_define))&(phenotypes['sex']==2)]=np.nan\n",
    "        log.info(\"phenotype defined\\n\"+str(pd.Series(phenotype_define).value_counts()))"
   ]
  },
  {
   "cell_type": "code",
   "execution_count": 33,
   "metadata": {},
   "outputs": [],
   "source": [
    "#np.unique(phenotype_define)"
   ]
  },
  {
   "cell_type": "code",
   "execution_count": 25,
   "metadata": {},
   "outputs": [],
   "source": [
    "phenotype_define_df=pd.DataFrame(phenotype_define,index=phenotypes.index)\n",
    "\n",
    "phenotype_define_df=phenotype_define_df.loc[fam['IID']].fillna(-9)\n",
    "\n",
    "if phenotype_name in binary_traits:\n",
    "    phenotype_define_df=phenotype_define_df.astype(int)\n",
    "    \n",
    "phenotype_define_df_noindex=phenotype_define_df.reset_index().rename(columns={0:'pheno'})\n",
    "\n",
    "phenotype_define_df_noindex[[phenotype_define_df_noindex.columns[0],phenotype_define_df_noindex.columns[0],phenotype_define_df_noindex.columns[1]]].to_csv(data_out_assoc_phenotype_path+'phenotype.phe',index=None,header=None,sep='\\t')\n",
    "#phenotype_define_df_noindex[[phenotype_define_df_noindex.columns[0],phenotype_define_df_noindex.columns[0],phenotype_define_df_noindex.columns[1]]].to_csv(data_out_assoc_phenotype_path+'phenotype.pheomnibus',index=None,sep='\\t')"
   ]
  },
  {
   "cell_type": "code",
   "execution_count": 26,
   "metadata": {},
   "outputs": [
    {
     "data": {
      "text/plain": [
       "(125673, 2)"
      ]
     },
     "execution_count": 26,
     "metadata": {},
     "output_type": "execute_result"
    }
   ],
   "source": [
    "phenotype_define_df_noindex.shape"
   ]
  },
  {
   "cell_type": "code",
   "execution_count": 27,
   "metadata": {},
   "outputs": [
    {
     "name": "stderr",
     "output_type": "stream",
     "text": [
      " 2020-02-28 15:35:07,332 [INFO] 5 > -9.0    121807\n",
      " 0.0      3631\n",
      " 1.0       235\n",
      "Name: pheno, dtype: int64\n",
      " 2020-02-28 15:35:07,334 [INFO] 6 > ...\n",
      " 2020-02-28 15:35:07,338 [INFO] 7 > -9.0    121807\n",
      " 0.0      3631\n",
      " 1.0       235\n",
      "Name: pheno, dtype: int64\n"
     ]
    }
   ],
   "source": [
    "assert (phenotype_define_df_noindex['pheno']==np.nan).sum()==0\n",
    "if phenotype_type=='binary':\n",
    "    log.info(phenotype_define_df_noindex['pheno'].value_counts())\n",
    "elif phenotype_type=='continuous':\n",
    "    log.info(phenotype_define_df_noindex['pheno'].value_counts().iloc[:5])\n",
    "    log.info('...')\n",
    "    log.info(phenotype_define_df_noindex['pheno'].value_counts().iloc[-5:])\n",
    "else:\n",
    "    raise"
   ]
  },
  {
   "cell_type": "markdown",
   "metadata": {},
   "source": [
    "# Association"
   ]
  },
  {
   "cell_type": "code",
   "execution_count": 26,
   "metadata": {},
   "outputs": [],
   "source": [
    "#os.system((\"head -n5 {} | awk '{{print \"+','.join(['$'+str(i) for i in range(1,300+2+1)])+\"}}'> {}\").format(bmarker_aa_path,data_out_assoc_phenotype_path+'step_{:02d}.aa'.format(1)))\n",
    "#os.system(\"grep ' AA_' {} | awk '{{print \"+','.join(['$'+str(i) for i in range(1,300+2+1)])+\"}}'>> {}\".format(bmarker_aa_path,data_out_assoc_phenotype_path+'step_{:02d}.aa'.format(1)))\n",
    "#!head -n{150+1} {data_out_assoc_phenotype_path+'phenotype.pheomnibus'} > {data_out_assoc_phenotype_path+'phenotype_test.pheomnibus'}\n",
    "#!head -n{150} {data_out_assoc_phenotype_path+'phenotype.phe'} > {data_out_assoc_phenotype_path+'phenotype_test.phe'}\n",
    "#!head -n{150} {bmarker_plink_path+'.fam'} > {bmarker_plink_path+'_test.fam'}"
   ]
  },
  {
   "cell_type": "markdown",
   "metadata": {},
   "source": [
    "https://stackoverflow.com/questions/24369307/r-read-table-extremely-slow\n",
    "https://csgillespie.github.io/efficientR/5-3-importing-data.html\n",
    "https://m.blog.naver.com/PostView.nhn?blogId=urimee_e&logNo=220668022907&proxyReferer=https%3A%2F%2Fwww.google.com%2F"
   ]
  },
  {
   "cell_type": "markdown",
   "metadata": {},
   "source": [
    "Rscript OmnibusTest_BHv5_modified.R logistic data/out_assoc/asthma/step_00.omnibus data/genotype/3_bmarkerphased/KCHIP_HLA.hg18.intersection_HAN.LABELED.NoSameAllele.bMarkers.2field.saveRareAllele_test.fam data/out_assoc/asthma/genotype_test.aa data/out_assoc/asthma/phenotype.pheomnibus pheno - - NA\n",
    "\n",
    "Rscript OmnibusTest_BHv5.R logistic data/out_assoc/asthma/step_00.omnibus data/genotype/3_bmarkerphased/KCHIP_HLA.hg18.intersection_HAN.LABELED.NoSameAllele.bMarkers.2field.saveRareAllele_test.fam data/out_assoc/asthma/genotype_test.aa data/out_assoc/asthma/phenotype.pheomnibus pheno - - NA"
   ]
  },
  {
   "cell_type": "code",
   "execution_count": null,
   "metadata": {},
   "outputs": [],
   "source": []
  },
  {
   "cell_type": "code",
   "execution_count": 27,
   "metadata": {},
   "outputs": [
    {
     "name": "stderr",
     "output_type": "stream",
     "text": [
      "/home/ch6845/tools/miniconda3/envs/pytorch/lib/python3.6/site-packages/ipykernel_launcher.py:5: SettingWithCopyWarning: \n",
      "A value is trying to be set on a copy of a slice from a DataFrame.\n",
      "Try using .loc[row_indexer,col_indexer] = value instead\n",
      "\n",
      "See the caveats in the documentation: http://pandas.pydata.org/pandas-docs/stable/user_guide/indexing.html#returning-a-view-versus-a-copy\n",
      "  \"\"\"\n",
      "/home/ch6845/tools/miniconda3/envs/pytorch/lib/python3.6/site-packages/pandas/core/generic.py:9114: SettingWithCopyWarning: \n",
      "A value is trying to be set on a copy of a slice from a DataFrame\n",
      "\n",
      "See the caveats in the documentation: http://pandas.pydata.org/pandas-docs/stable/user_guide/indexing.html#returning-a-view-versus-a-copy\n",
      "  self._update_inplace(new_data)\n",
      "/home/ch6845/tools/miniconda3/envs/pytorch/lib/python3.6/site-packages/IPython/core/interactiveshell.py:3319: SettingWithCopyWarning: \n",
      "A value is trying to be set on a copy of a slice from a DataFrame\n",
      "\n",
      "See the caveats in the documentation: http://pandas.pydata.org/pandas-docs/stable/user_guide/indexing.html#returning-a-view-versus-a-copy\n",
      "  exec(code_obj, self.user_global_ns, self.user_ns)\n"
     ]
    },
    {
     "data": {
      "text/html": [
       "<div>\n",
       "<style scoped>\n",
       "    .dataframe tbody tr th:only-of-type {\n",
       "        vertical-align: middle;\n",
       "    }\n",
       "\n",
       "    .dataframe tbody tr th {\n",
       "        vertical-align: top;\n",
       "    }\n",
       "\n",
       "    .dataframe thead th {\n",
       "        text-align: right;\n",
       "    }\n",
       "</style>\n",
       "<table border=\"1\" class=\"dataframe\">\n",
       "  <thead>\n",
       "    <tr style=\"text-align: right;\">\n",
       "      <th></th>\n",
       "      <th>pos</th>\n",
       "      <th>A</th>\n",
       "      <th>B</th>\n",
       "      <th>C</th>\n",
       "      <th>DPA1</th>\n",
       "      <th>DPB1</th>\n",
       "      <th>DQA1</th>\n",
       "      <th>DQB1</th>\n",
       "      <th>DRB1</th>\n",
       "    </tr>\n",
       "    <tr>\n",
       "      <th>snp</th>\n",
       "      <th></th>\n",
       "      <th></th>\n",
       "      <th></th>\n",
       "      <th></th>\n",
       "      <th></th>\n",
       "      <th></th>\n",
       "      <th></th>\n",
       "      <th></th>\n",
       "      <th></th>\n",
       "    </tr>\n",
       "  </thead>\n",
       "  <tbody>\n",
       "    <tr>\n",
       "      <th>6:28000361_T/C</th>\n",
       "      <td>28000361</td>\n",
       "      <td>0</td>\n",
       "      <td>0</td>\n",
       "      <td>0</td>\n",
       "      <td>0</td>\n",
       "      <td>0</td>\n",
       "      <td>0</td>\n",
       "      <td>0</td>\n",
       "      <td>0</td>\n",
       "    </tr>\n",
       "    <tr>\n",
       "      <th>6:28000610_C/A</th>\n",
       "      <td>28000610</td>\n",
       "      <td>0</td>\n",
       "      <td>0</td>\n",
       "      <td>0</td>\n",
       "      <td>0</td>\n",
       "      <td>0</td>\n",
       "      <td>0</td>\n",
       "      <td>0</td>\n",
       "      <td>0</td>\n",
       "    </tr>\n",
       "    <tr>\n",
       "      <th>6:28001003_A/C</th>\n",
       "      <td>28001003</td>\n",
       "      <td>0</td>\n",
       "      <td>0</td>\n",
       "      <td>0</td>\n",
       "      <td>0</td>\n",
       "      <td>0</td>\n",
       "      <td>0</td>\n",
       "      <td>0</td>\n",
       "      <td>0</td>\n",
       "    </tr>\n",
       "    <tr>\n",
       "      <th>6:28001033_T/C</th>\n",
       "      <td>28001033</td>\n",
       "      <td>0</td>\n",
       "      <td>0</td>\n",
       "      <td>0</td>\n",
       "      <td>0</td>\n",
       "      <td>0</td>\n",
       "      <td>0</td>\n",
       "      <td>0</td>\n",
       "      <td>0</td>\n",
       "    </tr>\n",
       "    <tr>\n",
       "      <th>6:28001610_T/C</th>\n",
       "      <td>28001610</td>\n",
       "      <td>0</td>\n",
       "      <td>0</td>\n",
       "      <td>0</td>\n",
       "      <td>0</td>\n",
       "      <td>0</td>\n",
       "      <td>0</td>\n",
       "      <td>0</td>\n",
       "      <td>0</td>\n",
       "    </tr>\n",
       "    <tr>\n",
       "      <th>...</th>\n",
       "      <td>...</td>\n",
       "      <td>...</td>\n",
       "      <td>...</td>\n",
       "      <td>...</td>\n",
       "      <td>...</td>\n",
       "      <td>...</td>\n",
       "      <td>...</td>\n",
       "      <td>...</td>\n",
       "      <td>...</td>\n",
       "    </tr>\n",
       "    <tr>\n",
       "      <th>6:34997188_C/T</th>\n",
       "      <td>34997188</td>\n",
       "      <td>0</td>\n",
       "      <td>0</td>\n",
       "      <td>0</td>\n",
       "      <td>0</td>\n",
       "      <td>0</td>\n",
       "      <td>0</td>\n",
       "      <td>0</td>\n",
       "      <td>0</td>\n",
       "    </tr>\n",
       "    <tr>\n",
       "      <th>6:34997259_G/A</th>\n",
       "      <td>34997259</td>\n",
       "      <td>0</td>\n",
       "      <td>0</td>\n",
       "      <td>0</td>\n",
       "      <td>0</td>\n",
       "      <td>0</td>\n",
       "      <td>0</td>\n",
       "      <td>0</td>\n",
       "      <td>0</td>\n",
       "    </tr>\n",
       "    <tr>\n",
       "      <th>6:34997606_T/A</th>\n",
       "      <td>34997606</td>\n",
       "      <td>0</td>\n",
       "      <td>0</td>\n",
       "      <td>0</td>\n",
       "      <td>0</td>\n",
       "      <td>0</td>\n",
       "      <td>0</td>\n",
       "      <td>0</td>\n",
       "      <td>0</td>\n",
       "    </tr>\n",
       "    <tr>\n",
       "      <th>6:34998418_G/A</th>\n",
       "      <td>34998418</td>\n",
       "      <td>0</td>\n",
       "      <td>0</td>\n",
       "      <td>0</td>\n",
       "      <td>0</td>\n",
       "      <td>0</td>\n",
       "      <td>0</td>\n",
       "      <td>0</td>\n",
       "      <td>0</td>\n",
       "    </tr>\n",
       "    <tr>\n",
       "      <th>6:34999077_C/T</th>\n",
       "      <td>34999077</td>\n",
       "      <td>0</td>\n",
       "      <td>0</td>\n",
       "      <td>0</td>\n",
       "      <td>0</td>\n",
       "      <td>0</td>\n",
       "      <td>0</td>\n",
       "      <td>0</td>\n",
       "      <td>0</td>\n",
       "    </tr>\n",
       "  </tbody>\n",
       "</table>\n",
       "<p>74907 rows × 9 columns</p>\n",
       "</div>"
      ],
      "text/plain": [
       "                     pos  A  B  C  DPA1  DPB1  DQA1  DQB1  DRB1\n",
       "snp                                                            \n",
       "6:28000361_T/C  28000361  0  0  0     0     0     0     0     0\n",
       "6:28000610_C/A  28000610  0  0  0     0     0     0     0     0\n",
       "6:28001003_A/C  28001003  0  0  0     0     0     0     0     0\n",
       "6:28001033_T/C  28001033  0  0  0     0     0     0     0     0\n",
       "6:28001610_T/C  28001610  0  0  0     0     0     0     0     0\n",
       "...                  ... .. .. ..   ...   ...   ...   ...   ...\n",
       "6:34997188_C/T  34997188  0  0  0     0     0     0     0     0\n",
       "6:34997259_G/A  34997259  0  0  0     0     0     0     0     0\n",
       "6:34997606_T/A  34997606  0  0  0     0     0     0     0     0\n",
       "6:34998418_G/A  34998418  0  0  0     0     0     0     0     0\n",
       "6:34999077_C/T  34999077  0  0  0     0     0     0     0     0\n",
       "\n",
       "[74907 rows x 9 columns]"
      ]
     },
     "execution_count": 27,
     "metadata": {},
     "output_type": "execute_result"
    }
   ],
   "source": [
    "gene_assign=bim_aa[['pos']]\n",
    "HLA_names=np.unique([i[0].split('_')[1] for i in bim_aa[bim_aa.index.str.contains('HLA_')].index.str.split('*')])\n",
    "\n",
    "for HLA_name in HLA_names:\n",
    "    gene_assign[HLA_name]=0\n",
    "    gene_select=gene_assign[gene_assign.index.str.contains('HLA_'+HLA_name)|gene_assign.index.str.contains('SNPS_'+HLA_name)|gene_assign.index.str.contains('AA_'+HLA_name)]#print(gene_select.sort_values('pos').iloc[0],gene_select.sort_values('pos').iloc[-1])\n",
    "    gene_assign[HLA_name][(gene_assign['pos']>=gene_select['pos'].min())&(gene_assign['pos']<=gene_select['pos'].max())]=1\n",
    "gene_assign    "
   ]
  },
  {
   "cell_type": "code",
   "execution_count": 28,
   "metadata": {},
   "outputs": [],
   "source": [
    "#SNPS_C_788_31347040_exon3"
   ]
  },
  {
   "cell_type": "code",
   "execution_count": 29,
   "metadata": {},
   "outputs": [
    {
     "data": {
      "text/plain": [
       "0    96354\n",
       "1    27368\n",
       "2     1951\n",
       "dtype: int64"
      ]
     },
     "execution_count": 29,
     "metadata": {},
     "output_type": "execute_result"
    }
   ],
   "source": [
    "marker_test='6:31180554_GAAC/G'#'6:30165273_C/T'\n",
    "#marker_test='SNPS_DPB1_10095_33161891_intron4'\n",
    "#marker_test='6:32520764_G/C'\n",
    "from pyplink import PyPlink\n",
    "pd.Series(PyPlink(plink_path).get_geno_marker(marker_test)).value_counts()"
   ]
  },
  {
   "cell_type": "code",
   "execution_count": 30,
   "metadata": {},
   "outputs": [
    {
     "data": {
      "text/plain": [
       "<matplotlib.axes._subplots.AxesSubplot at 0x7f108468e2b0>"
      ]
     },
     "execution_count": 30,
     "metadata": {},
     "output_type": "execute_result"
    },
    {
     "data": {
      "image/png": "[encoded data removed]",
      "text/plain": [
       "<Figure size 432x288 with 1 Axes>"
      ]
     },
     "metadata": {
      "needs_background": "light"
     },
     "output_type": "display_data"
    }
   ],
   "source": [
    "pd.Series(phenotype_define[plink_aa.get_geno_marker(marker_test)==0]).hist(color='b',alpha=0.3)\n",
    "pd.Series(phenotype_define[plink_aa.get_geno_marker(marker_test)==1]).hist(color='r',alpha=0.3)\n",
    "pd.Series(phenotype_define[plink_aa.get_geno_marker(marker_test)==2]).hist(color='k',alpha=0.3)"
   ]
  },
  {
   "cell_type": "code",
   "execution_count": 31,
   "metadata": {},
   "outputs": [
    {
     "data": {
      "text/plain": [
       "1.099356119782161"
      ]
     },
     "execution_count": 31,
     "metadata": {},
     "output_type": "execute_result"
    }
   ],
   "source": [
    "pd.Series(phenotype_define[plink_aa.get_geno_marker(marker_test)==0]).mean()"
   ]
  },
  {
   "cell_type": "code",
   "execution_count": 32,
   "metadata": {},
   "outputs": [
    {
     "name": "stdout",
     "output_type": "stream",
     "text": [
      "1.099356119782161\n"
     ]
    },
    {
     "data": {
      "image/png": "[encoded data removed]",
      "text/plain": [
       "<Figure size 432x288 with 1 Axes>"
      ]
     },
     "metadata": {
      "needs_background": "light"
     },
     "output_type": "display_data"
    }
   ],
   "source": [
    "pd.Series(phenotype_define[plink_aa.get_geno_marker(marker_test)==0]).hist()\n",
    "plt.xlim(pd.Series(phenotype_define).min(),pd.Series(phenotype_define).max())\n",
    "print(pd.Series(phenotype_define[plink_aa.get_geno_marker(marker_test)==0]).mean())"
   ]
  },
  {
   "cell_type": "code",
   "execution_count": 33,
   "metadata": {},
   "outputs": [
    {
     "name": "stdout",
     "output_type": "stream",
     "text": [
      "1.0997794079926126\n"
     ]
    },
    {
     "data": {
      "image/png": "[encoded data removed]",
      "text/plain": [
       "<Figure size 432x288 with 1 Axes>"
      ]
     },
     "metadata": {
      "needs_background": "light"
     },
     "output_type": "display_data"
    }
   ],
   "source": [
    "pd.Series(phenotype_define[plink_aa.get_geno_marker(marker_test)==1]).hist()\n",
    "plt.xlim(pd.Series(phenotype_define).min(),pd.Series(phenotype_define).max())\n",
    "print(pd.Series(phenotype_define[plink_aa.get_geno_marker(marker_test)==1]).mean())"
   ]
  },
  {
   "cell_type": "code",
   "execution_count": 34,
   "metadata": {},
   "outputs": [
    {
     "name": "stdout",
     "output_type": "stream",
     "text": [
      "1.112326768781911\n"
     ]
    },
    {
     "data": {
      "image/png": "[encoded data removed]",
      "text/plain": [
       "<Figure size 432x288 with 1 Axes>"
      ]
     },
     "metadata": {
      "needs_background": "light"
     },
     "output_type": "display_data"
    }
   ],
   "source": [
    "pd.Series(phenotype_define[plink_aa.get_geno_marker(marker_test)==2]).hist()\n",
    "plt.xlim(pd.Series(phenotype_define).min(),pd.Series(phenotype_define).max())\n",
    "print(pd.Series(phenotype_define[plink_aa.get_geno_marker(marker_test)==2]).mean())"
   ]
  },
  {
   "cell_type": "code",
   "execution_count": 35,
   "metadata": {},
   "outputs": [
    {
     "data": {
      "text/plain": [
       "array([3, 1, 2])"
      ]
     },
     "execution_count": 35,
     "metadata": {},
     "output_type": "execute_result"
    }
   ],
   "source": [
    "phenotypes['cohort'].unique()"
   ]
  },
  {
   "cell_type": "code",
   "execution_count": null,
   "metadata": {},
   "outputs": [],
   "source": [
    "conditional_variant_list=[] #save peak variants for each step\n",
    "\n",
    "for idx in range(1,10+1):\n",
    "    log.info(\"############################################  STEP {}  ############################################\".format(idx))\n",
    "    log.info(\"##########################  STEP {}-1 Prepare input (covar,cond,etc.)  ###################################\".format(idx))\n",
    "    #Initialize *.aa\n",
    "    if os.path.exists('{}'.format(data_out_assoc_phenotype_path+'step_{:02d}.aa'.format(idx))):\n",
    "        command='rm {}'.format(data_out_assoc_phenotype_path+'step_{:02d}*'.format(idx))\n",
    "        log.info(command);os.system(command)\n",
    "    \n",
    "    #command='cp {} {}'.format()\n",
    "    #print(command);os.system(command)\n",
    "    \n",
    "    command='head -n5 {} > {}'.format(aa_path,data_out_assoc_phenotype_path+'step_{:02d}.aa'.format(idx))\n",
    "    log.info(command); assert os.system(command)==0\n",
    "    \n",
    "    command='grep \" AA_\" {} >> {}'.format(aa_path,data_out_assoc_phenotype_path+'step_{:02d}.aa'.format(idx))\n",
    "    log.info(command); assert os.system(command)==0\n",
    "\n",
    "    \n",
    "    #Initialize conditional\n",
    "    conditional_omnibus_list=[]\n",
    "    conditional_plink_list=[]\n",
    "    conditional_plink_phased_list=[]\n",
    "    \n",
    "    #Initialize covariate\n",
    "    #covariate_plink=pd.DataFrame(index=phenotypes.index) \n",
    "    #covariate_omnibus=pd.DataFrame(index=phenotypes.index) \n",
    "    \n",
    "    covariate_plink=pd.read_csv(PC_path,sep='\\t').set_index('ID').loc[fam['IID']]\n",
    "    covariate_plink['age']=phenotypes['age']\n",
    "    covariate_plink['sex']=phenotypes['sex']\n",
    "    covariate_plink['AS']=phenotypes['cohort'].replace(1,1).replace(2,0).replace(3,0)\n",
    "    covariate_plink['CT']=phenotypes['cohort'].replace(1,0).replace(2,1).replace(3,0)\n",
    "    #covariate_plink['NC']=phenotypes['cohort'].replace(1,0).replace(2,0).replace(3,1)\n",
    "    \n",
    "    covariate_omnibus=pd.read_csv(PC_path,sep='\\t').set_index('ID').loc[fam['IID']]\n",
    "    covariate_omnibus['age']=phenotypes['age']\n",
    "    covariate_omnibus['sex']=phenotypes['sex']\n",
    "    covariate_omnibus['AS']=phenotypes['cohort'].replace(1,1).replace(2,0).replace(3,0)\n",
    "    covariate_omnibus['CT']=phenotypes['cohort'].replace(1,0).replace(2,1).replace(3,0)\n",
    "    #covariate_omnibus['NC']=phenotypes['cohort'].replace(1,0).replace(2,0).replace(3,1)    \n",
    "    \n",
    "    log.info(\"##########################  STEP {}-1-1 conditional variant expansion (assign to a HLA gene)  ###################################\".format(idx))\n",
    "    log.info(\"conditional_variant_list:\"+str(conditional_variant_list))\n",
    "    conditional_variant_list_expand=[]\n",
    "    #expand\n",
    "    for assoc_type,conditional_variant in conditional_variant_list:\n",
    "        log.info('expanding {}'.format(conditional_variant))\n",
    "        if assoc_type=='omnibus':\n",
    "            for variant_name in np.unique(['_'.join(variant.split('_')[:3]) for variant in bim_aa[bim_aa.index.str.contains('AA_'+conditional_variant.split('_')[1]+'_')].index.tolist()]):#AA\n",
    "                conditional_variant_list_expand.append((\"omnibus\",variant_name))\n",
    "                log.info('found {}'.format(variant_name))\n",
    "            for variant_name in bim_aa[bim_aa.index.str.contains('HLA_'+conditional_variant.split('_')[1]+'\\*')].index:#HLA\n",
    "                conditional_variant_list_expand.append((\"plink\",variant_name))\n",
    "                log.info('found {}'.format(variant_name))\n",
    "        elif assoc_type=='plink':\n",
    "            if conditional_variant[:3]=='HLA':\n",
    "                for variant_name in np.unique(['_'.join(variant.split('_')[:3]) for variant in bim_aa[bim_aa.index.str.contains('AA_'+conditional_variant[4:].split('*')[0]+'_')].index.tolist()]):#AA\n",
    "                    conditional_variant_list_expand.append((\"omnibus\",variant_name))\n",
    "                    log.info('found {}'.format(variant_name))\n",
    "                for variant_name in bim_aa[bim_aa.index.str.contains('HLA_'+conditional_variant[4:].split('*')[0]+'\\*')].index:#HLA\n",
    "                    conditional_variant_list_expand.append((\"plink\",variant_name))                \n",
    "                    log.info('found {}'.format(variant_name))\n",
    "            else:#SNPs\n",
    "                conditional_variant_list_expand.append((\"plink\",conditional_variant))\n",
    "                log.info('found {}'.format(conditional_variant))\n",
    "                \n",
    "                r2_list=[]\n",
    "                for idx_bim,(SNP,row) in enumerate(bim_aa.iterrows()):\n",
    "                    r2=pearsonr(plink_aa.get_geno_marker(conditional_variant),plink_aa.get_geno_marker(SNP))[0]**2\n",
    "                    r2_list.append(r2)\n",
    "                r2_df=pd.DataFrame(r2_list,index=bim_aa.index)    \n",
    "\n",
    "                gene_assign_count=gene_assign[r2_df[0]>0.7].sum(axis=0).iloc[1:]    \n",
    "                log.info(\"found HLA gene with LD \\n \"+str(gene_assign_count))\n",
    "                \n",
    "                for HLA_type in gene_assign_count[gene_assign_count>0].index.tolist():\n",
    "                    for variant_name in np.unique(['_'.join(variant.split('_')[:3]) for variant in bim_aa[bim_aa.index.str.contains('AA_'+HLA_type+'_')].index.tolist()]):#AA\n",
    "                        conditional_variant_list_expand.append((\"omnibus\",variant_name))\n",
    "                        log.info('found {}'.format(variant_name))\n",
    "                    for variant_name in bim_aa[bim_aa.index.str.contains('HLA_'+HLA_type+'\\*')].index:#HLA\n",
    "                        conditional_variant_list_expand.append((\"plink\",variant_name))\n",
    "                        log.info('found {}'.format(variant_name))\n",
    "        else:\n",
    "            raise\n",
    "    log.info(\"conditional_variant_list_expand: \"+str(conditional_variant_list_expand))\n",
    "    log.info(\"##########################  STEP {}-1-2 conditional variant -> omnibus,plink,plink_phased  ###################################\".format(idx))\n",
    "    #Split conditional\n",
    "    for assoc_type,conditional_variant in conditional_variant_list_expand:\n",
    "        if assoc_type=='omnibus':\n",
    "            conditional_omnibus_list.append(conditional_variant)\n",
    "            log.info(\"{} -> omnibus\".format(conditional_variant))\n",
    "        elif assoc_type=='plink':\n",
    "            if os.path.exists('{}temp.aa'.format(data_out_assoc_phenotype_path)):\n",
    "                os.system('rm {}temp.aa'.format(data_out_assoc_phenotype_path))\n",
    "            os.system('grep \"{} \" {} > {}temp.aa'.format(conditional_variant.replace('*','\\*'),aa_path,data_out_assoc_phenotype_path));f=open('{}temp.aa'.format(data_out_assoc_phenotype_path),'r');lines=f.readlines();f.close();os.system('rm {}temp.aa'.format(data_out_assoc_phenotype_path))\n",
    "            if len(lines)==0:\n",
    "                conditional_plink_list.append(conditional_variant)\n",
    "                log.info(\"{} -> plink\".format(conditional_variant))\n",
    "            elif len(lines)==1:\n",
    "                conditional_plink_phased_list.append(conditional_variant)\n",
    "                log.info(\"{} -> plink_phased\".format(conditional_variant))\n",
    "            else:\n",
    "                raise\n",
    "        else:\n",
    "            raise\n",
    "\n",
    "    conditional_omnibus_list=list(np.unique(conditional_omnibus_list))\n",
    "    conditional_plink_list=list(np.unique(conditional_plink_list))\n",
    "    conditional_plink_phased_list=list(np.unique(conditional_plink_phased_list))\n",
    "    \n",
    "    log.info('conditional_omnibus_list: '+str(conditional_omnibus_list))\n",
    "    log.info('conditional_plink_list: '+str(conditional_plink_list))\n",
    "    log.info('conditional_plink_phased_list: '+str(conditional_plink_phased_list))\n",
    "    \n",
    "    \n",
    "    #Process condition\n",
    "    #(1) Omnibus AA peak\n",
    "    log.info(\"##########################  STEP {}-1-3 process conditional_omnibus_list  ###################################\".format(idx))\n",
    "    \n",
    "    \n",
    "    for conditional_variant in conditional_omnibus_list:\n",
    "        log.info(\"Process {}\".format(conditional_variant))\n",
    "        #individual_list=fam.IID#pd.read_csv(plink_path+'.fam',header=None,sep=' ')[1]\n",
    "        if os.path.exists('{}temp.aa'.format(data_out_assoc_phenotype_path)):\n",
    "            os.system('rm {}temp.aa'.format(data_out_assoc_phenotype_path))\n",
    "        os.system('grep \"{} \" {} > {}temp.aa'.format(conditional_variant.replace('*','\\*'),aa_path,data_out_assoc_phenotype_path));f=open('{}temp.aa'.format(data_out_assoc_phenotype_path),'r');lines=f.readlines();f.close();os.system('rm {}temp.aa'.format(data_out_assoc_phenotype_path))\n",
    "        marker_name=lines[0].split(' ')[1]\n",
    "        assert marker_name==conditional_variant;assert len(lines)==1\n",
    "        aa_call_list=np.array(lines[0].strip().split(' ')[2:])\n",
    "        aa_call_list_group=np.array([(aa_call_list[i],aa_call_list[i+1]) for i in range(0,len(aa_call_list),2)])\n",
    "\n",
    "        residue_dosage_all=pd.DataFrame(index=fam.IID)\n",
    "        for residue in np.unique(aa_call_list):\n",
    "            log.info(\"residue {} \".format(residue)+(\"skipped\" if residue=='NA' else \"dosage count\"))\n",
    "            if residue==\"NA\":\n",
    "                continue\n",
    "            residue_dosage=pd.Series(0,index=fam.IID)\n",
    "            residue_dosage.loc[(aa_call_list_group[:,0]==residue)]+=1\n",
    "            residue_dosage.loc[(aa_call_list_group[:,1]==residue)]+=1\n",
    "            residue_dosage_all[residue]=residue_dosage\n",
    "        log.info(\"ignored {} among \\n{}\".format(residue_dosage_all.sum().sort_values(ascending=True).index[-1],residue_dosage_all.sum().sort_values(ascending=True)))\n",
    "\n",
    "        residue_dosage_all_excluded=residue_dosage_all[residue_dosage_all.sum().sort_values(ascending=True)[:-1].index]#exclude the most frequent residue\n",
    "        for residue,row in residue_dosage_all_excluded.items():\n",
    "            covariate_plink[conditional_variant+'_'+residue]=row        \n",
    "        log.info(\"plink covariate \"+str(covariate_plink.columns))    \n",
    "        \n",
    "    #(2) Plink unphased peak (1000G-SNP)\n",
    "    log.info(\"##########################  STEP {}-1-4 process conditional_plink_list  ###################################\".format(idx))\n",
    "    for conditional_variant in conditional_plink_list:\n",
    "        log.info(\"** process {}\".format(conditional_variant))\n",
    "        dosage=plink.get_geno_marker(conditional_variant).astype(float)\n",
    "        dosage[dosage==-1]=np.nan\n",
    "        covariate_omnibus[conditional_variant]=dosage\n",
    "        log.info(\"added dosage of {} to omnibus covariate\".format(conditional_variant))\n",
    "        \n",
    "    #(3) Plink phased peak (KCHIP-HLA, SNP)\n",
    "    log.info(\"##########################  STEP {}-1-5 process conditional_plink_phased_list  ###################################\".format(idx))\n",
    "    for conditional_variant in conditional_plink_phased_list:\n",
    "        log.info(\"** process {}\".format(conditional_variant))\n",
    "        #Attach to aa file\n",
    "        if os.path.exists('{}temp.aa'.format(data_out_assoc_phenotype_path)):\n",
    "            os.system('rm {}temp.aa'.format(data_out_assoc_phenotype_path));\n",
    "        \n",
    "        os.system('grep \"{} \" {} > {}temp.aa'.format(conditional_variant.replace('*','\\*'),aa_path,data_out_assoc_phenotype_path));f=open('{}temp.aa'.format(data_out_assoc_phenotype_path),'r');lines=f.readlines();f.close();assert len(lines)==1\n",
    "        os.system('cat {}temp.aa >> {}'.format(data_out_assoc_phenotype_path,data_out_assoc_phenotype_path+'step_{:02d}.aa'.format(idx)))\n",
    "        os.system('rm {}temp.aa'.format(data_out_assoc_phenotype_path))\n",
    "        log.info(\"added phased information of {} to aa file\".format(conditional_variant))\n",
    "    \n",
    "    \n",
    "    \n",
    "    log.info(\"##########################  STEP {}-1-6 save covariate, condition  ###################################\".format(idx))\n",
    "    log.info('convarite_omnibus: '+str(covariate_omnibus.columns[:] if len(covariate_omnibus.columns)!=0 else []))\n",
    "    log.info('convarite_plink: '+str(covariate_plink.columns[:] if len(covariate_plink.columns)!=0 else []))\n",
    "    \n",
    "    \n",
    "    \n",
    "    covariate_plink=covariate_plink.reset_index()\n",
    "    if covariate_plink.shape[1]>1:\n",
    "        covariate_plink[[covariate_plink.columns[0],covariate_plink.columns[0]]+covariate_plink.columns[1:].values.tolist()].fillna(-9).to_csv(data_out_assoc_phenotype_path+'step_{:02d}.plink.covar'.format(idx),index=None,sep='\\t')\n",
    "        #covariate_plink[[covariate_plink.columns[0],covariate_plink.columns[0]]].to_csv(data_out_assoc_phenotype_path+'step_{:02d}.plink.covar'.format(idx),index=None,sep='\\t')\n",
    "    \n",
    "    \n",
    "    \n",
    "    covariate_omnibus.columns=['header{}'.format(i) for i in range(len(covariate_omnibus.columns))]\n",
    "    covariate_omnibus=covariate_omnibus.reset_index()\n",
    "    if covariate_omnibus.shape[1]>1:\n",
    "        covariate_omnibus[covariate_omnibus.columns[1:]].to_csv(data_out_assoc_phenotype_path+'step_{:02d}.omnibus.covar'.format(idx),index=None,sep='\\t',na_rep='NA')\n",
    "        #covariate_omnibus[[covariate_omnibus.columns[0]]].to_csv(data_out_assoc_phenotype_path+'step_{:02d}.omnibus.covar'.format(idx),index=None,sep='\\t')\n",
    "    \n",
    "    pd.Series(conditional_plink_list+conditional_plink_phased_list).to_csv(data_out_assoc_phenotype_path+'step_{:02d}.plink.cond'.format(idx),index=None,sep='\\t')\n",
    "    #pd.Series(conditional_omnibus_list).to_csv(data_out_assoc_phenotype_path+'step_{:02d}.omnibus.cond'.format(idx))\n",
    "    \n",
    "    #Run plink association test\n",
    "    log.info(\"#########################################  STEP {}-2 Plink Association  #########################################\".format(idx))\n",
    "    command='plink2 --bfile {bfile} {assoc_mode} --pheno {pheno} {covar_on} {covar} --condition-list {condition_list} --out {out} --covar-variance-standardize --threads 20'.format(bfile=plink_path,\n",
    "                                                                                                                        assoc_mode='--logistic' if phenotype_type=='binary' else '--linear',\n",
    "                                                                                                                         pheno=data_out_assoc_phenotype_path+'phenotype.phe',\n",
    "                                                                                                                         covar_on='--covar' if len(covariate_plink.columns[1:])!=0 else '',\n",
    "                                                                                                                         covar=data_out_assoc_phenotype_path+'step_{:02d}.plink.covar'.format(idx) if len(covariate_plink.columns[1:])!=0 else '',\n",
    "                                                                                                                         condition_list=data_out_assoc_phenotype_path+'step_{:02d}.plink.cond'.format(idx),\n",
    "                                                                                                                         out=data_out_assoc_phenotype_path+'step_{:02d}.plink'.format(idx)                                                                         \n",
    "                                                                                                                        )\n",
    "    log.info(command)\n",
    "    stdout,stderr=run_subprocess(command,dry=False)\n",
    "    log.info(stdout)\n",
    "    log.error(stderr)\n",
    "    \n",
    "    \n",
    "    log.info(\"#########################################  STEP {}-3 Omnibus Association  #########################################\".format(idx))\n",
    "    #Run omnibus association test\n",
    "    command='Rscript OmnibusTest_BHv5_modified.R {assoc_mode} {output} {fam} {aa} {phe} {covar} {covarname} {condvar}'.format(assoc_mode='logistic' if phenotype_type=='binary' else 'linear',\n",
    "                                                                                                                         output=data_out_assoc_phenotype_path+'step_{:02d}.omnibus'.format(idx),\n",
    "                                                                                                                         aa=data_out_assoc_phenotype_path+'step_{:02d}.aa'.format(idx),\n",
    "                                                                                                                         fam=plink_path+'.fam',\n",
    "                                                                                                                         phe=data_out_assoc_phenotype_path+'phenotype.phe',\n",
    "                                                                                                                         covar=data_out_assoc_phenotype_path+'step_{:02d}.omnibus.covar'.format(idx) if len(covariate_omnibus.columns[1:])!=0 else 'NA',\n",
    "                                                                                                                         covarname=','.join(covariate_omnibus.columns[1:]) if len(covariate_omnibus.columns[1:])!=0 else 'NA',\n",
    "                                                                                                                         condvar=','.join(conditional_omnibus_list+conditional_plink_phased_list) if len(conditional_omnibus_list+conditional_plink_phased_list)!=0 else 'NA'\n",
    "                                                                                                                        )\n",
    "    log.info(command)\n",
    "    stdout,stderr=run_subprocess(command,dry=False)\n",
    "    log.info(stdout)\n",
    "    log.error(stderr)\n",
    "    \n",
    "    \n",
    "    log.info(\"#########################################  STEP {}-4 Result Save  #########################################\".format(idx))\n",
    "    \n",
    "    #Data save\n",
    "    #plink_assoc_result=parse_plink_assoc(data_out_assoc_phenotype_path+'step_{:02d}.plink.{}assoc'.format(idx,'' if phenotype_type=='binary' else 'q'))\n",
    "    #plink_assoc_result.to_csv(data_out_assoc_phenotype_path+'step_{:02d}.plink.{}assoc.munged'.format(idx,'' if phenotype_type=='binary' else 'q'))\n",
    "    #plink_assoc_result_sorted=plink_assoc_result.sort_values('P')    \n",
    "    #plink_assoc_result_sorted.to_csv(data_out_assoc_phenotype_path+'step_{:02d}.plink.{}assoc.sorted_'.format(idx,'' if phenotype_type=='binary' else 'q'),sep='\\t',index=None)    \n",
    "    \n",
    "    plink_assoc_result=pd.read_csv(data_out_assoc_phenotype_path+'step_{:02d}.plink.PHENO2.glm.{}'.format(idx,'logistic' if phenotype_type=='binary' else 'linear'),sep='\\t').astype({'P':float})\n",
    "    plink_assoc_result=plink_assoc_result[plink_assoc_result['TEST']=='ADD']\n",
    "    plink_assoc_result.to_csv(data_out_assoc_phenotype_path+'step_{:02d}.plink.PHENO2.glm.{}.munged'.format(idx,'logistic' if phenotype_type=='binary' else 'linear'),sep='\\t',index=None)\n",
    "    plink_assoc_result_sorted=plink_assoc_result.sort_values('P')    \n",
    "    plink_assoc_result_sorted.to_csv(data_out_assoc_phenotype_path+'step_{:02d}.plink.PHENO2.glm.{}.sorted'.format(idx,'logistic' if phenotype_type=='binary' else 'linear'),sep='\\t',index=None)\n",
    "    \n",
    "    omnibus_assoc_result=pd.read_csv(data_out_assoc_phenotype_path+'step_{:02d}.omnibus.assoc'.format(idx),sep='\\t').astype({'P':float})\n",
    "    omnibus_assoc_result.to_csv(data_out_assoc_phenotype_path+'step_{:02d}.omnibus.assoc.munged'.format(idx),sep='\\t',index=None)\n",
    "    omnibus_assoc_result_sorted=omnibus_assoc_result.sort_values('P')\n",
    "    omnibus_assoc_result_sorted.to_csv(data_out_assoc_phenotype_path+'step_{:02d}.omnibus.assoc.sorted'.format(idx),sep='\\t',index=None)\n",
    "    \n",
    "    #Identify Peak variant\n",
    "    log.info(\"Plink association result\")\n",
    "    log.info(plink_assoc_result_sorted.head(5))\n",
    "    log.info(\"Omnibus association result\")\n",
    "    log.info(omnibus_assoc_result_sorted.head(5))\n",
    "    \n",
    "    if plink_assoc_result_sorted.iloc[0]['P'] < omnibus_assoc_result_sorted.iloc[0]['P']:\n",
    "        variant_name=plink_assoc_result_sorted.iloc[0]['ID']\n",
    "        log.info('Plink win!!! {}'.format(variant_name))\n",
    "        conditional_variant_list.append((\"plink\",variant_name))        \n",
    "        if plink_assoc_result_sorted.iloc[0]['P']>5e-8:\n",
    "            log.info('p-value of {}({}) is larger than 5x10^-8. finish conditional analysis'.format(variant_name,plink_assoc_result_sorted.iloc[0]['P']))\n",
    "            break\n",
    "    else:\n",
    "        variant_name=omnibus_assoc_result_sorted.iloc[0]['Variant']\n",
    "        log.info('Omnibus win!!! {}'.format(variant_name))\n",
    "        conditional_variant_list.append((\"omnibus\",variant_name))\n",
    "        if omnibus_assoc_result_sorted.iloc[0]['P']>5e-8:\n",
    "            log.info('p-value of {}({}) is larger than 5x10^-8. finish conditional analysis'.format(variant_name,omnibus_assoc_result_sorted.iloc[0]['P']))\n",
    "            break\n",
    "    "
   ]
  },
  {
   "cell_type": "code",
   "execution_count": 125,
   "metadata": {},
   "outputs": [],
   "source": []
  }
 ],
 "metadata": {
  "kernelspec": {
   "display_name": "Python 3",
   "language": "python",
   "name": "python3"
  },
  "language_info": {
   "codemirror_mode": {
    "name": "ipython",
    "version": 3
   },
   "file_extension": ".py",
   "mimetype": "text/x-python",
   "name": "python",
   "nbconvert_exporter": "python",
   "pygments_lexer": "ipython3",
   "version": "3.6.9"
  }
 },
 "nbformat": 4,
 "nbformat_minor": 4
}
