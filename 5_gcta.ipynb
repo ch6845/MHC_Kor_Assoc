{
 "cells": [
  {
   "cell_type": "code",
   "execution_count": 3,
   "metadata": {},
   "outputs": [],
   "source": [
    "from basic_tools import *"
   ]
  },
  {
   "cell_type": "code",
   "execution_count": 7,
   "metadata": {},
   "outputs": [
    {
     "data": {
      "text/plain": [
       "'gcta64 --bfile data/genotype/4_merge/KCHIP_HLA_AA_SNP_1000G_merged --make-grm --out data/genotype/4_merge/KCHIP_HLA_AA_SNP_1000G_merged.grm --thread-num 40'"
      ]
     },
     "execution_count": 7,
     "metadata": {},
     "output_type": "execute_result"
    }
   ],
   "source": [
    "command='gcta64 --bfile {} --make-grm --out {} --thread-num 40'.format(final_plink_aa_path,final_plink_aa_path+'.grm')\n",
    "command"
   ]
  },
  {
   "cell_type": "code",
   "execution_count": 9,
   "metadata": {},
   "outputs": [
    {
     "data": {
      "text/plain": [
       "'gcta64 --HEreg --grm data/genotype/4_merge/KCHIP_HLA_AA_SNP_1000G_merged.grm --pheno data/out_assoc/height/phenotype.phe --out data/out_assoc/height/HE --thread-num 40'"
      ]
     },
     "execution_count": 9,
     "metadata": {},
     "output_type": "execute_result"
    }
   ],
   "source": [
    "command='gcta64 --HEreg --grm {} --pheno data/out_assoc/height/phenotype.phe --out data/out_assoc/height/HE --thread-num 40'.format(final_plink_aa_path+'.grm')\n",
    "command"
   ]
  },
  {
   "cell_type": "code",
   "execution_count": null,
   "metadata": {},
   "outputs": [],
   "source": [
    "awk '{print $3}' data/out_assoc/height/phenotype.phe > temp.phe;\n",
    "paste data/out_assoc/height/phenotype.phe temp.phe > temp2.phe\n",
    "head temp2.phe"
   ]
  },
  {
   "cell_type": "code",
   "execution_count": null,
   "metadata": {},
   "outputs": [],
   "source": [
    "gcta64 --HEreg-bivar 1 2 --grm data/genotype/4_merge/grm --pheno temp2.phe --out data/out_assoc/height/HE2 --thread-num 40"
   ]
  },
  {
   "cell_type": "code",
   "execution_count": null,
   "metadata": {},
   "outputs": [],
   "source": []
  },
  {
   "cell_type": "code",
   "execution_count": null,
   "metadata": {},
   "outputs": [],
   "source": []
  }
 ],
 "metadata": {
  "kernelspec": {
   "display_name": "Python 3",
   "language": "python",
   "name": "python3"
  },
  "language_info": {
   "codemirror_mode": {
    "name": "ipython",
    "version": 3
   },
   "file_extension": ".py",
   "mimetype": "text/x-python",
   "name": "python",
   "nbconvert_exporter": "python",
   "pygments_lexer": "ipython3",
   "version": "3.6.9"
  }
 },
 "nbformat": 4,
 "nbformat_minor": 4
}
