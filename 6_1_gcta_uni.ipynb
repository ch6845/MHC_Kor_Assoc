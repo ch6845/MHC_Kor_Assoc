{
 "cells": [
  {
   "cell_type": "markdown",
   "metadata": {},
   "source": [
    "jupyter nbconvert 6_gcta_uni.ipynb --to script\n",
    "\n",
    "for i in {00..101};do python 6_gcta_uni.py $i;done\n",
    "\n",
    "for i in {00..10};do python 4_association.py $i;done\n",
    "\n",
    "\n",
    "https://www.ncbi.nlm.nih.gov/pmc/articles/PMC6292650/"
   ]
  },
  {
   "cell_type": "code",
   "execution_count": 1,
   "metadata": {},
   "outputs": [],
   "source": [
    "import os\n",
    "import sys\n",
    "\n",
    "import logging\n",
    "import re\n",
    "import pathlib\n",
    "\n",
    "import datetime\n",
    "\n",
    "import numpy as np\n",
    "import pandas as pd\n",
    "from scipy.stats import pearsonr\n",
    "\n",
    "import matplotlib.pyplot as plt\n",
    "\n",
    "from pyplink import PyPlink\n",
    "\n",
    "from basic_tools import *"
   ]
  },
  {
   "cell_type": "markdown",
   "metadata": {},
   "source": [
    "# load plink, aa and check integrity"
   ]
  },
  {
   "cell_type": "code",
   "execution_count": 2,
   "metadata": {},
   "outputs": [],
   "source": [
    "plink_KCHIP_HLA_AA_SNP_1000G=PyPlink(plink_KCHIP_HLA_AA_SNP_1000G_path)\n",
    "plink_KCHIP_HLA_AA_SNP_1000G_fam=plink_KCHIP_HLA_AA_SNP_1000G.get_fam().astype({'fid':str,'iid':str}).rename(columns={'fid':'FID','iid':'IID'})\n",
    "plink_KCHIP_HLA_AA_SNP_1000G_bim=plink_KCHIP_HLA_AA_SNP_1000G.get_bim()"
   ]
  },
  {
   "cell_type": "code",
   "execution_count": 3,
   "metadata": {},
   "outputs": [],
   "source": [
    "grm_path='data/genotype/4_merge/KCHIP_HLA_AA_SNP_1000G.grm'"
   ]
  },
  {
   "cell_type": "code",
   "execution_count": 4,
   "metadata": {},
   "outputs": [],
   "source": [
    "#final_plink_aa_grm_path"
   ]
  },
  {
   "cell_type": "markdown",
   "metadata": {},
   "source": [
    "# load phenotype and check integrity"
   ]
  },
  {
   "cell_type": "code",
   "execution_count": 5,
   "metadata": {},
   "outputs": [
    {
     "data": {
      "text/plain": [
       "'ID  age  sex  asthma  chronic_bronchitis  allergic_disease  stomach_cancer  liver_cancer  colorectal_cancer  breast_cancer  cervical_cancer  lung_cancer  thyroid_cancer  prostate_cancer  bladder_cancer  colon_polyps  angina_pectoris_myocardial_infarction  hypertension  stroke  transient_ischemic_attacks  acute_liver_disease  diabetes  hyperlipidemia  thyroid_disease  arthritis  rheumatoid_arthritis  osteoporosis  parkinson  pwi_total  chronic_gastritis_stomach_ulcer  duodenal_ulcer  urinary_tract_infection  height  hip_circumference  waist_circumference  weight  systolic_blood_pressure  diastolic_blood_pressure  pulse  hysterectomy  menarche_onset_age  menopause_age  menopause_cycle  ovarian_extraction  child_delivery_number  big_baby  small_baby  child_present  child_dead  hematocrit  hemoglobin  platelet  rbc  wbc  mcv  mch  mchc  total_bilirubin  bun  creatinine  blood_in_urine  glucose_in_urine  alt  ast  gtp  total_cholesterol  hdl_cholesterol  hba1c  freet4  tsh  triglyceride  albumin  hscrp  protein_in_urine  heart_failure  peripheral_vascular_diseases  cataract  glaucoma  renal_failure  renin  fatty_liver  copd  tuberculosis  benign_prostatic_hyperplasia  gout  fracture  cholelithiasis_cholecystitis  periodontal_disease  insomnia  sleep_duration  neurosis  chest_x_ray_00  chest_x_ray_01  chest_x_ray_02  chest_x_ray_03  chest_x_ray_04  chest_x_ray_05  chest_x_ray_06  chest_x_ray_07  chest_x_ray_08  chest_x_ray_09  chest_x_ray_10  chest_x_ray_11  chest_x_ray_12  chest_x_ray_13  chest_x_ray_14  chest_x_ray_15  chest_x_ray_16  chest_x_ray_17  chest_x_ray_18  chest_x_ray_19  chest_x_ray_20  chest_x_ray_21  chest_x_ray_22  chest_x_ray_23  chest_x_ray_24  chest_x_ray_25  chest_x_ray_26  chest_x_ray_27  chest_x_ray_28  chest_x_ray_29  chest_x_ray_30  chest_x_ray_31  chest_x_ray_32  chest_x_ray_33  chest_x_ray_34  grip_strength  ALP  FVC_predicted  FEV_predicted  FEV_over_FVC_predicted  MVV_predicted  bone_density_distal_sos  bone_density_midshaft_sos  protein_in_blood  glucose_in_blood  cohort  bmi'"
      ]
     },
     "execution_count": 5,
     "metadata": {},
     "output_type": "execute_result"
    }
   ],
   "source": [
    "phenotypes=pd.read_csv(pheno_all_file_path,sep='\\t')\n",
    "'  '.join(phenotypes.columns)"
   ]
  },
  {
   "cell_type": "code",
   "execution_count": 6,
   "metadata": {},
   "outputs": [
    {
     "data": {
      "text/plain": [
       "(125673, 137)"
      ]
     },
     "execution_count": 6,
     "metadata": {},
     "output_type": "execute_result"
    }
   ],
   "source": [
    "phenotypes=phenotypes.set_index('ID').loc[plink_KCHIP_HLA_AA_SNP_1000G_fam['IID']]\n",
    "phenotypes.shape"
   ]
  },
  {
   "cell_type": "code",
   "execution_count": 7,
   "metadata": {},
   "outputs": [],
   "source": [
    "#np.all(phenotypes['ALP'].isnull())"
   ]
  },
  {
   "cell_type": "code",
   "execution_count": 8,
   "metadata": {},
   "outputs": [],
   "source": [
    "assert (phenotypes.index!=plink_KCHIP_HLA_AA_SNP_1000G_fam['IID']).sum()==0"
   ]
  },
  {
   "cell_type": "code",
   "execution_count": 9,
   "metadata": {},
   "outputs": [
    {
     "data": {
      "text/plain": [
       "(['ALP',\n",
       "  'FEV_over_FVC_predicted',\n",
       "  'FEV_predicted',\n",
       "  'FVC_predicted',\n",
       "  'MVV_predicted',\n",
       "  'acute_liver_disease',\n",
       "  'age',\n",
       "  'albumin',\n",
       "  'allergic_disease',\n",
       "  'alt',\n",
       "  'angina_pectoris_myocardial_infarction',\n",
       "  'arthritis',\n",
       "  'ast',\n",
       "  'asthma',\n",
       "  'benign_prostatic_hyperplasia',\n",
       "  'big_baby',\n",
       "  'bladder_cancer',\n",
       "  'blood_in_urine',\n",
       "  'bmi',\n",
       "  'bone_density_distal_sos',\n",
       "  'bone_density_midshaft_sos',\n",
       "  'breast_cancer',\n",
       "  'bun',\n",
       "  'cataract',\n",
       "  'cervical_cancer',\n",
       "  'child_dead',\n",
       "  'child_delivery_number',\n",
       "  'child_present',\n",
       "  'cholelithiasis_cholecystitis',\n",
       "  'chronic_bronchitis',\n",
       "  'chronic_gastritis_stomach_ulcer',\n",
       "  'cohort',\n",
       "  'colon_polyps',\n",
       "  'colorectal_cancer',\n",
       "  'copd',\n",
       "  'creatinine',\n",
       "  'diabetes',\n",
       "  'diastolic_blood_pressure',\n",
       "  'duodenal_ulcer',\n",
       "  'fatty_liver',\n",
       "  'fracture',\n",
       "  'freet4',\n",
       "  'glaucoma',\n",
       "  'glucose_in_blood',\n",
       "  'glucose_in_urine',\n",
       "  'gout',\n",
       "  'grip_strength',\n",
       "  'gtp',\n",
       "  'hba1c',\n",
       "  'hdl_cholesterol',\n",
       "  'heart_failure',\n",
       "  'height',\n",
       "  'hematocrit',\n",
       "  'hemoglobin',\n",
       "  'hip_circumference',\n",
       "  'hscrp',\n",
       "  'hyperlipidemia',\n",
       "  'hypertension',\n",
       "  'hysterectomy',\n",
       "  'insomnia',\n",
       "  'liver_cancer',\n",
       "  'lung_cancer',\n",
       "  'mch',\n",
       "  'mchc',\n",
       "  'mcv',\n",
       "  'menarche_onset_age',\n",
       "  'menopause_age',\n",
       "  'menopause_cycle',\n",
       "  'neurosis',\n",
       "  'osteoporosis',\n",
       "  'ovarian_extraction',\n",
       "  'parkinson',\n",
       "  'periodontal_disease',\n",
       "  'peripheral_vascular_diseases',\n",
       "  'platelet',\n",
       "  'prostate_cancer',\n",
       "  'protein_in_blood',\n",
       "  'protein_in_urine',\n",
       "  'pulse',\n",
       "  'pwi_total',\n",
       "  'rbc',\n",
       "  'renal_failure',\n",
       "  'renin',\n",
       "  'rheumatoid_arthritis',\n",
       "  'sex',\n",
       "  'sleep_duration',\n",
       "  'small_baby',\n",
       "  'stomach_cancer',\n",
       "  'stroke',\n",
       "  'systolic_blood_pressure',\n",
       "  'thyroid_cancer',\n",
       "  'thyroid_disease',\n",
       "  'total_bilirubin',\n",
       "  'total_cholesterol',\n",
       "  'transient_ischemic_attacks',\n",
       "  'triglyceride',\n",
       "  'tsh',\n",
       "  'tuberculosis',\n",
       "  'urinary_tract_infection',\n",
       "  'waist_circumference',\n",
       "  'wbc',\n",
       "  'weight'],\n",
       " 102)"
      ]
     },
     "execution_count": 9,
     "metadata": {},
     "output_type": "execute_result"
    }
   ],
   "source": [
    "binary_continuous_traits=sorted(phenotypes.columns[~phenotypes.columns.str.contains('x_ray')])\n",
    "binary_continuous_traits,len(binary_continuous_traits)"
   ]
  },
  {
   "cell_type": "markdown",
   "metadata": {},
   "source": [
    "# parse parameter"
   ]
  },
  {
   "cell_type": "code",
   "execution_count": 10,
   "metadata": {},
   "outputs": [],
   "source": [
    "if 'ipykernel' in sys.argv[0]:\n",
    "    ipykernel=True\n",
    "    phenotype_name='diabetes'\n",
    "    #phenotype_name='height'\n",
    "else:\n",
    "    ipykernel=False\n",
    "    phenotype_name=sys.argv[1]\n",
    "if phenotype_name.isdigit():\n",
    "    phenotype_name=int(phenotype_name)\n",
    "    phenotype_name=binary_continuous_traits[phenotype_name]      "
   ]
  },
  {
   "cell_type": "code",
   "execution_count": 11,
   "metadata": {},
   "outputs": [],
   "source": [
    "pheno=pd.read_csv(data_out_pheno_path+phenotype_name+'.phe',sep='\\t',header=None,names=['FID','IID','pheno'])\n",
    "phenotype_type='binary' if len(pheno['pheno'].value_counts())<3 else 'continuous'"
   ]
  },
  {
   "cell_type": "code",
   "execution_count": 12,
   "metadata": {},
   "outputs": [
    {
     "name": "stdout",
     "output_type": "stream",
     "text": [
      "ALP True\n",
      "FEV_over_FVC_predicted True\n",
      "FEV_predicted True\n",
      "FVC_predicted True\n",
      "MVV_predicted True\n",
      "acute_liver_disease True\n",
      "age True\n",
      "albumin True\n",
      "allergic_disease True\n",
      "alt True\n",
      "angina_pectoris_myocardial_infarction True\n",
      "arthritis True\n",
      "ast True\n",
      "asthma True\n",
      "benign_prostatic_hyperplasia True\n",
      "big_baby True\n",
      "bladder_cancer True\n",
      "blood_in_urine True\n",
      "bmi True\n",
      "bone_density_distal_sos True\n",
      "bone_density_midshaft_sos True\n",
      "breast_cancer True\n",
      "bun True\n",
      "cataract True\n",
      "cervical_cancer True\n",
      "child_dead True\n",
      "child_delivery_number True\n",
      "child_present True\n",
      "cholelithiasis_cholecystitis True\n",
      "chronic_bronchitis True\n",
      "chronic_gastritis_stomach_ulcer True\n",
      "cohort True\n",
      "colon_polyps True\n",
      "colorectal_cancer True\n",
      "copd True\n",
      "creatinine True\n",
      "diabetes True\n",
      "diastolic_blood_pressure True\n",
      "duodenal_ulcer True\n",
      "fatty_liver True\n",
      "fracture True\n",
      "freet4 True\n",
      "glaucoma True\n",
      "glucose_in_blood True\n",
      "glucose_in_urine True\n",
      "gout True\n",
      "grip_strength True\n",
      "gtp True\n",
      "hba1c True\n",
      "hdl_cholesterol True\n",
      "heart_failure True\n",
      "height True\n",
      "hematocrit True\n",
      "hemoglobin True\n",
      "hip_circumference True\n",
      "hscrp True\n",
      "hyperlipidemia True\n",
      "hypertension True\n",
      "hysterectomy True\n",
      "insomnia True\n",
      "liver_cancer True\n",
      "lung_cancer True\n",
      "mch True\n",
      "mchc True\n",
      "mcv True\n",
      "menarche_onset_age True\n",
      "menopause_age True\n",
      "menopause_cycle True\n",
      "neurosis True\n",
      "osteoporosis True\n",
      "ovarian_extraction True\n",
      "parkinson True\n",
      "periodontal_disease True\n",
      "peripheral_vascular_diseases True\n",
      "platelet True\n",
      "prostate_cancer True\n",
      "protein_in_blood True\n",
      "protein_in_urine True\n",
      "pulse True\n",
      "pwi_total True\n",
      "rbc True\n",
      "renal_failure True\n",
      "renin True\n",
      "rheumatoid_arthritis True\n",
      "sex True\n",
      "sleep_duration True\n",
      "small_baby True\n",
      "stomach_cancer True\n",
      "stroke True\n",
      "systolic_blood_pressure True\n",
      "thyroid_cancer True\n",
      "thyroid_disease True\n",
      "total_bilirubin True\n",
      "total_cholesterol True\n",
      "transient_ischemic_attacks True\n",
      "triglyceride True\n",
      "tsh True\n",
      "tuberculosis True\n",
      "urinary_tract_infection True\n",
      "waist_circumference True\n",
      "wbc True\n",
      "weight True\n"
     ]
    }
   ],
   "source": [
    "for i in binary_continuous_traits:\n",
    "    print(i,os.path.exists(data_out_gcta_path+i+'.HEreg'))"
   ]
  },
  {
   "cell_type": "code",
   "execution_count": 13,
   "metadata": {},
   "outputs": [],
   "source": [
    "log = logging.getLogger('logger')\n",
    "log.setLevel(logging.DEBUG)\n",
    "\n",
    "log_file_name=datetime.datetime.now().strftime('%Y%m%d_%H%M%S')+'.log'\n",
    "log_file_path=data_out_gcta_path+log_file_name\n",
    "fileHandler = logging.FileHandler(log_file_path)\n",
    "streamHandler = logging.StreamHandler()\n",
    "\n",
    "formatter = logging.Formatter(' %(asctime)s [%(levelname)s] %(lineno)d > %(message)s')\n",
    "fileHandler.setFormatter(formatter)\n",
    "streamHandler.setFormatter(formatter)\n",
    "\n",
    "log.addHandler(fileHandler)\n",
    "log.addHandler(streamHandler)"
   ]
  },
  {
   "cell_type": "code",
   "execution_count": 14,
   "metadata": {},
   "outputs": [
    {
     "name": "stderr",
     "output_type": "stream",
     "text": [
      " 2020-03-09 02:04:12,108 [INFO] 1 > phenotype_name: diabetes, phenotype_type:continuous\n"
     ]
    }
   ],
   "source": [
    "log.info(\"phenotype_name: {}, phenotype_type:{}\".format(phenotype_name,phenotype_type))"
   ]
  },
  {
   "cell_type": "code",
   "execution_count": 15,
   "metadata": {},
   "outputs": [],
   "source": [
    "pheno[pheno['pheno']!=-9].to_csv(data_out_gcta_path+phenotype_name+'.phe',sep='\\t',index=None,header=None)"
   ]
  },
  {
   "cell_type": "code",
   "execution_count": null,
   "metadata": {},
   "outputs": [],
   "source": [
    "log.info(\"#########################################  Run GCTA  #########################################\")\n",
    "#Run omnibus association test\n",
    "command='gcta64 --HEreg --grm {} --pheno {} --out {} --thread-num 40'.format(grm_path,\n",
    "                                                                             data_out_gcta_path+phenotype_name+'.phe',\n",
    "                                                                             data_out_gcta_path+phenotype_name,                                         \n",
    "                                                                            )\n",
    "log.info(command)\n",
    "stdout,stderr=run_subprocess(command,dry=False)\n",
    "log.info(stdout)\n",
    "log.error(stderr)    \n"
   ]
  },
  {
   "cell_type": "code",
   "execution_count": 48,
   "metadata": {},
   "outputs": [],
   "source": [
    "#pheno0=pd.read_csv(data_out_assoc_path+phenotype_list[0]+'/'+'phenotype.phe',header=None,sep='\\t',names=['FID','IID','pheno0'])\n",
    "#pheno1=pd.read_csv(data_out_assoc_path+phenotype_list[1]+'/'+'phenotype.phe',header=None,sep='\\t',names=['FID','IID','pheno1']);pheno0['pheno1']=pheno1['pheno1']\n",
    "#pheno2=pd.read_csv(data_out_assoc_path+phenotype_list[1]+'/'+'phenotype.phe',header=None,sep='\\t',names=['FID','IID','pheno2']);pheno0['pheno2']=pheno2['pheno2']"
   ]
  },
  {
   "cell_type": "code",
   "execution_count": 16,
   "metadata": {},
   "outputs": [],
   "source": [
    "command='gcta64 --HEreg --grm {} --pheno {} --out {} --thread-num 40'.format(grm_path,\n",
    "                                                                             data_out_gcta_path+phenotype_name+'.phe',\n",
    "                                                                             data_out_gcta_path+phenotype_name,                                         \n",
    "                                                                            )"
   ]
  },
  {
   "cell_type": "code",
   "execution_count": 18,
   "metadata": {},
   "outputs": [
    {
     "data": {
      "text/plain": [
       "'gcta64 --HEreg --grm data/genotype/4_merge/KCHIP_HLA_AA_SNP_1000G.grm --pheno data/out_gcta/diabetes.phe --out data/out_gcta/diabetes --thread-num 40'"
      ]
     },
     "execution_count": 18,
     "metadata": {},
     "output_type": "execute_result"
    }
   ],
   "source": [
    "command"
   ]
  },
  {
   "cell_type": "markdown",
   "metadata": {},
   "source": [
    "command='gcta64 --HEreg-bivar 1 2 --grm {} --pheno {} --out {} --thread-num 40'.format(final_plink_aa_grm_path,\n",
    "                                                                            'temp.phe',\n",
    "                                                                             'testout2'  \n",
    "                                                                            )\n",
    "command"
   ]
  },
  {
   "cell_type": "markdown",
   "metadata": {},
   "source": [
    "gcta64 --HEreg-bivar 1 2 --grm data/genotype/4_merge/grm --pheno temp2.phe --out data/out_assoc/height/HE2 --thread-num 40"
   ]
  },
  {
   "cell_type": "markdown",
   "metadata": {},
   "source": [
    "(pheno0['pheno0']!=-9).sum(),(pheno0['pheno1']!=-9).sum(),(pheno0['pheno2']!=-9).sum()"
   ]
  },
  {
   "cell_type": "code",
   "execution_count": 29,
   "metadata": {},
   "outputs": [],
   "source": [
    "#!cat data/out_gcta/ALP.phe"
   ]
  },
  {
   "cell_type": "code",
   "execution_count": null,
   "metadata": {},
   "outputs": [],
   "source": []
  }
 ],
 "metadata": {
  "kernelspec": {
   "display_name": "Python 3",
   "language": "python",
   "name": "python3"
  },
  "language_info": {
   "codemirror_mode": {
    "name": "ipython",
    "version": 3
   },
   "file_extension": ".py",
   "mimetype": "text/x-python",
   "name": "python",
   "nbconvert_exporter": "python",
   "pygments_lexer": "ipython3",
   "version": "3.7.3"
  }
 },
 "nbformat": 4,
 "nbformat_minor": 4
}
