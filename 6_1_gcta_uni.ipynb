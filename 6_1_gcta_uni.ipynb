{
 "cells": [
  {
   "cell_type": "markdown",
   "metadata": {},
   "source": [
    "jupyter nbconvert 6_1_gcta_uni.ipynb --to script\n",
    "\n",
    "for i in {00..101};do python 6_1_gcta_uni.py $i;done\n",
    "\n",
    "for i in {00..10};do python 4_association.py $i;done\n",
    "\n",
    "\n",
    "https://www.ncbi.nlm.nih.gov/pmc/articles/PMC6292650/"
   ]
  },
  {
   "cell_type": "code",
   "execution_count": 1,
   "metadata": {},
   "outputs": [],
   "source": [
    "import os\n",
    "import sys\n",
    "\n",
    "import logging\n",
    "import re\n",
    "import pathlib\n",
    "\n",
    "import datetime\n",
    "\n",
    "import numpy as np\n",
    "import pandas as pd\n",
    "from scipy.stats import pearsonr\n",
    "\n",
    "import matplotlib.pyplot as plt\n",
    "\n",
    "from pyplink import PyPlink\n",
    "\n",
    "from basic_tools import *"
   ]
  },
  {
   "cell_type": "markdown",
   "metadata": {},
   "source": [
    "# load plink, aa and check integrity"
   ]
  },
  {
   "cell_type": "code",
   "execution_count": 2,
   "metadata": {},
   "outputs": [],
   "source": [
    "plink_KCHIP_HLA_AA_SNP_1000G=PyPlink(plink_KCHIP_HLA_AA_SNP_1000G_path)\n",
    "plink_KCHIP_HLA_AA_SNP_1000G_fam=plink_KCHIP_HLA_AA_SNP_1000G.get_fam().astype({'fid':str,'iid':str}).rename(columns={'fid':'FID','iid':'IID'})\n",
    "plink_KCHIP_HLA_AA_SNP_1000G_bim=plink_KCHIP_HLA_AA_SNP_1000G.get_bim()"
   ]
  },
  {
   "cell_type": "code",
   "execution_count": 3,
   "metadata": {},
   "outputs": [],
   "source": [
    "grm_path='data/genotype/4_merge/KCHIP_HLA_AA_SNP_1000G.grm'"
   ]
  },
  {
   "cell_type": "code",
   "execution_count": 4,
   "metadata": {},
   "outputs": [],
   "source": [
    "#final_plink_aa_grm_path"
   ]
  },
  {
   "cell_type": "markdown",
   "metadata": {},
   "source": [
    "# load phenotype and check integrity"
   ]
  },
  {
   "cell_type": "code",
   "execution_count": 5,
   "metadata": {},
   "outputs": [
    {
     "data": {
      "text/plain": [
       "'ID  age  sex  asthma  chronic_bronchitis  allergic_disease  stomach_cancer  liver_cancer  colorectal_cancer  breast_cancer  cervical_cancer  lung_cancer  thyroid_cancer  prostate_cancer  bladder_cancer  colon_polyps  angina_pectoris_myocardial_infarction  hypertension  stroke  transient_ischemic_attacks  acute_liver_disease  diabetes  hyperlipidemia  thyroid_disease  arthritis  rheumatoid_arthritis  osteoporosis  parkinson  pwi_total  chronic_gastritis_stomach_ulcer  duodenal_ulcer  urinary_tract_infection  height  hip_circumference  waist_circumference  weight  systolic_blood_pressure  diastolic_blood_pressure  pulse  hysterectomy  menarche_onset_age  menopause_age  menopause_cycle  ovarian_extraction  child_delivery_number  big_baby  small_baby  child_present  child_dead  hematocrit  hemoglobin  platelet  rbc  wbc  mcv  mch  mchc  total_bilirubin  bun  creatinine  blood_in_urine  glucose_in_urine  alt  ast  gtp  total_cholesterol  hdl_cholesterol  hba1c  freet4  tsh  triglyceride  albumin  hscrp  protein_in_urine  heart_failure  peripheral_vascular_diseases  cataract  glaucoma  renal_failure  renin  fatty_liver  copd  tuberculosis  benign_prostatic_hyperplasia  gout  fracture  cholelithiasis_cholecystitis  periodontal_disease  insomnia  sleep_duration  neurosis  grip_strength  FVC_predicted  FEV_predicted  FEV_over_FVC_predicted  MVV_predicted  bone_density_distal_sos  bone_density_midshaft_sos  protein_in_blood  glucose_in_blood  cohort  bmi'"
      ]
     },
     "execution_count": 5,
     "metadata": {},
     "output_type": "execute_result"
    }
   ],
   "source": [
    "phenotypes=pd.read_csv(pheno_all_file_path,sep='\\t')\n",
    "'  '.join(phenotypes.columns)"
   ]
  },
  {
   "cell_type": "code",
   "execution_count": 6,
   "metadata": {},
   "outputs": [
    {
     "data": {
      "text/plain": [
       "(125673, 101)"
      ]
     },
     "execution_count": 6,
     "metadata": {},
     "output_type": "execute_result"
    }
   ],
   "source": [
    "phenotypes=phenotypes.set_index('ID').loc[plink_KCHIP_HLA_AA_SNP_1000G_fam['IID']]\n",
    "phenotypes.shape"
   ]
  },
  {
   "cell_type": "code",
   "execution_count": 7,
   "metadata": {},
   "outputs": [],
   "source": [
    "#np.all(phenotypes['ALP'].isnull())"
   ]
  },
  {
   "cell_type": "code",
   "execution_count": 8,
   "metadata": {},
   "outputs": [],
   "source": [
    "assert (phenotypes.index!=plink_KCHIP_HLA_AA_SNP_1000G_fam['IID']).sum()==0"
   ]
  },
  {
   "cell_type": "code",
   "execution_count": 9,
   "metadata": {},
   "outputs": [
    {
     "data": {
      "text/plain": [
       "(Index(['FEV_over_FVC_predicted', 'FEV_predicted', 'FVC_predicted',\n",
       "        'MVV_predicted', 'acute_liver_disease', 'albumin', 'allergic_disease',\n",
       "        'alt', 'angina_pectoris_myocardial_infarction', 'arthritis', 'ast',\n",
       "        'asthma', 'benign_prostatic_hyperplasia', 'big_baby', 'bladder_cancer',\n",
       "        'blood_in_urine', 'bmi', 'bone_density_distal_sos',\n",
       "        'bone_density_midshaft_sos', 'breast_cancer', 'bun', 'cataract',\n",
       "        'cervical_cancer', 'child_dead', 'child_delivery_number',\n",
       "        'child_present', 'cholelithiasis_cholecystitis', 'chronic_bronchitis',\n",
       "        'chronic_gastritis_stomach_ulcer', 'colon_polyps', 'colorectal_cancer',\n",
       "        'copd', 'creatinine', 'diabetes', 'diastolic_blood_pressure',\n",
       "        'duodenal_ulcer', 'fatty_liver', 'fracture', 'freet4', 'glaucoma',\n",
       "        'glucose_in_blood', 'glucose_in_urine', 'gout', 'grip_strength', 'gtp',\n",
       "        'hba1c', 'hdl_cholesterol', 'heart_failure', 'height', 'hematocrit',\n",
       "        'hemoglobin', 'hip_circumference', 'hscrp', 'hyperlipidemia',\n",
       "        'hypertension', 'hysterectomy', 'insomnia', 'liver_cancer',\n",
       "        'lung_cancer', 'mch', 'mchc', 'mcv', 'menarche_onset_age',\n",
       "        'menopause_age', 'menopause_cycle', 'neurosis', 'osteoporosis',\n",
       "        'ovarian_extraction', 'parkinson', 'periodontal_disease',\n",
       "        'peripheral_vascular_diseases', 'platelet', 'prostate_cancer',\n",
       "        'protein_in_blood', 'protein_in_urine', 'pulse', 'pwi_total', 'rbc',\n",
       "        'renal_failure', 'renin', 'rheumatoid_arthritis', 'sleep_duration',\n",
       "        'small_baby', 'stomach_cancer', 'stroke', 'systolic_blood_pressure',\n",
       "        'thyroid_cancer', 'thyroid_disease', 'total_bilirubin',\n",
       "        'total_cholesterol', 'transient_ischemic_attacks', 'triglyceride',\n",
       "        'tsh', 'tuberculosis', 'urinary_tract_infection', 'waist_circumference',\n",
       "        'wbc', 'weight'],\n",
       "       dtype='object'), 98)"
      ]
     },
     "execution_count": 9,
     "metadata": {},
     "output_type": "execute_result"
    }
   ],
   "source": [
    "binary_continuous_traits=phenotypes.columns.difference(['age','sex','cohort'])\n",
    "binary_continuous_traits,len(binary_continuous_traits)"
   ]
  },
  {
   "cell_type": "markdown",
   "metadata": {},
   "source": [
    "# parse parameter"
   ]
  },
  {
   "cell_type": "code",
   "execution_count": 10,
   "metadata": {},
   "outputs": [],
   "source": [
    "if 'ipykernel' in sys.argv[0]:\n",
    "    ipykernel=True\n",
    "    phenotype_name='diabetes'\n",
    "    #phenotype_name='height'\n",
    "else:\n",
    "    ipykernel=False\n",
    "    phenotype_name=sys.argv[1]\n",
    "if phenotype_name.isdigit():\n",
    "    phenotype_name=int(phenotype_name)\n",
    "    phenotype_name=binary_continuous_traits[phenotype_name]      "
   ]
  },
  {
   "cell_type": "code",
   "execution_count": 12,
   "metadata": {},
   "outputs": [
    {
     "data": {
      "text/plain": [
       "'binary'"
      ]
     },
     "execution_count": 12,
     "metadata": {},
     "output_type": "execute_result"
    }
   ],
   "source": [
    "pheno=pd.read_csv(data_out_pheno_path+phenotype_name+'.phe',sep='\\t',header=None,names=['FID','IID','pheno'])\n",
    "phenotype_type='binary' if len(pheno['pheno'][pheno['pheno']!=-9].value_counts())<3 else 'continuous'\n",
    "phenotype_type"
   ]
  },
  {
   "cell_type": "code",
   "execution_count": 32,
   "metadata": {},
   "outputs": [
    {
     "name": "stdout",
     "output_type": "stream",
     "text": [
      "FEV_over_FVC_predicted True\n",
      "FEV_predicted True\n",
      "FVC_predicted True\n",
      "MVV_predicted True\n",
      "acute_liver_disease True\n",
      "albumin True\n",
      "allergic_disease True\n",
      "alt True\n",
      "angina_pectoris_myocardial_infarction True\n",
      "arthritis True\n",
      "ast True\n",
      "asthma True\n",
      "benign_prostatic_hyperplasia True\n",
      "big_baby True\n",
      "bladder_cancer True\n",
      "blood_in_urine True\n",
      "bmi True\n",
      "bone_density_distal_sos True\n",
      "bone_density_midshaft_sos True\n",
      "breast_cancer True\n",
      "bun True\n",
      "cataract True\n",
      "cervical_cancer True\n",
      "child_dead True\n",
      "child_delivery_number True\n",
      "child_present True\n",
      "cholelithiasis_cholecystitis True\n",
      "chronic_bronchitis True\n",
      "chronic_gastritis_stomach_ulcer True\n",
      "colon_polyps True\n",
      "colorectal_cancer True\n",
      "copd True\n",
      "creatinine True\n",
      "diabetes True\n",
      "diastolic_blood_pressure True\n",
      "duodenal_ulcer True\n",
      "fatty_liver True\n",
      "fracture True\n",
      "freet4 False\n",
      "glaucoma True\n",
      "glucose_in_blood True\n",
      "glucose_in_urine True\n",
      "gout True\n",
      "grip_strength True\n",
      "gtp True\n",
      "hba1c True\n",
      "hdl_cholesterol True\n",
      "heart_failure True\n",
      "height True\n",
      "hematocrit True\n",
      "hemoglobin True\n",
      "hip_circumference True\n",
      "hscrp True\n",
      "hyperlipidemia True\n",
      "hypertension True\n",
      "hysterectomy True\n",
      "insomnia True\n",
      "liver_cancer True\n",
      "lung_cancer True\n",
      "mch True\n",
      "mchc True\n",
      "mcv True\n",
      "menarche_onset_age True\n",
      "menopause_age True\n",
      "menopause_cycle True\n",
      "neurosis True\n",
      "osteoporosis True\n",
      "ovarian_extraction True\n",
      "parkinson True\n",
      "periodontal_disease True\n",
      "peripheral_vascular_diseases False\n",
      "platelet True\n",
      "prostate_cancer True\n",
      "protein_in_blood True\n",
      "protein_in_urine True\n",
      "pulse True\n",
      "pwi_total True\n",
      "rbc True\n",
      "renal_failure True\n",
      "renin True\n",
      "rheumatoid_arthritis True\n",
      "sleep_duration True\n",
      "small_baby True\n",
      "stomach_cancer True\n",
      "stroke True\n",
      "systolic_blood_pressure True\n",
      "thyroid_cancer True\n",
      "thyroid_disease True\n",
      "total_bilirubin True\n",
      "total_cholesterol True\n",
      "transient_ischemic_attacks True\n",
      "triglyceride True\n",
      "tsh True\n",
      "tuberculosis True\n",
      "urinary_tract_infection True\n",
      "waist_circumference True\n",
      "wbc True\n",
      "weight True\n"
     ]
    }
   ],
   "source": [
    "for i in binary_continuous_traits:\n",
    "    print(i,os.path.exists(data_out_gcta_path+i+'.HEreg'))"
   ]
  },
  {
   "cell_type": "code",
   "execution_count": 14,
   "metadata": {},
   "outputs": [],
   "source": [
    "log = logging.getLogger('logger')\n",
    "log.setLevel(logging.DEBUG)\n",
    "\n",
    "log_file_name=datetime.datetime.now().strftime('%Y%m%d_%H%M%S')+'.log'\n",
    "log_file_path=data_out_gcta_path+log_file_name\n",
    "fileHandler = logging.FileHandler(log_file_path)\n",
    "streamHandler = logging.StreamHandler()\n",
    "\n",
    "formatter = logging.Formatter(' %(asctime)s [%(levelname)s] %(lineno)d > %(message)s')\n",
    "fileHandler.setFormatter(formatter)\n",
    "streamHandler.setFormatter(formatter)\n",
    "\n",
    "log.addHandler(fileHandler)\n",
    "log.addHandler(streamHandler)"
   ]
  },
  {
   "cell_type": "code",
   "execution_count": 15,
   "metadata": {},
   "outputs": [
    {
     "name": "stderr",
     "output_type": "stream",
     "text": [
      " 2020-03-15 01:32:27,931 [INFO] 1 > phenotype_name: diabetes, phenotype_type:binary\n"
     ]
    }
   ],
   "source": [
    "log.info(\"phenotype_name: {}, phenotype_type:{}\".format(phenotype_name,phenotype_type))"
   ]
  },
  {
   "cell_type": "code",
   "execution_count": 16,
   "metadata": {},
   "outputs": [],
   "source": [
    "pheno[pheno['pheno']!=-9].to_csv(data_out_gcta_path+phenotype_name+'.phe',sep='\\t',index=None,header=None)"
   ]
  },
  {
   "cell_type": "code",
   "execution_count": 29,
   "metadata": {},
   "outputs": [
    {
     "name": "stdout",
     "output_type": "stream",
     "text": [
      "prev 0.07085054068893079\n"
     ]
    }
   ],
   "source": [
    "if phenotype_type=='binary':\n",
    "    with open(data_out_pheno_path+phenotype_name+'.phe'+'.prev','r') as f:\n",
    "        prev=float(f.read())\n",
    "    print('prev',prev)"
   ]
  },
  {
   "cell_type": "code",
   "execution_count": 30,
   "metadata": {},
   "outputs": [
    {
     "name": "stderr",
     "output_type": "stream",
     "text": [
      " 2020-03-15 01:59:48,115 [INFO] 1 > #########################################  Run GCTA  #########################################\n",
      " 2020-03-15 01:59:48,116 [INFO] 8 > gcta64 --HEreg --grm data/genotype/4_merge/KCHIP_HLA_AA_SNP_1000G.grm --pheno data/out_gcta/diabetes.phe --prevalence 0.07085054068893079 --out data/out_gcta/diabetes --thread-num 40\n"
     ]
    },
    {
     "name": "stdout",
     "output_type": "stream",
     "text": [
      "------RUN-----\n",
      "gcta64 --HEreg --grm data/genotype/4_merge/KCHIP_HLA_AA_SNP_1000G.grm --pheno data/out_gcta/diabetes.phe --prevalence 0.07085054068893079 --out data/out_gcta/diabetes --thread-num 40\n"
     ]
    },
    {
     "ename": "KeyboardInterrupt",
     "evalue": "",
     "output_type": "error",
     "traceback": [
      "\u001b[0;31m---------------------------------------------------------------------------\u001b[0m",
      "\u001b[0;31mKeyboardInterrupt\u001b[0m                         Traceback (most recent call last)",
      "\u001b[0;32m<ipython-input-30-d8a77afe0104>\u001b[0m in \u001b[0;36m<module>\u001b[0;34m\u001b[0m\n\u001b[1;32m      7\u001b[0m                                                                             )\n\u001b[1;32m      8\u001b[0m \u001b[0mlog\u001b[0m\u001b[0;34m.\u001b[0m\u001b[0minfo\u001b[0m\u001b[0;34m(\u001b[0m\u001b[0mcommand\u001b[0m\u001b[0;34m)\u001b[0m\u001b[0;34m\u001b[0m\u001b[0;34m\u001b[0m\u001b[0m\n\u001b[0;32m----> 9\u001b[0;31m \u001b[0mstdout\u001b[0m\u001b[0;34m,\u001b[0m\u001b[0mstderr\u001b[0m\u001b[0;34m=\u001b[0m\u001b[0mrun_subprocess\u001b[0m\u001b[0;34m(\u001b[0m\u001b[0mcommand\u001b[0m\u001b[0;34m,\u001b[0m\u001b[0mdry\u001b[0m\u001b[0;34m=\u001b[0m\u001b[0;32mFalse\u001b[0m\u001b[0;34m)\u001b[0m\u001b[0;34m\u001b[0m\u001b[0;34m\u001b[0m\u001b[0m\n\u001b[0m\u001b[1;32m     10\u001b[0m \u001b[0mlog\u001b[0m\u001b[0;34m.\u001b[0m\u001b[0minfo\u001b[0m\u001b[0;34m(\u001b[0m\u001b[0mstdout\u001b[0m\u001b[0;34m)\u001b[0m\u001b[0;34m\u001b[0m\u001b[0;34m\u001b[0m\u001b[0m\n\u001b[1;32m     11\u001b[0m \u001b[0mlog\u001b[0m\u001b[0;34m.\u001b[0m\u001b[0merror\u001b[0m\u001b[0;34m(\u001b[0m\u001b[0mstderr\u001b[0m\u001b[0;34m)\u001b[0m\u001b[0;34m\u001b[0m\u001b[0;34m\u001b[0m\u001b[0m\n",
      "\u001b[0;32m/data/ch6845/MHC_phewas_testbench/basic_tools.py\u001b[0m in \u001b[0;36mrun_subprocess\u001b[0;34m(command, quiet, dry)\u001b[0m\n\u001b[1;32m     12\u001b[0m         \u001b[0;32mreturn\u001b[0m\u001b[0;34m\u001b[0m\u001b[0;34m\u001b[0m\u001b[0m\n\u001b[1;32m     13\u001b[0m     \u001b[0mprocess\u001b[0m \u001b[0;34m=\u001b[0m \u001b[0msubprocess\u001b[0m\u001b[0;34m.\u001b[0m\u001b[0mPopen\u001b[0m\u001b[0;34m(\u001b[0m\u001b[0mcommand\u001b[0m\u001b[0;34m.\u001b[0m\u001b[0msplit\u001b[0m\u001b[0;34m(\u001b[0m\u001b[0;34m)\u001b[0m\u001b[0;34m,\u001b[0m \u001b[0mstdout\u001b[0m\u001b[0;34m=\u001b[0m\u001b[0msubprocess\u001b[0m\u001b[0;34m.\u001b[0m\u001b[0mPIPE\u001b[0m\u001b[0;34m,\u001b[0m \u001b[0mstderr\u001b[0m\u001b[0;34m=\u001b[0m\u001b[0msubprocess\u001b[0m\u001b[0;34m.\u001b[0m\u001b[0mPIPE\u001b[0m\u001b[0;34m)\u001b[0m\u001b[0;34m\u001b[0m\u001b[0;34m\u001b[0m\u001b[0m\n\u001b[0;32m---> 14\u001b[0;31m     \u001b[0mstdout\u001b[0m\u001b[0;34m,\u001b[0m \u001b[0mstderr\u001b[0m \u001b[0;34m=\u001b[0m \u001b[0mprocess\u001b[0m\u001b[0;34m.\u001b[0m\u001b[0mcommunicate\u001b[0m\u001b[0;34m(\u001b[0m\u001b[0;34m)\u001b[0m\u001b[0;34m\u001b[0m\u001b[0;34m\u001b[0m\u001b[0m\n\u001b[0m\u001b[1;32m     15\u001b[0m     \u001b[0;32mif\u001b[0m \u001b[0mquiet\u001b[0m\u001b[0;34m==\u001b[0m\u001b[0;32mFalse\u001b[0m\u001b[0;34m:\u001b[0m\u001b[0;34m\u001b[0m\u001b[0;34m\u001b[0m\u001b[0m\n\u001b[1;32m     16\u001b[0m         \u001b[0mprint\u001b[0m\u001b[0;34m(\u001b[0m\u001b[0;34m\"------{}-----\"\u001b[0m\u001b[0;34m.\u001b[0m\u001b[0mformat\u001b[0m\u001b[0;34m(\u001b[0m\u001b[0;34m\"ERROR\"\u001b[0m\u001b[0;34m)\u001b[0m\u001b[0;34m)\u001b[0m\u001b[0;34m\u001b[0m\u001b[0;34m\u001b[0m\u001b[0m\n",
      "\u001b[0;32m~/tools/miniconda3/lib/python3.7/subprocess.py\u001b[0m in \u001b[0;36mcommunicate\u001b[0;34m(self, input, timeout)\u001b[0m\n\u001b[1;32m    937\u001b[0m \u001b[0;34m\u001b[0m\u001b[0m\n\u001b[1;32m    938\u001b[0m             \u001b[0;32mtry\u001b[0m\u001b[0;34m:\u001b[0m\u001b[0;34m\u001b[0m\u001b[0;34m\u001b[0m\u001b[0m\n\u001b[0;32m--> 939\u001b[0;31m                 \u001b[0mstdout\u001b[0m\u001b[0;34m,\u001b[0m \u001b[0mstderr\u001b[0m \u001b[0;34m=\u001b[0m \u001b[0mself\u001b[0m\u001b[0;34m.\u001b[0m\u001b[0m_communicate\u001b[0m\u001b[0;34m(\u001b[0m\u001b[0minput\u001b[0m\u001b[0;34m,\u001b[0m \u001b[0mendtime\u001b[0m\u001b[0;34m,\u001b[0m \u001b[0mtimeout\u001b[0m\u001b[0;34m)\u001b[0m\u001b[0;34m\u001b[0m\u001b[0;34m\u001b[0m\u001b[0m\n\u001b[0m\u001b[1;32m    940\u001b[0m             \u001b[0;32mexcept\u001b[0m \u001b[0mKeyboardInterrupt\u001b[0m\u001b[0;34m:\u001b[0m\u001b[0;34m\u001b[0m\u001b[0;34m\u001b[0m\u001b[0m\n\u001b[1;32m    941\u001b[0m                 \u001b[0;31m# https://bugs.python.org/issue25942\u001b[0m\u001b[0;34m\u001b[0m\u001b[0;34m\u001b[0m\u001b[0;34m\u001b[0m\u001b[0m\n",
      "\u001b[0;32m~/tools/miniconda3/lib/python3.7/subprocess.py\u001b[0m in \u001b[0;36m_communicate\u001b[0;34m(self, input, endtime, orig_timeout)\u001b[0m\n\u001b[1;32m   1679\u001b[0m                         \u001b[0;32mraise\u001b[0m \u001b[0mTimeoutExpired\u001b[0m\u001b[0;34m(\u001b[0m\u001b[0mself\u001b[0m\u001b[0;34m.\u001b[0m\u001b[0margs\u001b[0m\u001b[0;34m,\u001b[0m \u001b[0morig_timeout\u001b[0m\u001b[0;34m)\u001b[0m\u001b[0;34m\u001b[0m\u001b[0;34m\u001b[0m\u001b[0m\n\u001b[1;32m   1680\u001b[0m \u001b[0;34m\u001b[0m\u001b[0m\n\u001b[0;32m-> 1681\u001b[0;31m                     \u001b[0mready\u001b[0m \u001b[0;34m=\u001b[0m \u001b[0mselector\u001b[0m\u001b[0;34m.\u001b[0m\u001b[0mselect\u001b[0m\u001b[0;34m(\u001b[0m\u001b[0mtimeout\u001b[0m\u001b[0;34m)\u001b[0m\u001b[0;34m\u001b[0m\u001b[0;34m\u001b[0m\u001b[0m\n\u001b[0m\u001b[1;32m   1682\u001b[0m                     \u001b[0mself\u001b[0m\u001b[0;34m.\u001b[0m\u001b[0m_check_timeout\u001b[0m\u001b[0;34m(\u001b[0m\u001b[0mendtime\u001b[0m\u001b[0;34m,\u001b[0m \u001b[0morig_timeout\u001b[0m\u001b[0;34m)\u001b[0m\u001b[0;34m\u001b[0m\u001b[0;34m\u001b[0m\u001b[0m\n\u001b[1;32m   1683\u001b[0m \u001b[0;34m\u001b[0m\u001b[0m\n",
      "\u001b[0;32m~/tools/miniconda3/lib/python3.7/selectors.py\u001b[0m in \u001b[0;36mselect\u001b[0;34m(self, timeout)\u001b[0m\n\u001b[1;32m    413\u001b[0m         \u001b[0mready\u001b[0m \u001b[0;34m=\u001b[0m \u001b[0;34m[\u001b[0m\u001b[0;34m]\u001b[0m\u001b[0;34m\u001b[0m\u001b[0;34m\u001b[0m\u001b[0m\n\u001b[1;32m    414\u001b[0m         \u001b[0;32mtry\u001b[0m\u001b[0;34m:\u001b[0m\u001b[0;34m\u001b[0m\u001b[0;34m\u001b[0m\u001b[0m\n\u001b[0;32m--> 415\u001b[0;31m             \u001b[0mfd_event_list\u001b[0m \u001b[0;34m=\u001b[0m \u001b[0mself\u001b[0m\u001b[0;34m.\u001b[0m\u001b[0m_selector\u001b[0m\u001b[0;34m.\u001b[0m\u001b[0mpoll\u001b[0m\u001b[0;34m(\u001b[0m\u001b[0mtimeout\u001b[0m\u001b[0;34m)\u001b[0m\u001b[0;34m\u001b[0m\u001b[0;34m\u001b[0m\u001b[0m\n\u001b[0m\u001b[1;32m    416\u001b[0m         \u001b[0;32mexcept\u001b[0m \u001b[0mInterruptedError\u001b[0m\u001b[0;34m:\u001b[0m\u001b[0;34m\u001b[0m\u001b[0;34m\u001b[0m\u001b[0m\n\u001b[1;32m    417\u001b[0m             \u001b[0;32mreturn\u001b[0m \u001b[0mready\u001b[0m\u001b[0;34m\u001b[0m\u001b[0;34m\u001b[0m\u001b[0m\n",
      "\u001b[0;31mKeyboardInterrupt\u001b[0m: "
     ]
    }
   ],
   "source": [
    "log.info(\"#########################################  Run GCTA  #########################################\")\n",
    "#Run omnibus association test\n",
    "command='gcta64 --HEreg --grm {} --pheno {} --out {} --thread-num 40'.format(grm_path,\n",
    "                                                                             data_out_gcta_path+phenotype_name+'.phe',\n",
    "                                                                             data_out_gcta_path+phenotype_name,                                         \n",
    "                                                                            )\n",
    "log.info(command)\n",
    "stdout,stderr=run_subprocess(command,dry=False)\n",
    "log.info(stdout)\n",
    "log.error(stderr)    \n"
   ]
  },
  {
   "cell_type": "code",
   "execution_count": 20,
   "metadata": {},
   "outputs": [
    {
     "data": {
      "text/plain": [
       "0.09964747356051704"
      ]
     },
     "execution_count": 20,
     "metadata": {},
     "output_type": "execute_result"
    }
   ],
   "source": []
  },
  {
   "cell_type": "code",
   "execution_count": 48,
   "metadata": {},
   "outputs": [],
   "source": [
    "#pheno0=pd.read_csv(data_out_assoc_path+phenotype_list[0]+'/'+'phenotype.phe',header=None,sep='\\t',names=['FID','IID','pheno0'])\n",
    "#pheno1=pd.read_csv(data_out_assoc_path+phenotype_list[1]+'/'+'phenotype.phe',header=None,sep='\\t',names=['FID','IID','pheno1']);pheno0['pheno1']=pheno1['pheno1']\n",
    "#pheno2=pd.read_csv(data_out_assoc_path+phenotype_list[1]+'/'+'phenotype.phe',header=None,sep='\\t',names=['FID','IID','pheno2']);pheno0['pheno2']=pheno2['pheno2']"
   ]
  },
  {
   "cell_type": "markdown",
   "metadata": {},
   "source": [
    "command='gcta64 --HEreg-bivar 1 2 --grm {} --pheno {} --out {} --thread-num 40'.format(final_plink_aa_grm_path,\n",
    "                                                                            'temp.phe',\n",
    "                                                                             'testout2'  \n",
    "                                                                            )\n",
    "command"
   ]
  },
  {
   "cell_type": "markdown",
   "metadata": {},
   "source": [
    "gcta64 --HEreg-bivar 1 2 --grm data/genotype/4_merge/grm --pheno temp2.phe --out data/out_assoc/height/HE2 --thread-num 40"
   ]
  },
  {
   "cell_type": "markdown",
   "metadata": {},
   "source": [
    "(pheno0['pheno0']!=-9).sum(),(pheno0['pheno1']!=-9).sum(),(pheno0['pheno2']!=-9).sum()"
   ]
  },
  {
   "cell_type": "code",
   "execution_count": 29,
   "metadata": {},
   "outputs": [],
   "source": [
    "#!cat data/out_gcta/ALP.phe"
   ]
  },
  {
   "cell_type": "code",
   "execution_count": null,
   "metadata": {},
   "outputs": [],
   "source": []
  }
 ],
 "metadata": {
  "kernelspec": {
   "display_name": "Python 3",
   "language": "python",
   "name": "python3"
  },
  "language_info": {
   "codemirror_mode": {
    "name": "ipython",
    "version": 3
   },
   "file_extension": ".py",
   "mimetype": "text/x-python",
   "name": "python",
   "nbconvert_exporter": "python",
   "pygments_lexer": "ipython3",
   "version": "3.7.3"
  }
 },
 "nbformat": 4,
 "nbformat_minor": 4
}
