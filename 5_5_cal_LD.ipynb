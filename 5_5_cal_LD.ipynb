{
 "cells": [
  {
   "cell_type": "code",
   "execution_count": 1,
   "metadata": {},
   "outputs": [
    {
     "data": {
      "text/plain": [
       "'\\n\\njupyter nbconvert 5_association.ipynb --to script\\npython 5_association.py albumin 2 0\\n\\nfor i in {00..101};do python 5_association.py $i 2 1;done\\n\\n\\nfor i in {00..10};do python 5_association.py $i 2 0;done\\nfor i in {11..20};do python 5_association.py $i 2 0;done\\nfor i in {21..30};do python 5_association.py $i 2 0;done\\nfor i in {31..40};do python 5_association.py $i 2 0;done\\nfor i in {41..50};do python 5_association.py $i 2 0;done\\nfor i in {51..60};do python 5_association.py $i 2 0;done\\nfor i in {61..70};do python 5_association.py $i 2 0;done\\nfor i in {71..80};do python 5_association.py $i 2 0;done\\nfor i in {91..90};do python 5_association.py $i 2 0;done\\nfor i in {91..101};do python 5_association.py $i 2 0;done\\nfor i in {51..60};do python 5_association.py $i 2 0;done\\nfor i in {51..60};do python 5_association.py $i 2 0;done\\nfor i in {51..60};do python 5_association.py $i 2 0;done\\n\\nfor i in {00..101};do python 5_association.py $i 1 0,2;done\\nfor i in {00..101};do python 5_association.py $i 1 1;done\\n\\nfor i in {00..20};do python 5_association.py $i 1 1;done\\nfor i in {21..40};do python 5_association.py $i 1 1;done\\nfor i in {41..60};do python 5_association.py $i 1 1;done\\nfor i in {61..80};do python 5_association.py $i 1 1;done\\nfor i in {81..101};do python 5_association.py $i 1 1;done\\n\\n'"
      ]
     },
     "execution_count": 1,
     "metadata": {},
     "output_type": "execute_result"
    }
   ],
   "source": [
    "import os\n",
    "import sys\n",
    "\n",
    "import logging\n",
    "import re\n",
    "import pathlib\n",
    "\n",
    "import datetime\n",
    "\n",
    "import numpy as np\n",
    "import pandas as pd\n",
    "from scipy.stats import pearsonr\n",
    "\n",
    "import matplotlib.pyplot as plt\n",
    "\n",
    "from pyplink import PyPlink\n",
    "import seaborn as sns\n",
    "\n",
    "import statsmodels.api as sm\n",
    "\n",
    "import matplotlib.patches as patches\n",
    "import matplotlib\n",
    "\n",
    "from basic_tools import *\n",
    "\n",
    "\"\"\"\n",
    "\n",
    "jupyter nbconvert 5_association.ipynb --to script\n",
    "python 5_association.py albumin 2 0\n",
    "\n",
    "for i in {00..101};do python 5_association.py $i 2 1;done\n",
    "\n",
    "\n",
    "for i in {00..10};do python 5_association.py $i 2 0;done\n",
    "for i in {11..20};do python 5_association.py $i 2 0;done\n",
    "for i in {21..30};do python 5_association.py $i 2 0;done\n",
    "for i in {31..40};do python 5_association.py $i 2 0;done\n",
    "for i in {41..50};do python 5_association.py $i 2 0;done\n",
    "for i in {51..60};do python 5_association.py $i 2 0;done\n",
    "for i in {61..70};do python 5_association.py $i 2 0;done\n",
    "for i in {71..80};do python 5_association.py $i 2 0;done\n",
    "for i in {91..90};do python 5_association.py $i 2 0;done\n",
    "for i in {91..101};do python 5_association.py $i 2 0;done\n",
    "for i in {51..60};do python 5_association.py $i 2 0;done\n",
    "for i in {51..60};do python 5_association.py $i 2 0;done\n",
    "for i in {51..60};do python 5_association.py $i 2 0;done\n",
    "\n",
    "for i in {00..101};do python 5_association.py $i 1 0,2;done\n",
    "for i in {00..101};do python 5_association.py $i 1 1;done\n",
    "\n",
    "for i in {00..20};do python 5_association.py $i 1 1;done\n",
    "for i in {21..40};do python 5_association.py $i 1 1;done\n",
    "for i in {41..60};do python 5_association.py $i 1 1;done\n",
    "for i in {61..80};do python 5_association.py $i 1 1;done\n",
    "for i in {81..101};do python 5_association.py $i 1 1;done\n",
    "\n",
    "\"\"\""
   ]
  },
  {
   "cell_type": "code",
   "execution_count": 2,
   "metadata": {},
   "outputs": [],
   "source": [
    "plink_KCHIP_HLA_AA_SNP_1000G=PyPlink(plink_KCHIP_HLA_AA_SNP_1000G_path)\n",
    "plink_KCHIP_HLA_AA_SNP_1000G_fam=plink_KCHIP_HLA_AA_SNP_1000G.get_fam().astype({'fid':str,'iid':str}).rename(columns={'fid':'FID','iid':'IID'})\n",
    "plink_KCHIP_HLA_AA_SNP_1000G_bim=plink_KCHIP_HLA_AA_SNP_1000G.get_bim()"
   ]
  },
  {
   "cell_type": "code",
   "execution_count": 3,
   "metadata": {},
   "outputs": [],
   "source": [
    "phenotypes=pd.read_csv(pheno_all_file_path,sep='\\t')\n",
    "phenotypes=phenotypes.set_index('ID').loc[plink_KCHIP_HLA_AA_SNP_1000G_fam['IID']]\n",
    "\n",
    "binary_continuous_traits=sorted(phenotypes.columns[~phenotypes.columns.str.contains('x_ray')])    "
   ]
  },
  {
   "cell_type": "code",
   "execution_count": null,
   "metadata": {},
   "outputs": [],
   "source": []
  },
  {
   "cell_type": "code",
   "execution_count": 98,
   "metadata": {},
   "outputs": [],
   "source": [
    "#result_all[result_all['step']!=1]"
   ]
  },
  {
   "cell_type": "code",
   "execution_count": 159,
   "metadata": {},
   "outputs": [],
   "source": [
    "r2_df=pd.read_csv('data/temp_r2.tsv',sep='\\t',index_col=0)\n",
    "#r2_df=pd.DataFrame(index=plink_KCHIP_HLA_AA_SNP_1000G_bim.index)"
   ]
  },
  {
   "cell_type": "code",
   "execution_count": 169,
   "metadata": {},
   "outputs": [
    {
     "data": {
      "text/plain": [
       "(164, 51)"
      ]
     },
     "execution_count": 169,
     "metadata": {},
     "output_type": "execute_result"
    }
   ],
   "source": [
    "result_all=pd.read_csv('data/temp_result.tsv',sep='\\t')\n",
    "len(result_all['marker_name']),len(result_all[result_all['P']<5e-8]['marker_name'].unique())"
   ]
  },
  {
   "cell_type": "code",
   "execution_count": 161,
   "metadata": {},
   "outputs": [
    {
     "data": {
      "text/plain": [
       "51"
      ]
     },
     "execution_count": 161,
     "metadata": {},
     "output_type": "execute_result"
    }
   ],
   "source": [
    "len(result_all[result_all['P']<5e-8]['marker_name'].unique())"
   ]
  },
  {
   "cell_type": "code",
   "execution_count": 162,
   "metadata": {},
   "outputs": [
    {
     "data": {
      "text/plain": [
       "51"
      ]
     },
     "execution_count": 162,
     "metadata": {},
     "output_type": "execute_result"
    }
   ],
   "source": [
    "top_markers=pd.Series(result_all[result_all['P']<5e-8]['marker_name'].unique())\n",
    "len(top_markers)"
   ]
  },
  {
   "cell_type": "code",
   "execution_count": 163,
   "metadata": {},
   "outputs": [
    {
     "data": {
      "text/plain": [
       "39"
      ]
     },
     "execution_count": 163,
     "metadata": {},
     "output_type": "execute_result"
    }
   ],
   "source": [
    "top_markers_SNP=top_markers[~((top_markers.str.slice(stop=3)=='HLA')|(top_markers.str.slice(stop=3)=='AA_')|(top_markers.str.slice(stop=3)=='SNP'))]\n",
    "len(top_markers_SNP)"
   ]
  },
  {
   "cell_type": "code",
   "execution_count": 165,
   "metadata": {},
   "outputs": [
    {
     "name": "stdout",
     "output_type": "stream",
     "text": [
      "1\n"
     ]
    }
   ],
   "source": [
    "print(1)"
   ]
  },
  {
   "cell_type": "code",
   "execution_count": 167,
   "metadata": {},
   "outputs": [
    {
     "data": {
      "text/plain": [
       "68"
      ]
     },
     "execution_count": 167,
     "metadata": {},
     "output_type": "execute_result"
    }
   ],
   "source": [
    "len(r2_df.columns)"
   ]
  },
  {
   "cell_type": "code",
   "execution_count": null,
   "metadata": {},
   "outputs": [
    {
     "name": "stdout",
     "output_type": "stream",
     "text": [
      "6:34172055_C/A test\n",
      "6:34172055_C/A\n",
      "6:34205465_G/GGAGCCC test\n",
      "6:34205465_G/GGAGCCC\n",
      "6:34205822_T/C continue\n",
      "6:32632237_C/T test\n",
      "6:32632237_C/T\n",
      "6:31351530_T/C test\n",
      "6:31351530_T/C\n",
      "6:34178764_A/C continue\n",
      "6:32449851_T/C test\n",
      "6:32449851_T/C\n",
      "6:29190624_G/A continue\n",
      "6:30737591_G/C test\n",
      "6:30737591_G/C\n",
      "6:32188909_C/T continue\n",
      "6:32593432_G/A continue\n",
      "6:34237621_A/G test\n",
      "6:34237621_A/G\n",
      "AX-11365330 test\n",
      "AX-11365330\n",
      "6:31371397_C/T test\n",
      "6:31371397_C/T\n",
      "6:31358559_C/T test\n",
      "6:31358559_C/T\n",
      "6:34810172_T/C continue\n",
      "AX-41949565 continue\n",
      "6:34207474_T/TAA test\n",
      "6:34207474_T/TAA\n",
      "6:28660290_G/A continue\n",
      "6:34967349_G/A continue\n",
      "6:30754092_G/C continue\n",
      "6:32149801_C/T test\n",
      "6:32149801_C/T\n",
      "6:29698050_A/G continue\n",
      "6:34231005_T/C test\n",
      "6:34231005_T/C\n",
      "6:28749731_TA/T continue\n",
      "6:31538497_T/A test\n",
      "6:31538497_T/A\n",
      "6:32638199_C/G test\n",
      "6:32638199_C/G\n",
      "AX-41961031 test\n",
      "AX-41961031\n",
      "6:33541507_A/G continue\n",
      "6:34185749_C/T continue\n",
      "6:32324081_A/AT test\n",
      "6:32324081_A/AT\n"
     ]
    }
   ],
   "source": [
    "for marker_name in top_markers_SNP.values:\n",
    "    if marker_name in r2_df.columns:\n",
    "        print(marker_name,'continue')\n",
    "        continue\n",
    "    else:\n",
    "        print(marker_name,'test')\n",
    "    marker_dosage=plink_KCHIP_HLA_AA_SNP_1000G.get_geno_marker(marker_name)\n",
    "    print(marker_name)\n",
    "    r2_list=[]\n",
    "    for idx_bim,(SNP,row) in enumerate(plink_KCHIP_HLA_AA_SNP_1000G_bim.iterrows()):\n",
    "        r2=pearsonr(marker_dosage,plink_KCHIP_HLA_AA_SNP_1000G.get_geno_marker(SNP))[0]**2\n",
    "        r2_list.append(r2)\n",
    "    \n",
    "    r2_df[marker_name]=r2_list\n",
    "    \n",
    "    #r2_df_temp=pd.DataFrame(r2_list,index=plink_KCHIP_HLA_AA_SNP_1000G_bim.index)\n",
    "    #r2_df['here']=marker_name\n",
    "    #r2_df=r2_df.sort_values(0,ascending=False)\n",
    "    \n",
    "    #r2_df_dict[marker_name]=r2_df"
   ]
  },
  {
   "cell_type": "code",
   "execution_count": 168,
   "metadata": {},
   "outputs": [],
   "source": [
    "r2_df.to_csv('data/temp_r2.tsv',sep='\\t')"
   ]
  },
  {
   "cell_type": "code",
   "execution_count": 129,
   "metadata": {},
   "outputs": [],
   "source": [
    "#pd.DataFrame(r2_dict,index=plink_KCHIP_HLA_AA_SNP_1000G_bim.index)"
   ]
  },
  {
   "cell_type": "code",
   "execution_count": null,
   "metadata": {},
   "outputs": [],
   "source": []
  }
 ],
 "metadata": {
  "kernelspec": {
   "display_name": "Python 3",
   "language": "python",
   "name": "python3"
  },
  "language_info": {
   "codemirror_mode": {
    "name": "ipython",
    "version": 3
   },
   "file_extension": ".py",
   "mimetype": "text/x-python",
   "name": "python",
   "nbconvert_exporter": "python",
   "pygments_lexer": "ipython3",
   "version": "3.7.3"
  }
 },
 "nbformat": 4,
 "nbformat_minor": 4
}
