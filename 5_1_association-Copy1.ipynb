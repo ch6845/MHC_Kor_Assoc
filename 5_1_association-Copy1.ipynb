{
 "cells": [
  {
   "cell_type": "code",
   "execution_count": 2,
   "metadata": {},
   "outputs": [
    {
     "data": {
      "text/plain": [
       "'\\n\\njupyter nbconvert 5_association.ipynb --to script\\npython 5_association.py albumin 2 0\\n\\nfor i in {00..101};do python 5_association.py $i 2 0,1,2;done\\n\\n\\nfor i in {00..10};do python 5_association.py $i 2 0;done\\nfor i in {11..20};do python 5_association.py $i 7 0;done\\nfor i in {21..30};do python 5_association.py $i 7 0;done\\nfor i in {31..40};do python 5_association.py $i 7 0;done\\nfor i in {41..50};do python 5_association.py $i 7 0;done\\nfor i in {51..60};do python 5_association.py $i 7 0;done\\nfor i in {61..70};do python 5_association.py $i 7 0;done\\nfor i in {71..80};do python 5_association.py $i 7 0;done\\nfor i in {81..90};do python 5_association.py $i 7 0;done\\nfor i in {91..101};do python 5_association.py $i 7 0;done\\n\\nfor i in {101};do python 5_association.py $i 5 0;done\\nfor i in {51..60};do python 5_association.py $i 5 0;done\\nfor i in {51..60};do python 5_association.py $i 5 0;done\\nfor i in {51..60};do python 5_association.py $i 5 0;done\\n\\nfor i in {00..101};do python 5_association.py $i 1 0,2;done\\nfor i in {00..101};do python 5_association.py $i 1 1;done\\n\\nfor i in {00..20};do python 5_association.py $i 1 1;done\\nfor i in {21..40};do python 5_association.py $i 1 1;done\\nfor i in {41..60};do python 5_association.py $i 1 1;done\\nfor i in {61..80};do python 5_association.py $i 1 1;done\\nfor i in {81..101};do python 5_association.py $i 1 1;done\\n\\n'"
      ]
     },
     "execution_count": 2,
     "metadata": {},
     "output_type": "execute_result"
    }
   ],
   "source": [
    "import os\n",
    "import sys\n",
    "\n",
    "import logging\n",
    "import re\n",
    "import pathlib\n",
    "\n",
    "import datetime\n",
    "\n",
    "import numpy as np\n",
    "import pandas as pd\n",
    "from scipy.stats import pearsonr\n",
    "\n",
    "import matplotlib.pyplot as plt\n",
    "\n",
    "from pyplink import PyPlink\n",
    "\n",
    "import statsmodels.api as sm\n",
    "\n",
    "from basic_tools import *\n",
    "\n",
    "\"\"\"\n",
    "\n",
    "jupyter nbconvert 5_association.ipynb --to script\n",
    "python 5_association.py albumin 2 0\n",
    "\n",
    "for i in {00..101};do python 5_association.py $i 2 0,1,2;done\n",
    "\n",
    "\n",
    "for i in {00..10};do python 5_association.py $i 2 0;done\n",
    "for i in {11..20};do python 5_association.py $i 7 0;done\n",
    "for i in {21..30};do python 5_association.py $i 7 0;done\n",
    "for i in {31..40};do python 5_association.py $i 7 0;done\n",
    "for i in {41..50};do python 5_association.py $i 7 0;done\n",
    "for i in {51..60};do python 5_association.py $i 7 0;done\n",
    "for i in {61..70};do python 5_association.py $i 7 0;done\n",
    "for i in {71..80};do python 5_association.py $i 7 0;done\n",
    "for i in {81..90};do python 5_association.py $i 7 0;done\n",
    "for i in {91..101};do python 5_association.py $i 7 0;done\n",
    "\n",
    "for i in {101};do python 5_association.py $i 5 0;done\n",
    "for i in {51..60};do python 5_association.py $i 5 0;done\n",
    "for i in {51..60};do python 5_association.py $i 5 0;done\n",
    "for i in {51..60};do python 5_association.py $i 5 0;done\n",
    "\n",
    "for i in {00..101};do python 5_association.py $i 1 0,2;done\n",
    "for i in {00..101};do python 5_association.py $i 1 1;done\n",
    "\n",
    "for i in {00..20};do python 5_association.py $i 1 1;done\n",
    "for i in {21..40};do python 5_association.py $i 1 1;done\n",
    "for i in {41..60};do python 5_association.py $i 1 1;done\n",
    "for i in {61..80};do python 5_association.py $i 1 1;done\n",
    "for i in {81..101};do python 5_association.py $i 1 1;done\n",
    "\n",
    "\"\"\""
   ]
  },
  {
   "cell_type": "code",
   "execution_count": 3,
   "metadata": {},
   "outputs": [],
   "source": [
    "plink_KCHIP_HLA_AA_SNP_1000G=PyPlink(plink_KCHIP_HLA_AA_SNP_1000G_path)\n",
    "plink_KCHIP_HLA_AA_SNP_1000G_fam=plink_KCHIP_HLA_AA_SNP_1000G.get_fam().astype({'fid':str,'iid':str}).rename(columns={'fid':'FID','iid':'IID'})\n",
    "plink_KCHIP_HLA_AA_SNP_1000G_bim=plink_KCHIP_HLA_AA_SNP_1000G.get_bim()"
   ]
  },
  {
   "cell_type": "code",
   "execution_count": 4,
   "metadata": {},
   "outputs": [],
   "source": [
    "phenotypes=pd.read_csv(pheno_all_file_path,sep='\\t')\n",
    "phenotypes=phenotypes.set_index('ID').loc[plink_KCHIP_HLA_AA_SNP_1000G_fam['IID']]\n",
    "\n",
    "binary_continuous_traits=sorted(phenotypes.columns[~phenotypes.columns.str.contains('x_ray')])\n",
    "#binary_continuous_traits\n",
    "\n",
    "if 'ipykernel' in sys.argv[0]:\n",
    "    ipykernel=True\n",
    "    phenotype_name='height'\n",
    "    step_idx=3\n",
    "    mode_list=[0]\n",
    "    #phenotype_name='height'\n",
    "else:\n",
    "    ipykernel=False\n",
    "    phenotype_name=sys.argv[1]\n",
    "    step_idx=int(sys.argv[2])\n",
    "    mode_list=[int(i) for i in sys.argv[3].strip().split(',')]\n",
    "    \n",
    "if phenotype_name.isdigit():\n",
    "    phenotype_name=int(phenotype_name)\n",
    "    phenotype_name=binary_continuous_traits[phenotype_name]      "
   ]
  },
  {
   "cell_type": "code",
   "execution_count": 5,
   "metadata": {},
   "outputs": [],
   "source": [
    "data_out_assoc_phenotype_path=data_out_assoc_path+phenotype_name+'/'\n",
    "pathlib.Path(data_out_assoc_phenotype_path).mkdir(parents=True, exist_ok=True)"
   ]
  },
  {
   "cell_type": "code",
   "execution_count": 6,
   "metadata": {},
   "outputs": [
    {
     "name": "stdout",
     "output_type": "stream",
     "text": [
      "sex\n"
     ]
    }
   ],
   "source": [
    "for i in binary_continuous_traits:\n",
    "    if not os.path.exists('data/out_assoc/{}/step_01.plink.PHENO2.glm.linear'.format(i)) and not os.path.exists('data/out_assoc/{}/step_01.plink.PHENO2.glm.logistic'.format(i)):\n",
    "        print(i)"
   ]
  },
  {
   "cell_type": "code",
   "execution_count": 7,
   "metadata": {},
   "outputs": [
    {
     "data": {
      "text/plain": [
       "'continuous'"
      ]
     },
     "execution_count": 7,
     "metadata": {},
     "output_type": "execute_result"
    }
   ],
   "source": [
    "pheno=pd.read_csv(data_out_pheno_path+phenotype_name+'.phe',sep='\\t',names=['FID','IID','pheno'])\n",
    "phenotype_type='binary' if len(pheno['pheno'][pheno['pheno']!=-9].value_counts())<3 else 'continuous'\n",
    "phenotype_type"
   ]
  },
  {
   "cell_type": "code",
   "execution_count": 8,
   "metadata": {},
   "outputs": [],
   "source": [
    "log = logging.getLogger('logger')\n",
    "log.setLevel(logging.DEBUG)\n",
    "\n",
    "log_file_name=datetime.datetime.now().strftime('%Y%m%d_%H%M%S')+'.log'\n",
    "log_file_path=data_out_assoc_phenotype_path+log_file_name\n",
    "fileHandler = logging.FileHandler(log_file_path)\n",
    "streamHandler = logging.StreamHandler()\n",
    "\n",
    "formatter = logging.Formatter('%(message)s')\n",
    "fileHandler.setFormatter(formatter)\n",
    "streamHandler.setFormatter(formatter)\n",
    "\n",
    "log.addHandler(fileHandler)\n",
    "log.addHandler(streamHandler)"
   ]
  },
  {
   "cell_type": "code",
   "execution_count": 9,
   "metadata": {},
   "outputs": [],
   "source": [
    "for step_idx_sub in range(1,step_idx):\n",
    "    if os.path.exists(data_out_assoc_phenotype_path+'step_{:02d}.cond.stop'.format(step_idx_sub)):\n",
    "        log.info(\"step_{}.cond.stop->stops \".format(step_idx_sub))\n",
    "        sys.exit()"
   ]
  },
  {
   "cell_type": "code",
   "execution_count": 10,
   "metadata": {},
   "outputs": [],
   "source": [
    "log.info_head=lambda x: log.info('-'*int((100-len(x))/2)+x+'-'*int((100-len(x))/2))"
   ]
  },
  {
   "cell_type": "code",
   "execution_count": 11,
   "metadata": {},
   "outputs": [
    {
     "name": "stderr",
     "output_type": "stream",
     "text": [
      "-------------------phenotype_name: height, phenotype_type:continuous , Step : 3 -------------------\n"
     ]
    }
   ],
   "source": [
    "log.info_head(\"phenotype_name: {}, phenotype_type:{} , Step : {} \".format(phenotype_name,phenotype_type,step_idx))"
   ]
  },
  {
   "cell_type": "code",
   "execution_count": 12,
   "metadata": {},
   "outputs": [],
   "source": [
    "#os.path.exists(data_out_assoc_phenotype_path+'step_{:02d}.cond.stop'.format(step_idx))"
   ]
  },
  {
   "cell_type": "code",
   "execution_count": 13,
   "metadata": {},
   "outputs": [],
   "source": [
    "for step_idx_sub in range(1,step_idx+1):\n",
    "\n",
    "    if os.path.exists(data_out_assoc_phenotype_path+'step_{:02d}.cond.stop'.format(step_idx_sub)):\n",
    "        log.info(\"stops cond.stop\")\n",
    "        sys.exit()"
   ]
  },
  {
   "cell_type": "code",
   "execution_count": 14,
   "metadata": {},
   "outputs": [
    {
     "name": "stderr",
     "output_type": "stream",
     "text": [
      "/home/ch6845/tools/miniconda3/lib/python3.7/site-packages/ipykernel_launcher.py:9: SettingWithCopyWarning: \n",
      "A value is trying to be set on a copy of a slice from a DataFrame.\n",
      "Try using .loc[row_indexer,col_indexer] = value instead\n",
      "\n",
      "See the caveats in the documentation: http://pandas.pydata.org/pandas-docs/stable/indexing.html#indexing-view-versus-copy\n",
      "  if __name__ == '__main__':\n"
     ]
    }
   ],
   "source": [
    "gene_bed_path='data/known_genes_chr6.hg18.txt'\n",
    "gene_bed=pd.read_csv(gene_bed_path,sep='\\t')\n",
    "gene_bed=gene_bed[(gene_bed['txStart']>=plink_KCHIP_HLA_AA_SNP_1000G_bim.pos.min())&(gene_bed['txEnd']<=plink_KCHIP_HLA_AA_SNP_1000G_bim.pos.max())]\n",
    "gene_bed=gene_bed[~gene_bed.duplicated(['name2'])]\n",
    "\n",
    "gene_assign=plink_KCHIP_HLA_AA_SNP_1000G_bim[['pos']]\n",
    "\n",
    "for idx,row in gene_bed.iterrows():\n",
    "    gene_assign[row['name2']]=0\n",
    "    \n",
    "for idx,row in gene_bed.iterrows():    \n",
    "    gene_assign[row['name2']][(gene_assign['pos']>=row['txStart'])&(gene_assign['pos']<=row['txEnd'])]=1\n",
    "\n",
    "gene_assign.columns=gene_assign.columns.str.replace('HLA-','HLA_')        \n",
    "    \n",
    "HLA_names=np.unique([i[0].split('_')[1] for i in plink_KCHIP_HLA_AA_SNP_1000G_bim[plink_KCHIP_HLA_AA_SNP_1000G_bim.index.str.contains('HLA_')].index.str.split('*')])\n",
    "\n",
    "for HLA_name in HLA_names:\n",
    "    HLA_name='HLA_{}'.format(HLA_name)\n",
    "    gene_select=gene_assign[gene_assign.index.str.contains('HLA_'+HLA_name)|gene_assign.index.str.contains('SNPS_'+HLA_name)|gene_assign.index.str.contains('AA_'+HLA_name)]#print(gene_select.sort_values('pos').iloc[0],gene_select.sort_values('pos').iloc[-1])\n",
    "    gene_assign[HLA_name][(gene_assign['pos']>=gene_select['pos'].min())&(gene_assign['pos']<=gene_select['pos'].max())]=1 "
   ]
  },
  {
   "cell_type": "code",
   "execution_count": 15,
   "metadata": {},
   "outputs": [],
   "source": [
    "covariate_df=pd.read_csv(PC_path,sep='\\t').set_index('ID').loc[plink_KCHIP_HLA_AA_SNP_1000G_fam['IID']]\n",
    "covariate_df['age']=phenotypes['age']\n",
    "covariate_df['sex']=phenotypes['sex']-1\n",
    "\n",
    "if np.all((pheno['pheno']==-9) | ((phenotypes['cohort']==1)|(phenotypes['cohort']==2))):\n",
    "    covariate_df['AS']=phenotypes['cohort'].replace(1,1).replace(2,0).replace(3,0)\n",
    "else:\n",
    "    covariate_df['AS']=phenotypes['cohort'].replace(1,1).replace(2,0).replace(3,0)\n",
    "    covariate_df['CT']=phenotypes['cohort'].replace(1,0).replace(2,1).replace(3,0)\n",
    "plink_KCHIP_HLA_AA_SNP_1000G_fam.iloc[:,:2].merge(right=covariate_df,left_on='IID',right_index=True).fillna(-9).to_csv(data_out_assoc_phenotype_path+'covar',index=None,sep='\\t')"
   ]
  },
  {
   "cell_type": "code",
   "execution_count": 16,
   "metadata": {},
   "outputs": [
    {
     "data": {
      "text/plain": [
       "Index(['BHAN005531', 'BHAN005532', 'BHAN005533', 'BHAN005534', 'BHAN005535',\n",
       "       'BHAN005536', 'BHAN005537', 'BHAN005538', 'BHAN005539', 'BHAN005540',\n",
       "       ...\n",
       "       'BHAN013133', 'BHAN013134', 'BHAN013135', 'BHAN013136', 'BHAN013137',\n",
       "       'BHAN013138', 'BHAN013139', 'BHAN013140', 'BHAN013141', 'BHAN013142'],\n",
       "      dtype='object', name='ID', length=7607)"
      ]
     },
     "execution_count": 16,
     "metadata": {},
     "output_type": "execute_result"
    }
   ],
   "source": [
    "phenotypes.index[phenotypes['cohort']==1]"
   ]
  },
  {
   "cell_type": "code",
   "execution_count": 18,
   "metadata": {},
   "outputs": [],
   "source": [
    "#pheno['pheno'].loc[phenotypes.index[phenotypes['cohort']==1]].value_counts()"
   ]
  },
  {
   "cell_type": "code",
   "execution_count": 19,
   "metadata": {},
   "outputs": [
    {
     "data": {
      "text/plain": [
       "-9.0      187\n",
       " 150.0    150\n",
       " 154.0    146\n",
       " 155.0    146\n",
       " 152.0    141\n",
       " 151.0    141\n",
       " 156.0    139\n",
       " 157.0    138\n",
       " 158.0    123\n",
       " 153.0    121\n",
       " 160.0    113\n",
       " 159.0    112\n",
       " 154.5    106\n",
       " 161.0    104\n",
       " 163.0    103\n",
       " 155.5    103\n",
       " 153.5     99\n",
       " 162.0     99\n",
       " 150.8     98\n",
       " 149.0     96\n",
       " 155.4     96\n",
       " 157.5     95\n",
       " 151.5     95\n",
       " 153.9     95\n",
       " 165.0     95\n",
       " 156.6     93\n",
       " 152.5     93\n",
       " 152.4     91\n",
       " 158.3     91\n",
       " 150.5     90\n",
       "         ... \n",
       " 179.5      2\n",
       " 183.1      2\n",
       " 140.2      2\n",
       " 180.7      2\n",
       " 139.0      2\n",
       " 138.3      2\n",
       " 182.6      1\n",
       " 183.3      1\n",
       " 179.1      1\n",
       " 137.3      1\n",
       " 138.1      1\n",
       " 136.8      1\n",
       " 183.2      1\n",
       " 180.9      1\n",
       " 136.5      1\n",
       " 184.8      1\n",
       " 180.1      1\n",
       " 136.0      1\n",
       " 183.7      1\n",
       " 181.1      1\n",
       " 184.1      1\n",
       " 136.9      1\n",
       " 179.3      1\n",
       " 182.0      1\n",
       " 180.4      1\n",
       " 180.5      1\n",
       " 182.2      1\n",
       " 179.2      1\n",
       " 181.2      1\n",
       " 177.9      1\n",
       "Name: pheno, Length: 471, dtype: int64"
      ]
     },
     "execution_count": 19,
     "metadata": {},
     "output_type": "execute_result"
    }
   ],
   "source": [
    "pheno.set_index('IID').loc[phenotypes.index[phenotypes['cohort']==3]]['pheno'].value_counts()"
   ]
  },
  {
   "cell_type": "code",
   "execution_count": 20,
   "metadata": {},
   "outputs": [
    {
     "data": {
      "text/plain": [
       "166.0    137\n",
       "168.0    121\n",
       "167.0    120\n",
       "154.0    116\n",
       "156.0    114\n",
       "152.0    112\n",
       "153.0    110\n",
       "155.0    109\n",
       "165.0    107\n",
       "160.0    107\n",
       "158.0    104\n",
       "163.0    103\n",
       "162.0    100\n",
       "164.0    100\n",
       "161.0     97\n",
       "157.0     96\n",
       "170.0     94\n",
       "169.0     90\n",
       "159.0     88\n",
       "167.5     83\n",
       "151.0     81\n",
       "166.5     74\n",
       "164.5     74\n",
       "150.0     73\n",
       "153.5     72\n",
       "173.0     70\n",
       "171.0     69\n",
       "162.5     69\n",
       "154.5     69\n",
       "168.5     69\n",
       "        ... \n",
       "139.3      1\n",
       "137.3      1\n",
       "182.1      1\n",
       "179.6      1\n",
       "143.4      1\n",
       "184.7      1\n",
       "174.9      1\n",
       "139.5      1\n",
       "136.4      1\n",
       "178.4      1\n",
       "180.3      1\n",
       "176.4      1\n",
       "139.8      1\n",
       "136.3      1\n",
       "138.9      1\n",
       "144.8      1\n",
       "140.7      1\n",
       "142.1      1\n",
       "141.3      1\n",
       "177.1      1\n",
       "175.7      1\n",
       "143.8      1\n",
       "182.6      1\n",
       "182.3      1\n",
       "181.4      1\n",
       "142.9      1\n",
       "139.9      1\n",
       "139.6      1\n",
       "174.7      1\n",
       "183.4      1\n",
       "Name: pheno, Length: 413, dtype: int64"
      ]
     },
     "execution_count": 20,
     "metadata": {},
     "output_type": "execute_result"
    }
   ],
   "source": [
    "pheno.set_index('IID').loc[phenotypes.index[phenotypes['cohort']==1]]['pheno'].value_counts()"
   ]
  },
  {
   "cell_type": "code",
   "execution_count": 21,
   "metadata": {},
   "outputs": [
    {
     "data": {
      "text/plain": [
       "158.0    2970\n",
       "160.0    2901\n",
       "157.0    2579\n",
       "156.0    2541\n",
       "155.0    2514\n",
       "159.0    2390\n",
       "154.0    2257\n",
       "153.0    2246\n",
       "162.0    2121\n",
       "161.0    2096\n",
       "163.0    2043\n",
       "152.0    1828\n",
       "165.0    1817\n",
       "164.0    1781\n",
       "168.0    1619\n",
       "170.0    1578\n",
       "151.0    1516\n",
       "166.0    1497\n",
       "150.0    1486\n",
       "167.0    1465\n",
       "169.0    1282\n",
       "171.0    1188\n",
       "172.0    1141\n",
       "173.0     967\n",
       "149.0     839\n",
       "174.0     793\n",
       "175.0     737\n",
       "148.0     735\n",
       "176.0     552\n",
       "147.0     485\n",
       "         ... \n",
       "140.8       3\n",
       "182.2       3\n",
       "140.7       3\n",
       "184.7       2\n",
       "139.9       2\n",
       "141.1       2\n",
       "183.8       2\n",
       "139.8       2\n",
       "183.1       2\n",
       "141.3       2\n",
       "135.6       2\n",
       "139.5       2\n",
       "139.3       2\n",
       "138.6       2\n",
       "139.7       2\n",
       "140.9       2\n",
       "138.1       1\n",
       "137.9       1\n",
       "136.5       1\n",
       "137.6       1\n",
       "135.9       1\n",
       "136.2       1\n",
       "138.5       1\n",
       "139.1       1\n",
       "135.8       1\n",
       "140.4       1\n",
       "138.8       1\n",
       "135.7       1\n",
       "138.4       1\n",
       "139.6       1\n",
       "Name: pheno, Length: 477, dtype: int64"
      ]
     },
     "execution_count": 21,
     "metadata": {},
     "output_type": "execute_result"
    }
   ],
   "source": [
    "pheno.set_index('IID').loc[phenotypes.index[phenotypes['cohort']==2]]['pheno'].value_counts()"
   ]
  },
  {
   "cell_type": "code",
   "execution_count": 22,
   "metadata": {},
   "outputs": [
    {
     "data": {
      "text/plain": [
       "\"\\n#r2_df.loc[gene_assign.index[gene_assign['HLA_DPB1']==1]].sort_values(0)\\nr2_list=[]\\nfor idx_bim,(SNP,row) in enumerate(plink_KCHIP_HLA_AA_SNP_1000G_bim.iterrows()):\\n    r2=pearsonr(plink_KCHIP_HLA_AA_SNP_1000G.get_geno_marker('6:31367865_G/A'),plink_KCHIP_HLA_AA_SNP_1000G.get_geno_marker(SNP))[0]**2\\n    r2_list.append(r2)\\nr2_df=pd.DataFrame(r2_list,index=plink_KCHIP_HLA_AA_SNP_1000G_bim.index)  \\n#r2_df.loc['6:32665115_T/C']\\n\\nr2_df.loc[gene_assign.index[gene_assign['HLA_B']==1]].sort_values(0)\\n\""
      ]
     },
     "execution_count": 22,
     "metadata": {},
     "output_type": "execute_result"
    }
   ],
   "source": [
    "\"\"\"\n",
    "#r2_df.loc[gene_assign.index[gene_assign['HLA_DPB1']==1]].sort_values(0)\n",
    "r2_list=[]\n",
    "for idx_bim,(SNP,row) in enumerate(plink_KCHIP_HLA_AA_SNP_1000G_bim.iterrows()):\n",
    "    r2=pearsonr(plink_KCHIP_HLA_AA_SNP_1000G.get_geno_marker('6:31367865_G/A'),plink_KCHIP_HLA_AA_SNP_1000G.get_geno_marker(SNP))[0]**2\n",
    "    r2_list.append(r2)\n",
    "r2_df=pd.DataFrame(r2_list,index=plink_KCHIP_HLA_AA_SNP_1000G_bim.index)  \n",
    "#r2_df.loc['6:32665115_T/C']\n",
    "\n",
    "r2_df.loc[gene_assign.index[gene_assign['HLA_B']==1]].sort_values(0)\n",
    "\"\"\"\n"
   ]
  },
  {
   "cell_type": "code",
   "execution_count": 23,
   "metadata": {},
   "outputs": [],
   "source": [
    "#pheno['pheno'].loc[pheno['pheno']!=-9]\n",
    "#covariate_df['age']\n",
    "#pheno['pheno']"
   ]
  },
  {
   "cell_type": "code",
   "execution_count": 24,
   "metadata": {},
   "outputs": [
    {
     "data": {
      "text/plain": [
       "<matplotlib.collections.PathCollection at 0x7fee3026df60>"
      ]
     },
     "execution_count": 24,
     "metadata": {},
     "output_type": "execute_result"
    },
    {
     "data": {
      "image/png": "[encoded data removed]",
      "text/plain": [
       "<Figure size 432x288 with 1 Axes>"
      ]
     },
     "metadata": {
      "needs_background": "light"
     },
     "output_type": "display_data"
    }
   ],
   "source": [
    "plt.scatter(covariate_df['age'].loc[pheno.set_index('IID')['pheno']!=-9],pheno.set_index('IID')['pheno'].loc[pheno.set_index('IID')['pheno']!=-9])"
   ]
  },
  {
   "cell_type": "code",
   "execution_count": 25,
   "metadata": {},
   "outputs": [
    {
     "data": {
      "text/plain": [
       "(88310, 34175, 3188)"
      ]
     },
     "execution_count": 25,
     "metadata": {},
     "output_type": "execute_result"
    }
   ],
   "source": [
    "(plink_KCHIP_HLA_AA_SNP_1000G.get_geno_marker('6:34207474_T/TAA')==0).sum(),(plink_KCHIP_HLA_AA_SNP_1000G.get_geno_marker('6:34207474_T/TAA')==1).sum(),(plink_KCHIP_HLA_AA_SNP_1000G.get_geno_marker('6:34207474_T/TAA')==2).sum()"
   ]
  },
  {
   "cell_type": "code",
   "execution_count": 26,
   "metadata": {},
   "outputs": [
    {
     "data": {
      "text/plain": [
       "0.16133537036594972"
      ]
     },
     "execution_count": 26,
     "metadata": {},
     "output_type": "execute_result"
    }
   ],
   "source": [
    "((plink_KCHIP_HLA_AA_SNP_1000G.get_geno_marker('6:34207474_T/TAA')==1).sum()+2*(plink_KCHIP_HLA_AA_SNP_1000G.get_geno_marker('6:34207474_T/TAA')==2).sum())/\\\n",
    "(2*len(((plink_KCHIP_HLA_AA_SNP_1000G.get_geno_marker('6:34207474_T/TAA')))))"
   ]
  },
  {
   "cell_type": "code",
   "execution_count": 27,
   "metadata": {},
   "outputs": [
    {
     "data": {
      "text/plain": [
       "0"
      ]
     },
     "execution_count": 27,
     "metadata": {},
     "output_type": "execute_result"
    }
   ],
   "source": [
    "(plink_KCHIP_HLA_AA_SNP_1000G.get_geno_marker('6:34207474_T/TAA')==-1).sum()"
   ]
  },
  {
   "cell_type": "code",
   "execution_count": 28,
   "metadata": {},
   "outputs": [
    {
     "data": {
      "text/plain": [
       "ID\n",
       "BHAN000001    False\n",
       "BHAN000002    False\n",
       "BHAN000003    False\n",
       "BHAN000004    False\n",
       "BHAN000005    False\n",
       "BHAN000006    False\n",
       "BHAN000007    False\n",
       "BHAN000008    False\n",
       "BHAN000009    False\n",
       "BHAN000010    False\n",
       "BHAN000011    False\n",
       "BHAN000012    False\n",
       "BHAN000013    False\n",
       "BHAN000014    False\n",
       "BHAN000015    False\n",
       "BHAN000016    False\n",
       "BHAN000017    False\n",
       "BHAN000018    False\n",
       "BHAN000019    False\n",
       "BHAN000020    False\n",
       "BHAN000021    False\n",
       "BHAN000022    False\n",
       "BHAN000023    False\n",
       "BHAN000024    False\n",
       "BHAN000025    False\n",
       "BHAN000026    False\n",
       "BHAN000027    False\n",
       "BHAN000028    False\n",
       "BHAN000029    False\n",
       "BHAN000030    False\n",
       "              ...  \n",
       "BHAN125843    False\n",
       "BHAN125844    False\n",
       "BHAN125845    False\n",
       "BHAN125846    False\n",
       "BHAN125847    False\n",
       "BHAN125848    False\n",
       "BHAN125849    False\n",
       "BHAN125850    False\n",
       "BHAN125851    False\n",
       "BHAN125852    False\n",
       "BHAN125853    False\n",
       "BHAN125854    False\n",
       "BHAN125855    False\n",
       "BHAN125856    False\n",
       "BHAN125857    False\n",
       "BHAN125858    False\n",
       "BHAN125859    False\n",
       "BHAN125860    False\n",
       "BHAN125861    False\n",
       "BHAN125862    False\n",
       "BHAN125863    False\n",
       "BHAN125864    False\n",
       "BHAN125865    False\n",
       "BHAN125866    False\n",
       "BHAN125867    False\n",
       "BHAN125868    False\n",
       "BHAN125869    False\n",
       "BHAN125870    False\n",
       "BHAN125871    False\n",
       "BHAN125872    False\n",
       "Name: cohort, Length: 125673, dtype: bool"
      ]
     },
     "execution_count": 28,
     "metadata": {},
     "output_type": "execute_result"
    }
   ],
   "source": [
    "phenotypes['cohort']==1"
   ]
  },
  {
   "cell_type": "code",
   "execution_count": 29,
   "metadata": {},
   "outputs": [],
   "source": [
    "#plink_KCHIP_HLA_AA_SNP_1000G_fam.iloc[:,:2].merge(right=covariate_df,left_on='IID',right_index=True)"
   ]
  },
  {
   "cell_type": "code",
   "execution_count": 30,
   "metadata": {},
   "outputs": [
    {
     "data": {
      "text/plain": [
       "<matplotlib.axes._subplots.AxesSubplot at 0x7fede47c86a0>"
      ]
     },
     "execution_count": 30,
     "metadata": {},
     "output_type": "execute_result"
    },
    {
     "data": {
      "image/png": "[encoded data removed]",
      "text/plain": [
       "<Figure size 432x288 with 1 Axes>"
      ]
     },
     "metadata": {
      "needs_background": "light"
     },
     "output_type": "display_data"
    }
   ],
   "source": [
    "pheno['pheno'].replace(-9,np.nan).hist()"
   ]
  },
  {
   "cell_type": "code",
   "execution_count": 31,
   "metadata": {},
   "outputs": [
    {
     "data": {
      "text/plain": [
       "(160.08831947662534, <matplotlib.axes._subplots.AxesSubplot at 0x7fee3030ab38>)"
      ]
     },
     "execution_count": 31,
     "metadata": {},
     "output_type": "execute_result"
    },
    {
     "data": {
      "image/png": "[encoded data removed]",
      "text/plain": [
       "<Figure size 432x288 with 1 Axes>"
      ]
     },
     "metadata": {
      "needs_background": "light"
     },
     "output_type": "display_data"
    }
   ],
   "source": [
    "pheno['pheno'][plink_KCHIP_HLA_AA_SNP_1000G.get_geno_marker('6:34207474_T/TAA')==0].replace(-9,np.nan).mean(),pheno['pheno'][plink_KCHIP_HLA_AA_SNP_1000G.get_geno_marker('6:34207474_T/TAA')==0].replace(-9,np.nan).hist()"
   ]
  },
  {
   "cell_type": "code",
   "execution_count": 32,
   "metadata": {},
   "outputs": [
    {
     "data": {
      "text/plain": [
       "(160.6102763664131, <matplotlib.axes._subplots.AxesSubplot at 0x7fee302fbe80>)"
      ]
     },
     "execution_count": 32,
     "metadata": {},
     "output_type": "execute_result"
    },
    {
     "data": {
      "image/png": "[encoded data removed]",
      "text/plain": [
       "<Figure size 432x288 with 1 Axes>"
      ]
     },
     "metadata": {
      "needs_background": "light"
     },
     "output_type": "display_data"
    }
   ],
   "source": [
    "pheno['pheno'][plink_KCHIP_HLA_AA_SNP_1000G.get_geno_marker('6:34207474_T/TAA')==1].replace(-9,np.nan).mean(),pheno['pheno'][plink_KCHIP_HLA_AA_SNP_1000G.get_geno_marker('6:34207474_T/TAA')==1].replace(-9,np.nan).hist()"
   ]
  },
  {
   "cell_type": "code",
   "execution_count": 33,
   "metadata": {},
   "outputs": [
    {
     "data": {
      "text/plain": [
       "(161.06531062756227, <matplotlib.axes._subplots.AxesSubplot at 0x7fede4767160>)"
      ]
     },
     "execution_count": 33,
     "metadata": {},
     "output_type": "execute_result"
    },
    {
     "data": {
      "image/png": "[encoded data removed]",
      "text/plain": [
       "<Figure size 432x288 with 1 Axes>"
      ]
     },
     "metadata": {
      "needs_background": "light"
     },
     "output_type": "display_data"
    }
   ],
   "source": [
    "\n",
    "pheno['pheno'][plink_KCHIP_HLA_AA_SNP_1000G.get_geno_marker('6:34207474_T/TAA')==2].replace(-9,np.nan).mean(),pheno['pheno'][plink_KCHIP_HLA_AA_SNP_1000G.get_geno_marker('6:34207474_T/TAA')==2].replace(-9,np.nan).hist()"
   ]
  },
  {
   "cell_type": "code",
   "execution_count": 117,
   "metadata": {},
   "outputs": [
    {
     "name": "stderr",
     "output_type": "stream",
     "text": [
      "step idx sub 1 cond finding\n",
      "step idx sub 1 cond finding\n",
      "           marker_name               note term         POS        Z  std  \\\n",
      "457290  6:32639786_G/A  unphased bialleic  ADD  32639786.0  8.70439  NaN   \n",
      "456309  6:32638199_C/G  unphased bialleic  ADD  32638199.0  8.70439  NaN   \n",
      "462807  6:32650159_C/T  unphased bialleic  ADD  32650159.0  8.69955  NaN   \n",
      "510381  6:32669373_C/T  unphased bialleic  ADD  32669373.0  8.67898  NaN   \n",
      "507924  6:32665115_T/C  unphased bialleic  ADD  32665115.0  8.67589  NaN   \n",
      "\n",
      "        chisq  coef  df A1 A2 multi_allele   nobs             P  \n",
      "457290    NaN   NaN NaN  A  G          NaN  91494  3.192930e-18  \n",
      "456309    NaN   NaN NaN  G  C          NaN  91494  3.192930e-18  \n",
      "462807    NaN   NaN NaN  T  C          NaN  91494  3.331960e-18  \n",
      "510381    NaN   NaN NaN  T  C          NaN  91494  3.993250e-18  \n",
      "507924    NaN   NaN NaN  C  T          NaN  91494  4.103340e-18  \n",
      "           marker_name               note term         POS        Z  std  \\\n",
      "457290  6:32639786_G/A  unphased bialleic  ADD  32639786.0  8.70439  NaN   \n",
      "456309  6:32638199_C/G  unphased bialleic  ADD  32638199.0  8.70439  NaN   \n",
      "462807  6:32650159_C/T  unphased bialleic  ADD  32650159.0  8.69955  NaN   \n",
      "510381  6:32669373_C/T  unphased bialleic  ADD  32669373.0  8.67898  NaN   \n",
      "507924  6:32665115_T/C  unphased bialleic  ADD  32665115.0  8.67589  NaN   \n",
      "\n",
      "        chisq  coef  df A1 A2 multi_allele   nobs             P  \n",
      "457290    NaN   NaN NaN  A  G          NaN  91494  3.192930e-18  \n",
      "456309    NaN   NaN NaN  G  C          NaN  91494  3.192930e-18  \n",
      "462807    NaN   NaN NaN  T  C          NaN  91494  3.331960e-18  \n",
      "510381    NaN   NaN NaN  T  C          NaN  91494  3.993250e-18  \n",
      "507924    NaN   NaN NaN  C  T          NaN  91494  4.103340e-18  \n"
     ]
    },
    {
     "ename": "KeyboardInterrupt",
     "evalue": "",
     "output_type": "error",
     "traceback": [
      "\u001b[0;31m---------------------------------------------------------------------------\u001b[0m",
      "\u001b[0;31mKeyboardInterrupt\u001b[0m                         Traceback (most recent call last)",
      "\u001b[0;32m<ipython-input-117-7259399b3f88>\u001b[0m in \u001b[0;36m<module>\u001b[0;34m\u001b[0m\n\u001b[1;32m     46\u001b[0m                     \u001b[0mr2_list\u001b[0m\u001b[0;34m=\u001b[0m\u001b[0;34m[\u001b[0m\u001b[0;34m]\u001b[0m\u001b[0;34m\u001b[0m\u001b[0;34m\u001b[0m\u001b[0m\n\u001b[1;32m     47\u001b[0m                     \u001b[0;32mfor\u001b[0m \u001b[0midx_bim\u001b[0m\u001b[0;34m,\u001b[0m\u001b[0;34m(\u001b[0m\u001b[0mSNP\u001b[0m\u001b[0;34m,\u001b[0m\u001b[0mrow\u001b[0m\u001b[0;34m)\u001b[0m \u001b[0;32min\u001b[0m \u001b[0menumerate\u001b[0m\u001b[0;34m(\u001b[0m\u001b[0mplink_KCHIP_HLA_AA_SNP_1000G_bim\u001b[0m\u001b[0;34m.\u001b[0m\u001b[0miterrows\u001b[0m\u001b[0;34m(\u001b[0m\u001b[0;34m)\u001b[0m\u001b[0;34m)\u001b[0m\u001b[0;34m:\u001b[0m\u001b[0;34m\u001b[0m\u001b[0;34m\u001b[0m\u001b[0m\n\u001b[0;32m---> 48\u001b[0;31m                         \u001b[0mr2\u001b[0m\u001b[0;34m=\u001b[0m\u001b[0mpearsonr\u001b[0m\u001b[0;34m(\u001b[0m\u001b[0mplink_KCHIP_HLA_AA_SNP_1000G\u001b[0m\u001b[0;34m.\u001b[0m\u001b[0mget_geno_marker\u001b[0m\u001b[0;34m(\u001b[0m\u001b[0mmarker_name\u001b[0m\u001b[0;34m)\u001b[0m\u001b[0;34m,\u001b[0m\u001b[0mplink_KCHIP_HLA_AA_SNP_1000G\u001b[0m\u001b[0;34m.\u001b[0m\u001b[0mget_geno_marker\u001b[0m\u001b[0;34m(\u001b[0m\u001b[0mSNP\u001b[0m\u001b[0;34m)\u001b[0m\u001b[0;34m)\u001b[0m\u001b[0;34m[\u001b[0m\u001b[0;36m0\u001b[0m\u001b[0;34m]\u001b[0m\u001b[0;34m**\u001b[0m\u001b[0;36m2\u001b[0m\u001b[0;34m\u001b[0m\u001b[0;34m\u001b[0m\u001b[0m\n\u001b[0m\u001b[1;32m     49\u001b[0m                         \u001b[0mr2_list\u001b[0m\u001b[0;34m.\u001b[0m\u001b[0mappend\u001b[0m\u001b[0;34m(\u001b[0m\u001b[0mr2\u001b[0m\u001b[0;34m)\u001b[0m\u001b[0;34m\u001b[0m\u001b[0;34m\u001b[0m\u001b[0m\n\u001b[1;32m     50\u001b[0m                     \u001b[0mr2_df\u001b[0m\u001b[0;34m=\u001b[0m\u001b[0mpd\u001b[0m\u001b[0;34m.\u001b[0m\u001b[0mDataFrame\u001b[0m\u001b[0;34m(\u001b[0m\u001b[0mr2_list\u001b[0m\u001b[0;34m,\u001b[0m\u001b[0mindex\u001b[0m\u001b[0;34m=\u001b[0m\u001b[0mplink_KCHIP_HLA_AA_SNP_1000G_bim\u001b[0m\u001b[0;34m.\u001b[0m\u001b[0mindex\u001b[0m\u001b[0;34m)\u001b[0m\u001b[0;34m\u001b[0m\u001b[0;34m\u001b[0m\u001b[0m\n",
      "\u001b[0;32m~/tools/miniconda3/lib/python3.7/site-packages/scipy/stats/stats.py\u001b[0m in \u001b[0;36mpearsonr\u001b[0;34m(x, y)\u001b[0m\n\u001b[1;32m   3034\u001b[0m     \u001b[0mmy\u001b[0m \u001b[0;34m=\u001b[0m \u001b[0my\u001b[0m\u001b[0;34m.\u001b[0m\u001b[0mmean\u001b[0m\u001b[0;34m(\u001b[0m\u001b[0;34m)\u001b[0m\u001b[0;34m\u001b[0m\u001b[0;34m\u001b[0m\u001b[0m\n\u001b[1;32m   3035\u001b[0m     \u001b[0mxm\u001b[0m\u001b[0;34m,\u001b[0m \u001b[0mym\u001b[0m \u001b[0;34m=\u001b[0m \u001b[0mx\u001b[0m \u001b[0;34m-\u001b[0m \u001b[0mmx\u001b[0m\u001b[0;34m,\u001b[0m \u001b[0my\u001b[0m \u001b[0;34m-\u001b[0m \u001b[0mmy\u001b[0m\u001b[0;34m\u001b[0m\u001b[0;34m\u001b[0m\u001b[0m\n\u001b[0;32m-> 3036\u001b[0;31m     \u001b[0mr_num\u001b[0m \u001b[0;34m=\u001b[0m \u001b[0mnp\u001b[0m\u001b[0;34m.\u001b[0m\u001b[0madd\u001b[0m\u001b[0;34m.\u001b[0m\u001b[0mreduce\u001b[0m\u001b[0;34m(\u001b[0m\u001b[0mxm\u001b[0m \u001b[0;34m*\u001b[0m \u001b[0mym\u001b[0m\u001b[0;34m)\u001b[0m\u001b[0;34m\u001b[0m\u001b[0;34m\u001b[0m\u001b[0m\n\u001b[0m\u001b[1;32m   3037\u001b[0m     \u001b[0mr_den\u001b[0m \u001b[0;34m=\u001b[0m \u001b[0mnp\u001b[0m\u001b[0;34m.\u001b[0m\u001b[0msqrt\u001b[0m\u001b[0;34m(\u001b[0m\u001b[0m_sum_of_squares\u001b[0m\u001b[0;34m(\u001b[0m\u001b[0mxm\u001b[0m\u001b[0;34m)\u001b[0m \u001b[0;34m*\u001b[0m \u001b[0m_sum_of_squares\u001b[0m\u001b[0;34m(\u001b[0m\u001b[0mym\u001b[0m\u001b[0;34m)\u001b[0m\u001b[0;34m)\u001b[0m\u001b[0;34m\u001b[0m\u001b[0;34m\u001b[0m\u001b[0m\n\u001b[1;32m   3038\u001b[0m     \u001b[0mr\u001b[0m \u001b[0;34m=\u001b[0m \u001b[0mr_num\u001b[0m \u001b[0;34m/\u001b[0m \u001b[0mr_den\u001b[0m\u001b[0;34m\u001b[0m\u001b[0;34m\u001b[0m\u001b[0m\n",
      "\u001b[0;31mKeyboardInterrupt\u001b[0m: "
     ]
    }
   ],
   "source": [
    "if 0 in mode_list:\n",
    "    if os.path.exists(data_out_assoc_phenotype_path+'step_{:02d}.cond'.format(step_idx)):\n",
    "        log.warning(\"Tried to construct .cond but. cond already exists\")\n",
    "    else:\n",
    "        if step_idx==1:\n",
    "            conditional_list=[]\n",
    "            pd.Series(conditional_list).to_csv(data_out_assoc_phenotype_path+'step_{:02d}.cond'.format(step_idx),index=None,sep='\\t',header=False)                        \n",
    "        else:\n",
    "            conditional_list=[]\n",
    "            for step_idx_sub in range(1,step_idx):\n",
    "                log.info(\"step idx sub {} cond finding\".format(step_idx_sub))\n",
    "                GAT_result=pd.read_csv(data_out_assoc_phenotype_path+'step_{:02d}.GAT.result.tsv'.format(step_idx_sub),sep='\\t')\n",
    "                plink_result=pd.read_csv(data_out_assoc_phenotype_path+'step_{:02d}.plink.PHENO2.glm.{}'.format(step_idx_sub,'logistic' if phenotype_type=='binary' else 'linear'),sep='\\t')\n",
    "\n",
    "                plink_result_munge=plink_result[plink_result['TEST']=='ADD'].drop(columns='#CHROM').rename(columns={'TEST':'term','ID':'marker_name','BETA':'coef','SE':'std','T_STAT':'Z','Z_STAT':'Z','OBS_CT':'nobs'})\n",
    "                plink_result_munge['A2']=plink_result_munge.apply(lambda x: x['ALT'] if x['A1']==x['REF'] else x['REF'],axis=1)\n",
    "                plink_result_munge=plink_result_munge.drop(columns=['REF','ALT'])\n",
    "                plink_result_munge['note']='unphased bialleic'  \n",
    "                result_merge=pd.concat([GAT_result,plink_result_munge],sort=True)[['marker_name','note','term','POS','Z','coef','std','chisq','df','A1','A2','multi_allele','nobs','P']]\n",
    "            \n",
    "                result_merge_sorted=result_merge.astype({'P':float}).sort_values('P')   \n",
    "\n",
    "                result_merge.to_csv(data_out_assoc_phenotype_path+'step_{:02d}.result.tsv'.format(step_idx_sub),index=None,sep='\\t',header=True)                                        \n",
    "                result_merge_sorted.to_csv(data_out_assoc_phenotype_path+'step_{:02d}.result_sorted.tsv'.format(step_idx_sub),index=None,sep='\\t',header=True)                                        \n",
    "                \n",
    "                log.info(result_merge_sorted.iloc[:5])\n",
    "                if np.isnan(result_merge_sorted.iloc[0]['P']) or result_merge_sorted.iloc[0]['P']>5e-8:\n",
    "                    pd.Series(conditional_list).to_csv(data_out_assoc_phenotype_path+'step_{:02d}.cond.stop'.format(step_idx),index=None,sep='\\t',header=False)                        \n",
    "                    log.info(\"p value insignificant\")\n",
    "                    break\n",
    "\n",
    "                marker_name=result_merge_sorted.iloc[0].marker_name\n",
    "\n",
    "                \n",
    "\n",
    "                if marker_name[:3]=='AA_':\n",
    "                    conditional_list.append('HLA_'+marker_name.split('_')[1])\n",
    "                elif marker_name[:5]=='SNPS_':\n",
    "                    conditional_list.append('HLA_'+marker_name.split('_')[1])\n",
    "                elif marker_name[:4]=='HLA_':\n",
    "                    conditional_list.append('HLA_'+marker_name.split('_')[1].split('*')[0])\n",
    "                elif marker_name[:9]=='INS_SNPS_':\n",
    "                    conditional_list.append('HLA_'+marker_name.split('_')[2])\n",
    "                else:\n",
    "                    #conditional_list.append(marker_name)                    \n",
    "                    r2_list=[]\n",
    "                    for idx_bim,(SNP,row) in enumerate(plink_KCHIP_HLA_AA_SNP_1000G_bim.iterrows()):\n",
    "                        r2=pearsonr(plink_KCHIP_HLA_AA_SNP_1000G.get_geno_marker(marker_name),plink_KCHIP_HLA_AA_SNP_1000G.get_geno_marker(SNP))[0]**2\n",
    "                        r2_list.append(r2)\n",
    "                    r2_df=pd.DataFrame(r2_list,index=plink_KCHIP_HLA_AA_SNP_1000G_bim.index)                \n",
    "\n",
    "                    if gene_assign[r2_df[0]>0.95][['HLA_A', 'HLA_B', 'HLA_C', 'HLA_DPA1', 'HLA_DPB1', 'HLA_DQA1', 'HLA_DQB1', 'HLA_DRB1']].sum().sum()==0:\n",
    "                        conditional_list.append(marker_name)                     \n",
    "                        log.info(\"{} not in HLA polymorphism-> added\".format(marker_name))\n",
    "                        \n",
    "                    HLA_count=gene_assign[r2_df[0]>0.7][['HLA_A', 'HLA_B', 'HLA_C', 'HLA_DPA1', 'HLA_DPB1', 'HLA_DQA1', 'HLA_DQB1', 'HLA_DRB1']].sum(axis=0).sort_values(ascending=False)\n",
    "                    print(HLA_count[HLA_count>0].index)\n",
    "                    for i in HLA_count[HLA_count>0].index:\n",
    "                        print(i)\n",
    "                        conditional_list.append(i)\n",
    "                        log.info(\"{} is strong LD with {}\".format(marker_name,i))\n",
    "                        break\n",
    "                \n",
    "                log.info('step idx {} conditional_list: {}'.format(step_idx_sub,conditional_list))\n",
    "                conditional_list=np.unique(conditional_list).tolist()\n",
    "                if step_idx_sub==step_idx-1:\n",
    "                    pd.Series(conditional_list).to_csv(data_out_assoc_phenotype_path+'step_{:02d}.cond'.format(step_idx),index=None,sep='\\t',header=False)                        \n",
    "                \n",
    "        log.info('conditional_list: {}'.format(conditional_list))\n",
    "                        "
   ]
  },
  {
   "cell_type": "code",
   "execution_count": 54,
   "metadata": {},
   "outputs": [],
   "source": [
    "if 1 in mode_list:\n",
    "    if not os.path.exists(data_out_assoc_phenotype_path+'step_{:02d}.cond'.format(step_idx)):\n",
    "        log.warning(\"cond not existing... stop GAT...\") \n",
    "        \n",
    "        \n",
    "    elif os.path.exists(data_out_assoc_phenotype_path+'step_{:02d}.GAT.result.tsv'.format(step_idx)):\n",
    "        log.warning(\"GAT result already exits\") \n",
    "        \n",
    "    else:\n",
    "        log.info(\"######################################### step {:02d} Phased Association  #########################################\".format(step_idx))\n",
    "\n",
    "\n",
    "        command='python Generic_Association_Tool/GAT.py \\\n",
    "        --assoc {assoc_mode} \\\n",
    "        --out {out} \\\n",
    "        --bfile {bfile} \\\n",
    "        --bgl-phased {bgl_phased} \\\n",
    "        --pheno {pheno} \\\n",
    "        --covar {covar} \\\n",
    "        --condition-list {cond} \\\n",
    "        --skip \"(?P<name>6:[0-9]*_[A-Z]*/[\\<\\>A-Z\\:0-9]*),(?P<name>rs[0-9]*),(?P<name>SNPS_.*),(?P<name>INS_SNPS_.*)\" \\\n",
    "        --multialleic \"(?P<name>HLA_[0-9A-Z]*)\\*(?P<allele>[0-9:]*)\" \\\n",
    "        --multialleic-always \"(?P<name>AA_[A-Z0-9]*_[\\-0-9]*_[0-9]*_exon[0-9]*)_*(?P<allele>[A-Z]*)\"'.format(\n",
    "        assoc_mode='logistic' if phenotype_type=='binary' else 'linear',\n",
    "        out=data_out_assoc_phenotype_path+'step_{:02d}.GAT'.format(step_idx),\n",
    "        bfile=plink_1000G_path,\n",
    "        bgl_phased=phased_KCHIP_HLA_AA_SNP_path,\n",
    "        pheno=data_out_pheno_path+phenotype_name+'.phe',\n",
    "        covar=data_out_assoc_phenotype_path+'covar',   \n",
    "        cond=data_out_assoc_phenotype_path+'step_{:02d}.cond'.format(step_idx)  \n",
    "        )    \n",
    "\n",
    "        log.info(command)\n",
    "        stdout,stderr=run_subprocess(command,dry=False)\n",
    "        log.info(stdout)\n",
    "        log.error(stderr) \n",
    "\n",
    "\n",
    "\n",
    "if 2 in mode_list:\n",
    "    if not os.path.exists(data_out_assoc_phenotype_path+'step_{:02d}.cond'.format(step_idx)):\n",
    "        log.warning(\"cond not existing... stop plink...\") \n",
    "\n",
    "    elif os.path.exists(data_out_assoc_phenotype_path+'step_{:02d}.plink.PHENO2.glm.{}'.format(step_idx,'logistic' if phenotype_type=='binary' else 'linear')):\n",
    "        log.warning(\"plink result already exits\")         \n",
    "        \n",
    "    else:    \n",
    "        log.info(\"######################################### step {:02d} Unphased Association  #########################################\".format(step_idx))\n",
    "\n",
    "        command='plink2 \\\n",
    "        --bfile {bfile} \\\n",
    "        {assoc_mode} \\\n",
    "        --pheno {pheno} \\\n",
    "        --covar {covar} \\\n",
    "        --out {out} \\\n",
    "        --covar-variance-standardize \\\n",
    "        --threads 40'.format(\n",
    "        bfile=plink_KCHIP_SNP_1000G_path,\n",
    "        assoc_mode='--logistic' if phenotype_type=='binary' else '--linear',\n",
    "        pheno=data_out_pheno_path+phenotype_name+'.phe',\n",
    "        covar=data_out_assoc_phenotype_path+'step_{:02d}.GAT.covar_unphased.tsv'.format(step_idx),\n",
    "        out=data_out_assoc_phenotype_path+'step_{:02d}.plink'.format(step_idx)                                                                         \n",
    "        )\n",
    "\n",
    "        log.info(command)\n",
    "        stdout,stderr=run_subprocess(command,dry=False)\n",
    "        log.info(stdout)\n",
    "        log.error(stderr)  \n",
    "\n",
    "\n"
   ]
  },
  {
   "cell_type": "code",
   "execution_count": null,
   "metadata": {},
   "outputs": [],
   "source": []
  }
 ],
 "metadata": {
  "kernelspec": {
   "display_name": "Python 3",
   "language": "python",
   "name": "python3"
  },
  "language_info": {
   "codemirror_mode": {
    "name": "ipython",
    "version": 3
   },
   "file_extension": ".py",
   "mimetype": "text/x-python",
   "name": "python",
   "nbconvert_exporter": "python",
   "pygments_lexer": "ipython3",
   "version": "3.7.3"
  }
 },
 "nbformat": 4,
 "nbformat_minor": 4
}
