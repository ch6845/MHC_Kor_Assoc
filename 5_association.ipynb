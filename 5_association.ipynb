{
 "cells": [
  {
   "cell_type": "markdown",
   "metadata": {},
   "source": [
    "jupyter nbconvert 5_association.ipynb --to script\n",
    "\n",
    "cd /data/ch6845/MHC*;screen -S assoc;\n",
    "\n",
    "for i in {0..10};do python 5_association.py $i 1;done\n",
    "\n",
    "\n",
    "5*3=15\n",
    "\n",
    "for i in {00..101};do python 5_association.py $i;done\n",
    "\n",
    "https://www.ncbi.nlm.nih.gov/pmc/articles/PMC6292650/"
   ]
  },
  {
   "cell_type": "code",
   "execution_count": null,
   "metadata": {},
   "outputs": [],
   "source": [
    "import os\n",
    "import sys\n",
    "\n",
    "import logging\n",
    "import re\n",
    "import pathlib\n",
    "\n",
    "import datetime\n",
    "\n",
    "import numpy as np\n",
    "import pandas as pd\n",
    "from scipy.stats import pearsonr\n",
    "\n",
    "import matplotlib.pyplot as plt\n",
    "\n",
    "from pyplink import PyPlink\n",
    "\n",
    "import statsmodels.api as sm\n",
    "\n",
    "from basic_tools import *"
   ]
  },
  {
   "cell_type": "markdown",
   "metadata": {},
   "source": [
    "plink_KCHIP_HLA_AA_SNP_1000G_path=data_genotype_merge_path+'KCHIP_HLA_AA_SNP_1000G'\n",
    "plink_KCHIP_HLA_SNP_1000G_path=data_genotype_merge_path+'KCHIP_HLA_SNP_1000G' # for association\n",
    "plink_1000G_path=data_genotype_merge_path+'1000G'"
   ]
  },
  {
   "cell_type": "code",
   "execution_count": null,
   "metadata": {},
   "outputs": [],
   "source": [
    "#plink_KCHIP_HLA_SNP_1000G=PyPlink(plink_KCHIP_HLA_SNP_1000G_path)\n",
    "#plink_KCHIP_HLA_SNP_1000G_fam=plink_KCHIP_HLA_SNP_1000G.get_fam().astype({'fid':str,'iid':str}).rename(columns={'fid':'FID','iid':'IID'})\n",
    "#plink_KCHIP_HLA_SNP_1000G_bim=plink_KCHIP_HLA_SNP_1000G.get_bim()"
   ]
  },
  {
   "cell_type": "code",
   "execution_count": null,
   "metadata": {},
   "outputs": [],
   "source": [
    "plink_KCHIP_HLA_AA_SNP_1000G=PyPlink(plink_KCHIP_HLA_AA_SNP_1000G_path)\n",
    "plink_KCHIP_HLA_AA_SNP_1000G_fam=plink_KCHIP_HLA_AA_SNP_1000G.get_fam().astype({'fid':str,'iid':str}).rename(columns={'fid':'FID','iid':'IID'})\n",
    "plink_KCHIP_HLA_AA_SNP_1000G_bim=plink_KCHIP_HLA_AA_SNP_1000G.get_bim()"
   ]
  },
  {
   "cell_type": "code",
   "execution_count": null,
   "metadata": {},
   "outputs": [],
   "source": [
    "#plink_1000G=PyPlink(plink_1000G_path)\n",
    "#plink_1000G_fam=plink_1000G.get_fam().astype({'fid':str,'iid':str}).rename(columns={'fid':'FID','iid':'IID'})\n",
    "#plink_1000G_bim=plink_1000G.get_bim()\n",
    "# plink_KCHIP_HLA_SNP_1000G_bim -> for parameter"
   ]
  },
  {
   "cell_type": "code",
   "execution_count": null,
   "metadata": {},
   "outputs": [],
   "source": [
    "phased_KCHIP_HLA_AA_path\n",
    "phased_KCHIP_HLA_AA_SNP_path"
   ]
  },
  {
   "cell_type": "markdown",
   "metadata": {},
   "source": [
    "# parse parameter"
   ]
  },
  {
   "cell_type": "code",
   "execution_count": null,
   "metadata": {},
   "outputs": [],
   "source": [
    "phenotypes=pd.read_csv(pheno_all_file_path,sep='\\t')\n",
    "phenotypes=phenotypes.set_index('ID').loc[plink_KCHIP_HLA_AA_SNP_1000G_fam['IID']]\n",
    "\n",
    "binary_continuous_traits=sorted(phenotypes.columns[~phenotypes.columns.str.contains('x_ray')])\n",
    "#binary_continuous_traits\n",
    "\n",
    "if 'ipykernel' in sys.argv[0]:\n",
    "    ipykernel=True\n",
    "    phenotype_name='ALP'\n",
    "    step_idx=1\n",
    "    #phenotype_name='height'\n",
    "else:\n",
    "    ipykernel=False\n",
    "    phenotype_name=sys.argv[1]\n",
    "    step_idx=int(sys.argv[2])\n",
    "    \n",
    "if phenotype_name.isdigit():\n",
    "    phenotype_name=int(phenotype_name)\n",
    "    phenotype_name=binary_continuous_traits[phenotype_name]      "
   ]
  },
  {
   "cell_type": "code",
   "execution_count": null,
   "metadata": {},
   "outputs": [],
   "source": [
    "pheno=pd.read_csv(data_out_pheno_path+phenotype_name+'.phe',sep='\\t',names=['FID','IID','pheno'])\n",
    "phenotype_type='binary' if len(pheno['pheno'].value_counts())<3 else 'continuous'"
   ]
  },
  {
   "cell_type": "code",
   "execution_count": null,
   "metadata": {},
   "outputs": [],
   "source": [
    "data_out_assoc_phenotype_path=data_out_assoc_path+phenotype_name+'/'\n",
    "pathlib.Path(data_out_assoc_phenotype_path).mkdir(parents=True, exist_ok=True)"
   ]
  },
  {
   "cell_type": "code",
   "execution_count": null,
   "metadata": {},
   "outputs": [],
   "source": [
    "log = logging.getLogger('logger')\n",
    "log.setLevel(logging.DEBUG)\n",
    "\n",
    "log_file_name=datetime.datetime.now().strftime('%Y%m%d_%H%M%S')+'.log'\n",
    "log_file_path=data_out_assoc_phenotype_path+log_file_name\n",
    "fileHandler = logging.FileHandler(log_file_path)\n",
    "streamHandler = logging.StreamHandler()\n",
    "\n",
    "formatter = logging.Formatter('%(message)s')\n",
    "fileHandler.setFormatter(formatter)\n",
    "streamHandler.setFormatter(formatter)\n",
    "\n",
    "log.addHandler(fileHandler)\n",
    "log.addHandler(streamHandler)"
   ]
  },
  {
   "cell_type": "code",
   "execution_count": null,
   "metadata": {},
   "outputs": [],
   "source": [
    "log.info_head=lambda x: log.info('-'*int((100-len(x))/2)+x+'-'*int((100-len(x))/2))"
   ]
  },
  {
   "cell_type": "code",
   "execution_count": null,
   "metadata": {},
   "outputs": [],
   "source": [
    "log.info_head(\"phenotype_name: {}, phenotype_type:{}\".format(phenotype_name,phenotype_type))"
   ]
  },
  {
   "cell_type": "markdown",
   "metadata": {},
   "source": [
    "# Association"
   ]
  },
  {
   "cell_type": "markdown",
   "metadata": {},
   "source": [
    "plink_KCHIP_HLA_AA_SNP_1000G_HLAassign=plink_KCHIP_HLA_AA_SNP_1000G_bim[['pos']]\n",
    "HLA_names=np.unique([i[0].split('_')[1] for i in plink_KCHIP_HLA_AA_SNP_1000G_bim[plink_KCHIP_HLA_AA_SNP_1000G_bim.index.str.contains('HLA_')].index.str.split('*')])\n",
    "\n",
    "for HLA_name in HLA_names:\n",
    "    plink_KCHIP_HLA_AA_SNP_1000G_HLAassign[HLA_name]=0\n",
    "    gene_select=plink_KCHIP_HLA_AA_SNP_1000G_HLAassign[plink_KCHIP_HLA_AA_SNP_1000G_HLAassign.index.str.contains('HLA_'+HLA_name)|plink_KCHIP_HLA_AA_SNP_1000G_HLAassign.index.str.contains('SNPS_'+HLA_name)|plink_KCHIP_HLA_AA_SNP_1000G_HLAassign.index.str.contains('AA_'+HLA_name)]#print(gene_select.sort_values('pos').iloc[0],gene_select.sort_values('pos').iloc[-1])\n",
    "    plink_KCHIP_HLA_AA_SNP_1000G_HLAassign[HLA_name][(plink_KCHIP_HLA_AA_SNP_1000G_HLAassign['pos']>=plink_KCHIP_HLA_AA_SNP_1000G_HLAassign['pos'].min())&(plink_KCHIP_HLA_AA_SNP_1000G_HLAassign['pos']<=plink_KCHIP_HLA_AA_SNP_1000G_HLAassign['pos'].max())]=1\n",
    "plink_KCHIP_HLA_AA_SNP_1000G_HLAassign"
   ]
  },
  {
   "cell_type": "code",
   "execution_count": null,
   "metadata": {},
   "outputs": [],
   "source": [
    "#for i in gene_assign[gene_assign.A==1].index:\n",
    "#    print(i,gene_assign.loc[i])"
   ]
  },
  {
   "cell_type": "code",
   "execution_count": null,
   "metadata": {},
   "outputs": [],
   "source": [
    "plink_KCHIP_HLA_AA_SNP_1000G_HLAassign=plink_KCHIP_HLA_AA_SNP_1000G_bim[['pos']]\n",
    "HLA_names=np.unique([i[0].split('_')[1] for i in plink_KCHIP_HLA_AA_SNP_1000G_bim[plink_KCHIP_HLA_AA_SNP_1000G_bim.index.str.contains('HLA_')].index.str.split('*')])\n",
    "\n",
    "for HLA_name in HLA_names:\n",
    "    plink_KCHIP_HLA_AA_SNP_1000G_HLAassign[HLA_name]=0\n",
    "    gene_select=plink_KCHIP_HLA_AA_SNP_1000G_HLAassign[plink_KCHIP_HLA_AA_SNP_1000G_HLAassign.index.str.contains('HLA_'+HLA_name)|plink_KCHIP_HLA_AA_SNP_1000G_HLAassign.index.str.contains('SNPS_'+HLA_name)|plink_KCHIP_HLA_AA_SNP_1000G_HLAassign.index.str.contains('AA_'+HLA_name)]#print(gene_select.sort_values('pos').iloc[0],gene_select.sort_values('pos').iloc[-1])\n",
    "    plink_KCHIP_HLA_AA_SNP_1000G_HLAassign[HLA_name][(plink_KCHIP_HLA_AA_SNP_1000G_HLAassign['pos']>=gene_select['pos'].min())&(plink_KCHIP_HLA_AA_SNP_1000G_HLAassign['pos']<=gene_select['pos'].max())]=1\n",
    "plink_KCHIP_HLA_AA_SNP_1000G_HLAassign"
   ]
  },
  {
   "cell_type": "code",
   "execution_count": null,
   "metadata": {},
   "outputs": [],
   "source": [
    "plink_KCHIP_HLA_AA_SNP_1000G_r2_list_dict={}"
   ]
  },
  {
   "cell_type": "code",
   "execution_count": null,
   "metadata": {},
   "outputs": [],
   "source": [
    "#conditional_variant_list=['AA_A_-1','SNPS_A_28_30018337_exon1','6:30165273_C/T']"
   ]
  },
  {
   "cell_type": "code",
   "execution_count": null,
   "metadata": {},
   "outputs": [],
   "source": [
    "phased_KCHIP_HLA_AA_path"
   ]
  },
  {
   "cell_type": "markdown",
   "metadata": {},
   "source": [
    "debug=True\n",
    "#debug=True\n",
    "\n",
    "if debug:\n",
    "    arg_split='\\\n",
    "--assoc linear \\\n",
    "--out sample_output \\\n",
    "--bgl-phased /data/ch6845/MHC_phewas_testbench/data/genotype/4_merge/KCHIP_HLA_AA_SNP.bgl.phased \\\n",
    "--bfile /data/ch6845/MHC_phewas_testbench/data/genotype/4_merge/KCHIP_HLA_SNP_1000G \\\n",
    "--multialleic (?P<name>HLA_[0-9A-Z]*)\\*(?P<allele>[0-9:]*) \\\n",
    "--multialleic-always (?P<name>AA_[A-Z0-9]*_[\\-0-9]*_[0-9]*_exon[0-9]*)_*(?P<allele>[A-Z]*) \\\n",
    "--pheno /data/ch6845/MHC_phewas_testbench/data/out_pheno/FEV_predicted.phe \\\n",
    "--covar /data/ch6845/MHC_phewas_testbench/data/out_assoc/FEV_predicted/step_01.plink.covar \\\n",
    "--condition-list /data/ch6845/MHC_phewas_testbench/data/out_assoc/FEV_predicted/step_01.plink.cond\\\n",
    "'.split(' ')\n",
    "    args=parser.parse_args(arg_split)\n",
    "else:\n",
    "    args=parser.parse_args()\n",
    "    \n",
    "if args.bfile is None and args.bgl_phased is None:\n",
    "    raise argparse.ArgumentTypeError(\"either --bfile or --bgl-phased parameter is needed\")    "
   ]
  },
  {
   "cell_type": "code",
   "execution_count": null,
   "metadata": {},
   "outputs": [],
   "source": [
    "plink_KCHIP_HLA_SNP_1000G_path"
   ]
  },
  {
   "cell_type": "code",
   "execution_count": null,
   "metadata": {},
   "outputs": [],
   "source": [
    "conditional_list=[]\n",
    "pd.Series(conditional_list).to_csv(data_out_assoc_phenotype_path+'step_{:02d}.cond'.format(step_idx),index=None,sep='\\t',header=False)"
   ]
  },
  {
   "cell_type": "code",
   "execution_count": null,
   "metadata": {},
   "outputs": [],
   "source": [
    "covariate_df=pd.read_csv(PC_path,sep='\\t').set_index('ID').loc[plink_KCHIP_HLA_AA_SNP_1000G_fam['IID']]\n",
    "covariate_df['age']=phenotypes['age']\n",
    "covariate_df['sex']=phenotypes['sex']-1\n",
    "covariate_df['AS']=phenotypes['cohort'].replace(1,1).replace(2,0).replace(3,0)\n",
    "covariate_df['NC']=phenotypes['cohort'].replace(1,0).replace(2,0).replace(3,1)"
   ]
  },
  {
   "cell_type": "code",
   "execution_count": null,
   "metadata": {},
   "outputs": [],
   "source": [
    "plink_KCHIP_HLA_AA_SNP_1000G_fam.iloc[:,:2].merge(right=covariate_df,left_on='IID',right_index=True).fillna(-9).to_csv(data_out_assoc_phenotype_path+'step_{:02d}.covar'.format(step_idx),index=None,sep='\\t')"
   ]
  },
  {
   "cell_type": "code",
   "execution_count": null,
   "metadata": {},
   "outputs": [],
   "source": [
    "log.info(\"######################################### step {:02d} Association  #########################################\".format(step_idx))\n",
    "  "
   ]
  },
  {
   "cell_type": "code",
   "execution_count": null,
   "metadata": {},
   "outputs": [],
   "source": [
    "command=\"python Generic_Association_Tool/GAT.py --assoc {assoc_mode} --out {out} --bgl-phased {bgl_phased} --bfile {bfile} --pheno {pheno} --covar {covar} --condition-list {cond} --multialleic (?P<name>HLA_[0-9A-Z]*)\\*(?P<allele>[0-9:]*) --multialleic-always (?P<name>AA_[A-Z0-9]*_[\\-0-9]*_[0-9]*_exon[0-9]*)_*(?P<allele>[A-Z]*)\".format(\n",
    "assoc_mode='logistic' if phenotype_type=='binary' else 'linear',\n",
    "out=data_out_assoc_phenotype_path+'step_{:02d}'.format(step_idx),\n",
    "bgl_phased='data/genotype/4_merge/KCHIP_HLA_AA_SNP.bgl.phased',\n",
    "bfile=plink_KCHIP_HLA_SNP_1000G_path,  \n",
    "pheno=data_out_pheno_path+phenotype_name+'.phe',\n",
    "covar=data_out_assoc_phenotype_path+'step_{:02d}.covar'.format(step_idx),   \n",
    "cond=data_out_assoc_phenotype_path+'step_{:02d}.cond'.format(step_idx)  \n",
    ")    \n",
    "    \n",
    "log.info(command)\n",
    "stdout,stderr=run_subprocess(command,dry=False)\n",
    "log.info(stdout)\n",
    "log.error(stderr)     "
   ]
  },
  {
   "cell_type": "code",
   "execution_count": null,
   "metadata": {},
   "outputs": [],
   "source": []
  }
 ],
 "metadata": {
  "kernelspec": {
   "display_name": "Python 3",
   "language": "python",
   "name": "python3"
  },
  "language_info": {
   "codemirror_mode": {
    "name": "ipython",
    "version": 3
   },
   "file_extension": ".py",
   "mimetype": "text/x-python",
   "name": "python",
   "nbconvert_exporter": "python",
   "pygments_lexer": "ipython3",
   "version": "3.6.9"
  }
 },
 "nbformat": 4,
 "nbformat_minor": 4
}
