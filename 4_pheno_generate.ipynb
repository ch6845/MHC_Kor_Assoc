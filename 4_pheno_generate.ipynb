{
 "cells": [
  {
   "cell_type": "markdown",
   "metadata": {},
   "source": [
    "jupyter nbconvert 4_association-Copy1.ipynb --to script\n",
    "\n",
    "for i in {00..102};do python 4_association-Copy1.py $i;done\n",
    "\n",
    "cd /data/ch6845/MHC*;screen -S assoc;\n",
    "\n",
    "for i in {0..10};do python 4_association.py $i;done\n",
    "\n",
    "\n",
    "Rscript OmnibusTest_BHv5_modified.R logistic data/out_assoc/allergic_disease/step_02.omnibus data/genotype/4_merge/KCHIP_HLA_SNP_1000G_merged.fam data/out_assoc/allergic_disease/step_02.aa data/out_assoc/allergic_disease/phenotype.pheomnibus pheno data/out_assoc/allergic_disease/step_02.omnibus.covar header0 NA\n",
    "\n",
    "5*3=15\n",
    "\n",
    "for i in {00..06};do python 4_association.py $i;done\n",
    "for i in {07..13};do python 4_association.py $i;done\n",
    "for i in {14..20};do python 4_association.py $i;done\n",
    "\n",
    "for i in {21..27};do python 4_association.py $i;done\n",
    "for i in {28..34};do python 4_association.py $i;done\n",
    "for i in {35..41};do python 4_association.py $i;done\n",
    "\n",
    "for i in {42..48};do python 4_association.py $i;done\n",
    "for i in {49..55};do python 4_association.py $i;done\n",
    "for i in {56..62};do python 4_association.py $i;done\n",
    "\n",
    "for i in {63..69};do python 4_association.py $i;done\n",
    "for i in {70..76};do python 4_association.py $i;done\n",
    "for i in {77..83};do python 4_association.py $i;done\n",
    "\n",
    "for i in {84..90};do python 4_association.py $i;done\n",
    "for i in {91..97};do python 4_association.py $i;done\n",
    "for i in {98..101};do python 4_association.py $i;done\n",
    "\n",
    "\n",
    "\n",
    "for i in {21..40};do python 4_association.py $i;done \n",
    "for i in {41..60};do python 4_association.py $i;done \n",
    "for i in {61..80};do python 4_association.py $i;done \n",
    "for i in {81..101};do python 4_association.py $i;done\n",
    "\n",
    "Rscript OmnibusTest_BHv5_modified-Copy1.R linear data/out_assoc/age/step_01.omnibus data/genotype/4_merge/KCHIP_HLA_SNP_1000G_merged.fam data/out_assoc/age/step_01.aa data/out_assoc/age/phenotype.phe data/out_assoc/age/step_01.omnibus.covar header0,header1,header2,header3 NA\n",
    "\n",
    "Rscript OmnibusTest_BHv5_modified-Copy1.R linear data/out_assoc/grip_strength/step_01.omnibus data/genotype/4_merge/KCHIP_HLA_SNP_1000G_merged.fam data/out_assoc/grip_strength/step_01.aa data/out_assoc/grip_strength/phenotype.phe data/out_assoc/grip_strength/step_01.omnibus.covar header0,header1,header2,header3 NA\n",
    "\n",
    "Rscript OmnibusTest_BHv5_modified-Copy1.R linear data/out_assoc/cervical_cancer/step_01.omnibus data/genotype/4_merge/KCHIP_HLA_SNP_1000G_merged.fam data/out_assoc/cervical_cancer/step_01.aa data/out_assoc/cervical_cancer/phenotype.phe data/out_assoc/cervical_cancer/step_01.omnibus.covar header0,header1,header2,header3 NA\n",
    "\n",
    "Rscript OmnibusTest_BHv5_modified.R linear data/out_assoc/grip_strength/step_01.omnibus data/genotype/4_merge/KCHIP_HLA_SNP_1000G_merged.fam data/out_assoc/grip_strength/step_01.aa data/out_assoc/grip_strength/phenotype.phe data/out_assoc/grip_strength/step_01.omnibus.covar header0,header1,header2,header3 NA\n",
    "\n",
    "Rscript OmnibusTest_BHv5_modified-Copy1.R logistic data/out_assoc/asthma/step_01.omnibus data/genotype/4_merge/KCHIP_HLA_SNP_1000G_merged.fam data/out_assoc/asthma/step_01.aa data/out_assoc/asthma/phenotype.phe data/out_assoc/asthma/step_01.omnibus.covar header0,header1,header2,header3 NA\n",
    "\n",
    "\n",
    "https://www.ncbi.nlm.nih.gov/pmc/articles/PMC6292650/"
   ]
  },
  {
   "cell_type": "code",
   "execution_count": 1,
   "metadata": {},
   "outputs": [],
   "source": [
    "import os\n",
    "import sys\n",
    "\n",
    "import logging\n",
    "import re\n",
    "import pathlib\n",
    "\n",
    "import datetime\n",
    "\n",
    "import numpy as np\n",
    "import pandas as pd\n",
    "from scipy.stats import pearsonr\n",
    "\n",
    "import matplotlib.pyplot as plt\n",
    "\n",
    "from pyplink import PyPlink\n",
    "\n",
    "from basic_tools import *"
   ]
  },
  {
   "cell_type": "code",
   "execution_count": 2,
   "metadata": {},
   "outputs": [
    {
     "data": {
      "text/plain": [
       "('data/genotype/4_merge/KCHIP_HLA.hg18.intersection_HAN.LABELED.NoSameAllele.bMarkers.2field.saveRareAllele.beagle5.1.AGM.bgl.phased.QC.aa',\n",
       " 'data/genotype/4_merge/KCHIP_HLA_SNP_1000G_merged',\n",
       " 'data/genotype/4_merge/KCHIP_HLA_AA_SNP_1000G_merged')"
      ]
     },
     "execution_count": 2,
     "metadata": {},
     "output_type": "execute_result"
    }
   ],
   "source": [
    "final_aa_path,final_plink_path,final_plink_aa_path"
   ]
  },
  {
   "cell_type": "markdown",
   "metadata": {},
   "source": [
    "# load plink, aa and check integrity"
   ]
  },
  {
   "cell_type": "code",
   "execution_count": 3,
   "metadata": {},
   "outputs": [],
   "source": [
    "plink_path=final_plink_path\n",
    "plink_aa_path=final_plink_aa_path\n",
    "aa_path=final_aa_path"
   ]
  },
  {
   "cell_type": "code",
   "execution_count": 4,
   "metadata": {},
   "outputs": [],
   "source": [
    "plink=PyPlink(plink_path)\n",
    "fam=plink.get_fam().astype({'fid':str,'iid':str}).rename(columns={'fid':'FID','iid':'IID'})\n",
    "bim=plink.get_bim()"
   ]
  },
  {
   "cell_type": "code",
   "execution_count": 5,
   "metadata": {},
   "outputs": [],
   "source": [
    "plink_aa=PyPlink(plink_aa_path)\n",
    "fam_aa=plink_aa.get_fam().astype({'fid':str,'iid':str}).rename(columns={'fid':'FID','iid':'IID'})\n",
    "bim_aa=plink_aa.get_bim()"
   ]
  },
  {
   "cell_type": "code",
   "execution_count": 6,
   "metadata": {},
   "outputs": [],
   "source": [
    "assert (fam['IID']!=fam_aa['IID']).sum()==0"
   ]
  },
  {
   "cell_type": "code",
   "execution_count": 7,
   "metadata": {},
   "outputs": [],
   "source": [
    "f=open(aa_path,'r');aa_ind=f.readline().strip().split(' ')[2:];f.close()"
   ]
  },
  {
   "cell_type": "code",
   "execution_count": 8,
   "metadata": {},
   "outputs": [],
   "source": [
    "aa_ind_1=[aa_ind[i] for i in range(0,len(aa_ind),2)]\n",
    "aa_ind_2=[aa_ind[i+1] for i in range(0,len(aa_ind),2)]"
   ]
  },
  {
   "cell_type": "code",
   "execution_count": 9,
   "metadata": {},
   "outputs": [],
   "source": [
    "assert (fam['IID']!=aa_ind_1).sum()==0\n",
    "assert (fam['IID']!=aa_ind_2).sum()==0"
   ]
  },
  {
   "cell_type": "markdown",
   "metadata": {},
   "source": [
    "# load phenotype and check integrity"
   ]
  },
  {
   "cell_type": "code",
   "execution_count": 10,
   "metadata": {},
   "outputs": [
    {
     "data": {
      "text/plain": [
       "'ID  age  sex  asthma  chronic_bronchitis  allergic_disease  stomach_cancer  liver_cancer  colorectal_cancer  breast_cancer  cervical_cancer  lung_cancer  thyroid_cancer  prostate_cancer  bladder_cancer  colon_polyps  angina_pectoris_myocardial_infarction  hypertension  stroke  transient_ischemic_attacks  acute_liver_disease  diabetes  hyperlipidemia  thyroid_disease  arthritis  rheumatoid_arthritis  osteoporosis  parkinson  pwi_total  chronic_gastritis_stomach_ulcer  duodenal_ulcer  urinary_tract_infection  height  hip_circumference  waist_circumference  weight  systolic_blood_pressure  diastolic_blood_pressure  pulse  hysterectomy  menarche_onset_age  menopause_age  menopause_cycle  ovarian_extraction  child_delivery_number  big_baby  small_baby  child_present  child_dead  hematocrit  hemoglobin  platelet  rbc  wbc  mcv  mch  mchc  total_bilirubin  bun  creatinine  blood_in_urine  glucose_in_urine  alt  ast  gtp  total_cholesterol  hdl_cholesterol  hba1c  freet4  tsh  triglyceride  albumin  hscrp  protein_in_urine  heart_failure  peripheral_vascular_diseases  cataract  glaucoma  renal_failure  renin  fatty_liver  copd  tuberculosis  benign_prostatic_hyperplasia  gout  fracture  cholelithiasis_cholecystitis  periodontal_disease  insomnia  sleep_duration  neurosis  chest_x_ray_00  chest_x_ray_01  chest_x_ray_02  chest_x_ray_03  chest_x_ray_04  chest_x_ray_05  chest_x_ray_06  chest_x_ray_07  chest_x_ray_08  chest_x_ray_09  chest_x_ray_10  chest_x_ray_11  chest_x_ray_12  chest_x_ray_13  chest_x_ray_14  chest_x_ray_15  chest_x_ray_16  chest_x_ray_17  chest_x_ray_18  chest_x_ray_19  chest_x_ray_20  chest_x_ray_21  chest_x_ray_22  chest_x_ray_23  chest_x_ray_24  chest_x_ray_25  chest_x_ray_26  chest_x_ray_27  chest_x_ray_28  chest_x_ray_29  chest_x_ray_30  chest_x_ray_31  chest_x_ray_32  chest_x_ray_33  chest_x_ray_34  grip_strength  ALP  FVC_predicted  FEV_predicted  FEV_over_FVC_predicted  MVV_predicted  bone_density_distal_sos  bone_density_midshaft_sos  protein_in_blood  glucose_in_blood  cohort  bmi'"
      ]
     },
     "execution_count": 10,
     "metadata": {},
     "output_type": "execute_result"
    }
   ],
   "source": [
    "phenotypes=pd.read_csv(pheno_all_file_path,sep='\\t')\n",
    "'  '.join(phenotypes.columns)"
   ]
  },
  {
   "cell_type": "code",
   "execution_count": 11,
   "metadata": {},
   "outputs": [
    {
     "data": {
      "text/plain": [
       "(125673, 137)"
      ]
     },
     "execution_count": 11,
     "metadata": {},
     "output_type": "execute_result"
    }
   ],
   "source": [
    "phenotypes=phenotypes.set_index('ID').loc[fam.IID]\n",
    "phenotypes.shape"
   ]
  },
  {
   "cell_type": "code",
   "execution_count": 12,
   "metadata": {},
   "outputs": [],
   "source": [
    "assert (phenotypes.index!=fam['IID']).sum()==0"
   ]
  },
  {
   "cell_type": "code",
   "execution_count": 13,
   "metadata": {},
   "outputs": [
    {
     "data": {
      "text/plain": [
       "(Index(['sex', 'asthma', 'chronic_bronchitis', 'allergic_disease',\n",
       "        'stomach_cancer', 'liver_cancer', 'colorectal_cancer', 'breast_cancer',\n",
       "        'cervical_cancer', 'lung_cancer', 'thyroid_cancer', 'prostate_cancer',\n",
       "        'bladder_cancer', 'colon_polyps',\n",
       "        'angina_pectoris_myocardial_infarction', 'hypertension', 'stroke',\n",
       "        'transient_ischemic_attacks', 'acute_liver_disease', 'diabetes',\n",
       "        'hyperlipidemia', 'thyroid_disease', 'arthritis',\n",
       "        'rheumatoid_arthritis', 'osteoporosis', 'parkinson',\n",
       "        'chronic_gastritis_stomach_ulcer', 'duodenal_ulcer',\n",
       "        'urinary_tract_infection', 'hysterectomy', 'ovarian_extraction',\n",
       "        'big_baby', 'small_baby', 'blood_in_urine', 'glucose_in_urine',\n",
       "        'heart_failure', 'peripheral_vascular_diseases', 'cataract', 'glaucoma',\n",
       "        'renal_failure', 'fatty_liver', 'copd', 'tuberculosis',\n",
       "        'benign_prostatic_hyperplasia', 'gout', 'fracture',\n",
       "        'cholelithiasis_cholecystitis', 'periodontal_disease', 'insomnia',\n",
       "        'neurosis'],\n",
       "       dtype='object'), 50)"
      ]
     },
     "execution_count": 13,
     "metadata": {},
     "output_type": "execute_result"
    }
   ],
   "source": [
    "binary_traits=phenotypes.columns[phenotypes.apply(lambda x: (not 'x_ray' in x.name) & (len(x.value_counts())<3),axis=0)]\n",
    "binary_traits,len(binary_traits)"
   ]
  },
  {
   "cell_type": "code",
   "execution_count": 14,
   "metadata": {},
   "outputs": [
    {
     "data": {
      "text/plain": [
       "Index(['age', 'pwi_total', 'height', 'hip_circumference',\n",
       "       'waist_circumference', 'weight', 'systolic_blood_pressure',\n",
       "       'diastolic_blood_pressure', 'pulse', 'menarche_onset_age',\n",
       "       'menopause_age', 'menopause_cycle', 'child_delivery_number',\n",
       "       'child_present', 'child_dead', 'hematocrit', 'hemoglobin', 'platelet',\n",
       "       'rbc', 'wbc', 'mcv', 'mch', 'mchc', 'total_bilirubin', 'bun',\n",
       "       'creatinine', 'alt', 'ast', 'gtp', 'total_cholesterol',\n",
       "       'hdl_cholesterol', 'hba1c', 'freet4', 'tsh', 'triglyceride', 'albumin',\n",
       "       'hscrp', 'protein_in_urine', 'renin', 'sleep_duration', 'grip_strength',\n",
       "       'ALP', 'FVC_predicted', 'FEV_predicted', 'FEV_over_FVC_predicted',\n",
       "       'MVV_predicted', 'bone_density_distal_sos', 'bone_density_midshaft_sos',\n",
       "       'protein_in_blood', 'glucose_in_blood', 'cohort', 'bmi'],\n",
       "      dtype='object')"
      ]
     },
     "execution_count": 14,
     "metadata": {},
     "output_type": "execute_result"
    }
   ],
   "source": [
    "continuous_traits=phenotypes.columns[phenotypes.apply(lambda x: (not 'x_ray' in x.name) & (len(x.value_counts())>=3),axis=0)]\n",
    "continuous_traits"
   ]
  },
  {
   "cell_type": "code",
   "execution_count": 29,
   "metadata": {},
   "outputs": [
    {
     "data": {
      "text/plain": [
       "['ALP',\n",
       " 'FEV_over_FVC_predicted',\n",
       " 'FEV_predicted',\n",
       " 'FVC_predicted',\n",
       " 'MVV_predicted',\n",
       " 'acute_liver_disease',\n",
       " 'age',\n",
       " 'albumin',\n",
       " 'allergic_disease',\n",
       " 'alt',\n",
       " 'angina_pectoris_myocardial_infarction',\n",
       " 'arthritis',\n",
       " 'ast',\n",
       " 'asthma',\n",
       " 'benign_prostatic_hyperplasia',\n",
       " 'big_baby',\n",
       " 'bladder_cancer',\n",
       " 'blood_in_urine',\n",
       " 'bmi',\n",
       " 'bone_density_distal_sos',\n",
       " 'bone_density_midshaft_sos',\n",
       " 'breast_cancer',\n",
       " 'bun',\n",
       " 'cataract',\n",
       " 'cervical_cancer',\n",
       " 'child_dead',\n",
       " 'child_delivery_number',\n",
       " 'child_present',\n",
       " 'cholelithiasis_cholecystitis',\n",
       " 'chronic_bronchitis',\n",
       " 'chronic_gastritis_stomach_ulcer',\n",
       " 'cohort',\n",
       " 'colon_polyps',\n",
       " 'colorectal_cancer',\n",
       " 'copd',\n",
       " 'creatinine',\n",
       " 'diabetes',\n",
       " 'diastolic_blood_pressure',\n",
       " 'duodenal_ulcer',\n",
       " 'fatty_liver',\n",
       " 'fracture',\n",
       " 'freet4',\n",
       " 'glaucoma',\n",
       " 'glucose_in_blood',\n",
       " 'glucose_in_urine',\n",
       " 'gout',\n",
       " 'grip_strength',\n",
       " 'gtp',\n",
       " 'hba1c',\n",
       " 'hdl_cholesterol',\n",
       " 'heart_failure',\n",
       " 'height',\n",
       " 'hematocrit',\n",
       " 'hemoglobin',\n",
       " 'hip_circumference',\n",
       " 'hscrp',\n",
       " 'hyperlipidemia',\n",
       " 'hypertension',\n",
       " 'hysterectomy',\n",
       " 'insomnia',\n",
       " 'liver_cancer',\n",
       " 'lung_cancer',\n",
       " 'mch',\n",
       " 'mchc',\n",
       " 'mcv',\n",
       " 'menarche_onset_age',\n",
       " 'menopause_age',\n",
       " 'menopause_cycle',\n",
       " 'neurosis',\n",
       " 'osteoporosis',\n",
       " 'ovarian_extraction',\n",
       " 'parkinson',\n",
       " 'periodontal_disease',\n",
       " 'peripheral_vascular_diseases',\n",
       " 'platelet',\n",
       " 'prostate_cancer',\n",
       " 'protein_in_blood',\n",
       " 'protein_in_urine',\n",
       " 'pulse',\n",
       " 'pwi_total',\n",
       " 'rbc',\n",
       " 'renal_failure',\n",
       " 'renin',\n",
       " 'rheumatoid_arthritis',\n",
       " 'sex',\n",
       " 'sleep_duration',\n",
       " 'small_baby',\n",
       " 'stomach_cancer',\n",
       " 'stroke',\n",
       " 'systolic_blood_pressure',\n",
       " 'thyroid_cancer',\n",
       " 'thyroid_disease',\n",
       " 'total_bilirubin',\n",
       " 'total_cholesterol',\n",
       " 'transient_ischemic_attacks',\n",
       " 'triglyceride',\n",
       " 'tsh',\n",
       " 'tuberculosis',\n",
       " 'urinary_tract_infection',\n",
       " 'waist_circumference',\n",
       " 'wbc',\n",
       " 'weight']"
      ]
     },
     "execution_count": 29,
     "metadata": {},
     "output_type": "execute_result"
    }
   ],
   "source": [
    "binary_continuous_traits=sorted(binary_traits.union(continuous_traits))\n",
    "binary_continuous_traits"
   ]
  },
  {
   "cell_type": "markdown",
   "metadata": {},
   "source": [
    "# parse parameter"
   ]
  },
  {
   "cell_type": "code",
   "execution_count": 16,
   "metadata": {},
   "outputs": [],
   "source": [
    "if 'ipykernel' in sys.argv[0]:\n",
    "    ipykernel=True\n",
    "    phenotype_name='protein_in_blood'\n",
    "    #phenotype_name='height'\n",
    "    \n",
    "else:\n",
    "    ipykernel=False\n",
    "    phenotype_name=sys.argv[1]\n",
    "    if phenotype_name.isdigit():\n",
    "        phenotype_name=int(phenotype_name)\n",
    "        phenotype_name=binary_continuous_traits[phenotype_name]\n",
    "\n",
    "if phenotype_name in binary_traits:\n",
    "    phenotype_type='binary'\n",
    "elif phenotype_name in continuous_traits:\n",
    "    phenotype_type='continuous'        "
   ]
  },
  {
   "cell_type": "code",
   "execution_count": 17,
   "metadata": {},
   "outputs": [],
   "source": [
    "data_out_assoc_phenotype_path=data_out_assoc_path+phenotype_name+'/'\n",
    "pathlib.Path(data_out_assoc_phenotype_path).mkdir(parents=True, exist_ok=True)"
   ]
  },
  {
   "cell_type": "code",
   "execution_count": 18,
   "metadata": {},
   "outputs": [],
   "source": [
    "log = logging.getLogger('logger')\n",
    "log.setLevel(logging.DEBUG)\n",
    "\n",
    "log_file_name='test.log'\n",
    "log_file_path=log_file_name\n",
    "fileHandler = logging.FileHandler(log_file_path)\n",
    "streamHandler = logging.StreamHandler()\n",
    "\n",
    "formatter = logging.Formatter(' %(asctime)s [%(levelname)s] %(lineno)d > %(message)s')\n",
    "fileHandler.setFormatter(formatter)\n",
    "streamHandler.setFormatter(formatter)\n",
    "\n",
    "log.addHandler(fileHandler)\n",
    "log.addHandler(streamHandler)"
   ]
  },
  {
   "cell_type": "code",
   "execution_count": 19,
   "metadata": {},
   "outputs": [
    {
     "name": "stderr",
     "output_type": "stream",
     "text": [
      " 2020-02-26 02:26:10,145 [INFO] 1 > phenotype_name: protein_in_blood, phenotype_type:continuous\n"
     ]
    }
   ],
   "source": [
    "log.info(\"phenotype_name: {}, phenotype_type:{}\".format(phenotype_name,phenotype_type))"
   ]
  },
  {
   "cell_type": "code",
   "execution_count": 20,
   "metadata": {},
   "outputs": [
    {
     "name": "stderr",
     "output_type": "stream",
     "text": [
      " 2020-02-26 02:26:10,897 [INFO] 27 > ------------------per cohort---------------------------\n",
      " 2020-02-26 02:26:10,902 [INFO] 31 > cohort: 1,  7606/ 7607 (99.987%)\n",
      " 2020-02-26 02:26:10,927 [INFO] 43 > Total values: 7606\n",
      " 2020-02-26 02:26:10,928 [INFO] 27 > ------------------per cohort---------------------------\n",
      " 2020-02-26 02:26:10,931 [INFO] 31 > cohort: 2,     0/99159 (0.000%)\n",
      " 2020-02-26 02:26:10,932 [INFO] 41 > cohort 2 ignored. it may due to nonexistence of questionnaire\n",
      " 2020-02-26 02:26:10,933 [INFO] 43 > Total values: 7606\n",
      " 2020-02-26 02:26:10,933 [INFO] 27 > ------------------per cohort---------------------------\n",
      " 2020-02-26 02:26:10,936 [INFO] 31 > cohort: 3, 16771/18907 (88.703%)\n",
      " 2020-02-26 02:26:10,939 [INFO] 43 > Total values: 24377\n",
      " 2020-02-26 02:26:10,955 [INFO] 49 > median:7.400, mean: 7.365, std: 0.427, max: 10.200, min: 1.000\n",
      "/home/ch6845/tools/miniconda3/envs/pytorch/lib/python3.6/site-packages/ipykernel_launcher.py:52: RuntimeWarning: invalid value encountered in greater\n",
      "/home/ch6845/tools/miniconda3/envs/pytorch/lib/python3.6/site-packages/ipykernel_launcher.py:53: RuntimeWarning: invalid value encountered in less\n",
      " 2020-02-26 02:26:10,969 [INFO] 53 > >mean+3std:36, <mean-3std:34\n",
      "/home/ch6845/tools/miniconda3/envs/pytorch/lib/python3.6/site-packages/ipykernel_launcher.py:56: RuntimeWarning: invalid value encountered in greater\n",
      "/home/ch6845/tools/miniconda3/envs/pytorch/lib/python3.6/site-packages/ipykernel_launcher.py:57: RuntimeWarning: invalid value encountered in less\n",
      " 2020-02-26 02:26:10,980 [INFO] 59 > Total values: 24307\n"
     ]
    },
    {
     "data": {
      "image/png": "[encoded data removed]",
      "text/plain": [
       "<Figure size 432x288 with 1 Axes>"
      ]
     },
     "metadata": {
      "needs_background": "light"
     },
     "output_type": "display_data"
    }
   ],
   "source": [
    "phenotype_define=np.full(len(phenotypes.index),np.nan)\n",
    "\n",
    "if phenotype_type=='binary':\n",
    "    for cohort in sorted(phenotypes['cohort'].unique()):\n",
    "        log.info('------------------per cohort---------------------------')\n",
    "        cohort_check=(phenotypes['cohort']==cohort)\n",
    "        cohort_case_check=(phenotypes['cohort']==cohort)&(phenotypes[phenotype_name]==2)\n",
    "        cohort_control_check=(phenotypes['cohort']==cohort)&(~(phenotypes[phenotype_name]==2))\n",
    "        log.info('cohort: {}, {:5d}/{:5d} ({:.3f}%)'.format(cohort,cohort_case_check.sum(),cohort_check.sum(),100*cohort_case_check.sum()/cohort_check.sum()))\n",
    "\n",
    "        if cohort_case_check.sum()>0:\n",
    "            phenotype_define[cohort_case_check]=2\n",
    "            phenotype_define[cohort_control_check]=1\n",
    "        elif np.isnan(cohort):\n",
    "            raise\n",
    "            cohort_check_temp=(phenotypes['cohort'].isnull())\n",
    "            phenotype_define[cohort_check_temp]=-9\n",
    "            log.info('missing individuals founded: {}'.format(cohort_check_temp.sum()))\n",
    "        else:\n",
    "            log.info('cohort {} ignored. it may due to nonexistence of questionnaire'.format(cohort))\n",
    "\n",
    "        log.info('Total case:'+str((phenotype_define==2).sum()))\n",
    "    log.info(\"phenotype defined\\n\"+str(pd.Series(phenotype_define).value_counts()))\n",
    "    \n",
    "elif phenotype_type=='continuous':\n",
    "    for cohort in sorted(phenotypes['cohort'].unique()):\n",
    "        log.info('------------------per cohort---------------------------')\n",
    "        cohort_check=(phenotypes['cohort']==cohort)\n",
    "        cohort_notnull_check=(phenotypes['cohort']==cohort)&(~(phenotypes[phenotype_name].isnull()))\n",
    "        #print(cohort_notnull_check,type(cohort_notnull_check))\n",
    "        log.info('cohort: {}, {:5d}/{:5d} ({:.3f}%)'.format(cohort,cohort_notnull_check.sum(),cohort_check.sum(),100*cohort_notnull_check.sum()/cohort_check.sum()))\n",
    "\n",
    "        if cohort_notnull_check.sum()>0:\n",
    "            phenotype_define[cohort_notnull_check]=phenotypes[phenotype_name][cohort_notnull_check]\n",
    "        elif np.isnan(cohort):\n",
    "            raise\n",
    "            cohort_check_temp=(phenotypes['cohort'].isnull())\n",
    "            phenotype_define[cohort_check_temp]=-9\n",
    "            log.info('missing individuals founded: {}'.format(cohort_check_temp.sum()))\n",
    "        else:\n",
    "            log.info('cohort {} ignored. it may due to nonexistence of questionnaire'.format(cohort))\n",
    "\n",
    "        log.info('Total values: {}'.format((~np.isnan(phenotype_define)).sum()))\n",
    "        \n",
    "    log.info(\"median:{:.3f}, mean: {:.3f}, std: {:.3f}, max: {:.3f}, min: {:.3f}\".format(pd.Series(phenotype_define).median(),\n",
    "                                                         pd.Series(phenotype_define).mean(),\n",
    "                                                         pd.Series(phenotype_define).std(),\n",
    "                                                         pd.Series(phenotype_define).max(),\n",
    "                                                         pd.Series(phenotype_define).min()\n",
    "                                                        )\n",
    "         )\n",
    "    log.info(\">mean+3std:{}, <mean-3std:{}\".format((phenotype_define>pd.Series(phenotype_define).mean()+3*pd.Series(phenotype_define).std()).sum(),\n",
    "                                                (phenotype_define<pd.Series(phenotype_define).mean()-3*pd.Series(phenotype_define).std()).sum()\n",
    "                                               )\n",
    "         )\n",
    "    phenotype_define[phenotype_define>pd.Series(phenotype_define).mean()+3*pd.Series(phenotype_define).std()]=np.nan\n",
    "    phenotype_define[phenotype_define<pd.Series(phenotype_define).mean()-3*pd.Series(phenotype_define).std()]=np.nan\n",
    "    \n",
    "    log.info('Total values: {}'.format((~np.isnan(phenotype_define)).sum()))                                                  \n",
    "    pd.Series(phenotype_define).hist()"
   ]
  },
  {
   "cell_type": "markdown",
   "metadata": {},
   "source": [
    "https://www.ncbi.nlm.nih.gov/pmc/articles/PMC6708789/\n",
    "    \n",
    "age, gender, race, diabetes, hyperlipidemia, hypertension, and all significant alleles.\n",
    "\n",
    "\n",
    "\n",
    "phenotypes[]\n",
    "union \n",
    "* diabetes\n",
    "* hyperlipidemia\n",
    "* hypertension\n",
    "* allergic_disease\n",
    "* colon polyps\n",
    "* rheumatoid_arthritis\n",
    "\n",
    "-> unhealthy individuals -> if overlap with case-> set as missing"
   ]
  },
  {
   "cell_type": "code",
   "execution_count": 21,
   "metadata": {},
   "outputs": [
    {
     "name": "stderr",
     "output_type": "stream",
     "text": [
      " 2020-02-26 01:30:03,171 [INFO] 8 > unhealthy individuals: 45222\n",
      " 2020-02-26 01:30:03,173 [INFO] 9 > unhealthy individuals among control removed: 45017\n",
      " 2020-02-26 01:30:03,178 [INFO] 12 > phenotype defined\n",
      "1.0    80024\n",
      "2.0      632\n",
      "dtype: int64\n"
     ]
    }
   ],
   "source": [
    "if phenotype_type=='binary' and phenotype_name!='sex':\n",
    "    unhealthy_individuals=(phenotypes['diabetes']==2)|\\\n",
    "                            (phenotypes['hyperlipidemia']==2)|\\\n",
    "                            (phenotypes['hypertension']==2)|\\\n",
    "                            (phenotypes['allergic_disease']==2)|\\\n",
    "                            (phenotypes['colon_polyps']==2)|\\\n",
    "                            (phenotypes['rheumatoid_arthritis']==2)\n",
    "    log.info(\"unhealthy individuals: {}\".format(unhealthy_individuals.sum()))\n",
    "    log.info(\"unhealthy individuals among control removed: {}\".format(((phenotype_define==1) & (unhealthy_individuals)).sum()))\n",
    "    phenotype_define[(phenotype_define==1) & (unhealthy_individuals)]=np.nan\n",
    "    ## change to np.nan and test!!\n",
    "    log.info(\"phenotype defined\\n\"+str(pd.Series(phenotype_define).value_counts()))"
   ]
  },
  {
   "cell_type": "code",
   "execution_count": 22,
   "metadata": {},
   "outputs": [
    {
     "name": "stderr",
     "output_type": "stream",
     "text": [
      " 2020-02-26 01:30:03,422 [INFO] 3 > exclude men: 28305\n",
      " 2020-02-26 01:30:03,427 [INFO] 5 > phenotype defined\n",
      "1.0    51720\n",
      "2.0      631\n",
      "dtype: int64\n"
     ]
    }
   ],
   "source": [
    "if phenotype_type=='binary':\n",
    "    if phenotype_name=='breast_cancer' or phenotype_name=='cervical_cancer':\n",
    "        log.info('exclude men: {}'.format(((~np.isnan(phenotype_define))&(phenotypes['sex']==1)).sum()))\n",
    "        phenotype_define[(~np.isnan(phenotype_define))&(phenotypes['sex']==1)]=np.nan\n",
    "        log.info(\"phenotype defined\\n\"+str(pd.Series(phenotype_define).value_counts()))\n",
    "    elif phenotype_name=='prostate_cancer':\n",
    "        log.info('exclude women: {}'.format(((~np.isnan(phenotype_define))&(phenotypes['sex']==2)).sum()))\n",
    "        phenotype_define[(~np.isnan(phenotype_define))&(phenotypes['sex']==2)]=np.nan\n",
    "        log.info(\"phenotype defined\\n\"+str(pd.Series(phenotype_define).value_counts()))"
   ]
  },
  {
   "cell_type": "code",
   "execution_count": 23,
   "metadata": {},
   "outputs": [],
   "source": [
    "phenotype_define_df=pd.DataFrame(phenotype_define,index=phenotypes.index)\n",
    "\n",
    "phenotype_define_df=phenotype_define_df.loc[fam['IID']].fillna(-9)\n",
    "\n",
    "if phenotype_name in binary_traits:\n",
    "    phenotype_define_df=phenotype_define_df.astype(int)\n",
    "    \n",
    "phenotype_define_df_noindex=phenotype_define_df.reset_index().rename(columns={0:'pheno'})\n",
    "\n",
    "phenotype_define_df_noindex[[phenotype_define_df_noindex.columns[0],phenotype_define_df_noindex.columns[0],phenotype_define_df_noindex.columns[1]]].to_csv(data_out_assoc_phenotype_path+'phenotype.phe',index=None,header=None,sep='\\t')\n",
    "#phenotype_define_df_noindex[[phenotype_define_df_noindex.columns[0],phenotype_define_df_noindex.columns[0],phenotype_define_df_noindex.columns[1]]].to_csv(data_out_assoc_phenotype_path+'phenotype.pheomnibus',index=None,sep='\\t')"
   ]
  },
  {
   "cell_type": "code",
   "execution_count": 24,
   "metadata": {},
   "outputs": [
    {
     "data": {
      "text/plain": [
       "(125673, 2)"
      ]
     },
     "execution_count": 24,
     "metadata": {},
     "output_type": "execute_result"
    }
   ],
   "source": [
    "phenotype_define_df_noindex.shape"
   ]
  },
  {
   "cell_type": "code",
   "execution_count": 25,
   "metadata": {},
   "outputs": [
    {
     "name": "stderr",
     "output_type": "stream",
     "text": [
      " 2020-02-26 01:30:05,978 [INFO] 3 > -9    73322\n",
      " 1    51720\n",
      " 2      631\n",
      "Name: pheno, dtype: int64\n"
     ]
    }
   ],
   "source": [
    "assert (phenotype_define_df_noindex['pheno']==np.nan).sum()==0\n",
    "if phenotype_type=='binary':\n",
    "    log.info(phenotype_define_df_noindex['pheno'].value_counts())\n",
    "elif phenotype_type=='continuous':\n",
    "    log.info(phenotype_define_df_noindex['pheno'].value_counts().iloc[:5])\n",
    "    log.info('...')\n",
    "    log.info(phenotype_define_df_noindex['pheno'].value_counts().iloc[-5:])\n",
    "else:\n",
    "    raise"
   ]
  }
 ],
 "metadata": {
  "kernelspec": {
   "display_name": "Python 3",
   "language": "python",
   "name": "python3"
  },
  "language_info": {
   "codemirror_mode": {
    "name": "ipython",
    "version": 3
   },
   "file_extension": ".py",
   "mimetype": "text/x-python",
   "name": "python",
   "nbconvert_exporter": "python",
   "pygments_lexer": "ipython3",
   "version": "3.6.9"
  }
 },
 "nbformat": 4,
 "nbformat_minor": 4
}
