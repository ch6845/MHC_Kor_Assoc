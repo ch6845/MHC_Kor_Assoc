{
 "cells": [
  {
   "cell_type": "code",
   "execution_count": 2,
   "metadata": {},
   "outputs": [],
   "source": [
    "import os\n",
    "import sys\n",
    "\n",
    "import logging\n",
    "import re\n",
    "import pathlib\n",
    "\n",
    "import datetime\n",
    "\n",
    "import numpy as np\n",
    "import pandas as pd\n",
    "from scipy.stats import pearsonr\n",
    "\n",
    "import matplotlib.pyplot as plt\n",
    "\n",
    "from pyplink import PyPlink\n",
    "\n",
    "import statsmodels.api as sm\n",
    "\n",
    "from basic_tools import *\n"
   ]
  },
  {
   "cell_type": "code",
   "execution_count": 7,
   "metadata": {},
   "outputs": [],
   "source": [
    "result_file_list=glob.glob(data_out_gcta_path+'*.HEreg')"
   ]
  },
  {
   "cell_type": "code",
   "execution_count": 170,
   "metadata": {},
   "outputs": [
    {
     "name": "stderr",
     "output_type": "stream",
     "text": [
      "/home/ch6845/tools/miniconda3/envs/pytorch/lib/python3.6/site-packages/ipykernel_launcher.py:3: ParserWarning: Falling back to the 'python' engine because the 'c' engine does not support regex separators (separators > 1 char and different from '\\s+' are interpreted as regex); you can avoid this warning by specifying engine='python'.\n",
      "  This is separate from the ipykernel package so we can avoid doing imports until\n"
     ]
    }
   ],
   "source": [
    "result_list=[]\n",
    "for result_file in result_file_list:\n",
    "    result=pd.read_csv(result_file,sep=r'\\s*',skiprows=1).drop(index=[2,3])\n",
    "    \n",
    "    result.index=result['Coefficient']+'_'+['HE-CP','HE-CP','HE-SD','HE-SD']\n",
    "    result=result.drop(columns=['Coefficient'])\n",
    "    \n",
    "    result=result.astype(float)\n",
    "    #break\n",
    "    result=result.unstack().to_frame().sort_index(level=1).T\n",
    "    result.columns = result.columns.map('_'.join)\n",
    "    result.index=[result_file.split('/')[-1].split('.')[0]]\n",
    "    result_list.append(result)"
   ]
  },
  {
   "cell_type": "code",
   "execution_count": 171,
   "metadata": {},
   "outputs": [
    {
     "data": {
      "text/html": [
       "<div>\n",
       "<style scoped>\n",
       "    .dataframe tbody tr th:only-of-type {\n",
       "        vertical-align: middle;\n",
       "    }\n",
       "\n",
       "    .dataframe tbody tr th {\n",
       "        vertical-align: top;\n",
       "    }\n",
       "\n",
       "    .dataframe thead th {\n",
       "        text-align: right;\n",
       "    }\n",
       "</style>\n",
       "<table border=\"1\" class=\"dataframe\">\n",
       "  <thead>\n",
       "    <tr style=\"text-align: right;\">\n",
       "      <th></th>\n",
       "      <th>Estimate_Intercept_HE-CP</th>\n",
       "      <th>P_Jackknife_Intercept_HE-CP</th>\n",
       "      <th>P_OLS_Intercept_HE-CP</th>\n",
       "      <th>SE_Jackknife_Intercept_HE-CP</th>\n",
       "      <th>SE_OLS_Intercept_HE-CP</th>\n",
       "      <th>Estimate_Intercept_HE-SD</th>\n",
       "      <th>P_Jackknife_Intercept_HE-SD</th>\n",
       "      <th>P_OLS_Intercept_HE-SD</th>\n",
       "      <th>SE_Jackknife_Intercept_HE-SD</th>\n",
       "      <th>SE_OLS_Intercept_HE-SD</th>\n",
       "      <th>Estimate_V(G)/Vp_HE-CP</th>\n",
       "      <th>P_Jackknife_V(G)/Vp_HE-CP</th>\n",
       "      <th>P_OLS_V(G)/Vp_HE-CP</th>\n",
       "      <th>SE_Jackknife_V(G)/Vp_HE-CP</th>\n",
       "      <th>SE_OLS_V(G)/Vp_HE-CP</th>\n",
       "      <th>Estimate_V(G)/Vp_HE-SD</th>\n",
       "      <th>P_Jackknife_V(G)/Vp_HE-SD</th>\n",
       "      <th>P_OLS_V(G)/Vp_HE-SD</th>\n",
       "      <th>SE_Jackknife_V(G)/Vp_HE-SD</th>\n",
       "      <th>SE_OLS_V(G)/Vp_HE-SD</th>\n",
       "    </tr>\n",
       "  </thead>\n",
       "  <tbody>\n",
       "    <tr>\n",
       "      <th>thyroid_cancer</th>\n",
       "      <td>-0.000012</td>\n",
       "      <td>7.130230e-40</td>\n",
       "      <td>0.479179</td>\n",
       "      <td>9.374970e-07</td>\n",
       "      <td>0.000018</td>\n",
       "      <td>-1.0</td>\n",
       "      <td>6.004870e-154</td>\n",
       "      <td>0.0</td>\n",
       "      <td>0.037834</td>\n",
       "      <td>0.000134</td>\n",
       "      <td>0.000008</td>\n",
       "      <td>0.962282</td>\n",
       "      <td>0.947329</td>\n",
       "      <td>0.000163</td>\n",
       "      <td>0.000117</td>\n",
       "      <td>0.001502</td>\n",
       "      <td>0.394395</td>\n",
       "      <td>0.09393</td>\n",
       "      <td>0.001764</td>\n",
       "      <td>0.000897</td>\n",
       "    </tr>\n",
       "  </tbody>\n",
       "</table>\n",
       "</div>"
      ],
      "text/plain": [
       "                Estimate_Intercept_HE-CP  P_Jackknife_Intercept_HE-CP  \\\n",
       "thyroid_cancer                 -0.000012                 7.130230e-40   \n",
       "\n",
       "                P_OLS_Intercept_HE-CP  SE_Jackknife_Intercept_HE-CP  \\\n",
       "thyroid_cancer               0.479179                  9.374970e-07   \n",
       "\n",
       "                SE_OLS_Intercept_HE-CP  Estimate_Intercept_HE-SD  \\\n",
       "thyroid_cancer                0.000018                      -1.0   \n",
       "\n",
       "                P_Jackknife_Intercept_HE-SD  P_OLS_Intercept_HE-SD  \\\n",
       "thyroid_cancer                6.004870e-154                    0.0   \n",
       "\n",
       "                SE_Jackknife_Intercept_HE-SD  SE_OLS_Intercept_HE-SD  \\\n",
       "thyroid_cancer                      0.037834                0.000134   \n",
       "\n",
       "                Estimate_V(G)/Vp_HE-CP  P_Jackknife_V(G)/Vp_HE-CP  \\\n",
       "thyroid_cancer                0.000008                   0.962282   \n",
       "\n",
       "                P_OLS_V(G)/Vp_HE-CP  SE_Jackknife_V(G)/Vp_HE-CP  \\\n",
       "thyroid_cancer             0.947329                    0.000163   \n",
       "\n",
       "                SE_OLS_V(G)/Vp_HE-CP  Estimate_V(G)/Vp_HE-SD  \\\n",
       "thyroid_cancer              0.000117                0.001502   \n",
       "\n",
       "                P_Jackknife_V(G)/Vp_HE-SD  P_OLS_V(G)/Vp_HE-SD  \\\n",
       "thyroid_cancer                   0.394395              0.09393   \n",
       "\n",
       "                SE_Jackknife_V(G)/Vp_HE-SD  SE_OLS_V(G)/Vp_HE-SD  \n",
       "thyroid_cancer                    0.001764              0.000897  "
      ]
     },
     "execution_count": 171,
     "metadata": {},
     "output_type": "execute_result"
    }
   ],
   "source": [
    "result"
   ]
  },
  {
   "cell_type": "code",
   "execution_count": 172,
   "metadata": {},
   "outputs": [],
   "source": [
    "result=pd.concat(result_list)"
   ]
  },
  {
   "cell_type": "code",
   "execution_count": 113,
   "metadata": {},
   "outputs": [
    {
     "data": {
      "text/plain": [
       "Index(['Estimate_Intercept_HE-CP', 'P_Jackknife_Intercept_HE-CP',\n",
       "       'P_OLS_Intercept_HE-CP', 'SE_Jackknife_Intercept_HE-CP',\n",
       "       'SE_OLS_Intercept_HE-CP', 'Estimate_Intercept_HE-SD',\n",
       "       'P_Jackknife_Intercept_HE-SD', 'P_OLS_Intercept_HE-SD',\n",
       "       'SE_Jackknife_Intercept_HE-SD', 'SE_OLS_Intercept_HE-SD',\n",
       "       'Estimate_V(G)/Vp_HE-CP', 'P_Jackknife_V(G)/Vp_HE-CP',\n",
       "       'P_OLS_V(G)/Vp_HE-CP', 'SE_Jackknife_V(G)/Vp_HE-CP',\n",
       "       'SE_OLS_V(G)/Vp_HE-CP', 'Estimate_V(G)/Vp_HE-SD',\n",
       "       'P_Jackknife_V(G)/Vp_HE-SD', 'P_OLS_V(G)/Vp_HE-SD',\n",
       "       'SE_Jackknife_V(G)/Vp_HE-SD', 'SE_OLS_V(G)/Vp_HE-SD'],\n",
       "      dtype='object')"
      ]
     },
     "execution_count": 113,
     "metadata": {},
     "output_type": "execute_result"
    }
   ],
   "source": [
    "result.columns"
   ]
  },
  {
   "cell_type": "code",
   "execution_count": 139,
   "metadata": {},
   "outputs": [],
   "source": [
    "result_select=result[['Estimate_V(G)/Vp_HE-SD','P_OLS_V(G)/Vp_HE-SD']]\n",
    "result_select.columns=['estimate','p']"
   ]
  },
  {
   "cell_type": "code",
   "execution_count": 173,
   "metadata": {},
   "outputs": [],
   "source": [
    "result_select=result_select[(result_select['estimate']>0)&(result_select['p']<0.01)].sort_values('p')"
   ]
  },
  {
   "cell_type": "code",
   "execution_count": 169,
   "metadata": {},
   "outputs": [],
   "source": [
    "result_select.to_csv(data_out_gcta_path+'result_uni.tsv',sep='\\t')"
   ]
  },
  {
   "cell_type": "code",
   "execution_count": 176,
   "metadata": {},
   "outputs": [
    {
     "data": {
      "text/plain": [
       "wbc                                       0.000000e+00\n",
       "platelet                                  0.000000e+00\n",
       "triglyceride                             1.012930e-287\n",
       "total_cholesterol                        8.523650e-244\n",
       "height                                    3.326240e-75\n",
       "rbc                                       1.828930e-50\n",
       "hyperlipidemia                            5.581130e-46\n",
       "mcv                                       1.660220e-44\n",
       "hdl_cholesterol                           9.291380e-42\n",
       "weight                                    2.496350e-41\n",
       "creatinine                                2.943770e-39\n",
       "hip_circumference                         1.131730e-37\n",
       "hypertension                              1.298670e-34\n",
       "bmi                                       1.845170e-24\n",
       "albumin                                   8.576330e-23\n",
       "bun                                       3.952910e-15\n",
       "mch                                       5.650460e-14\n",
       "ast                                       1.278180e-13\n",
       "cohort                                    1.407300e-12\n",
       "menopause_age                             1.637610e-11\n",
       "menarche_onset_age                        2.371260e-09\n",
       "waist_circumference                       1.553510e-08\n",
       "diastolic_blood_pressure                  2.324340e-08\n",
       "angina_pectoris_myocardial_infarction     3.955410e-08\n",
       "hemoglobin                                5.322630e-08\n",
       "alt                                       1.385410e-07\n",
       "ALP                                       4.394900e-07\n",
       "systolic_blood_pressure                   9.415670e-06\n",
       "allergic_disease                          1.750410e-05\n",
       "fracture                                  5.722340e-05\n",
       "hba1c                                     6.366090e-05\n",
       "grip_strength                             1.665670e-04\n",
       "hematocrit                                3.990510e-04\n",
       "transient_ischemic_attacks                5.110170e-04\n",
       "colorectal_cancer                         7.971760e-04\n",
       "total_bilirubin                           9.452490e-04\n",
       "breast_cancer                             1.528120e-03\n",
       "protein_in_blood                          3.044490e-03\n",
       "cataract                                  8.504130e-03\n",
       "Name: p, dtype: float64"
      ]
     },
     "execution_count": 176,
     "metadata": {},
     "output_type": "execute_result"
    }
   ],
   "source": [
    "result_select['p']"
   ]
  },
  {
   "cell_type": "code",
   "execution_count": null,
   "metadata": {},
   "outputs": [],
   "source": []
  }
 ],
 "metadata": {
  "kernelspec": {
   "display_name": "Python 3",
   "language": "python",
   "name": "python3"
  },
  "language_info": {
   "codemirror_mode": {
    "name": "ipython",
    "version": 3
   },
   "file_extension": ".py",
   "mimetype": "text/x-python",
   "name": "python",
   "nbconvert_exporter": "python",
   "pygments_lexer": "ipython3",
   "version": "3.6.9"
  }
 },
 "nbformat": 4,
 "nbformat_minor": 4
}
