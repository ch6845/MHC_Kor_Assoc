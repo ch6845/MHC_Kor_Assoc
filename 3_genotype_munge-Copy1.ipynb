{
 "cells": [
  {
   "cell_type": "code",
   "execution_count": 1,
   "metadata": {},
   "outputs": [],
   "source": [
    "import numpy as np\n",
    "import pandas as pd\n",
    "import os\n",
    "from basic_tools import *"
   ]
  },
  {
   "cell_type": "markdown",
   "metadata": {},
   "source": [
    "# Individuals common in data"
   ]
  },
  {
   "cell_type": "code",
   "execution_count": 6,
   "metadata": {},
   "outputs": [],
   "source": [
    "pheno_ind=pd.read_csv(pheno_all_file_path,sep='\\t')[\"ID\"]"
   ]
  },
  {
   "cell_type": "code",
   "execution_count": 10,
   "metadata": {},
   "outputs": [],
   "source": [
    "_1000G_ind=pd.read_csv('data/genotype/0_1000G/KCHIP_HLA_6_28Mb_35Mb_20200113_QC.fam',sep=' ',header=None)[0]"
   ]
  },
  {
   "cell_type": "code",
   "execution_count": 12,
   "metadata": {},
   "outputs": [],
   "source": [
    "bmarker_ind=pd.read_csv('data/genotype/3_bmarkerphased/KCHIP_HLA.hg18.intersection_HAN.LABELED.NoSameAllele.bMarkers.2field.saveRareAllele.fam',sep=' ',header=None)[0]"
   ]
  },
  {
   "cell_type": "code",
   "execution_count": 35,
   "metadata": {},
   "outputs": [],
   "source": [
    "individual_common=pd.DataFrame(pd.Index(pheno_ind).intersection(pd.Index(_1000G_ind)).intersection(pd.Index(bmarker_ind))).sort_values(0)[[0,0]]\n",
    "individual_common.to_csv(individual_common_path,sep='\\t',index=None,header=None)"
   ]
  },
  {
   "cell_type": "markdown",
   "metadata": {},
   "source": [
    "# Imputation(CookHLA) included in HATK"
   ]
  },
  {
   "cell_type": "markdown",
   "metadata": {},
   "source": [
    "HATK returns `*.ped` and `*.alleles`"
   ]
  },
  {
   "cell_type": "markdown",
   "metadata": {},
   "source": [
    "# NomenCleaner"
   ]
  },
  {
   "cell_type": "markdown",
   "metadata": {},
   "source": [
    "# BmarkerGenerator"
   ]
  },
  {
   "cell_type": "markdown",
   "metadata": {},
   "source": [
    "# Beagle phasing"
   ]
  },
  {
   "cell_type": "markdown",
   "metadata": {},
   "source": [
    "# AA call"
   ]
  },
  {
   "cell_type": "code",
   "execution_count": 4,
   "metadata": {},
   "outputs": [
    {
     "name": "stdout",
     "output_type": "stream",
     "text": [
      "------RUN-----\n",
      "Rscript AllCC_Get_Phased_AA_Calls.R data/genotype/3_bmarkerphased/KCHIP_HLA.hg18.intersection_HAN.LABELED.NoSameAllele.bMarkers.2field.saveRareAllele.beagle5.1.AGM.bgl.phased data/genotype/3_bmarkerphased/KCHIP_HLA.hg18.intersection_HAN.LABELED.NoSameAllele.bMarkers.2field.saveRareAllele.fam data/genotype/3_bmarkerphased/KCHIP_HLA.hg18.intersection_HAN.LABELED.NoSameAllele.bMarkers.2field.saveRareAllele.beagle5.1.AGM.bgl.phased.aa\n"
     ]
    }
   ],
   "source": [
    "run_subprocess(' '.join(['Rscript AllCC_Get_Phased_AA_Calls.R',\n",
    "                bmarker_phased_path,\n",
    "                bmarker_plink_path+'.fam',\n",
    "                bmarker_aa_path                        \n",
    "                        ]),dry=True)"
   ]
  },
  {
   "cell_type": "markdown",
   "metadata": {},
   "source": [
    "# KCHIP + 1000G"
   ]
  },
  {
   "cell_type": "markdown",
   "metadata": {},
   "source": [
    "## 1000G"
   ]
  },
  {
   "cell_type": "code",
   "execution_count": 42,
   "metadata": {},
   "outputs": [
    {
     "name": "stdout",
     "output_type": "stream",
     "text": [
      "------RUN-----\n",
      "plink --vcf data/genotype/0_1000G/KCHIP_HLA_6_28Mb_35Mb_20200113_QC.recode.vcf.gz --make-bed --out data/genotype/0_1000G/KCHIP_HLA_6_28Mb_35Mb_20200113_QC\n"
     ]
    }
   ],
   "source": [
    "run_subprocess('plink --vcf data/genotype/0_1000G/KCHIP_HLA_6_28Mb_35Mb_20200113_QC.recode.vcf.gz --make-bed --out data/genotype/0_1000G/KCHIP_HLA_6_28Mb_35Mb_20200113_QC'.format(individual_common_path),dry=True)"
   ]
  },
  {
   "cell_type": "code",
   "execution_count": 43,
   "metadata": {},
   "outputs": [
    {
     "name": "stdout",
     "output_type": "stream",
     "text": [
      "------RUN-----\n",
      "plink --bfile data/genotype/0_1000G/KCHIP_HLA_6_28Mb_35Mb_20200113_QC --keep data/individual.tsv --make-bed --out data/genotype/0_1000G/KCHIP_HLA_6_28Mb_35Mb_20200113_QC_newfilter\n"
     ]
    }
   ],
   "source": [
    "run_subprocess('plink --bfile data/genotype/0_1000G/KCHIP_HLA_6_28Mb_35Mb_20200113_QC --keep {} --make-bed --out data/genotype/0_1000G/KCHIP_HLA_6_28Mb_35Mb_20200113_QC.newfilter'.format(individual_common_path),dry=True)"
   ]
  },
  {
   "cell_type": "markdown",
   "metadata": {},
   "source": [
    "1000G\n",
    "MAF 0.01\n",
    "Imputation quality score 0.8\n",
    "\n",
    "hwe 1e-10"
   ]
  },
  {
   "cell_type": "code",
   "execution_count": 44,
   "metadata": {},
   "outputs": [
    {
     "data": {
      "text/plain": [
       "(63544, 6)"
      ]
     },
     "execution_count": 44,
     "metadata": {},
     "output_type": "execute_result"
    }
   ],
   "source": [
    "_1000G_bim=pd.read_csv('data/genotype/0_1000G/KCHIP_HLA_6_28Mb_35Mb_20200113_QC_newfilter'+'.bim',sep='\\t',names=['CHR','SNP','CM','BP','A1','A2'])\n",
    "_1000G_bim.shape"
   ]
  },
  {
   "cell_type": "code",
   "execution_count": 48,
   "metadata": {},
   "outputs": [
    {
     "data": {
      "text/plain": [
       "(12101, 6)"
      ]
     },
     "execution_count": 48,
     "metadata": {},
     "output_type": "execute_result"
    }
   ],
   "source": [
    "bmarker_bim=pd.read_csv('data/genotype/3_KCHIP_bmarkerphased/KCHIP_HLA.hg18.intersection_HAN.LABELED.NoSameAllele.bMarkers.2field.saveRareAllele'+'.bim',sep='\\t',names=['CHR','SNP','CM','BP','A1','A2'])\n",
    "bmarker_bim.shape"
   ]
  },
  {
   "cell_type": "code",
   "execution_count": 49,
   "metadata": {},
   "outputs": [],
   "source": [
    "_1000G_bmarker=_1000G_bim.rename(columns=lambda x: str(x)+'_1000G').merge(right=bmarker_bim.rename(columns=lambda x: str(x)+'_bmarker'),how='inner',left_on='BP_1000G',right_on='BP_bmarker')"
   ]
  },
  {
   "cell_type": "code",
   "execution_count": 51,
   "metadata": {},
   "outputs": [
    {
     "name": "stderr",
     "output_type": "stream",
     "text": [
      "/home/ch6845/tools/miniconda3/envs/pytorch/lib/python3.6/site-packages/ipykernel_launcher.py:1: FutureWarning: The signature of `Series.to_csv` was aligned to that of `DataFrame.to_csv`, and argument 'header' will change its default value from False to True: please pass an explicit value to suppress this warning.\n",
      "  \"\"\"Entry point for launching an IPython kernel.\n"
     ]
    }
   ],
   "source": [
    "_1000G_bmarker['SNP_1000G'].to_csv('data/genotype/0_1000G/1000G_bmarker_overlap.tsv',index=None,header=None)"
   ]
  },
  {
   "cell_type": "code",
   "execution_count": 52,
   "metadata": {},
   "outputs": [
    {
     "name": "stdout",
     "output_type": "stream",
     "text": [
      "------RUN-----\n",
      "plink --bfile data/genotype/0_1000G/KCHIP_HLA_6_28Mb_35Mb_20200113_QC_newfilter --exclude data/genotype/0_1000G/1000G_bmarker_overlap.tsv --make-bed --out data/genotype/0_1000G/KCHIP_HLA_6_28Mb_35Mb_20200113_QC_newfilter_nooverlap\n"
     ]
    }
   ],
   "source": [
    "run_subprocess('plink --bfile data/genotype/0_1000G/KCHIP_HLA_6_28Mb_35Mb_20200113_QC.newfilter --exclude data/genotype/0_1000G/1000G_bmarker_overlap.tsv --make-bed --out data/genotype/0_1000G/KCHIP_HLA_6_28Mb_35Mb_20200113_QC.newfilter.nooverlap',dry=True)"
   ]
  },
  {
   "cell_type": "markdown",
   "metadata": {},
   "source": [
    "## KCHIP"
   ]
  },
  {
   "cell_type": "code",
   "execution_count": 115,
   "metadata": {},
   "outputs": [
    {
     "data": {
      "text/plain": [
       "'plink --bfile data/genotype/3_KCHIP_bmarkerphased/KCHIP_HLA.hg18.intersection_HAN.LABELED.NoSameAllele.bMarkers.2field.saveRareAllele --keep data/individual.tsv --maf 0.01 --make-bed --out data/genotype/3_KCHIP_bmarkerphased/KCHIP_HLA.hg18.intersection_HAN.LABELED.NoSameAllele.bMarkers.2field.saveRareAllele.QC'"
      ]
     },
     "execution_count": 115,
     "metadata": {},
     "output_type": "execute_result"
    }
   ],
   "source": [
    "command=\"plink --bfile data/genotype/3_KCHIP_bmarkerphased/KCHIP_HLA.hg18.intersection_HAN.LABELED.NoSameAllele.bMarkers.2field.saveRareAllele \\\n",
    "--keep {} \\\n",
    "--maf 0.01 \\\n",
    "--make-bed \\\n",
    "--out data/genotype/3_KCHIP_bmarkerphased/KCHIP_HLA.hg18.intersection_HAN.LABELED.NoSameAllele.bMarkers.2field.saveRareAllele.QC\".format(individual_common_path)\n",
    "command"
   ]
  },
  {
   "cell_type": "code",
   "execution_count": 116,
   "metadata": {},
   "outputs": [
    {
     "data": {
      "text/plain": [
       "\"grep -P '\\tAA_' data/genotype/3_KCHIP_bmarkerphased/KCHIP_HLA.hg18.intersection_HAN.LABELED.NoSameAllele.bMarkers.2field.saveRareAllele.QC.bim| awk '{{print $2}}' > data/genotype/3_KCHIP_bmarkerphased/aa_list.tsv\""
      ]
     },
     "execution_count": 116,
     "metadata": {},
     "output_type": "execute_result"
    }
   ],
   "source": [
    "command=\"grep -P '\\tAA_' data/genotype/3_KCHIP_bmarkerphased/KCHIP_HLA.hg18.intersection_HAN.LABELED.NoSameAllele.bMarkers.2field.saveRareAllele.QC.bim| awk '{{print $2}}' > data/genotype/3_KCHIP_bmarkerphased/aa_list.tsv\"\n",
    "command"
   ]
  },
  {
   "cell_type": "code",
   "execution_count": 117,
   "metadata": {},
   "outputs": [
    {
     "data": {
      "text/plain": [
       "'plink --bfile data/genotype/3_KCHIP_bmarkerphased/KCHIP_HLA.hg18.intersection_HAN.LABELED.NoSameAllele.bMarkers.2field.saveRareAllele.QC --exclude data/genotype/3_KCHIP_bmarkerphased/aa_list.tsv --make-bed --out data/genotype/3_KCHIP_bmarkerphased/KCHIP_HLA.hg18.intersection_HAN.LABELED.NoSameAllele.bMarkers.2field.saveRareAllele.QC.noaa'"
      ]
     },
     "execution_count": 117,
     "metadata": {},
     "output_type": "execute_result"
    }
   ],
   "source": [
    "command=\"plink --bfile data/genotype/3_KCHIP_bmarkerphased/KCHIP_HLA.hg18.intersection_HAN.LABELED.NoSameAllele.bMarkers.2field.saveRareAllele.QC \\\n",
    "--exclude data/genotype/3_KCHIP_bmarkerphased/aa_list.tsv \\\n",
    "--make-bed \\\n",
    "--out data/genotype/3_KCHIP_bmarkerphased/KCHIP_HLA.hg18.intersection_HAN.LABELED.NoSameAllele.bMarkers.2field.saveRareAllele.QC.noaa\"\n",
    "command"
   ]
  },
  {
   "cell_type": "code",
   "execution_count": 7,
   "metadata": {},
   "outputs": [],
   "source": [
    "before_maf=pd.read_csv('data/genotype/3_KCHIP_bmarkerphased/KCHIP_HLA.hg18.intersection_HAN.LABELED.NoSameAllele.bMarkers.2field.saveRareAllele.bim',sep='\\t',names=['CHR','SNP','CM','BP','A1','A2'])"
   ]
  },
  {
   "cell_type": "code",
   "execution_count": 8,
   "metadata": {},
   "outputs": [],
   "source": [
    "after_maf=pd.read_csv('data/genotype/3_KCHIP_bmarkerphased/KCHIP_HLA.hg18.intersection_HAN.LABELED.NoSameAllele.bMarkers.2field.saveRareAllele.QC.bim',sep='\\t',names=['CHR','SNP','CM','BP','A1','A2'])"
   ]
  },
  {
   "cell_type": "code",
   "execution_count": 9,
   "metadata": {},
   "outputs": [],
   "source": [
    "removed=pd.Index(before_maf.SNP).difference(after_maf.SNP)\n",
    "removed=pd.Series(removed)\n",
    "removed_aaformat=['_'.join(i.split('_')[:3]) if i[:3]=='AA_' else i for i in removed]\n",
    "removed_aaformat_nodup=pd.Series(removed_aaformat)[~pd.Series(removed_aaformat).duplicated(keep=False)].values\n"
   ]
  },
  {
   "cell_type": "code",
   "execution_count": 10,
   "metadata": {},
   "outputs": [
    {
     "data": {
      "text/plain": [
       "(627, 608)"
      ]
     },
     "execution_count": 10,
     "metadata": {},
     "output_type": "execute_result"
    }
   ],
   "source": [
    "len(removed),len(removed_aaformat_nodup)"
   ]
  },
  {
   "cell_type": "markdown",
   "metadata": {},
   "source": [
    "## iid matching"
   ]
  },
  {
   "cell_type": "code",
   "execution_count": 2,
   "metadata": {},
   "outputs": [],
   "source": [
    "individual_common=pd.read_csv(individual_common_path,sep='\\t',header=None)[0]"
   ]
  },
  {
   "cell_type": "code",
   "execution_count": 3,
   "metadata": {},
   "outputs": [],
   "source": [
    "f_in=open(\"data/genotype/3_KCHIP_bmarkerphased/KCHIP_HLA.hg18.intersection_HAN.LABELED.NoSameAllele.bMarkers.2field.saveRareAllele.beagle5.1.AGM.bgl.phased.aa\",'r')\n",
    "iid_df=pd.DataFrame(f_in.readline().strip().split(' ')[2:],columns=['iid']).reset_index()\n",
    "f_in.close()"
   ]
  },
  {
   "cell_type": "code",
   "execution_count": 4,
   "metadata": {},
   "outputs": [
    {
     "data": {
      "text/plain": [
       "125872.0"
      ]
     },
     "execution_count": 4,
     "metadata": {},
     "output_type": "execute_result"
    }
   ],
   "source": [
    "iid_df.shape[0]/2"
   ]
  },
  {
   "cell_type": "code",
   "execution_count": 5,
   "metadata": {},
   "outputs": [],
   "source": [
    "iid_df_merged=pd.DataFrame(individual_common).merge(right=iid_df,right_on='iid',left_on=0,how='inner')"
   ]
  },
  {
   "cell_type": "code",
   "execution_count": 6,
   "metadata": {},
   "outputs": [],
   "source": [
    "assert (iid_df_merged.iid.unique()!=individual_common).sum()==0"
   ]
  },
  {
   "cell_type": "code",
   "execution_count": 9,
   "metadata": {},
   "outputs": [
    {
     "data": {
      "text/html": [
       "<div>\n",
       "<style scoped>\n",
       "    .dataframe tbody tr th:only-of-type {\n",
       "        vertical-align: middle;\n",
       "    }\n",
       "\n",
       "    .dataframe tbody tr th {\n",
       "        vertical-align: top;\n",
       "    }\n",
       "\n",
       "    .dataframe thead th {\n",
       "        text-align: right;\n",
       "    }\n",
       "</style>\n",
       "<table border=\"1\" class=\"dataframe\">\n",
       "  <thead>\n",
       "    <tr style=\"text-align: right;\">\n",
       "      <th></th>\n",
       "      <th>index</th>\n",
       "      <th>iid</th>\n",
       "    </tr>\n",
       "  </thead>\n",
       "  <tbody>\n",
       "    <tr>\n",
       "      <th>0</th>\n",
       "      <td>0</td>\n",
       "      <td>BHAN000001</td>\n",
       "    </tr>\n",
       "    <tr>\n",
       "      <th>1</th>\n",
       "      <td>1</td>\n",
       "      <td>BHAN000001</td>\n",
       "    </tr>\n",
       "    <tr>\n",
       "      <th>2</th>\n",
       "      <td>2</td>\n",
       "      <td>BHAN000002</td>\n",
       "    </tr>\n",
       "    <tr>\n",
       "      <th>3</th>\n",
       "      <td>3</td>\n",
       "      <td>BHAN000002</td>\n",
       "    </tr>\n",
       "    <tr>\n",
       "      <th>4</th>\n",
       "      <td>4</td>\n",
       "      <td>BHAN000003</td>\n",
       "    </tr>\n",
       "    <tr>\n",
       "      <th>...</th>\n",
       "      <td>...</td>\n",
       "      <td>...</td>\n",
       "    </tr>\n",
       "    <tr>\n",
       "      <th>251739</th>\n",
       "      <td>251739</td>\n",
       "      <td>BHAN125870</td>\n",
       "    </tr>\n",
       "    <tr>\n",
       "      <th>251740</th>\n",
       "      <td>251740</td>\n",
       "      <td>BHAN125871</td>\n",
       "    </tr>\n",
       "    <tr>\n",
       "      <th>251741</th>\n",
       "      <td>251741</td>\n",
       "      <td>BHAN125871</td>\n",
       "    </tr>\n",
       "    <tr>\n",
       "      <th>251742</th>\n",
       "      <td>251742</td>\n",
       "      <td>BHAN125872</td>\n",
       "    </tr>\n",
       "    <tr>\n",
       "      <th>251743</th>\n",
       "      <td>251743</td>\n",
       "      <td>BHAN125872</td>\n",
       "    </tr>\n",
       "  </tbody>\n",
       "</table>\n",
       "<p>251744 rows × 2 columns</p>\n",
       "</div>"
      ],
      "text/plain": [
       "         index         iid\n",
       "0            0  BHAN000001\n",
       "1            1  BHAN000001\n",
       "2            2  BHAN000002\n",
       "3            3  BHAN000002\n",
       "4            4  BHAN000003\n",
       "...        ...         ...\n",
       "251739  251739  BHAN125870\n",
       "251740  251740  BHAN125871\n",
       "251741  251741  BHAN125871\n",
       "251742  251742  BHAN125872\n",
       "251743  251743  BHAN125872\n",
       "\n",
       "[251744 rows x 2 columns]"
      ]
     },
     "execution_count": 9,
     "metadata": {},
     "output_type": "execute_result"
    }
   ],
   "source": [
    "iid_df"
   ]
  },
  {
   "cell_type": "code",
   "execution_count": 8,
   "metadata": {},
   "outputs": [
    {
     "data": {
      "text/html": [
       "<div>\n",
       "<style scoped>\n",
       "    .dataframe tbody tr th:only-of-type {\n",
       "        vertical-align: middle;\n",
       "    }\n",
       "\n",
       "    .dataframe tbody tr th {\n",
       "        vertical-align: top;\n",
       "    }\n",
       "\n",
       "    .dataframe thead th {\n",
       "        text-align: right;\n",
       "    }\n",
       "</style>\n",
       "<table border=\"1\" class=\"dataframe\">\n",
       "  <thead>\n",
       "    <tr style=\"text-align: right;\">\n",
       "      <th></th>\n",
       "      <th>0</th>\n",
       "      <th>index</th>\n",
       "      <th>iid</th>\n",
       "    </tr>\n",
       "  </thead>\n",
       "  <tbody>\n",
       "    <tr>\n",
       "      <th>0</th>\n",
       "      <td>BHAN000001</td>\n",
       "      <td>0</td>\n",
       "      <td>BHAN000001</td>\n",
       "    </tr>\n",
       "    <tr>\n",
       "      <th>1</th>\n",
       "      <td>BHAN000001</td>\n",
       "      <td>1</td>\n",
       "      <td>BHAN000001</td>\n",
       "    </tr>\n",
       "    <tr>\n",
       "      <th>2</th>\n",
       "      <td>BHAN000002</td>\n",
       "      <td>2</td>\n",
       "      <td>BHAN000002</td>\n",
       "    </tr>\n",
       "    <tr>\n",
       "      <th>3</th>\n",
       "      <td>BHAN000002</td>\n",
       "      <td>3</td>\n",
       "      <td>BHAN000002</td>\n",
       "    </tr>\n",
       "    <tr>\n",
       "      <th>4</th>\n",
       "      <td>BHAN000003</td>\n",
       "      <td>4</td>\n",
       "      <td>BHAN000003</td>\n",
       "    </tr>\n",
       "    <tr>\n",
       "      <th>...</th>\n",
       "      <td>...</td>\n",
       "      <td>...</td>\n",
       "      <td>...</td>\n",
       "    </tr>\n",
       "    <tr>\n",
       "      <th>251341</th>\n",
       "      <td>BHAN125870</td>\n",
       "      <td>251739</td>\n",
       "      <td>BHAN125870</td>\n",
       "    </tr>\n",
       "    <tr>\n",
       "      <th>251342</th>\n",
       "      <td>BHAN125871</td>\n",
       "      <td>251740</td>\n",
       "      <td>BHAN125871</td>\n",
       "    </tr>\n",
       "    <tr>\n",
       "      <th>251343</th>\n",
       "      <td>BHAN125871</td>\n",
       "      <td>251741</td>\n",
       "      <td>BHAN125871</td>\n",
       "    </tr>\n",
       "    <tr>\n",
       "      <th>251344</th>\n",
       "      <td>BHAN125872</td>\n",
       "      <td>251742</td>\n",
       "      <td>BHAN125872</td>\n",
       "    </tr>\n",
       "    <tr>\n",
       "      <th>251345</th>\n",
       "      <td>BHAN125872</td>\n",
       "      <td>251743</td>\n",
       "      <td>BHAN125872</td>\n",
       "    </tr>\n",
       "  </tbody>\n",
       "</table>\n",
       "<p>251346 rows × 3 columns</p>\n",
       "</div>"
      ],
      "text/plain": [
       "                 0   index         iid\n",
       "0       BHAN000001       0  BHAN000001\n",
       "1       BHAN000001       1  BHAN000001\n",
       "2       BHAN000002       2  BHAN000002\n",
       "3       BHAN000002       3  BHAN000002\n",
       "4       BHAN000003       4  BHAN000003\n",
       "...            ...     ...         ...\n",
       "251341  BHAN125870  251739  BHAN125870\n",
       "251342  BHAN125871  251740  BHAN125871\n",
       "251343  BHAN125871  251741  BHAN125871\n",
       "251344  BHAN125872  251742  BHAN125872\n",
       "251345  BHAN125872  251743  BHAN125872\n",
       "\n",
       "[251346 rows x 3 columns]"
      ]
     },
     "execution_count": 8,
     "metadata": {},
     "output_type": "execute_result"
    }
   ],
   "source": [
    "iid_df_merged"
   ]
  },
  {
   "cell_type": "code",
   "execution_count": 7,
   "metadata": {},
   "outputs": [
    {
     "data": {
      "text/plain": [
       "0              0\n",
       "1              1\n",
       "2              2\n",
       "3              3\n",
       "4              4\n",
       "           ...  \n",
       "251739    251739\n",
       "251740    251740\n",
       "251741    251741\n",
       "251742    251742\n",
       "251743    251743\n",
       "Name: index, Length: 251744, dtype: int64"
      ]
     },
     "execution_count": 7,
     "metadata": {},
     "output_type": "execute_result"
    }
   ],
   "source": [
    "iid_df['index']"
   ]
  },
  {
   "cell_type": "code",
   "execution_count": null,
   "metadata": {},
   "outputs": [
    {
     "name": "stdout",
     "output_type": "stream",
     "text": [
      "removed all ['a' 'p'] from HLA_A*01:03\n",
      "removed all ['a' 'p'] from HLA_A*02:02\n",
      "removed all ['a' 'p'] from HLA_A*02:03\n",
      "removed all ['a' 'p'] from HLA_A*02:05\n",
      "removed all ['a' 'p'] from HLA_A*02:09\n",
      "removed all ['a' 'p'] from HLA_A*02:10\n",
      "removed all ['a' 'p'] from HLA_A*02:11\n",
      "removed all ['a' 'p'] from HLA_A*03:02\n",
      "removed all ['a' 'p'] from HLA_A*11:02\n",
      "removed all ['a' 'p'] from HLA_A*11:03\n",
      "removed all ['a' 'p'] from HLA_A*11:12\n",
      "removed all ['a' 'p'] from HLA_A*11:77\n",
      "removed all ['a' 'p'] from HLA_A*23:01\n",
      "removed all ['a' 'p'] from HLA_A*24:03\n",
      "removed all ['a' 'p'] from HLA_A*24:04\n",
      "removed all ['a' 'p'] from HLA_A*24:07\n",
      "removed all ['a' 'p'] from HLA_A*24:08\n",
      "removed all ['a' 'p'] from HLA_A*24:10\n",
      "removed all ['a' 'p'] from HLA_A*24:20\n",
      "removed all ['a' 'p'] from HLA_A*25:01\n",
      "removed all ['a' 'p'] from HLA_A*26:03\n",
      "removed all ['a' 'p'] from HLA_A*29:01\n",
      "removed all ['a' 'p'] from HLA_A*29:02\n",
      "removed all ['a' 'p'] from HLA_A*31:02\n",
      "removed all ['a' 'p'] from HLA_A*32:01\n",
      "removed all ['a' 'p'] from HLA_A*34:01\n",
      "removed all ['a' 'p'] from HLA_A*68:01\n",
      "removed all ['a' 'p'] from HLA_A*68:71\n",
      "removed all ['a' 'p'] from HLA_A*69:01\n",
      "removed all ['A' 'G'] from SNPS_A_7_30018316_exon1\n",
      "removed all ['A' 'G'] from SNPS_A_138_30018447_intron1\n",
      "removed all ['C' 'T'] from SNPS_A_177_30018486_intron1\n",
      "removed all ['A' 'C'] from SNPS_A_211_30018520_exon2\n",
      "removed all ['A' 'G'] from SNPS_A_257_30018566_exon2\n",
      "removed all ['A' 'G'] from SNPS_A_330_30018639_exon2\n",
      "removed all ['A' 'G'] from SNPS_A_349_30018658_exon2\n",
      "removed all ['a' 'p'] from SNPS_A_387_30018696_exon2_T\n",
      "removed all ['a' 'p'] from SNPS_A_389_30018698_exon2_C\n",
      "removed all ['A' 'G'] from SNPS_A_432_30018741_exon2\n",
      "removed all ['C' 'G'] from SNPS_A_747_30019056_exon3\n",
      "removed all ['C' 'T'] from SNPS_A_768_30019077_exon3\n",
      "removed all ['C' 'G'] from SNPS_A_773_30019082_exon3\n",
      "removed all ['A' 'G'] from SNPS_A_996_30019305_intron3\n",
      "removed all ['C' 'G'] from SNPS_A_1567_30019876_intron3\n",
      "removed all ['A' 'C'] from SNPS_A_1729_30020038_exon4\n",
      "removed all ['C' 'T'] from SNPS_A_1756_30020065_exon4\n",
      "removed all ['A' 'G'] from SNPS_A_1824_30020133_exon4\n",
      "removed all ['C' 'G'] from SNPS_A_1879_30020188_intron4\n",
      "removed all ['A' 'C'] from SNPS_A_1972_30020281_exon5\n",
      "removed all ['A' 'C'] from SNPS_A_1986_30020295_exon5\n",
      "removed all ['A' 'G'] from SNPS_A_2013_30020322_exon5\n",
      "removed all ['A' 'G'] from SNPS_A_2828_30021137_intron7\n",
      "removed all ['a' 'p'] from HLA_C*01:03\n",
      "removed all ['a' 'p'] from HLA_C*01:06\n",
      "removed all ['a' 'p'] from HLA_C*01:14\n",
      "removed all ['a' 'p'] from HLA_C*02:02\n",
      "removed all ['a' 'p'] from HLA_C*03:40\n",
      "removed all ['a' 'p'] from HLA_C*04:03\n",
      "removed all ['a' 'p'] from HLA_C*04:82\n",
      "removed all ['a' 'p'] from HLA_C*07:01\n",
      "removed all ['a' 'p'] from HLA_C*07:04\n",
      "removed all ['a' 'p'] from HLA_C*07:18\n",
      "removed all ['a' 'p'] from HLA_C*08:03\n",
      "removed all ['a' 'p'] from HLA_C*08:41\n",
      "removed all ['a' 'p'] from HLA_C*12:03\n",
      "removed all ['a' 'p'] from HLA_C*15:04\n",
      "removed all ['a' 'p'] from HLA_C*15:05\n",
      "removed all ['a' 'p'] from HLA_C*15:43\n",
      "removed all ['a' 'p'] from HLA_C*16:02\n",
      "removed all ['a' 'p'] from HLA_C*16:04\n",
      "removed all ['a' 'p'] from HLA_C*17:01\n",
      "removed all ['C' 'T'] from SNPS_C_2825_31345003_intron7\n",
      "removed all ['A' 'T'] from SNPS_C_2801_31345027_intron7\n",
      "removed all ['.' 'C'] from SNPS_C_2740_31345088_intron7\n",
      "removed all ['C' 'T'] from SNPS_C_2587_31345241_intron6\n",
      "removed all ['C' 'T'] from SNPS_C_2584_31345244_intron6\n",
      "removed all ['A' 'G'] from SNPS_C_2487_31345341_intron5\n",
      "removed all ['A' 'G'] from SNPS_C_2403_31345425_intron5\n",
      "removed all ['C' 'T'] from SNPS_C_2328_31345500_intron5\n",
      "removed all ['A' 'G'] from SNPS_C_2269_31345559_intron5\n",
      "removed all ['G' 'T'] from SNPS_C_2206_31345622_intron5\n",
      "removed all ['C' 'T'] from SNPS_C_2082_31345746_exon5\n",
      "removed all ['A' 'G'] from SNPS_C_2081_31345747_exon5\n",
      "removed all ['C' 'T'] from SNPS_C_2080_31345748_exon5\n",
      "removed all ['A' 'C'] from SNPS_C_2077_31345751_exon5\n",
      "removed all ['Z' 'z'] from INS_AA_C_300x301_31345772\n",
      "removed all ['Z' 'z'] from INS_SNPS_C_2053x2054_31345774\n",
      "removed all ['Z' 'z'] from INS_SNPS_C_2033x2034_31345794\n",
      "removed all ['C' 'T'] from SNPS_C_2029_31345799_exon5\n",
      "removed all ['A' 'G'] from SNPS_C_2028_31345800_exon5\n",
      "removed all ['A' 'C'] from SNPS_C_2021_31345807_exon5\n",
      "removed all ['a' 'p'] from SNPS_C_2009_31345819_exon5_A\n",
      "removed all ['A' 'T'] from SNPS_C_2007_31345821_exon5\n",
      "removed all ['G' 'T'] from SNPS_C_1949_31345879_intron4\n",
      "removed all ['A' 'C'] from SNPS_C_1946_31345882_intron4\n",
      "removed all ['A' 'C'] from SNPS_C_1844_31345984_exon4\n",
      "removed all ['A' 'G'] from SNPS_C_1843_31345985_exon4\n",
      "removed all ['C' 'T'] from SNPS_C_1797_31346031_exon4\n",
      "removed all ['C' 'T'] from SNPS_C_1666_31346162_exon4\n",
      "removed all ['A' 'G'] from SNPS_C_1613_31346215_exon4\n",
      "removed all ['a' 'p'] from SNPS_C_1586_31346242_exon4_C\n",
      "removed all ['C' 'T'] from SNPS_C_1511_31346317_intron3\n",
      "removed all ['A' 'G'] from SNPS_C_1481_31346347_intron3\n",
      "removed all ['C' 'G'] from SNPS_C_1439_31346389_intron3\n",
      "removed all ['A' 'T'] from SNPS_C_1417_31346411_intron3\n",
      "removed all ['A' 'G'] from SNPS_C_1350_31346478_intron3\n",
      "removed all ['A' 'G'] from SNPS_C_1309_31346519_intron3\n",
      "removed all ['C' 'T'] from SNPS_C_1256_31346572_intron3\n",
      "removed all ['C' 'G'] from SNPS_C_1150_31346678_intron3\n",
      "removed all ['A' 'G'] from SNPS_C_1129_31346699_intron3\n",
      "removed all ['C' 'T'] from SNPS_C_971_31346857_exon3\n",
      "removed all ['C' 'T'] from SNPS_C_956_31346872_exon3\n",
      "removed all ['a' 'p'] from SNPS_C_936_31346892_exon3_T\n",
      "removed all ['a' 'p'] from SNPS_C_935_31346893_exon3_C\n",
      "removed all ['C' 'G'] from SNPS_C_916_31346912_exon3\n",
      "removed all ['a' 'p'] from SNPS_C_915_31346913_exon3_T\n",
      "removed all ['a' 'p'] from SNPS_C_914_31346914_exon3_C\n",
      "removed all ['a' 'p'] from SNPS_C_903_31346925_exon3_A\n",
      "removed all ['A' 'T'] from SNPS_C_875_31346953_exon3\n",
      "removed all ['a' 'p'] from SNPS_C_862_31346966_exon3_T\n",
      "removed all ['a' 'p'] from SNPS_C_853_31346975_exon3_C\n",
      "removed all ['A' 'G'] from SNPS_C_850_31346978_exon3\n",
      "removed all ['a' 'p'] from SNPS_C_731_31347097_exon3_A\n",
      "removed all ['A' 'C'] from SNPS_C_721_31347107_exon3\n",
      "removed all ['a' 'p'] from SNPS_C_694_31347134_intron2_.\n",
      "removed all ['C' 'G'] from SNPS_C_688_31347140_intron2\n",
      "removed all ['A' 'G'] from SNPS_C_612_31347216_intron2\n",
      "removed all ['C' 'T'] from SNPS_C_598_31347230_intron2\n",
      "removed all ['A' 'T'] from SNPS_C_565_31347263_intron2\n",
      "removed all ['C' 'G'] from SNPS_C_552_31347276_intron2\n",
      "removed all ['C' 'T'] from SNPS_C_486_31347342_intron2\n",
      "removed all ['C' 'T'] from SNPS_C_248_31347580_exon2\n",
      "removed all ['A' 'C'] from SNPS_C_196_31347632_intron1\n",
      "removed all ['A' 'G'] from SNPS_C_59_31347769_exon1\n",
      "removed all ['A' 'G'] from SNPS_C_24_31347804_exon1\n",
      "removed all ['C' 'T'] from SNPS_C_20_31347808_exon1\n",
      "removed all ['a' 'p'] from HLA_B*07:05\n",
      "removed all ['a' 'p'] from HLA_B*07:06\n",
      "removed all ['a' 'p'] from HLA_B*08:01\n",
      "removed all ['a' 'p'] from HLA_B*15:02\n",
      "removed all ['a' 'p'] from HLA_B*15:03\n",
      "removed all ['a' 'p'] from HLA_B*15:05\n",
      "removed all ['a' 'p'] from HLA_B*15:08\n",
      "removed all ['a' 'p'] from HLA_B*15:12\n",
      "removed all ['a' 'p'] from HLA_B*15:13\n",
      "removed all ['a' 'p'] from HLA_B*15:15\n",
      "removed all ['a' 'p'] from HLA_B*15:17\n",
      "removed all ['a' 'p'] from HLA_B*15:20\n",
      "removed all ['a' 'p'] from HLA_B*15:25\n",
      "removed all ['a' 'p'] from HLA_B*15:27\n",
      "removed all ['a' 'p'] from HLA_B*15:32\n",
      "removed all ['a' 'p'] from HLA_B*15:46\n",
      "removed all ['a' 'p'] from HLA_B*15:50\n",
      "removed all ['a' 'p'] from HLA_B*15:58\n",
      "removed all ['a' 'p'] from HLA_B*18:01\n",
      "removed all ['a' 'p'] from HLA_B*18:02\n",
      "removed all ['a' 'p'] from HLA_B*27:02\n",
      "removed all ['a' 'p'] from HLA_B*27:04\n",
      "removed all ['a' 'p'] from HLA_B*27:06\n",
      "removed all ['a' 'p'] from HLA_B*27:07\n",
      "removed all ['a' 'p'] from HLA_B*27:11\n",
      "removed all ['a' 'p'] from HLA_B*27:24\n",
      "removed all ['a' 'p'] from HLA_B*35:02\n",
      "removed all ['a' 'p'] from HLA_B*35:03\n",
      "removed all ['a' 'p'] from HLA_B*35:05\n",
      "removed all ['a' 'p'] from HLA_B*35:08\n",
      "removed all ['a' 'p'] from HLA_B*35:11\n",
      "removed all ['a' 'p'] from HLA_B*35:14\n",
      "removed all ['a' 'p'] from HLA_B*35:15\n",
      "removed all ['a' 'p'] from HLA_B*35:30\n",
      "removed all ['a' 'p'] from HLA_B*35:31\n",
      "removed all ['a' 'p'] from HLA_B*35:43\n",
      "removed all ['a' 'p'] from HLA_B*38:01\n",
      "removed all ['a' 'p'] from HLA_B*39:03\n",
      "removed all ['a' 'p'] from HLA_B*39:05\n",
      "removed all ['a' 'p'] from HLA_B*39:09\n",
      "removed all ['a' 'p'] from HLA_B*40:03\n",
      "removed all ['a' 'p'] from HLA_B*40:05\n",
      "removed all ['a' 'p'] from HLA_B*40:40\n",
      "removed all ['a' 'p'] from HLA_B*41:01\n",
      "removed all ['a' 'p'] from HLA_B*44:46\n",
      "removed all ['a' 'p'] from HLA_B*45:01\n",
      "removed all ['a' 'p'] from HLA_B*47:01\n",
      "removed all ['a' 'p'] from HLA_B*48:02\n",
      "removed all ['a' 'p'] from HLA_B*48:03\n",
      "removed all ['a' 'p'] from HLA_B*49:01\n",
      "removed all ['a' 'p'] from HLA_B*50:01\n",
      "removed all ['a' 'p'] from HLA_B*51:02\n",
      "removed all ['a' 'p'] from HLA_B*51:04\n",
      "removed all ['a' 'p'] from HLA_B*51:07\n",
      "removed all ['a' 'p'] from HLA_B*51:08\n",
      "removed all ['a' 'p'] from HLA_B*51:42\n",
      "removed all ['a' 'p'] from HLA_B*53:01\n",
      "removed all ['a' 'p'] from HLA_B*55:01\n",
      "removed all ['a' 'p'] from HLA_B*55:04\n",
      "removed all ['a' 'p'] from HLA_B*55:12\n",
      "removed all ['a' 'p'] from HLA_B*55:24\n",
      "removed all ['a' 'p'] from HLA_B*56:01\n",
      "removed all ['a' 'p'] from HLA_B*56:03\n",
      "removed all ['a' 'p'] from HLA_B*56:04\n",
      "removed all ['a' 'p'] from HLA_B*57:01\n",
      "removed all ['a' 'p'] from HLA_B*78:02\n",
      "removed all ['a' 'p'] from HLA_B*81:01\n",
      "removed all ['a' 'p'] from SNPS_B_2596_31430319_intron6_T\n",
      "removed all ['C' 'T'] from SNPS_B_2551_31430364_intron6\n",
      "removed all ['C' 'T'] from SNPS_B_2325_31430590_intron5\n",
      "removed all ['A' 'G'] from SNPS_B_2246_31430669_intron5\n",
      "removed all ['A' 'C'] from SNPS_B_2245_31430670_intron5\n",
      "removed all ['C' 'T'] from SNPS_B_2170_31430745_intron5\n",
      "removed all ['A' 'T'] from SNPS_B_2156_31430759_intron5\n",
      "removed all ['A' 'T'] from SNPS_B_2146_31430769_intron5\n",
      "removed all ['A' 'T'] from SNPS_B_2051_31430864_exon5\n",
      "removed all ['C' 'T'] from SNPS_B_2031_31430884_exon5\n",
      "removed all ['C' 'T'] from SNPS_B_1949_31430966_exon5\n",
      "removed all ['C' 'T'] from SNPS_B_1820_31431095_exon4\n",
      "removed all ['C' 'G'] from SNPS_B_1651_31431264_exon4\n",
      "removed all ['C' 'G'] from SNPS_B_1520_31431395_intron3\n",
      "removed all ['A' 'G'] from SNPS_B_1481_31431434_intron3\n",
      "removed all ['.' 'C'] from SNPS_B_1435_31431480_intron3\n",
      "removed all ['.' 'T'] from SNPS_B_1434_31431481_intron3\n",
      "removed all ['C' 'T'] from SNPS_B_1430_31431485_intron3\n",
      "removed all ['C' 'T'] from SNPS_B_1379_31431536_intron3\n",
      "removed all ['C' 'T'] from SNPS_B_1356_31431559_intron3\n",
      "removed all ['A' 'G'] from SNPS_B_1350_31431565_intron3\n",
      "removed all ['.' 'A'] from SNPS_B_1267_31431648_intron3\n",
      "removed all ['A' 'T'] from SNPS_B_1200_31431715_intron3\n",
      "removed all ['A' 'G'] from SNPS_B_1126_31431789_intron3\n",
      "removed all ['A' 'C'] from SNPS_B_944_31431971_exon3\n",
      "removed all ['C' 'G'] from SNPS_B_943_31431972_exon3\n",
      "removed all ['A' 'G'] from SNPS_B_770_31432145_exon3\n",
      "removed all ['a' 'p'] from SNPS_B_741_31432174_exon3_A\n",
      "removed all ['a' 'p'] from SNPS_B_735_31432180_exon3_A\n",
      "removed all ['a' 'p'] from SNPS_B_734_31432181_exon3_C\n",
      "removed all ['Z' 'z'] from INS_SNPS_B_681x682_31432234\n",
      "removed all ['C' 'T'] from SNPS_B_667_31432248_intron2\n",
      "removed all ['a' 'p'] from SNPS_B_563_31432352_intron2_.\n",
      "removed all ['C' 'T'] from SNPS_B_560_31432355_intron2\n",
      "removed all ['C' 'T'] from SNPS_B_362_31432553_exon2\n"
     ]
    }
   ],
   "source": [
    "f_in=open(\"data/genotype/3_KCHIP_bmarkerphased/KCHIP_HLA.hg18.intersection_HAN.LABELED.NoSameAllele.bMarkers.2field.saveRareAllele.beagle5.1.AGM.bgl.phased.aa\",'r')\n",
    "f_out=open(\"data/genotype/3_KCHIP_bmarkerphased/KCHIP_HLA.hg18.intersection_HAN.LABELED.NoSameAllele.bMarkers.2field.saveRareAllele.beagle5.1.AGM.bgl.phased.QC.aa\",'w')\n",
    "\n",
    "ind_count=None\n",
    "line_cnt=0\n",
    "\n",
    "while True:\n",
    "    line_cnt+=1\n",
    "    line=f_in.readline().strip()\n",
    "    line_split=line.split(' ')\n",
    "    if not line:\n",
    "        break\n",
    "    if ind_count is None:\n",
    "        ind_count=int(len(line_split[2:])/2)\n",
    "    else:\n",
    "        assert ind_count==int(len(line_split[2:])/2)\n",
    "    \n",
    "    line_type=line_split[0]\n",
    "    line_id=line_split[1]\n",
    "    line_data=line_split[2:]\n",
    "    line_data=np.array(line_data)[iid_df_merged['index'].tolist()]\n",
    "    \n",
    "    \n",
    "    \n",
    "    if line_id in removed_aaformat_nodup:\n",
    "        line_data_unique=np.unique(line_data)\n",
    "        if len(line_data_unique)==2:\n",
    "            print(\"removed all\",line_data_unique,\"from\",line_id)\n",
    "            continue\n",
    "        elif len(line_data_unique)>2:\n",
    "            total_removed=0\n",
    "            #line_data_array=np.array(line_data)\n",
    "            for removed_match in removed[removed.str.contains(line_id+'_')]:\n",
    "                match_cnt=(line_data==removed_match[-1]).sum()\n",
    "                total_removed+=match_cnt\n",
    "                line_data[line_data==removed_match[-1]]='NA'\n",
    "                print(\"removed\",removed_match[-1],\"from\",line_id,\"count:\",match_cnt)\n",
    "            if total_removed==0:\n",
    "                raise\n",
    "            f_out.write(' '.join([line_type,line_id]+line_data.tolist())+'\\n')\n",
    "            #f_out.write(' '.join([line_type,line_id]+line_data))\n",
    "        else:\n",
    "            raise\n",
    "    else:\n",
    "        f_out.write(' '.join([line_type,line_id]+line_data.tolist())+'\\n')\n",
    "        \n",
    "f_in.close()\n",
    "f_out.close()"
   ]
  },
  {
   "cell_type": "markdown",
   "metadata": {},
   "source": [
    "# Merge"
   ]
  },
  {
   "cell_type": "code",
   "execution_count": 23,
   "metadata": {},
   "outputs": [],
   "source": [
    "!echo 'data/genotype/0_1000G/KCHIP_HLA_6_28Mb_35Mb_20200113_QC.newfilter.nooverlap' > data/genotype/4_merge/merge_list.tsv"
   ]
  },
  {
   "cell_type": "code",
   "execution_count": 24,
   "metadata": {},
   "outputs": [
    {
     "data": {
      "text/plain": [
       "'plink --bfile data/genotype/3_KCHIP_bmarkerphased/KCHIP_HLA.hg18.intersection_HAN.LABELED.NoSameAllele.bMarkers.2field.saveRareAllele.QC.noaa --merge-list data/genotype/4_merge/merge_list.tsv --make-bed --out KCHIP_HLA_SNP_1000G_merged'"
      ]
     },
     "execution_count": 24,
     "metadata": {},
     "output_type": "execute_result"
    }
   ],
   "source": [
    "command='plink --bfile data/genotype/3_KCHIP_bmarkerphased/KCHIP_HLA.hg18.intersection_HAN.LABELED.NoSameAllele.bMarkers.2field.saveRareAllele.QC.noaa \\\n",
    "--merge-list data/genotype/4_merge/merge_list.tsv \\\n",
    "--make-bed \\\n",
    "--out KCHIP_HLA_SNP_1000G_merged'\n",
    "command"
   ]
  },
  {
   "cell_type": "code",
   "execution_count": null,
   "metadata": {},
   "outputs": [],
   "source": []
  }
 ],
 "metadata": {
  "kernelspec": {
   "display_name": "Python 3",
   "language": "python",
   "name": "python3"
  },
  "language_info": {
   "codemirror_mode": {
    "name": "ipython",
    "version": 3
   },
   "file_extension": ".py",
   "mimetype": "text/x-python",
   "name": "python",
   "nbconvert_exporter": "python",
   "pygments_lexer": "ipython3",
   "version": "3.6.9"
  }
 },
 "nbformat": 4,
 "nbformat_minor": 4
}
