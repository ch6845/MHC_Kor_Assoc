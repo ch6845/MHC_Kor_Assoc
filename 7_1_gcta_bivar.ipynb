{
 "cells": [
  {
   "cell_type": "markdown",
   "metadata": {},
   "source": [
    "jupyter nbconvert 7_1_gcta_bivar.ipynb --to script\n",
    "\n",
    "\n",
    "for i in {00..20};do python 7_1_gcta_bivar.py $i;done\n",
    "for i in {21..40};do python 7_1_gcta_bivar.py $i;done\n",
    "for i in {41..60};do python 7_1_gcta_bivar.py $i;done\n",
    "for i in {61..80};do python 7_1_gcta_bivar.py $i;done\n",
    "for i in {81..101};do python 7_1_gcta_bivar.py $i;done\n",
    "\n",
    "\n",
    "\n",
    "python 7_1_gcta_bivar.py $WINDOW\n",
    "\n",
    "for i in {00..101};do python 6_gcta_uni.py $i;done\n",
    "\n",
    "for i in {00..10};do python 4_association.py $i;done\n",
    "\n",
    "\n",
    "https://www.ncbi.nlm.nih.gov/pmc/articles/PMC6292650/"
   ]
  },
  {
   "cell_type": "code",
   "execution_count": 1,
   "metadata": {},
   "outputs": [],
   "source": [
    "import os\n",
    "import sys\n",
    "\n",
    "import logging\n",
    "import re\n",
    "import pathlib\n",
    "\n",
    "import datetime\n",
    "\n",
    "import numpy as np\n",
    "import pandas as pd\n",
    "from scipy.stats import pearsonr\n",
    "\n",
    "import matplotlib.pyplot as plt\n",
    "\n",
    "from pyplink import PyPlink\n",
    "\n",
    "from basic_tools import *"
   ]
  },
  {
   "cell_type": "code",
   "execution_count": 2,
   "metadata": {},
   "outputs": [],
   "source": [
    "log = logging.getLogger('logger')\n",
    "log.setLevel(logging.DEBUG)\n",
    "\n",
    "log_file_name=datetime.datetime.now().strftime('%Y%m%d_%H%M%S')+'.log'\n",
    "log_file_path=data_out_gcta_path+log_file_name\n",
    "fileHandler = logging.FileHandler(log_file_path)\n",
    "streamHandler = logging.StreamHandler()\n",
    "\n",
    "formatter = logging.Formatter(' %(asctime)s [%(levelname)s] %(lineno)d > %(message)s')\n",
    "fileHandler.setFormatter(formatter)\n",
    "streamHandler.setFormatter(formatter)\n",
    "\n",
    "log.addHandler(fileHandler)\n",
    "log.addHandler(streamHandler)"
   ]
  },
  {
   "cell_type": "code",
   "execution_count": 3,
   "metadata": {},
   "outputs": [],
   "source": [
    "result_uni=pd.read_csv(data_out_gcta_path+'result_uni.tsv',sep='\\t',index_col=0)"
   ]
  },
  {
   "cell_type": "code",
   "execution_count": 4,
   "metadata": {},
   "outputs": [],
   "source": [
    "grm_path='data/genotype/4_merge/KCHIP_HLA_AA_SNP_1000G.grm'"
   ]
  },
  {
   "cell_type": "code",
   "execution_count": null,
   "metadata": {},
   "outputs": [],
   "source": []
  },
  {
   "cell_type": "code",
   "execution_count": 5,
   "metadata": {},
   "outputs": [
    {
     "data": {
      "text/plain": [
       "(101, 10)"
      ]
     },
     "execution_count": 5,
     "metadata": {},
     "output_type": "execute_result"
    }
   ],
   "source": [
    "result_uni.shape"
   ]
  },
  {
   "cell_type": "code",
   "execution_count": 6,
   "metadata": {},
   "outputs": [],
   "source": [
    "#i=0"
   ]
  },
  {
   "cell_type": "code",
   "execution_count": 7,
   "metadata": {},
   "outputs": [],
   "source": [
    "#(pheno['pheno_x']!=-9).sum(),(pheno['pheno_y']!=-9).sum(),((pheno['pheno_x']!=-9) & (pheno['pheno_y']!=-9)).sum()"
   ]
  },
  {
   "cell_type": "code",
   "execution_count": 8,
   "metadata": {},
   "outputs": [
    {
     "name": "stderr",
     "output_type": "stream",
     "text": [
      " 2020-03-04 22:52:26,520 [INFO] 9 > 0\n"
     ]
    }
   ],
   "source": [
    "if 'ipykernel' in sys.argv[0]:\n",
    "    ipykernel=True\n",
    "    i=0\n",
    "    #phenotype_name='height'\n",
    "else:\n",
    "    ipykernel=False\n",
    "    i=int(sys.argv[1])  \n",
    "    \n",
    "log.info(i)"
   ]
  },
  {
   "cell_type": "code",
   "execution_count": 9,
   "metadata": {},
   "outputs": [],
   "source": [
    "#pd.read_csv(data_out_gcta_path+phenotype_name1+'-'+phenotype_name2+'.phe')"
   ]
  },
  {
   "cell_type": "code",
   "execution_count": 15,
   "metadata": {},
   "outputs": [
    {
     "name": "stderr",
     "output_type": "stream",
     "text": [
      " 2020-03-03 21:31:19,299 [INFO] 13 > phenotype_name1: ALP, phenotype_name2:FEV_over_FVC_predicted\n",
      " 2020-03-03 21:31:19,299 [INFO] 13 > phenotype_name1: ALP, phenotype_name2:FEV_over_FVC_predicted\n",
      " 2020-03-03 21:31:19,306 [INFO] 14 > pheno1 mising 59469\n",
      " 2020-03-03 21:31:19,306 [INFO] 14 > pheno1 mising 59469\n",
      " 2020-03-03 21:31:19,309 [INFO] 15 > pheno2 mising 7440\n",
      " 2020-03-03 21:31:19,309 [INFO] 15 > pheno2 mising 7440\n",
      " 2020-03-03 21:31:19,310 [INFO] 17 > #########################################  Run GCTA  #########################################\n",
      " 2020-03-03 21:31:19,310 [INFO] 17 > #########################################  Run GCTA  #########################################\n",
      " 2020-03-03 21:31:19,311 [INFO] 23 > gcta64 --HEreg-bivar 1 2 --grm data/genotype/4_merge/KCHIP_HLA_AA_SNP_1000G.grm --pheno data/out_gcta/ALP-FEV_over_FVC_predicted.phe --out data/out_gcta/ALP-FEV_over_FVC_predicted --thread-num 1\n",
      " 2020-03-03 21:31:19,311 [INFO] 23 > gcta64 --HEreg-bivar 1 2 --grm data/genotype/4_merge/KCHIP_HLA_AA_SNP_1000G.grm --pheno data/out_gcta/ALP-FEV_over_FVC_predicted.phe --out data/out_gcta/ALP-FEV_over_FVC_predicted --thread-num 1\n"
     ]
    },
    {
     "name": "stdout",
     "output_type": "stream",
     "text": [
      "------RUN-----\n",
      "gcta64 --HEreg-bivar 1 2 --grm data/genotype/4_merge/KCHIP_HLA_AA_SNP_1000G.grm --pheno data/out_gcta/ALP-FEV_over_FVC_predicted.phe --out data/out_gcta/ALP-FEV_over_FVC_predicted --thread-num 1\n"
     ]
    },
    {
     "name": "stderr",
     "output_type": "stream",
     "text": [
      " 2020-03-03 21:31:19,649 [INFO] 25 > *******************************************************************\n",
      "* Genome-wide Complex Trait Analysis (GCTA)\n",
      "* version 1.92.2 beta Linux\n",
      "* (C) 2010-2019, The University of Queensland\n",
      "* Please report bugs to: Jian Yang <jian.yang@uq.edu.au>\n",
      "*******************************************************************\n",
      "Analysis started at 12:31:19 UTC on Tue Mar 03 2020.\n",
      "Hostname: localhost.localdomain\n",
      "\n",
      "Accepted options:\n",
      "--HEreg-bivar 1 2\n",
      "--grm data/genotype/4_merge/KCHIP_HLA_AA_SNP_1000G.grm\n",
      "--pheno data/out_gcta/ALP-FEV_over_FVC_predicted.phe\n",
      "--out data/out_gcta/ALP-FEV_over_FVC_predicted\n",
      "--thread-num 1\n",
      "\n",
      "Note: This is a multi-thread program. You could specify the number of threads by the --thread-num option to speed up the computation if there are multiple processors in your machine.\n",
      "\n",
      "Reading IDs of the GRM from [data/genotype/4_merge/KCHIP_HLA_AA_SNP_1000G.grm.grm.id].\n",
      "125673 IDs read from [data/genotype/4_merge/KCHIP_HLA_AA_SNP_1000G.grm.grm.id].\n",
      "Reading phenotypes from [data/out_gcta/ALP-FEV_over_FVC_predicted.phe].\n",
      "Error: no phenotype data is found.\n",
      "An error occurs, please check the options or data\n",
      "\n",
      " 2020-03-03 21:31:19,649 [INFO] 25 > *******************************************************************\n",
      "* Genome-wide Complex Trait Analysis (GCTA)\n",
      "* version 1.92.2 beta Linux\n",
      "* (C) 2010-2019, The University of Queensland\n",
      "* Please report bugs to: Jian Yang <jian.yang@uq.edu.au>\n",
      "*******************************************************************\n",
      "Analysis started at 12:31:19 UTC on Tue Mar 03 2020.\n",
      "Hostname: localhost.localdomain\n",
      "\n",
      "Accepted options:\n",
      "--HEreg-bivar 1 2\n",
      "--grm data/genotype/4_merge/KCHIP_HLA_AA_SNP_1000G.grm\n",
      "--pheno data/out_gcta/ALP-FEV_over_FVC_predicted.phe\n",
      "--out data/out_gcta/ALP-FEV_over_FVC_predicted\n",
      "--thread-num 1\n",
      "\n",
      "Note: This is a multi-thread program. You could specify the number of threads by the --thread-num option to speed up the computation if there are multiple processors in your machine.\n",
      "\n",
      "Reading IDs of the GRM from [data/genotype/4_merge/KCHIP_HLA_AA_SNP_1000G.grm.grm.id].\n",
      "125673 IDs read from [data/genotype/4_merge/KCHIP_HLA_AA_SNP_1000G.grm.grm.id].\n",
      "Reading phenotypes from [data/out_gcta/ALP-FEV_over_FVC_predicted.phe].\n",
      "Error: no phenotype data is found.\n",
      "An error occurs, please check the options or data\n",
      "\n",
      " 2020-03-03 21:31:19,651 [ERROR] 26 > \n",
      " 2020-03-03 21:31:19,651 [ERROR] 26 > \n"
     ]
    },
    {
     "name": "stdout",
     "output_type": "stream",
     "text": [
      "------ERROR-----\n",
      "\n",
      "------OUTPUT-----\n",
      "*******************************************************************\n",
      "* Genome-wide Complex Trait Analysis (GCTA)\n",
      "* version 1.92.2 beta Linux\n",
      "* (C) 2010-2019, The University of Queensland\n",
      "* Please report bugs to: Jian Yang <jian.yang@uq.edu.au>\n",
      "*******************************************************************\n",
      "Analysis started at 12:31:19 UTC on Tue Mar 03 2020.\n",
      "Hostname: localhost.localdomain\n",
      "\n",
      "Accepted options:\n",
      "--HEreg-bivar 1 2\n",
      "--grm data/genotype/4_merge/KCHIP_HLA_AA_SNP_1000G.grm\n",
      "--pheno data/out_gcta/ALP-FEV_over_FVC_predicted.phe\n",
      "--out data/out_gcta/ALP-FEV_over_FVC_predicted\n",
      "--thread-num 1\n",
      "\n",
      "Note: This is a multi-thread program. You could specify the number of threads by the --thread-num option to speed up the computation if there are multiple processors in your machine.\n",
      "\n",
      "Reading IDs of the GRM from [data/genotype/4_merge/KCHIP_HLA_AA_SNP_1000G.grm.grm.id].\n",
      "125673 IDs read from [data/genotype/4_merge/KCHIP_HLA_AA_SNP_1000G.grm.grm.id].\n",
      "Reading phenotypes from [data/out_gcta/ALP-FEV_over_FVC_predicted.phe].\n",
      "Error: no phenotype data is found.\n",
      "An error occurs, please check the options or data\n",
      "\n"
     ]
    },
    {
     "name": "stderr",
     "output_type": "stream",
     "text": [
      " 2020-03-03 21:31:20,559 [INFO] 13 > phenotype_name1: ALP, phenotype_name2:FEV_predicted\n",
      " 2020-03-03 21:31:20,559 [INFO] 13 > phenotype_name1: ALP, phenotype_name2:FEV_predicted\n",
      " 2020-03-03 21:31:20,562 [INFO] 14 > pheno1 mising 59469\n",
      " 2020-03-03 21:31:20,562 [INFO] 14 > pheno1 mising 59469\n",
      " 2020-03-03 21:31:20,564 [INFO] 15 > pheno2 mising 7440\n",
      " 2020-03-03 21:31:20,564 [INFO] 15 > pheno2 mising 7440\n",
      " 2020-03-03 21:31:20,565 [INFO] 17 > #########################################  Run GCTA  #########################################\n",
      " 2020-03-03 21:31:20,565 [INFO] 17 > #########################################  Run GCTA  #########################################\n",
      " 2020-03-03 21:31:20,567 [INFO] 23 > gcta64 --HEreg-bivar 1 2 --grm data/genotype/4_merge/KCHIP_HLA_AA_SNP_1000G.grm --pheno data/out_gcta/ALP-FEV_predicted.phe --out data/out_gcta/ALP-FEV_predicted --thread-num 1\n",
      " 2020-03-03 21:31:20,567 [INFO] 23 > gcta64 --HEreg-bivar 1 2 --grm data/genotype/4_merge/KCHIP_HLA_AA_SNP_1000G.grm --pheno data/out_gcta/ALP-FEV_predicted.phe --out data/out_gcta/ALP-FEV_predicted --thread-num 1\n"
     ]
    },
    {
     "name": "stdout",
     "output_type": "stream",
     "text": [
      "------RUN-----\n",
      "gcta64 --HEreg-bivar 1 2 --grm data/genotype/4_merge/KCHIP_HLA_AA_SNP_1000G.grm --pheno data/out_gcta/ALP-FEV_predicted.phe --out data/out_gcta/ALP-FEV_predicted --thread-num 1\n"
     ]
    },
    {
     "ename": "KeyboardInterrupt",
     "evalue": "",
     "output_type": "error",
     "traceback": [
      "\u001b[0;31m---------------------------------------------------------------------------\u001b[0m",
      "\u001b[0;31mKeyboardInterrupt\u001b[0m                         Traceback (most recent call last)",
      "\u001b[0;32m<ipython-input-15-d8eba868cf29>\u001b[0m in \u001b[0;36m<module>\u001b[0;34m\u001b[0m\n\u001b[1;32m     22\u001b[0m                                                                                 )\n\u001b[1;32m     23\u001b[0m     \u001b[0mlog\u001b[0m\u001b[0;34m.\u001b[0m\u001b[0minfo\u001b[0m\u001b[0;34m(\u001b[0m\u001b[0mcommand\u001b[0m\u001b[0;34m)\u001b[0m\u001b[0;34m\u001b[0m\u001b[0;34m\u001b[0m\u001b[0m\n\u001b[0;32m---> 24\u001b[0;31m     \u001b[0mstdout\u001b[0m\u001b[0;34m,\u001b[0m\u001b[0mstderr\u001b[0m\u001b[0;34m=\u001b[0m\u001b[0mrun_subprocess\u001b[0m\u001b[0;34m(\u001b[0m\u001b[0mcommand\u001b[0m\u001b[0;34m,\u001b[0m\u001b[0mdry\u001b[0m\u001b[0;34m=\u001b[0m\u001b[0;32mFalse\u001b[0m\u001b[0;34m)\u001b[0m\u001b[0;34m\u001b[0m\u001b[0;34m\u001b[0m\u001b[0m\n\u001b[0m\u001b[1;32m     25\u001b[0m     \u001b[0mlog\u001b[0m\u001b[0;34m.\u001b[0m\u001b[0minfo\u001b[0m\u001b[0;34m(\u001b[0m\u001b[0mstdout\u001b[0m\u001b[0;34m)\u001b[0m\u001b[0;34m\u001b[0m\u001b[0;34m\u001b[0m\u001b[0m\n\u001b[1;32m     26\u001b[0m     \u001b[0mlog\u001b[0m\u001b[0;34m.\u001b[0m\u001b[0merror\u001b[0m\u001b[0;34m(\u001b[0m\u001b[0mstderr\u001b[0m\u001b[0;34m)\u001b[0m\u001b[0;34m\u001b[0m\u001b[0;34m\u001b[0m\u001b[0m\n",
      "\u001b[0;32m/data/ch6845/MHC_phewas_testbench/basic_tools.py\u001b[0m in \u001b[0;36mrun_subprocess\u001b[0;34m(command, quiet, dry)\u001b[0m\n\u001b[1;32m     12\u001b[0m         \u001b[0;32mreturn\u001b[0m\u001b[0;34m\u001b[0m\u001b[0;34m\u001b[0m\u001b[0m\n\u001b[1;32m     13\u001b[0m     \u001b[0mprocess\u001b[0m \u001b[0;34m=\u001b[0m \u001b[0msubprocess\u001b[0m\u001b[0;34m.\u001b[0m\u001b[0mPopen\u001b[0m\u001b[0;34m(\u001b[0m\u001b[0mcommand\u001b[0m\u001b[0;34m.\u001b[0m\u001b[0msplit\u001b[0m\u001b[0;34m(\u001b[0m\u001b[0;34m)\u001b[0m\u001b[0;34m,\u001b[0m \u001b[0mstdout\u001b[0m\u001b[0;34m=\u001b[0m\u001b[0msubprocess\u001b[0m\u001b[0;34m.\u001b[0m\u001b[0mPIPE\u001b[0m\u001b[0;34m,\u001b[0m \u001b[0mstderr\u001b[0m\u001b[0;34m=\u001b[0m\u001b[0msubprocess\u001b[0m\u001b[0;34m.\u001b[0m\u001b[0mPIPE\u001b[0m\u001b[0;34m)\u001b[0m\u001b[0;34m\u001b[0m\u001b[0;34m\u001b[0m\u001b[0m\n\u001b[0;32m---> 14\u001b[0;31m     \u001b[0mstdout\u001b[0m\u001b[0;34m,\u001b[0m \u001b[0mstderr\u001b[0m \u001b[0;34m=\u001b[0m \u001b[0mprocess\u001b[0m\u001b[0;34m.\u001b[0m\u001b[0mcommunicate\u001b[0m\u001b[0;34m(\u001b[0m\u001b[0;34m)\u001b[0m\u001b[0;34m\u001b[0m\u001b[0;34m\u001b[0m\u001b[0m\n\u001b[0m\u001b[1;32m     15\u001b[0m     \u001b[0;32mif\u001b[0m \u001b[0mquiet\u001b[0m\u001b[0;34m==\u001b[0m\u001b[0;32mFalse\u001b[0m\u001b[0;34m:\u001b[0m\u001b[0;34m\u001b[0m\u001b[0;34m\u001b[0m\u001b[0m\n\u001b[1;32m     16\u001b[0m         \u001b[0mprint\u001b[0m\u001b[0;34m(\u001b[0m\u001b[0;34m\"------{}-----\"\u001b[0m\u001b[0;34m.\u001b[0m\u001b[0mformat\u001b[0m\u001b[0;34m(\u001b[0m\u001b[0;34m\"ERROR\"\u001b[0m\u001b[0;34m)\u001b[0m\u001b[0;34m)\u001b[0m\u001b[0;34m\u001b[0m\u001b[0;34m\u001b[0m\u001b[0m\n",
      "\u001b[0;32m~/tools/miniconda3/envs/pytorch/lib/python3.6/subprocess.py\u001b[0m in \u001b[0;36mcommunicate\u001b[0;34m(self, input, timeout)\u001b[0m\n\u001b[1;32m    861\u001b[0m \u001b[0;34m\u001b[0m\u001b[0m\n\u001b[1;32m    862\u001b[0m             \u001b[0;32mtry\u001b[0m\u001b[0;34m:\u001b[0m\u001b[0;34m\u001b[0m\u001b[0;34m\u001b[0m\u001b[0m\n\u001b[0;32m--> 863\u001b[0;31m                 \u001b[0mstdout\u001b[0m\u001b[0;34m,\u001b[0m \u001b[0mstderr\u001b[0m \u001b[0;34m=\u001b[0m \u001b[0mself\u001b[0m\u001b[0;34m.\u001b[0m\u001b[0m_communicate\u001b[0m\u001b[0;34m(\u001b[0m\u001b[0minput\u001b[0m\u001b[0;34m,\u001b[0m \u001b[0mendtime\u001b[0m\u001b[0;34m,\u001b[0m \u001b[0mtimeout\u001b[0m\u001b[0;34m)\u001b[0m\u001b[0;34m\u001b[0m\u001b[0;34m\u001b[0m\u001b[0m\n\u001b[0m\u001b[1;32m    864\u001b[0m             \u001b[0;32mfinally\u001b[0m\u001b[0;34m:\u001b[0m\u001b[0;34m\u001b[0m\u001b[0;34m\u001b[0m\u001b[0m\n\u001b[1;32m    865\u001b[0m                 \u001b[0mself\u001b[0m\u001b[0;34m.\u001b[0m\u001b[0m_communication_started\u001b[0m \u001b[0;34m=\u001b[0m \u001b[0;32mTrue\u001b[0m\u001b[0;34m\u001b[0m\u001b[0;34m\u001b[0m\u001b[0m\n",
      "\u001b[0;32m~/tools/miniconda3/envs/pytorch/lib/python3.6/subprocess.py\u001b[0m in \u001b[0;36m_communicate\u001b[0;34m(self, input, endtime, orig_timeout)\u001b[0m\n\u001b[1;32m   1532\u001b[0m                         \u001b[0;32mraise\u001b[0m \u001b[0mTimeoutExpired\u001b[0m\u001b[0;34m(\u001b[0m\u001b[0mself\u001b[0m\u001b[0;34m.\u001b[0m\u001b[0margs\u001b[0m\u001b[0;34m,\u001b[0m \u001b[0morig_timeout\u001b[0m\u001b[0;34m)\u001b[0m\u001b[0;34m\u001b[0m\u001b[0;34m\u001b[0m\u001b[0m\n\u001b[1;32m   1533\u001b[0m \u001b[0;34m\u001b[0m\u001b[0m\n\u001b[0;32m-> 1534\u001b[0;31m                     \u001b[0mready\u001b[0m \u001b[0;34m=\u001b[0m \u001b[0mselector\u001b[0m\u001b[0;34m.\u001b[0m\u001b[0mselect\u001b[0m\u001b[0;34m(\u001b[0m\u001b[0mtimeout\u001b[0m\u001b[0;34m)\u001b[0m\u001b[0;34m\u001b[0m\u001b[0;34m\u001b[0m\u001b[0m\n\u001b[0m\u001b[1;32m   1535\u001b[0m                     \u001b[0mself\u001b[0m\u001b[0;34m.\u001b[0m\u001b[0m_check_timeout\u001b[0m\u001b[0;34m(\u001b[0m\u001b[0mendtime\u001b[0m\u001b[0;34m,\u001b[0m \u001b[0morig_timeout\u001b[0m\u001b[0;34m)\u001b[0m\u001b[0;34m\u001b[0m\u001b[0;34m\u001b[0m\u001b[0m\n\u001b[1;32m   1536\u001b[0m \u001b[0;34m\u001b[0m\u001b[0m\n",
      "\u001b[0;32m~/tools/miniconda3/envs/pytorch/lib/python3.6/selectors.py\u001b[0m in \u001b[0;36mselect\u001b[0;34m(self, timeout)\u001b[0m\n\u001b[1;32m    374\u001b[0m             \u001b[0mready\u001b[0m \u001b[0;34m=\u001b[0m \u001b[0;34m[\u001b[0m\u001b[0;34m]\u001b[0m\u001b[0;34m\u001b[0m\u001b[0;34m\u001b[0m\u001b[0m\n\u001b[1;32m    375\u001b[0m             \u001b[0;32mtry\u001b[0m\u001b[0;34m:\u001b[0m\u001b[0;34m\u001b[0m\u001b[0;34m\u001b[0m\u001b[0m\n\u001b[0;32m--> 376\u001b[0;31m                 \u001b[0mfd_event_list\u001b[0m \u001b[0;34m=\u001b[0m \u001b[0mself\u001b[0m\u001b[0;34m.\u001b[0m\u001b[0m_poll\u001b[0m\u001b[0;34m.\u001b[0m\u001b[0mpoll\u001b[0m\u001b[0;34m(\u001b[0m\u001b[0mtimeout\u001b[0m\u001b[0;34m)\u001b[0m\u001b[0;34m\u001b[0m\u001b[0;34m\u001b[0m\u001b[0m\n\u001b[0m\u001b[1;32m    377\u001b[0m             \u001b[0;32mexcept\u001b[0m \u001b[0mInterruptedError\u001b[0m\u001b[0;34m:\u001b[0m\u001b[0;34m\u001b[0m\u001b[0;34m\u001b[0m\u001b[0m\n\u001b[1;32m    378\u001b[0m                 \u001b[0;32mreturn\u001b[0m \u001b[0mready\u001b[0m\u001b[0;34m\u001b[0m\u001b[0;34m\u001b[0m\u001b[0m\n",
      "\u001b[0;31mKeyboardInterrupt\u001b[0m: "
     ]
    }
   ],
   "source": [
    "for j in range(i+1,len(result_uni)):\n",
    "    phenotype_name1=result_uni.iloc[i].name\n",
    "    phenotype_name2=result_uni.iloc[j].name\n",
    "    \n",
    "    if phenotype_name1=='age' or phenotype_name2=='age':\n",
    "        continue\n",
    "    \n",
    "    if os.path.exists(data_out_gcta_path+phenotype_name1+'-'+phenotype_name2+'.HEreg') or os.path.exists(data_out_gcta_path+phenotype_name2+'-'+phenotype_name1+'.HEreg'):\n",
    "        continue\n",
    "\n",
    "\n",
    "\n",
    "    pheno1=pd.read_csv(data_out_pheno_path+phenotype_name1+'.phe',sep='\\t',header=None,names=['FID','IID','pheno'])\n",
    "    pheno2=pd.read_csv(data_out_pheno_path+phenotype_name2+'.phe',sep='\\t',header=None,names=['FID','IID','pheno'])\n",
    "    pheno=pheno1.merge(right=pheno2,left_on=['FID','IID'],right_on=['FID','IID'])\n",
    "\n",
    "    pheno_filter=pheno[(pheno['pheno_x']!=-9) & (pheno['pheno_y']!=-9)]\n",
    "    pheno_filter.to_csv(data_out_gcta_path+phenotype_name1+'-'+phenotype_name2+'.phe',sep='\\t',index=None,header=None)\n",
    "\n",
    "    log.info(\"phenotype_name1: {}, phenotype_name2:{}\".format(phenotype_name1,phenotype_name2))\n",
    "    log.info('pheno1 mising {}'.format((pheno['pheno_x']!=-9).sum()))\n",
    "    log.info('pheno2 mising {}'.format((pheno['pheno_y']!=-9).sum()))\n",
    "\n",
    "    if os.path.exists(data_out_gcta_path+phenotype_name1+'-'+phenotype_name2+'.HEreg'):\n",
    "        log.info(data_out_gcta_path+phenotype_name1+'-'+phenotype_name2+'.HEreg exists')\n",
    "        break\n",
    "    \n",
    "    log.info(\"#########################################  Run GCTA  #########################################\")\n",
    "    #Run omnibus association test\n",
    "    command='gcta64 --HEreg-bivar 1 2 --grm {} --pheno {} --out {} --thread-num 10'.format(grm_path,\n",
    "                                                                                 data_out_gcta_path+phenotype_name1+'-'+phenotype_name2+'.phe',\n",
    "                                                                                 data_out_gcta_path+phenotype_name1+'-'+phenotype_name2,                                         \n",
    "                                                                                )\n",
    "    log.info(command)\n",
    "    stdout,stderr=run_subprocess(command,dry=False)\n",
    "    log.info(stdout)\n",
    "    log.error(stderr)          "
   ]
  }
 ],
 "metadata": {
  "kernelspec": {
   "display_name": "Python 3",
   "language": "python",
   "name": "python3"
  },
  "language_info": {
   "codemirror_mode": {
    "name": "ipython",
    "version": 3
   },
   "file_extension": ".py",
   "mimetype": "text/x-python",
   "name": "python",
   "nbconvert_exporter": "python",
   "pygments_lexer": "ipython3",
   "version": "3.7.3"
  }
 },
 "nbformat": 4,
 "nbformat_minor": 4
}
