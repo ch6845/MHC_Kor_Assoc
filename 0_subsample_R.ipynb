{
 "cells": [
  {
   "cell_type": "code",
   "execution_count": 78,
   "metadata": {},
   "outputs": [],
   "source": [
    "kchip_fam_path='kchipdata/HLA_IMPUTED_Result.KCHIP_HLA.MHC.fam'\n",
    "kchip_bim_path='kchipdata/HLA_IMPUTED_Result.KCHIP_HLA.MHC.bim'\n",
    "kchip_fam=read.table(kchip_fam_path);\n",
    "kchip_bim=read.table(kchip_bim_path);"
   ]
  },
  {
   "cell_type": "code",
   "execution_count": 70,
   "metadata": {},
   "outputs": [],
   "source": [
    "kchip_fam_sampled=kchip_fam[sample(1:nrow(kchip_fam),10000),]"
   ]
  },
  {
   "cell_type": "code",
   "execution_count": 75,
   "metadata": {},
   "outputs": [],
   "source": [
    "write.table(kchip_fam_sampled,'sampled.HLA_IMPUTED_Result.KCHIP_HLA.MHC.fam',sep='\\t',row.names=FALSE,col.names=FALSE,quote=FALSE)"
   ]
  },
  {
   "cell_type": "code",
   "execution_count": 84,
   "metadata": {},
   "outputs": [],
   "source": [
    "\n",
    "write.table(kchip_bim[,c(2,5)],'reference.HLA_IMPUTED_Result.KCHIP_HLA.MHC.bim',sep='\\t',row.names=FALSE,col.names=FALSE,quote=FALSE)\n",
    "\n"
   ]
  },
  {
   "cell_type": "code",
   "execution_count": null,
   "metadata": {},
   "outputs": [],
   "source": []
  }
 ],
 "metadata": {
  "kernelspec": {
   "display_name": "R",
   "language": "R",
   "name": "ir"
  },
  "language_info": {
   "codemirror_mode": "r",
   "file_extension": ".r",
   "mimetype": "text/x-r-source",
   "name": "R",
   "pygments_lexer": "r",
   "version": "3.5.1"
  }
 },
 "nbformat": 4,
 "nbformat_minor": 2
}
