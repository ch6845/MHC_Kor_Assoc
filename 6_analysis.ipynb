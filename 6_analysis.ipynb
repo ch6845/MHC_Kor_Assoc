{
 "cells": [
  {
   "cell_type": "code",
   "execution_count": 1,
   "metadata": {},
   "outputs": [],
   "source": [
    "import os\n",
    "import sys\n",
    "\n",
    "import logging\n",
    "import re\n",
    "import pathlib\n",
    "\n",
    "import datetime\n",
    "\n",
    "import numpy as np\n",
    "import pandas as pd\n",
    "from scipy.stats import pearsonr\n",
    "\n",
    "import matplotlib.pyplot as plt\n",
    "\n",
    "from pyplink import PyPlink\n",
    "\n",
    "from basic_tools import *"
   ]
  },
  {
   "cell_type": "code",
   "execution_count": 2,
   "metadata": {},
   "outputs": [],
   "source": [
    "import glob"
   ]
  },
  {
   "cell_type": "markdown",
   "metadata": {},
   "source": [
    "# Load variables"
   ]
  },
  {
   "cell_type": "code",
   "execution_count": 3,
   "metadata": {},
   "outputs": [],
   "source": [
    "plink_path=final_plink_path\n",
    "plink_aa_path=final_plink_aa_path\n",
    "#aa_path=final_aa_path"
   ]
  },
  {
   "cell_type": "code",
   "execution_count": 4,
   "metadata": {},
   "outputs": [],
   "source": [
    "plink=PyPlink(plink_path)\n",
    "fam=plink.get_fam().astype({'fid':str,'iid':str}).rename(columns={'fid':'FID','iid':'IID'})\n",
    "bim=plink.get_bim()"
   ]
  },
  {
   "cell_type": "code",
   "execution_count": 5,
   "metadata": {},
   "outputs": [],
   "source": [
    "plink_aa=PyPlink(plink_aa_path)\n",
    "fam_aa=plink_aa.get_fam().astype({'fid':str,'iid':str}).rename(columns={'fid':'FID','iid':'IID'})\n",
    "bim_aa=plink_aa.get_bim()"
   ]
  },
  {
   "cell_type": "code",
   "execution_count": 6,
   "metadata": {},
   "outputs": [],
   "source": [
    "phenotypes=pd.read_csv(pheno_all_file_path,sep='\\t')"
   ]
  },
  {
   "cell_type": "code",
   "execution_count": 7,
   "metadata": {},
   "outputs": [
    {
     "data": {
      "text/plain": [
       "Index(['ID', 'age', 'sex', 'asthma', 'chronic_bronchitis', 'allergic_disease',\n",
       "       'stomach_cancer', 'liver_cancer', 'colorectal_cancer', 'breast_cancer',\n",
       "       ...\n",
       "       'FVC_predicted', 'FEV_predicted', 'FEV_over_FVC_predicted',\n",
       "       'MVV_predicted', 'bone_density_distal_sos', 'bone_density_midshaft_sos',\n",
       "       'protein_in_blood', 'glucose_in_blood', 'cohort', 'bmi'],\n",
       "      dtype='object', length=138)"
      ]
     },
     "execution_count": 7,
     "metadata": {},
     "output_type": "execute_result"
    }
   ],
   "source": [
    "phenotypes.columns"
   ]
  },
  {
   "cell_type": "code",
   "execution_count": 8,
   "metadata": {},
   "outputs": [],
   "source": [
    "phenotype_list=sorted([path.split('/')[-1] for path in glob.glob(data_out_assoc_path+'*')])"
   ]
  },
  {
   "cell_type": "code",
   "execution_count": 9,
   "metadata": {},
   "outputs": [
    {
     "data": {
      "text/plain": [
       "Index(['FEV_over_FVC_predicted', 'FEV_predicted', 'FVC_predicted', 'ID',\n",
       "       'MVV_predicted', 'acute_liver_disease', 'age',\n",
       "       'bone_density_distal_sos', 'bone_density_midshaft_sos', 'diabetes',\n",
       "       'diastolic_blood_pressure', 'duodenal_ulcer', 'fatty_liver', 'fracture',\n",
       "       'hypertension', 'hysterectomy', 'insomnia', 'liver_cancer',\n",
       "       'menarche_onset_age', 'menopause_age', 'menopause_cycle', 'neurosis',\n",
       "       'osteoporosis', 'prostate_cancer', 'protein_in_blood', 'thyroid_cancer',\n",
       "       'total_cholesterol', 'transient_ischemic_attacks', 'triglyceride',\n",
       "       'tsh', 'tuberculosis', 'weight'],\n",
       "      dtype='object')"
      ]
     },
     "execution_count": 9,
     "metadata": {},
     "output_type": "execute_result"
    }
   ],
   "source": [
    "pd.Index(phenotypes.columns[~phenotypes.columns.str.contains('x_ray')]).difference(phenotype_list)"
   ]
  },
  {
   "cell_type": "code",
   "execution_count": 10,
   "metadata": {},
   "outputs": [],
   "source": [
    "gene_bed_path='data/known_genes_chr6.hg18.txt'"
   ]
  },
  {
   "cell_type": "code",
   "execution_count": 11,
   "metadata": {},
   "outputs": [],
   "source": [
    "gene_bed=pd.read_csv(gene_bed_path,sep='\\t')\n",
    "gene_bed=gene_bed[(gene_bed['txStart']>=bim_aa.pos.min())&(gene_bed['txEnd']<=bim_aa.pos.max())]"
   ]
  },
  {
   "cell_type": "markdown",
   "metadata": {},
   "source": [
    "# HLA_gene_assign"
   ]
  },
  {
   "cell_type": "code",
   "execution_count": 12,
   "metadata": {},
   "outputs": [
    {
     "name": "stderr",
     "output_type": "stream",
     "text": [
      "/home/ch6845/tools/miniconda3/envs/pytorch/lib/python3.6/site-packages/ipykernel_launcher.py:5: SettingWithCopyWarning: \n",
      "A value is trying to be set on a copy of a slice from a DataFrame.\n",
      "Try using .loc[row_indexer,col_indexer] = value instead\n",
      "\n",
      "See the caveats in the documentation: http://pandas.pydata.org/pandas-docs/stable/user_guide/indexing.html#returning-a-view-versus-a-copy\n",
      "  \"\"\"\n",
      "/home/ch6845/tools/miniconda3/envs/pytorch/lib/python3.6/site-packages/pandas/core/generic.py:9114: SettingWithCopyWarning: \n",
      "A value is trying to be set on a copy of a slice from a DataFrame\n",
      "\n",
      "See the caveats in the documentation: http://pandas.pydata.org/pandas-docs/stable/user_guide/indexing.html#returning-a-view-versus-a-copy\n",
      "  self._update_inplace(new_data)\n",
      "/home/ch6845/tools/miniconda3/envs/pytorch/lib/python3.6/site-packages/IPython/core/interactiveshell.py:3319: SettingWithCopyWarning: \n",
      "A value is trying to be set on a copy of a slice from a DataFrame\n",
      "\n",
      "See the caveats in the documentation: http://pandas.pydata.org/pandas-docs/stable/user_guide/indexing.html#returning-a-view-versus-a-copy\n",
      "  exec(code_obj, self.user_global_ns, self.user_ns)\n"
     ]
    }
   ],
   "source": [
    "gene_assign_HLA=bim_aa[['pos']]\n",
    "HLA_names=np.unique([i[0].split('_')[1] for i in bim_aa[bim_aa.index.str.contains('HLA_')].index.str.split('*')])\n",
    "\n",
    "for HLA_name in HLA_names:\n",
    "    gene_assign_HLA[HLA_name]=0\n",
    "    gene_select=gene_assign_HLA[gene_assign_HLA.index.str.contains('HLA_'+HLA_name)|gene_assign_HLA.index.str.contains('SNPS_'+HLA_name)|gene_assign_HLA.index.str.contains('AA_'+HLA_name)]#print(gene_select.sort_values('pos').iloc[0],gene_select.sort_values('pos').iloc[-1])\n",
    "    gene_assign_HLA[HLA_name][(gene_assign_HLA['pos']>=gene_select['pos'].min())&(gene_assign_HLA['pos']<=gene_select['pos'].max())]=1\n",
    "#gene_assign    "
   ]
  },
  {
   "cell_type": "markdown",
   "metadata": {},
   "source": [
    "# Non HLA gene assign"
   ]
  },
  {
   "cell_type": "code",
   "execution_count": 13,
   "metadata": {},
   "outputs": [
    {
     "name": "stderr",
     "output_type": "stream",
     "text": [
      "/home/ch6845/tools/miniconda3/envs/pytorch/lib/python3.6/site-packages/ipykernel_launcher.py:3: SettingWithCopyWarning: \n",
      "A value is trying to be set on a copy of a slice from a DataFrame.\n",
      "Try using .loc[row_indexer,col_indexer] = value instead\n",
      "\n",
      "See the caveats in the documentation: http://pandas.pydata.org/pandas-docs/stable/user_guide/indexing.html#returning-a-view-versus-a-copy\n",
      "  This is separate from the ipykernel package so we can avoid doing imports until\n"
     ]
    }
   ],
   "source": [
    "gene_assign_nonHLA=bim_aa[['pos']]\n",
    "for idx,row in gene_bed.iterrows():\n",
    "    gene_assign_nonHLA[row['name2']]=0\n",
    "    \n",
    "for idx,row in gene_bed.iterrows():\n",
    "    exon_range_list=list(zip(row['exonStarts'].strip(',').split(','),row['exonEnds'].strip(',').split(',')))\n",
    "    for start,end in exon_range_list:\n",
    "        start=int(start);end=int(end)\n",
    "        gene_assign_nonHLA_bool=((gene_assign_nonHLA['pos']>=start) & (gene_assign_nonHLA['pos']<=end))\n",
    "        gene_assign_nonHLA[row['name2']][gene_assign_nonHLA_bool]=1    "
   ]
  },
  {
   "cell_type": "markdown",
   "metadata": {},
   "source": [
    "# Gene assignment"
   ]
  },
  {
   "cell_type": "code",
   "execution_count": 19,
   "metadata": {},
   "outputs": [
    {
     "name": "stdout",
     "output_type": "stream",
     "text": [
      "ALP\n",
      "DRB1    0\n",
      "DQB1    0\n",
      "DQA1    0\n",
      "DPB1    0\n",
      "DPA1    0\n",
      "C       0\n",
      "B       0\n",
      "A       0\n",
      "dtype: int64\n",
      "TRIM26    2\n",
      "RNF39     1\n",
      "TRIM40    1\n",
      "TRIM15    0\n",
      "TRIM10    0\n",
      "         ..\n",
      "RDBP      0\n",
      "CFB       0\n",
      "C2        0\n",
      "ZBTB12    0\n",
      "OR2B6     0\n",
      "Length: 229, dtype: int64\n"
     ]
    },
    {
     "ename": "RuntimeError",
     "evalue": "No active exception to reraise",
     "output_type": "error",
     "traceback": [
      "\u001b[0;31m---------------------------------------------------------------------------\u001b[0m",
      "\u001b[0;31mRuntimeError\u001b[0m                              Traceback (most recent call last)",
      "\u001b[0;32m<ipython-input-19-5884105726e4>\u001b[0m in \u001b[0;36m<module>\u001b[0;34m\u001b[0m\n\u001b[1;32m     49\u001b[0m                     \u001b[0mgene_name\u001b[0m\u001b[0;34m=\u001b[0m\u001b[0;34m'HLA_'\u001b[0m\u001b[0;34m+\u001b[0m\u001b[0mgene_assign_HLA_count\u001b[0m\u001b[0;34m.\u001b[0m\u001b[0mindex\u001b[0m\u001b[0;34m.\u001b[0m\u001b[0mtolist\u001b[0m\u001b[0;34m(\u001b[0m\u001b[0;34m)\u001b[0m\u001b[0;34m[\u001b[0m\u001b[0;36m0\u001b[0m\u001b[0;34m]\u001b[0m\u001b[0;34m\u001b[0m\u001b[0;34m\u001b[0m\u001b[0m\n\u001b[1;32m     50\u001b[0m                 \u001b[0;32melif\u001b[0m \u001b[0mgene_assign_HLA_count\u001b[0m\u001b[0;34m.\u001b[0m\u001b[0mshape\u001b[0m\u001b[0;34m[\u001b[0m\u001b[0;36m0\u001b[0m\u001b[0;34m]\u001b[0m\u001b[0;34m>\u001b[0m\u001b[0;36m1\u001b[0m\u001b[0;34m:\u001b[0m\u001b[0;34m\u001b[0m\u001b[0;34m\u001b[0m\u001b[0m\n\u001b[0;32m---> 51\u001b[0;31m                     \u001b[0;32mraise\u001b[0m\u001b[0;34m\u001b[0m\u001b[0;34m\u001b[0m\u001b[0m\n\u001b[0m\u001b[1;32m     52\u001b[0m                 \u001b[0;32melif\u001b[0m \u001b[0mgene_assign_nonHLA_count\u001b[0m\u001b[0;34m.\u001b[0m\u001b[0mshape\u001b[0m\u001b[0;34m[\u001b[0m\u001b[0;36m0\u001b[0m\u001b[0;34m]\u001b[0m\u001b[0;34m==\u001b[0m\u001b[0;36m1\u001b[0m\u001b[0;34m:\u001b[0m\u001b[0;31m# if the variant is itself in non-HLA gene coding region, or the variant is in strong LD(>0.7) with a variant in non-HLA gene coding region\u001b[0m\u001b[0;34m\u001b[0m\u001b[0;34m\u001b[0m\u001b[0m\n\u001b[1;32m     53\u001b[0m                     \u001b[0mgene_name\u001b[0m\u001b[0;34m=\u001b[0m\u001b[0mgene_assign_nonHLA_count\u001b[0m\u001b[0;34m.\u001b[0m\u001b[0mindex\u001b[0m\u001b[0;34m.\u001b[0m\u001b[0mtolist\u001b[0m\u001b[0;34m(\u001b[0m\u001b[0;34m)\u001b[0m\u001b[0;34m[\u001b[0m\u001b[0;36m0\u001b[0m\u001b[0;34m]\u001b[0m\u001b[0;34m\u001b[0m\u001b[0;34m\u001b[0m\u001b[0m\n",
      "\u001b[0;31mRuntimeError\u001b[0m: No active exception to reraise"
     ]
    }
   ],
   "source": [
    "loci_info_list=[]\n",
    "for phenotype_name in phenotype_list:\n",
    "    #phenotype_name='ALP'\n",
    "    print(phenotype_name)\n",
    "    data_out_assoc_phenotype_path=data_out_assoc_path+phenotype_name+'/'\n",
    "    num_independent=len(glob.glob(data_out_assoc_phenotype_path+'step_*.aa'))\n",
    "    phenotype_data=pd.read_csv(data_out_assoc_phenotype_path+'phenotype.phe',sep='\\t',header=None,names=['FID','IID','pheno'])\n",
    "    phenotype_type= 'continuous' if len(phenotype_data['pheno'].unique())>3 else 'binary'\n",
    "    \n",
    "    for idx in range(1,num_independent+1):\n",
    "        omnibus_assoc_result=pd.read_csv(data_out_assoc_phenotype_path+'step_{:02d}.omnibus.assoc.munged'.format(idx),sep='\\t')\n",
    "        plink_assoc_result=pd.read_csv(data_out_assoc_phenotype_path+'step_{:02d}.plink.assoc.{}.munged'.format(idx,'logistic' if phenotype_type=='binary' else 'linear')).iloc[:,1:]\n",
    "        \n",
    "        plink_cond_f=open(data_out_assoc_phenotype_path+'step_{:02d}.plink.cond'.format(5),'r')\n",
    "        plink_cond=[cond.strip() for cond in plink_cond_f.readlines()]\n",
    "        plink_cond_f.close()\n",
    "        plink_covar=pd.read_csv(data_out_assoc_phenotype_path+'step_{:02d}.plink.covar'.format(1),sep='\\t')\n",
    "            \n",
    "        omnibus_top=omnibus_assoc_result.sort_values('P').iloc[0]\n",
    "        plink_top=plink_assoc_result.sort_values('P').iloc[0]\n",
    "            \n",
    "        assoc_type='plink' if plink_top['P']<omnibus_top['P'] else 'omnibus'\n",
    "        \n",
    "        variant=plink_top['SNP'] if assoc_type=='plink' else  omnibus_top['Variant']\n",
    "        pos=bim_aa.loc[plink_top['SNP']]['pos'] if assoc_type=='plink' else  omnibus_top['Variant']\n",
    "        p_val=plink_top['P'] if assoc_type=='plink' else omnibus_top['P']\n",
    "        \n",
    "        if assoc_type=='omnibus':\n",
    "            gene_name='HLA_'+variant.split('_')[1]\n",
    "        elif assoc_type=='plink':\n",
    "            if variant[:3]=='HLA':\n",
    "                gene_name='HLA_'+variant[4:].split('*')[0]\n",
    "            else:\n",
    "                # if the variant is itself in HLA transcription region\n",
    "                if gene_assign_HLA.iloc[:,1:].loc[variant].sum()==1:\n",
    "                    gene_name='HLA_'+gene_assign_HLA.iloc[:,1:].loc[variant].sort_values(ascending=False).index[0]\n",
    "                elif gene_assign_HLA.iloc[:,1:].loc[variant].sum()>1:\n",
    "                    raise\n",
    "                # if the variant is itself in non-HLA gene coding region\n",
    "                elif gene_assign_nonHLA.iloc[:,1:].loc[variant].sum()==1:\n",
    "                    gene_name='HLA_'+gene_assign_nonHLA.iloc[:,1:].loc[variant].sort_values(ascending=False).index[0]\n",
    "                elif gene_assign_nonHLA.iloc[:,1:].loc[variant].sum()>1:\n",
    "                    raise\n",
    "                else:\n",
    "                    gene_assign_HLA_select=gene_assign_HLA[r2_df[0]>0.5].iloc[:,1:]\n",
    "                    gene_assign_nonHLA_select=gene_assign_nonHLA[r2_df[0]>0.7].iloc[:,1:]\n",
    "                    # if the variant is in strong LD(>0.7) with a variant in HLA transcription region\n",
    "                    if gene_assign_HLA_select.sum(axis=0).sum()==1: \n",
    "                        gene_name=gene_assign_HLA_select.sum(axis=0).sort_values(ascending=False).index[0]\n",
    "                    elif gene_assign_HLA_select.sum(axis=0).sum()>1:\n",
    "                        gene_assign_HLA_select_select_index=gene_assign_HLA_select.sum(axis=1).sort_values(ascending=False).index[gene_assign_HLA_select.sum(axis=1).sort_values(ascending=False)>0]\n",
    "                        gene_assign_HLA_select_select_index_sorted=r2_df.loc[gene_assign_HLA_select_select_index].sort_values(0,ascending=False).index\n",
    "                        if gene_assign_HLA_select.loc[gene_assign_HLA_select_select_index_sorted[0]].sum()==1:\n",
    "                            gene_name=gene_assign_HLA_select.loc[gene_assign_HLA_select_select_index_sorted[0]].sort_values(ascending=False).index[0]\n",
    "                        else:\n",
    "                            raise\n",
    "                    # if the variant is in moderate LD(>0.5) with a variant in non-HLA gene coding region\n",
    "                    elif gene_assign_nonHLA_select.sum(axis=0).sum()==1:\n",
    "                        gene_name=gene_assign_nonHLA_select.sum(axis=0).sort_values(ascending=False).index[0]\n",
    "                    elif gene_assign_nonHLA_select.sum(axis=0).sum()>1:\n",
    "                        gene_assign_nonHLA_select_select_index=gene_assign_nonHLA_select.sum(axis=1).sort_values(ascending=False).index[gene_assign_nonHLA_select.sum(axis=1).sort_values(ascending=False)>0]\n",
    "                        gene_assign_nonHLA_select_select_index_sorted=r2_df.loc[gene_assign_nonHLA_select_select_index].sort_values(0,ascending=False).index\n",
    "                        if gene_assign_nonHLA_select.loc[gene_assign_nonHLA_select_select_index_sorted[0]].sum()==1:\n",
    "                            gene_name=gene_assign_nonHLA_select.loc[gene_assign_nonHLA_select_select_index_sorted[0]].sort_values(ascending=False).index[0]\n",
    "                        else:\n",
    "                            raise\n",
    "                    #in other cases, assign to the nearest gene\n",
    "                    else:\n",
    "                        gene_bed_copy=gene_bed.copy()\n",
    "                        gene_bed_copy['txStartDist']=(gene_bed_copy['txStart']-pos).abs()\n",
    "                        gene_bed_copy['txEndDist']=(gene_bed_copy['txEnd']-pos).abs()\n",
    "                        gene_bed_copy['txDist']=gene_bed_copy[['txStartDist','txEndDist']].min(axis=1)\n",
    "                        gene_name=gene_bed_copy.sort_values('txDist').iloc[0]['name2']     \n",
    "        \n",
    "        \n",
    "        loci_info={'phenotype_name':phenotype_name,\n",
    "                   \n",
    "                   'variant': variant,\n",
    "                   'pos':pos,\n",
    "                   'P':p_val,\n",
    "                   \n",
    "                   'Gene':gene_name,\n",
    "                    'total':(phenotype_data['pheno']!=-9).sum(),\n",
    "                   'case':(phenotype_data['pheno']==2).sum() if phenotype_type=='binary' else (phenotype_data['pheno']!=-9).sum(),\n",
    "                   'control':(phenotype_data['pheno']==1).sum() if phenotype_type=='binary' else 0,\n",
    "                   'A1/A2':((plink_top['A1'],(bim.loc[plink_top['SNP']]['a2'] if plink_top['A1']!=bim.loc[plink_top['SNP']]['a2'] else bim.loc[plink_top['SNP']]['a1']))) if assoc_type=='plink' else ('-','-'),\n",
    "                   'Z(beta)': '{}({})'.format(plink_top['STAT'],plink_top['BETA']) if assoc_type=='plink' else '-',\n",
    "                   'chisq(df)':'{}({})({})'.format(omnibus_top['chisq'],omnibus_top['deltaDF'],','.join(omnibus_top['Residues'])) if assoc_type=='omnibus' else '-',\n",
    "                   'conditional_covariate':plink_cond+plink_covar.columns.tolist()\n",
    "                  }\n",
    "        \n",
    "        loci_info_list.append(loci_info)\n",
    "        if idx==num_independent:\n",
    "            p_val>5e-8:\n",
    "                raise"
   ]
  },
  {
   "cell_type": "code",
   "execution_count": null,
   "metadata": {},
   "outputs": [],
   "source": []
  }
 ],
 "metadata": {
  "kernelspec": {
   "display_name": "Python 3",
   "language": "python",
   "name": "python3"
  },
  "language_info": {
   "codemirror_mode": {
    "name": "ipython",
    "version": 3
   },
   "file_extension": ".py",
   "mimetype": "text/x-python",
   "name": "python",
   "nbconvert_exporter": "python",
   "pygments_lexer": "ipython3",
   "version": "3.6.9"
  }
 },
 "nbformat": 4,
 "nbformat_minor": 4
}
