{
 "cells": [
  {
   "cell_type": "code",
   "execution_count": 2,
   "metadata": {},
   "outputs": [],
   "source": [
    "import numpy as np\n",
    "import pandas as pd\n",
    "import os\n",
    "from basic_tools import *"
   ]
  },
  {
   "cell_type": "code",
   "execution_count": 58,
   "metadata": {},
   "outputs": [],
   "source": [
    "#plink=PyPlink(\"data/genotype/4_merge/KCHIP_HLA_AA_SNP_1000G_merged\")"
   ]
  },
  {
   "cell_type": "markdown",
   "metadata": {},
   "source": [
    "# Individuals common in data"
   ]
  },
  {
   "cell_type": "code",
   "execution_count": 6,
   "metadata": {},
   "outputs": [],
   "source": [
    "pheno_ind=pd.read_csv(pheno_all_file_path,sep='\\t')[\"ID\"]"
   ]
  },
  {
   "cell_type": "code",
   "execution_count": 10,
   "metadata": {},
   "outputs": [],
   "source": [
    "_1000G_ind=pd.read_csv('data/genotype/0_1000G/KCHIP_HLA_6_28Mb_35Mb_20200113_QC.fam',sep=' ',header=None)[0]"
   ]
  },
  {
   "cell_type": "code",
   "execution_count": 12,
   "metadata": {},
   "outputs": [],
   "source": [
    "bmarker_ind=pd.read_csv('data/genotype/3_bmarkerphased/KCHIP_HLA.hg18.intersection_HAN.LABELED.NoSameAllele.bMarkers.2field.saveRareAllele.fam',sep=' ',header=None)[0]"
   ]
  },
  {
   "cell_type": "code",
   "execution_count": 35,
   "metadata": {},
   "outputs": [],
   "source": [
    "individual_common=pd.DataFrame(pd.Index(pheno_ind).intersection(pd.Index(_1000G_ind)).intersection(pd.Index(bmarker_ind))).sort_values(0)[[0,0]]\n",
    "individual_common.to_csv(individual_common_path,sep='\\t',index=None,header=None)"
   ]
  },
  {
   "cell_type": "markdown",
   "metadata": {},
   "source": [
    "# Imputation(CookHLA) included in HATK"
   ]
  },
  {
   "cell_type": "markdown",
   "metadata": {},
   "source": [
    "HATK returns `*.ped` and `*.alleles`"
   ]
  },
  {
   "cell_type": "markdown",
   "metadata": {},
   "source": [
    "# NomenCleaner"
   ]
  },
  {
   "cell_type": "markdown",
   "metadata": {},
   "source": [
    "# BmarkerGenerator"
   ]
  },
  {
   "cell_type": "markdown",
   "metadata": {},
   "source": [
    "# Beagle phasing"
   ]
  },
  {
   "cell_type": "markdown",
   "metadata": {},
   "source": [
    "# AA call"
   ]
  },
  {
   "cell_type": "code",
   "execution_count": 4,
   "metadata": {},
   "outputs": [
    {
     "name": "stdout",
     "output_type": "stream",
     "text": [
      "------RUN-----\n",
      "Rscript AllCC_Get_Phased_AA_Calls.R data/genotype/3_bmarkerphased/KCHIP_HLA.hg18.intersection_HAN.LABELED.NoSameAllele.bMarkers.2field.saveRareAllele.beagle5.1.AGM.bgl.phased data/genotype/3_bmarkerphased/KCHIP_HLA.hg18.intersection_HAN.LABELED.NoSameAllele.bMarkers.2field.saveRareAllele.fam data/genotype/3_bmarkerphased/KCHIP_HLA.hg18.intersection_HAN.LABELED.NoSameAllele.bMarkers.2field.saveRareAllele.beagle5.1.AGM.bgl.phased.aa\n"
     ]
    }
   ],
   "source": [
    "run_subprocess(' '.join(['Rscript AllCC_Get_Phased_AA_Calls.R',\n",
    "                bmarker_phased_path,\n",
    "                bmarker_plink_path+'.fam',\n",
    "                bmarker_aa_path                        \n",
    "                        ]),dry=True)"
   ]
  },
  {
   "cell_type": "markdown",
   "metadata": {},
   "source": [
    "# KCHIP + 1000G"
   ]
  },
  {
   "cell_type": "markdown",
   "metadata": {},
   "source": [
    "## 1000G"
   ]
  },
  {
   "cell_type": "code",
   "execution_count": 45,
   "metadata": {},
   "outputs": [
    {
     "data": {
      "text/plain": [
       "'plink --vcf data/genotype/0_1000G/KCHIP_HLA_6_28Mb_35Mb_20200113_QC.recode.vcf.gz --keep-allele-order --make-bed --out data/genotype/0_1000G/KCHIP_HLA_6_28Mb_35Mb_20200113_QC'"
      ]
     },
     "execution_count": 45,
     "metadata": {},
     "output_type": "execute_result"
    }
   ],
   "source": [
    "command='plink --vcf data/genotype/0_1000G/KCHIP_HLA_6_28Mb_35Mb_20200113_QC.recode.vcf.gz \\\n",
    "--keep-allele-order \\\n",
    "--make-bed \\\n",
    "--out data/genotype/0_1000G/KCHIP_HLA_6_28Mb_35Mb_20200113_QC'.format(individual_common_path)\n",
    "command"
   ]
  },
  {
   "cell_type": "code",
   "execution_count": null,
   "metadata": {},
   "outputs": [],
   "source": []
  },
  {
   "cell_type": "code",
   "execution_count": 52,
   "metadata": {},
   "outputs": [
    {
     "name": "stderr",
     "output_type": "stream",
     "text": [
      "/home/ch6845/tools/miniconda3/envs/pytorch/lib/python3.6/site-packages/ipykernel_launcher.py:1: ParserWarning: Falling back to the 'python' engine because the 'c' engine does not support regex separators (separators > 1 char and different from '\\s+' are interpreted as regex); you can avoid this warning by specifying engine='python'.\n",
      "  \"\"\"Entry point for launching an IPython kernel.\n"
     ]
    }
   ],
   "source": [
    "frq=pd.read_csv('data/genotype/0_1000G/KCHIP_HLA_6_28Mb_35Mb_20200113_QC.newfilter.frq',sep=r'\\s*')"
   ]
  },
  {
   "cell_type": "code",
   "execution_count": 55,
   "metadata": {},
   "outputs": [],
   "source": [
    "#frq.sort_values('MAF')"
   ]
  },
  {
   "cell_type": "code",
   "execution_count": null,
   "metadata": {},
   "outputs": [],
   "source": []
  },
  {
   "cell_type": "code",
   "execution_count": 46,
   "metadata": {},
   "outputs": [
    {
     "data": {
      "text/plain": [
       "'plink --bfile data/genotype/0_1000G/KCHIP_HLA_6_28Mb_35Mb_20200113_QC --keep data/individual.tsv --keep-allele-order --make-bed --out data/genotype/0_1000G/KCHIP_HLA_6_28Mb_35Mb_20200113_QC.newfilter'"
      ]
     },
     "execution_count": 46,
     "metadata": {},
     "output_type": "execute_result"
    }
   ],
   "source": [
    "command='plink --bfile data/genotype/0_1000G/KCHIP_HLA_6_28Mb_35Mb_20200113_QC \\\n",
    "--keep {} \\\n",
    "--keep-allele-order \\\n",
    "--make-bed \\\n",
    "--out data/genotype/0_1000G/KCHIP_HLA_6_28Mb_35Mb_20200113_QC.newfilter'.format(individual_common_path)\n",
    "command"
   ]
  },
  {
   "cell_type": "markdown",
   "metadata": {},
   "source": [
    "1000G\n",
    "MAF 0.01\n",
    "Imputation quality score 0.8\n",
    "\n",
    "hwe 1e-10"
   ]
  },
  {
   "cell_type": "code",
   "execution_count": 23,
   "metadata": {},
   "outputs": [
    {
     "data": {
      "text/plain": [
       "(63544, 6)"
      ]
     },
     "execution_count": 23,
     "metadata": {},
     "output_type": "execute_result"
    }
   ],
   "source": [
    "_1000G_bim=pd.read_csv('data/genotype/0_1000G/KCHIP_HLA_6_28Mb_35Mb_20200113_QC.newfilter'+'.bim',sep='\\t',names=['CHR','SNP','CM','BP','A1','A2'])\n",
    "_1000G_bim.shape"
   ]
  },
  {
   "cell_type": "code",
   "execution_count": 24,
   "metadata": {},
   "outputs": [
    {
     "data": {
      "text/plain": [
       "(12101, 6)"
      ]
     },
     "execution_count": 24,
     "metadata": {},
     "output_type": "execute_result"
    }
   ],
   "source": [
    "bmarker_bim=pd.read_csv('data/genotype/3_KCHIP_bmarkerphased/KCHIP_HLA.hg18.intersection_HAN.LABELED.NoSameAllele.bMarkers.2field.saveRareAllele'+'.bim',sep='\\t',names=['CHR','SNP','CM','BP','A1','A2'])\n",
    "bmarker_bim.shape"
   ]
  },
  {
   "cell_type": "code",
   "execution_count": 25,
   "metadata": {},
   "outputs": [],
   "source": [
    "_1000G_bmarker=_1000G_bim.rename(columns=lambda x: str(x)+'_1000G').merge(right=bmarker_bim.rename(columns=lambda x: str(x)+'_bmarker'),how='inner',left_on='BP_1000G',right_on='BP_bmarker')"
   ]
  },
  {
   "cell_type": "code",
   "execution_count": 26,
   "metadata": {},
   "outputs": [
    {
     "name": "stderr",
     "output_type": "stream",
     "text": [
      "/home/ch6845/tools/miniconda3/envs/pytorch/lib/python3.6/site-packages/ipykernel_launcher.py:1: FutureWarning: The signature of `Series.to_csv` was aligned to that of `DataFrame.to_csv`, and argument 'header' will change its default value from False to True: please pass an explicit value to suppress this warning.\n",
      "  \"\"\"Entry point for launching an IPython kernel.\n"
     ]
    }
   ],
   "source": [
    "_1000G_bmarker['SNP_1000G'].to_csv('data/genotype/0_1000G/1000G_bmarker_overlap.tsv',index=None,header=None)"
   ]
  },
  {
   "cell_type": "code",
   "execution_count": 27,
   "metadata": {},
   "outputs": [
    {
     "name": "stdout",
     "output_type": "stream",
     "text": [
      "------RUN-----\n",
      "plink --bfile data/genotype/0_1000G/KCHIP_HLA_6_28Mb_35Mb_20200113_QC.newfilter --exclude data/genotype/0_1000G/1000G_bmarker_overlap.tsv --make-bed --out data/genotype/0_1000G/KCHIP_HLA_6_28Mb_35Mb_20200113_QC.newfilter.nooverlap\n"
     ]
    }
   ],
   "source": [
    "run_subprocess('plink --bfile data/genotype/0_1000G/KCHIP_HLA_6_28Mb_35Mb_20200113_QC.newfilter --exclude data/genotype/0_1000G/1000G_bmarker_overlap.tsv --make-bed --out data/genotype/0_1000G/KCHIP_HLA_6_28Mb_35Mb_20200113_QC.newfilter.nooverlap',dry=True)"
   ]
  },
  {
   "cell_type": "markdown",
   "metadata": {},
   "source": [
    "## KCHIP"
   ]
  },
  {
   "cell_type": "code",
   "execution_count": 40,
   "metadata": {},
   "outputs": [
    {
     "data": {
      "text/plain": [
       "'plink --bfile data/genotype/3_KCHIP_bmarkerphased/KCHIP_HLA.hg18.intersection_HAN.LABELED.NoSameAllele.bMarkers.2field.saveRareAllele --keep data/individual.tsv --freq --keep-allele-order --out data/genotype/3_KCHIP_bmarkerphased/KCHIP_HLA.hg18.intersection_HAN.LABELED.NoSameAllele.bMarkers.2field.saveRareAllele'"
      ]
     },
     "execution_count": 40,
     "metadata": {},
     "output_type": "execute_result"
    }
   ],
   "source": [
    "command=\"plink --bfile data/genotype/3_KCHIP_bmarkerphased/KCHIP_HLA.hg18.intersection_HAN.LABELED.NoSameAllele.bMarkers.2field.saveRareAllele \\\n",
    "--keep {} \\\n",
    "--freq \\\n",
    "--keep-allele-order \\\n",
    "--out data/genotype/3_KCHIP_bmarkerphased/KCHIP_HLA.hg18.intersection_HAN.LABELED.NoSameAllele.bMarkers.2field.saveRareAllele\".format(individual_common_path)\n",
    "command"
   ]
  },
  {
   "cell_type": "code",
   "execution_count": 57,
   "metadata": {},
   "outputs": [
    {
     "data": {
      "text/plain": [
       "'plink --bfile data/genotype/3_KCHIP_bmarkerphased/KCHIP_HLA.hg18.intersection_HAN.LABELED.NoSameAllele.bMarkers.2field.saveRareAllele --keep data/individual.tsv --maf 0.005 --make-bed --keep-allele-order --freq --out data/genotype/3_KCHIP_bmarkerphased/KCHIP_HLA.hg18.intersection_HAN.LABELED.NoSameAllele.bMarkers.2field.saveRareAllele.QC'"
      ]
     },
     "execution_count": 57,
     "metadata": {},
     "output_type": "execute_result"
    }
   ],
   "source": [
    "command=\"plink --bfile data/genotype/3_KCHIP_bmarkerphased/KCHIP_HLA.hg18.intersection_HAN.LABELED.NoSameAllele.bMarkers.2field.saveRareAllele \\\n",
    "--keep {} \\\n",
    "--maf 0.005 \\\n",
    "--make-bed \\\n",
    "--keep-allele-order \\\n",
    "--freq \\\n",
    "--out data/genotype/3_KCHIP_bmarkerphased/KCHIP_HLA.hg18.intersection_HAN.LABELED.NoSameAllele.bMarkers.2field.saveRareAllele.QC\".format(individual_common_path)\n",
    "command"
   ]
  },
  {
   "cell_type": "code",
   "execution_count": null,
   "metadata": {},
   "outputs": [],
   "source": []
  },
  {
   "cell_type": "code",
   "execution_count": 6,
   "metadata": {},
   "outputs": [
    {
     "data": {
      "text/plain": [
       "\"grep -P '\\tAA_' data/genotype/3_KCHIP_bmarkerphased/KCHIP_HLA.hg18.intersection_HAN.LABELED.NoSameAllele.bMarkers.2field.saveRareAllele.QC.bim| awk '{{print $2}}' > data/genotype/3_KCHIP_bmarkerphased/aa_list.tsv\""
      ]
     },
     "execution_count": 6,
     "metadata": {},
     "output_type": "execute_result"
    }
   ],
   "source": [
    "command=\"grep -P '\\tAA_' data/genotype/3_KCHIP_bmarkerphased/KCHIP_HLA.hg18.intersection_HAN.LABELED.NoSameAllele.bMarkers.2field.saveRareAllele.QC.bim| awk '{{print $2}}' > data/genotype/3_KCHIP_bmarkerphased/aa_list.tsv\"\n",
    "command"
   ]
  },
  {
   "cell_type": "code",
   "execution_count": 7,
   "metadata": {},
   "outputs": [
    {
     "data": {
      "text/plain": [
       "'plink --bfile data/genotype/3_KCHIP_bmarkerphased/KCHIP_HLA.hg18.intersection_HAN.LABELED.NoSameAllele.bMarkers.2field.saveRareAllele.QC --exclude data/genotype/3_KCHIP_bmarkerphased/aa_list.tsv --make-bed --keep-allele-order --out data/genotype/3_KCHIP_bmarkerphased/KCHIP_HLA.hg18.intersection_HAN.LABELED.NoSameAllele.bMarkers.2field.saveRareAllele.QC.noaa'"
      ]
     },
     "execution_count": 7,
     "metadata": {},
     "output_type": "execute_result"
    }
   ],
   "source": [
    "command=\"plink --bfile data/genotype/3_KCHIP_bmarkerphased/KCHIP_HLA.hg18.intersection_HAN.LABELED.NoSameAllele.bMarkers.2field.saveRareAllele.QC \\\n",
    "--exclude data/genotype/3_KCHIP_bmarkerphased/aa_list.tsv \\\n",
    "--make-bed \\\n",
    "--keep-allele-order \\\n",
    "--out data/genotype/3_KCHIP_bmarkerphased/KCHIP_HLA.hg18.intersection_HAN.LABELED.NoSameAllele.bMarkers.2field.saveRareAllele.QC.noaa\"\n",
    "command"
   ]
  },
  {
   "cell_type": "code",
   "execution_count": 32,
   "metadata": {},
   "outputs": [],
   "source": [
    "before_maf=pd.read_csv('data/genotype/3_KCHIP_bmarkerphased/KCHIP_HLA.hg18.intersection_HAN.LABELED.NoSameAllele.bMarkers.2field.saveRareAllele.bim',sep='\\t',names=['CHR','SNP','CM','BP','A1','A2'])"
   ]
  },
  {
   "cell_type": "code",
   "execution_count": 38,
   "metadata": {},
   "outputs": [],
   "source": [
    "after_maf=pd.read_csv('data/genotype/3_KCHIP_bmarkerphased/KCHIP_HLA.hg18.intersection_HAN.LABELED.NoSameAllele.bMarkers.2field.saveRareAllele.QC.bim',sep='\\t',names=['CHR','SNP','CM','BP','A1','A2'])"
   ]
  },
  {
   "cell_type": "code",
   "execution_count": 39,
   "metadata": {},
   "outputs": [
    {
     "data": {
      "text/plain": [
       "1"
      ]
     },
     "execution_count": 39,
     "metadata": {},
     "output_type": "execute_result"
    }
   ],
   "source": [
    "(after_maf.SNP=='rs2523942').sum()"
   ]
  },
  {
   "cell_type": "code",
   "execution_count": 10,
   "metadata": {},
   "outputs": [],
   "source": [
    "removed=pd.Index(before_maf.SNP).difference(after_maf.SNP)\n",
    "removed=pd.Series(removed)\n",
    "removed_aaformat=['_'.join(i.split('_')[:3]) if i[:3]=='AA_' else i for i in removed]\n",
    "removed_aaformat_nodup=pd.Series(removed_aaformat)[~pd.Series(removed_aaformat).duplicated(keep=False)].values\n"
   ]
  },
  {
   "cell_type": "code",
   "execution_count": null,
   "metadata": {},
   "outputs": [],
   "source": []
  },
  {
   "cell_type": "code",
   "execution_count": 11,
   "metadata": {},
   "outputs": [
    {
     "data": {
      "text/plain": [
       "(562, 545)"
      ]
     },
     "execution_count": 11,
     "metadata": {},
     "output_type": "execute_result"
    }
   ],
   "source": [
    "len(removed),len(removed_aaformat_nodup)"
   ]
  },
  {
   "cell_type": "markdown",
   "metadata": {},
   "source": [
    "## iid matching"
   ]
  },
  {
   "cell_type": "code",
   "execution_count": 12,
   "metadata": {},
   "outputs": [],
   "source": [
    "individual_common=pd.read_csv(individual_common_path,sep='\\t',header=None)[0]"
   ]
  },
  {
   "cell_type": "code",
   "execution_count": 13,
   "metadata": {},
   "outputs": [],
   "source": [
    "f_in=open(\"data/genotype/3_KCHIP_bmarkerphased/KCHIP_HLA.hg18.intersection_HAN.LABELED.NoSameAllele.bMarkers.2field.saveRareAllele.beagle5.1.AGM.bgl.phased.aa\",'r')\n",
    "iid_df=pd.DataFrame(f_in.readline().strip().split(' ')[2:],columns=['iid']).reset_index()\n",
    "f_in.close()"
   ]
  },
  {
   "cell_type": "code",
   "execution_count": 15,
   "metadata": {},
   "outputs": [
    {
     "data": {
      "text/plain": [
       "125872.0"
      ]
     },
     "execution_count": 15,
     "metadata": {},
     "output_type": "execute_result"
    }
   ],
   "source": [
    "iid_df.shape[0]/2"
   ]
  },
  {
   "cell_type": "code",
   "execution_count": 16,
   "metadata": {},
   "outputs": [],
   "source": [
    "iid_df_merged=pd.DataFrame(individual_common).merge(right=iid_df,right_on='iid',left_on=0,how='inner')"
   ]
  },
  {
   "cell_type": "code",
   "execution_count": 17,
   "metadata": {},
   "outputs": [],
   "source": [
    "assert (iid_df_merged.iid.unique()!=individual_common).sum()==0"
   ]
  },
  {
   "cell_type": "code",
   "execution_count": 19,
   "metadata": {},
   "outputs": [
    {
     "name": "stdout",
     "output_type": "stream",
     "text": [
      "removed all ['a' 'p'] from HLA_A*01:03\n",
      "removed all ['a' 'p'] from HLA_A*02:02\n",
      "removed all ['a' 'p'] from HLA_A*02:05\n",
      "removed all ['a' 'p'] from HLA_A*02:09\n",
      "removed all ['a' 'p'] from HLA_A*02:10\n",
      "removed all ['a' 'p'] from HLA_A*02:11\n",
      "removed all ['a' 'p'] from HLA_A*03:02\n",
      "removed all ['a' 'p'] from HLA_A*11:02\n",
      "removed all ['a' 'p'] from HLA_A*11:03\n",
      "removed all ['a' 'p'] from HLA_A*11:12\n",
      "removed all ['a' 'p'] from HLA_A*11:77\n",
      "removed all ['a' 'p'] from HLA_A*23:01\n",
      "removed all ['a' 'p'] from HLA_A*24:03\n",
      "removed all ['a' 'p'] from HLA_A*24:04\n",
      "removed all ['a' 'p'] from HLA_A*24:07\n",
      "removed all ['a' 'p'] from HLA_A*24:08\n",
      "removed all ['a' 'p'] from HLA_A*24:10\n",
      "removed all ['a' 'p'] from HLA_A*24:20\n",
      "removed all ['a' 'p'] from HLA_A*25:01\n",
      "removed all ['a' 'p'] from HLA_A*29:02\n",
      "removed all ['a' 'p'] from HLA_A*31:02\n",
      "removed all ['a' 'p'] from HLA_A*34:01\n",
      "removed all ['a' 'p'] from HLA_A*68:01\n",
      "removed all ['a' 'p'] from HLA_A*68:71\n",
      "removed all ['a' 'p'] from HLA_A*69:01\n",
      "removed all ['A' 'G'] from SNPS_A_7_30018316_exon1\n",
      "removed all ['A' 'C'] from SNPS_A_211_30018520_exon2\n",
      "removed all ['A' 'G'] from SNPS_A_257_30018566_exon2\n",
      "removed all ['A' 'G'] from SNPS_A_330_30018639_exon2\n",
      "removed all ['C' 'G'] from SNPS_A_773_30019082_exon3\n",
      "removed all ['C' 'G'] from SNPS_A_1567_30019876_intron3\n",
      "removed all ['A' 'C'] from SNPS_A_1729_30020038_exon4\n",
      "removed all ['C' 'T'] from SNPS_A_1756_30020065_exon4\n",
      "removed all ['A' 'G'] from SNPS_A_1824_30020133_exon4\n",
      "removed all ['A' 'C'] from SNPS_A_1972_30020281_exon5\n",
      "removed all ['A' 'C'] from SNPS_A_1986_30020295_exon5\n",
      "removed all ['A' 'G'] from SNPS_A_2828_30021137_intron7\n",
      "removed all ['a' 'p'] from HLA_C*01:03\n",
      "removed all ['a' 'p'] from HLA_C*01:06\n",
      "removed all ['a' 'p'] from HLA_C*01:14\n",
      "removed all ['a' 'p'] from HLA_C*03:40\n",
      "removed all ['a' 'p'] from HLA_C*04:03\n",
      "removed all ['a' 'p'] from HLA_C*04:82\n",
      "removed all ['a' 'p'] from HLA_C*07:01\n",
      "removed all ['a' 'p'] from HLA_C*07:18\n",
      "removed all ['a' 'p'] from HLA_C*08:41\n",
      "removed all ['a' 'p'] from HLA_C*15:04\n",
      "removed all ['a' 'p'] from HLA_C*15:43\n",
      "removed all ['a' 'p'] from HLA_C*16:02\n",
      "removed all ['a' 'p'] from HLA_C*16:04\n",
      "removed all ['a' 'p'] from HLA_C*17:01\n",
      "removed all ['C' 'T'] from SNPS_C_2825_31345003_intron7\n",
      "removed all ['C' 'T'] from SNPS_C_2584_31345244_intron6\n",
      "removed all ['A' 'G'] from SNPS_C_2403_31345425_intron5\n",
      "removed all ['C' 'T'] from SNPS_C_2328_31345500_intron5\n",
      "removed all ['A' 'G'] from SNPS_C_2269_31345559_intron5\n",
      "removed all ['G' 'T'] from SNPS_C_2206_31345622_intron5\n",
      "removed all ['C' 'T'] from SNPS_C_2082_31345746_exon5\n",
      "removed all ['A' 'G'] from SNPS_C_2081_31345747_exon5\n",
      "removed all ['C' 'T'] from SNPS_C_2080_31345748_exon5\n",
      "removed all ['A' 'C'] from SNPS_C_2077_31345751_exon5\n",
      "removed all ['Z' 'z'] from INS_AA_C_300x301_31345772\n",
      "removed all ['Z' 'z'] from INS_SNPS_C_2053x2054_31345774\n",
      "removed all ['Z' 'z'] from INS_SNPS_C_2033x2034_31345794\n",
      "removed all ['C' 'T'] from SNPS_C_2029_31345799_exon5\n",
      "removed all ['A' 'G'] from SNPS_C_2028_31345800_exon5\n",
      "removed all ['A' 'C'] from SNPS_C_2021_31345807_exon5\n",
      "removed all ['a' 'p'] from SNPS_C_2009_31345819_exon5_A\n",
      "removed all ['A' 'T'] from SNPS_C_2007_31345821_exon5\n",
      "removed all ['G' 'T'] from SNPS_C_1949_31345879_intron4\n",
      "removed all ['A' 'C'] from SNPS_C_1946_31345882_intron4\n",
      "removed all ['A' 'C'] from SNPS_C_1844_31345984_exon4\n",
      "removed all ['A' 'G'] from SNPS_C_1843_31345985_exon4\n",
      "removed all ['C' 'T'] from SNPS_C_1797_31346031_exon4\n",
      "removed all ['A' 'G'] from SNPS_C_1613_31346215_exon4\n",
      "removed all ['a' 'p'] from SNPS_C_1586_31346242_exon4_C\n",
      "removed all ['A' 'G'] from SNPS_C_1481_31346347_intron3\n",
      "removed all ['C' 'G'] from SNPS_C_1439_31346389_intron3\n",
      "removed all ['A' 'T'] from SNPS_C_1417_31346411_intron3\n",
      "removed all ['A' 'G'] from SNPS_C_1350_31346478_intron3\n",
      "removed all ['A' 'G'] from SNPS_C_1309_31346519_intron3\n",
      "removed all ['C' 'T'] from SNPS_C_1256_31346572_intron3\n",
      "removed all ['C' 'G'] from SNPS_C_1150_31346678_intron3\n",
      "removed all ['A' 'G'] from SNPS_C_1129_31346699_intron3\n",
      "removed all ['C' 'T'] from SNPS_C_956_31346872_exon3\n",
      "removed all ['a' 'p'] from SNPS_C_903_31346925_exon3_A\n",
      "removed all ['A' 'T'] from SNPS_C_875_31346953_exon3\n",
      "removed all ['a' 'p'] from SNPS_C_853_31346975_exon3_C\n",
      "removed all ['A' 'C'] from SNPS_C_721_31347107_exon3\n",
      "removed all ['C' 'G'] from SNPS_C_688_31347140_intron2\n",
      "removed all ['A' 'G'] from SNPS_C_612_31347216_intron2\n",
      "removed all ['C' 'T'] from SNPS_C_598_31347230_intron2\n",
      "removed all ['A' 'T'] from SNPS_C_565_31347263_intron2\n",
      "removed all ['C' 'T'] from SNPS_C_486_31347342_intron2\n",
      "removed all ['A' 'G'] from SNPS_C_59_31347769_exon1\n",
      "removed all ['C' 'T'] from SNPS_C_20_31347808_exon1\n",
      "removed all ['a' 'p'] from HLA_B*07:06\n",
      "removed all ['a' 'p'] from HLA_B*08:01\n",
      "removed all ['a' 'p'] from HLA_B*15:02\n",
      "removed all ['a' 'p'] from HLA_B*15:03\n",
      "removed all ['a' 'p'] from HLA_B*15:05\n",
      "removed all ['a' 'p'] from HLA_B*15:08\n",
      "removed all ['a' 'p'] from HLA_B*15:12\n",
      "removed all ['a' 'p'] from HLA_B*15:13\n",
      "removed all ['a' 'p'] from HLA_B*15:15\n",
      "removed all ['a' 'p'] from HLA_B*15:17\n",
      "removed all ['a' 'p'] from HLA_B*15:20\n",
      "removed all ['a' 'p'] from HLA_B*15:25\n",
      "removed all ['a' 'p'] from HLA_B*15:27\n",
      "removed all ['a' 'p'] from HLA_B*15:32\n",
      "removed all ['a' 'p'] from HLA_B*15:46\n",
      "removed all ['a' 'p'] from HLA_B*15:50\n",
      "removed all ['a' 'p'] from HLA_B*15:58\n",
      "removed all ['a' 'p'] from HLA_B*18:01\n",
      "removed all ['a' 'p'] from HLA_B*18:02\n",
      "removed all ['a' 'p'] from HLA_B*27:02\n",
      "removed all ['a' 'p'] from HLA_B*27:04\n",
      "removed all ['a' 'p'] from HLA_B*27:06\n",
      "removed all ['a' 'p'] from HLA_B*27:07\n",
      "removed all ['a' 'p'] from HLA_B*27:11\n",
      "removed all ['a' 'p'] from HLA_B*27:24\n",
      "removed all ['a' 'p'] from HLA_B*35:02\n",
      "removed all ['a' 'p'] from HLA_B*35:03\n",
      "removed all ['a' 'p'] from HLA_B*35:05\n",
      "removed all ['a' 'p'] from HLA_B*35:08\n",
      "removed all ['a' 'p'] from HLA_B*35:11\n",
      "removed all ['a' 'p'] from HLA_B*35:14\n",
      "removed all ['a' 'p'] from HLA_B*35:15\n",
      "removed all ['a' 'p'] from HLA_B*35:30\n",
      "removed all ['a' 'p'] from HLA_B*35:31\n",
      "removed all ['a' 'p'] from HLA_B*35:43\n",
      "removed all ['a' 'p'] from HLA_B*38:01\n",
      "removed all ['a' 'p'] from HLA_B*39:03\n",
      "removed all ['a' 'p'] from HLA_B*39:05\n",
      "removed all ['a' 'p'] from HLA_B*39:09\n",
      "removed all ['a' 'p'] from HLA_B*40:05\n",
      "removed all ['a' 'p'] from HLA_B*40:40\n",
      "removed all ['a' 'p'] from HLA_B*41:01\n",
      "removed all ['a' 'p'] from HLA_B*44:46\n",
      "removed all ['a' 'p'] from HLA_B*45:01\n",
      "removed all ['a' 'p'] from HLA_B*47:01\n",
      "removed all ['a' 'p'] from HLA_B*48:02\n",
      "removed all ['a' 'p'] from HLA_B*48:03\n",
      "removed all ['a' 'p'] from HLA_B*49:01\n",
      "removed all ['a' 'p'] from HLA_B*50:01\n",
      "removed all ['a' 'p'] from HLA_B*51:04\n",
      "removed all ['a' 'p'] from HLA_B*51:07\n",
      "removed all ['a' 'p'] from HLA_B*51:08\n",
      "removed all ['a' 'p'] from HLA_B*51:42\n",
      "removed all ['a' 'p'] from HLA_B*53:01\n",
      "removed all ['a' 'p'] from HLA_B*55:01\n",
      "removed all ['a' 'p'] from HLA_B*55:04\n",
      "removed all ['a' 'p'] from HLA_B*55:12\n",
      "removed all ['a' 'p'] from HLA_B*55:24\n",
      "removed all ['a' 'p'] from HLA_B*56:01\n",
      "removed all ['a' 'p'] from HLA_B*56:03\n",
      "removed all ['a' 'p'] from HLA_B*56:04\n",
      "removed all ['a' 'p'] from HLA_B*57:01\n",
      "removed all ['a' 'p'] from HLA_B*78:02\n",
      "removed all ['a' 'p'] from HLA_B*81:01\n",
      "removed all ['a' 'p'] from SNPS_B_2596_31430319_intron6_T\n",
      "removed all ['C' 'T'] from SNPS_B_2551_31430364_intron6\n",
      "removed all ['C' 'T'] from SNPS_B_2325_31430590_intron5\n",
      "removed all ['A' 'G'] from SNPS_B_2246_31430669_intron5\n",
      "removed all ['A' 'C'] from SNPS_B_2245_31430670_intron5\n",
      "removed all ['C' 'T'] from SNPS_B_2170_31430745_intron5\n",
      "removed all ['A' 'T'] from SNPS_B_2156_31430759_intron5\n",
      "removed all ['A' 'T'] from SNPS_B_2146_31430769_intron5\n",
      "removed all ['A' 'T'] from SNPS_B_2051_31430864_exon5\n",
      "removed all ['C' 'T'] from SNPS_B_2031_31430884_exon5\n",
      "removed all ['C' 'T'] from SNPS_B_1949_31430966_exon5\n",
      "removed all ['C' 'T'] from SNPS_B_1820_31431095_exon4\n",
      "removed all ['C' 'G'] from SNPS_B_1651_31431264_exon4\n",
      "removed all ['C' 'G'] from SNPS_B_1520_31431395_intron3\n",
      "removed all ['A' 'G'] from SNPS_B_1481_31431434_intron3\n",
      "removed all ['.' 'C'] from SNPS_B_1435_31431480_intron3\n",
      "removed all ['.' 'T'] from SNPS_B_1434_31431481_intron3\n",
      "removed all ['C' 'T'] from SNPS_B_1430_31431485_intron3\n",
      "removed all ['C' 'T'] from SNPS_B_1379_31431536_intron3\n",
      "removed all ['C' 'T'] from SNPS_B_1356_31431559_intron3\n",
      "removed all ['A' 'G'] from SNPS_B_1350_31431565_intron3\n",
      "removed all ['.' 'A'] from SNPS_B_1267_31431648_intron3\n",
      "removed all ['A' 'T'] from SNPS_B_1200_31431715_intron3\n",
      "removed all ['A' 'G'] from SNPS_B_1126_31431789_intron3\n",
      "removed all ['A' 'C'] from SNPS_B_944_31431971_exon3\n",
      "removed all ['C' 'G'] from SNPS_B_943_31431972_exon3\n",
      "removed all ['A' 'G'] from SNPS_B_770_31432145_exon3\n",
      "removed all ['a' 'p'] from SNPS_B_741_31432174_exon3_A\n",
      "removed all ['a' 'p'] from SNPS_B_735_31432180_exon3_A\n",
      "removed all ['a' 'p'] from SNPS_B_734_31432181_exon3_C\n",
      "removed all ['Z' 'z'] from INS_SNPS_B_681x682_31432234\n",
      "removed all ['C' 'T'] from SNPS_B_667_31432248_intron2\n",
      "removed all ['a' 'p'] from SNPS_B_563_31432352_intron2_.\n",
      "removed all ['C' 'T'] from SNPS_B_560_31432355_intron2\n",
      "removed all ['C' 'T'] from SNPS_B_362_31432553_exon2\n",
      "removed all ['C' 'T'] from SNPS_B_289_31432626_exon2\n",
      "removed all ['a' 'p'] from SNPS_B_225_31432690_exon2_C\n",
      "removed all ['.' 'G'] from SNPS_B_199_31432716_intron1\n",
      "removed all ['a' 'p'] from SNPS_B_193_31432722_intron1_A\n",
      "removed all ['A' 'C'] from SNPS_B_138_31432777_intron1\n",
      "removed all ['C' 'T'] from SNPS_B_117_31432798_intron1\n",
      "removed all ['a' 'p'] from SNPS_B_107_31432808_intron1_T\n",
      "removed all ['a' 'p'] from HLA_DRB1*01:02\n",
      "removed all ['a' 'p'] from HLA_DRB1*03:17\n",
      "removed all ['a' 'p'] from HLA_DRB1*03:24\n",
      "removed all ['a' 'p'] from HLA_DRB1*04:02\n",
      "removed all ['a' 'p'] from HLA_DRB1*04:07\n",
      "removed all ['a' 'p'] from HLA_DRB1*04:08\n",
      "removed all ['a' 'p'] from HLA_DRB1*08:01\n",
      "removed all ['a' 'p'] from HLA_DRB1*08:09\n",
      "removed all ['a' 'p'] from HLA_DRB1*11:04\n",
      "removed all ['a' 'p'] from HLA_DRB1*11:06\n",
      "removed all ['a' 'p'] from HLA_DRB1*11:11\n",
      "removed all ['a' 'p'] from HLA_DRB1*12:10\n",
      "removed all ['a' 'p'] from HLA_DRB1*12:17\n",
      "removed all ['a' 'p'] from HLA_DRB1*13:12\n",
      "removed all ['a' 'p'] from HLA_DRB1*14:01\n",
      "removed all ['a' 'p'] from HLA_DRB1*14:02\n",
      "removed all ['a' 'p'] from HLA_DRB1*14:04\n",
      "removed all ['a' 'p'] from HLA_DRB1*14:07\n",
      "removed all ['a' 'p'] from HLA_DRB1*14:141\n",
      "removed all ['a' 'p'] from HLA_DRB1*15:04\n",
      "removed all ['Z' 'z'] from INS_SNPS_DRB1_9539x9540_32655958\n",
      "removed all ['A' 'G'] from SNPS_DRB1_9302_32656196_intron4\n",
      "removed all ['A' 'G'] from SNPS_DRB1_8565_32656933_intron3\n",
      "removed all ['Z' 'z'] from INS_SNPS_DRB1_8459x8460_32657038\n",
      "removed all ['A' 'G'] from SNPS_DRB1_7920_32657578_exon3\n",
      "removed all ['Z' 'z'] from INS_SNPS_DRB1_7616x7617_32657882\n",
      "removed all ['Z' 'z'] from INS_SNPS_DRB1_7043x7044_32658454\n",
      "removed all ['Z' 'z'] from INS_SNPS_DRB1_6716x6717_32658782\n",
      "removed all ['Z' 'z'] from INS_SNPS_DRB1_6510x6511_32658988\n",
      "removed all ['Z' 'z'] from INS_SNPS_DRB1_6427x6428_32659070\n",
      "removed all ['Z' 'z'] from INS_SNPS_DRB1_6277x6278_32659220\n",
      "removed all ['A' 'C'] from SNPS_DRB1_6220_32659278_intron2\n",
      "removed all ['Z' 'z'] from INS_SNPS_DRB1_4747x4748_32660750\n",
      "removed all ['Z' 'z'] from INS_SNPS_DRB1_4390x4391_32661108\n",
      "removed all ['Z' 'z'] from INS_SNPS_DRB1_4380x4381_32661118\n",
      "removed all ['A' 'T'] from SNPS_DRB1_4380_32661118_intron1\n",
      "removed all ['A' 'G'] from SNPS_DRB1_4312_32661186_intron1\n",
      "removed all ['Z' 'z'] from INS_SNPS_DRB1_4268x4269_32661230\n",
      "removed all ['a' 'p'] from SNPS_DRB1_4204_32661294_intron1_A\n",
      "removed all ['a' 'p'] from SNPS_DRB1_3829_32661669_intron1_G\n",
      "removed all ['C' 'T'] from SNPS_DRB1_3199_32662299_intron1\n",
      "removed all ['Z' 'z'] from INS_SNPS_DRB1_3195x3196_32662302\n",
      "removed all ['G' 'T'] from SNPS_DRB1_3196_32662302_intron1\n",
      "removed all ['Z' 'z'] from INS_SNPS_DRB1_3177x3178_32662320\n",
      "removed all ['Z' 'z'] from INS_SNPS_DRB1_2998x2999_32662500\n",
      "removed all ['Z' 'z'] from INS_SNPS_DRB1_2668x2669_32662830\n",
      "removed all ['A' 'G'] from SNPS_DRB1_2348_32663150_intron1\n",
      "removed all ['C' 'G'] from SNPS_DRB1_1858_32663640_intron1\n",
      "removed all ['a' 'p'] from SNPS_DRB1_249_32665249_intron1_.\n",
      "removed all ['.' 'G'] from SNPS_DRB1_248_32665250_intron1\n",
      "removed all ['A' 'G'] from SNPS_DRB1_247_32665251_intron1\n",
      "removed all ['a' 'p'] from HLA_DQA1*05:06\n",
      "removed all ['a' 'p'] from HLA_DQA1*05:09\n",
      "removed all ['A' 'G'] from SNPS_DQA1_70_32713283_exon1\n",
      "removed all ['C' 'G'] from SNPS_DQA1_4561_32717774_exon3\n",
      "removed all ['a' 'p'] from HLA_DQB1*03:05\n",
      "removed all ['a' 'p'] from HLA_DQB1*03:100\n",
      "removed all ['a' 'p'] from HLA_DQB1*03:19\n",
      "removed all ['a' 'p'] from SNPS_DQB1_777_32741586_intron1_A\n",
      "removed all ['a' 'p'] from HLA_DPA1*03:01\n",
      "removed all ['a' 'p'] from HLA_DPA1*04:01\n",
      "removed all ['C' 'T'] from SNPS_DPA1_4799_33144527_exon4\n",
      "removed all ['A' 'G'] from SNPS_DPA1_4727_33144599_intron3\n",
      "removed all ['C' 'G'] from SNPS_DPA1_4705_33144621_intron3\n",
      "removed all ['C' 'T'] from SNPS_DPA1_4659_33144667_intron3\n",
      "removed all ['C' 'G'] from SNPS_DPA1_4303_33145023_exon3\n",
      "removed all ['A' 'C'] from SNPS_DPA1_3896_33145430_exon2\n",
      "removed all ['A' 'G'] from SNPS_DPA1_3895_33145431_exon2\n",
      "removed all ['A' 'C'] from SNPS_DPA1_3894_33145432_exon2\n",
      "removed all ['A' 'G'] from SNPS_DPA1_3892_33145434_exon2\n",
      "removed all ['A' 'G'] from SNPS_DPA1_3874_33145452_exon2\n",
      "removed all ['A' 'T'] from SNPS_DPA1_3761_33145565_exon2\n",
      "removed all ['C' 'T'] from SNPS_DPA1_3752_33145574_exon2\n",
      "removed all ['G' 'T'] from SNPS_DPA1_3729_33145597_exon2\n",
      "removed all ['A' 'G'] from SNPS_DPA1_3645_33145681_intron1\n",
      "removed all ['C' 'T'] from SNPS_DPA1_3642_33145684_intron1\n",
      "removed all ['C' 'G'] from SNPS_DPA1_3626_33145700_intron1\n",
      "removed all ['A' 'G'] from SNPS_DPA1_3574_33145752_intron1\n",
      "removed all ['C' 'G'] from SNPS_DPA1_3532_33145794_intron1\n",
      "removed all ['A' 'T'] from SNPS_DPA1_3515_33145811_intron1\n",
      "removed all ['.' 'T'] from SNPS_DPA1_3471_33145855_intron1\n",
      "removed all ['A' 'G'] from SNPS_DPA1_3465_33145861_intron1\n",
      "removed all ['C' 'G'] from SNPS_DPA1_3369_33145957_intron1\n",
      "removed all ['C' 'G'] from SNPS_DPA1_3364_33145962_intron1\n",
      "removed all ['C' 'T'] from SNPS_DPA1_3353_33145973_intron1\n",
      "removed all ['G' 'T'] from SNPS_DPA1_3277_33146049_intron1\n",
      "removed all ['A' 'G'] from SNPS_DPA1_3245_33146081_intron1\n",
      "removed all ['A' 'G'] from SNPS_DPA1_3189_33146137_intron1\n",
      "removed all ['A' 'G'] from SNPS_DPA1_3188_33146138_intron1\n",
      "removed all ['A' 'C'] from SNPS_DPA1_3176_33146150_intron1\n",
      "removed all ['A' 'C'] from SNPS_DPA1_3067_33146259_intron1\n",
      "removed all ['A' 'G'] from SNPS_DPA1_3053_33146273_intron1\n",
      "removed all ['C' 'T'] from SNPS_DPA1_2834_33146492_intron1\n",
      "removed all ['G' 'T'] from SNPS_DPA1_2831_33146495_intron1\n",
      "removed all ['A' 'G'] from SNPS_DPA1_2797_33146529_intron1\n",
      "removed all ['A' 'T'] from SNPS_DPA1_2759_33146567_intron1\n",
      "removed all ['C' 'T'] from SNPS_DPA1_2745_33146581_intron1\n",
      "removed all ['C' 'T'] from SNPS_DPA1_2739_33146587_intron1\n",
      "removed all ['A' 'G'] from SNPS_DPA1_2690_33146636_intron1\n",
      "removed all ['G' 'T'] from SNPS_DPA1_2655_33146671_intron1\n",
      "removed all ['C' 'T'] from SNPS_DPA1_2634_33146692_intron1\n",
      "removed all ['G' 'T'] from SNPS_DPA1_2628_33146698_intron1\n",
      "removed all ['A' 'C'] from SNPS_DPA1_2601_33146725_intron1\n",
      "removed all ['A' 'G'] from SNPS_DPA1_2591_33146735_intron1\n",
      "removed all ['A' 'G'] from SNPS_DPA1_2581_33146745_intron1\n",
      "removed all ['C' 'T'] from SNPS_DPA1_2567_33146759_intron1\n",
      "removed all ['C' 'G'] from SNPS_DPA1_2536_33146790_intron1\n",
      "removed all ['A' 'T'] from SNPS_DPA1_2510_33146816_intron1\n",
      "removed all ['C' 'T'] from SNPS_DPA1_2507_33146819_intron1\n",
      "removed all ['A' 'G'] from SNPS_DPA1_2506_33146820_intron1\n",
      "removed all ['C' 'T'] from SNPS_DPA1_2503_33146823_intron1\n",
      "removed all ['A' 'G'] from SNPS_DPA1_2474_33146852_intron1\n",
      "removed all ['G' 'T'] from SNPS_DPA1_2468_33146858_intron1\n",
      "removed all ['a' 'p'] from SNPS_DPA1_2442_33146884_intron1_A\n",
      "removed all ['a' 'p'] from SNPS_DPA1_2439_33146887_intron1_C\n",
      "removed all ['a' 'p'] from SNPS_DPA1_2438_33146888_intron1_A\n",
      "removed all ['C' 'T'] from SNPS_DPA1_2404_33146922_intron1\n",
      "removed all ['C' 'T'] from SNPS_DPA1_2385_33146941_intron1\n",
      "removed all ['A' 'G'] from SNPS_DPA1_2380_33146946_intron1\n",
      "removed all ['A' 'T'] from SNPS_DPA1_2334_33146992_intron1\n",
      "removed all ['Z' 'z'] from INS_SNPS_DPA1_2328x2329_33146998\n",
      "removed all ['A' 'G'] from SNPS_DPA1_2307_33147019_intron1\n",
      "removed all ['C' 'G'] from SNPS_DPA1_2301_33147025_intron1\n",
      "removed all ['G' 'T'] from SNPS_DPA1_2296_33147030_intron1\n",
      "removed all ['.' 'A'] from SNPS_DPA1_2294_33147032_intron1\n",
      "removed all ['.' 'A'] from SNPS_DPA1_2293_33147033_intron1\n",
      "removed all ['.' 'C'] from SNPS_DPA1_2292_33147034_intron1\n",
      "removed all ['C' 'T'] from SNPS_DPA1_2287_33147039_intron1\n",
      "removed all ['G' 'T'] from SNPS_DPA1_2258_33147068_intron1\n",
      "removed all ['C' 'G'] from SNPS_DPA1_2251_33147075_intron1\n",
      "removed all ['A' 'G'] from SNPS_DPA1_2175_33147151_intron1\n",
      "removed all ['A' 'T'] from SNPS_DPA1_2170_33147156_intron1\n",
      "removed all ['A' 'G'] from SNPS_DPA1_2167_33147159_intron1\n",
      "removed all ['C' 'T'] from SNPS_DPA1_2149_33147177_intron1\n",
      "removed all ['A' 'G'] from SNPS_DPA1_2148_33147178_intron1\n",
      "removed all ['.' 'T'] from SNPS_DPA1_2131_33147195_intron1\n",
      "removed all ['A' 'T'] from SNPS_DPA1_2127_33147199_intron1\n",
      "removed all ['A' 'G'] from SNPS_DPA1_2121_33147205_intron1\n",
      "removed all ['A' 'C'] from SNPS_DPA1_2101_33147225_intron1\n",
      "removed all ['C' 'T'] from SNPS_DPA1_2091_33147235_intron1\n",
      "removed all ['A' 'G'] from SNPS_DPA1_2090_33147236_intron1\n",
      "removed all ['C' 'T'] from SNPS_DPA1_2086_33147240_intron1\n",
      "removed all ['A' 'C'] from SNPS_DPA1_2072_33147254_intron1\n",
      "removed all ['A' 'C'] from SNPS_DPA1_2041_33147285_intron1\n",
      "removed all ['A' 'G'] from SNPS_DPA1_2016_33147310_intron1\n",
      "removed all ['C' 'T'] from SNPS_DPA1_2003_33147323_intron1\n",
      "removed all ['C' 'G'] from SNPS_DPA1_1990_33147336_intron1\n",
      "removed all ['G' 'T'] from SNPS_DPA1_1984_33147342_intron1\n",
      "removed all ['C' 'T'] from SNPS_DPA1_1973_33147353_intron1\n",
      "removed all ['C' 'G'] from SNPS_DPA1_1952_33147374_intron1\n",
      "removed all ['A' 'G'] from SNPS_DPA1_1933_33147393_intron1\n",
      "removed all ['C' 'T'] from SNPS_DPA1_1930_33147396_intron1\n",
      "removed all ['C' 'G'] from SNPS_DPA1_1927_33147399_intron1\n",
      "removed all ['C' 'T'] from SNPS_DPA1_1911_33147415_intron1\n",
      "removed all ['A' 'G'] from SNPS_DPA1_1866_33147460_intron1\n",
      "removed all ['A' 'G'] from SNPS_DPA1_1847_33147479_intron1\n",
      "removed all ['C' 'G'] from SNPS_DPA1_1820_33147506_intron1\n",
      "removed all ['A' 'T'] from SNPS_DPA1_1787_33147539_intron1\n",
      "removed all ['A' 'C'] from SNPS_DPA1_1776_33147550_intron1\n",
      "removed all ['A' 'C'] from SNPS_DPA1_1775_33147551_intron1\n",
      "removed all ['C' 'T'] from SNPS_DPA1_1763_33147563_intron1\n",
      "removed all ['A' 'T'] from SNPS_DPA1_1761_33147565_intron1\n",
      "removed all ['G' 'T'] from SNPS_DPA1_1757_33147569_intron1\n",
      "removed all ['C' 'T'] from SNPS_DPA1_1723_33147603_intron1\n",
      "removed all ['Z' 'z'] from INS_SNPS_DPA1_1577x1578_33147748\n",
      "removed all ['a' 'p'] from SNPS_DPA1_1544_33147782_intron1_A\n",
      "removed all ['A' 'G'] from SNPS_DPA1_1517_33147809_intron1\n",
      "removed all ['G' 'T'] from SNPS_DPA1_1472_33147854_intron1\n",
      "removed all ['A' 'G'] from SNPS_DPA1_1308_33148018_intron1\n",
      "removed all ['G' 'T'] from SNPS_DPA1_1208_33148118_intron1\n",
      "removed all ['.' 'T'] from SNPS_DPA1_1063_33148263_intron1\n",
      "removed all ['.' 'G'] from SNPS_DPA1_1062_33148264_intron1\n",
      "removed all ['.' 'T'] from SNPS_DPA1_1061_33148265_intron1\n",
      "removed all ['A' 'G'] from SNPS_DPA1_1023_33148303_intron1\n",
      "removed all ['C' 'T'] from SNPS_DPA1_1003_33148323_intron1\n",
      "removed all ['A' 'C'] from SNPS_DPA1_993_33148333_intron1\n",
      "removed all ['C' 'G'] from SNPS_DPA1_984_33148342_intron1\n",
      "removed all ['A' 'C'] from SNPS_DPA1_952_33148374_intron1\n",
      "removed all ['A' 'G'] from SNPS_DPA1_942_33148384_intron1\n",
      "removed all ['C' 'G'] from SNPS_DPA1_929_33148397_intron1\n",
      "removed all ['C' 'T'] from SNPS_DPA1_923_33148403_intron1\n",
      "removed all ['C' 'T'] from SNPS_DPA1_852_33148474_intron1\n",
      "removed all ['A' 'G'] from SNPS_DPA1_826_33148500_intron1\n",
      "removed all ['A' 'G'] from SNPS_DPA1_737_33148589_intron1\n",
      "removed all ['A' 'G'] from SNPS_DPA1_693_33148633_intron1\n",
      "removed all ['A' 'G'] from SNPS_DPA1_640_33148686_intron1\n",
      "removed all ['A' 'C'] from SNPS_DPA1_622_33148704_intron1\n",
      "removed all ['C' 'T'] from SNPS_DPA1_588_33148738_intron1\n",
      "removed all ['A' 'C'] from SNPS_DPA1_362_33148964_intron1\n",
      "removed all ['A' 'G'] from SNPS_DPA1_355_33148971_intron1\n",
      "removed all ['G' 'T'] from SNPS_DPA1_336_33148990_intron1\n",
      "removed all ['a' 'p'] from SNPS_DPA1_314_33149012_intron1_T\n",
      "removed all ['A' 'G'] from SNPS_DPA1_256_33149070_intron1\n",
      "removed all ['C' 'G'] from SNPS_DPA1_177_33149149_intron1\n",
      "removed all ['A' 'G'] from SNPS_DPA1_129_33149197_intron1\n",
      "removed all ['C' 'G'] from SNPS_DPA1_108_33149218_intron1\n",
      "removed all ['A' 'T'] from SNPS_DPA1_9_33149317_exon1\n",
      "removed all ['a' 'p'] from HLA_DPB1*01:01\n",
      "removed all ['a' 'p'] from HLA_DPB1*06:01\n",
      "removed all ['a' 'p'] from HLA_DPB1*104:01\n",
      "removed all ['a' 'p'] from HLA_DPB1*105:01\n",
      "removed all ['a' 'p'] from HLA_DPB1*106:01\n",
      "removed all ['a' 'p'] from HLA_DPB1*107:01\n",
      "removed all ['a' 'p'] from HLA_DPB1*10:01\n",
      "removed all ['a' 'p'] from HLA_DPB1*11:01\n",
      "removed all ['a' 'p'] from HLA_DPB1*135:01\n",
      "removed all ['a' 'p'] from HLA_DPB1*15:01\n",
      "removed all ['a' 'p'] from HLA_DPB1*16:01\n",
      "removed all ['a' 'p'] from HLA_DPB1*19:01\n",
      "removed all ['a' 'p'] from HLA_DPB1*21:01\n",
      "removed all ['a' 'p'] from HLA_DPB1*26:01\n",
      "removed all ['a' 'p'] from HLA_DPB1*45:01\n",
      "removed all ['.' 'G'] from SNPS_DPB1_355_33152151_intron1\n",
      "removed all ['C' 'G'] from SNPS_DPB1_405_33152201_intron1\n",
      "removed all ['G' 'T'] from SNPS_DPB1_699_33152495_intron1\n",
      "removed all ['A' 'T'] from SNPS_DPB1_889_33152685_intron1\n",
      "removed all ['C' 'T'] from SNPS_DPB1_1079_33152875_intron1\n",
      "removed all ['C' 'T'] from SNPS_DPB1_1887_33153683_intron1\n",
      "removed all ['C' 'T'] from SNPS_DPB1_1923_33153719_intron1\n",
      "removed all ['A' 'G'] from SNPS_DPB1_1958_33153754_intron1\n",
      "removed all ['G' 'T'] from SNPS_DPB1_1961_33153757_intron1\n",
      "removed all ['A' 'G'] from SNPS_DPB1_2170_33153966_intron1\n",
      "removed all ['A' 'T'] from SNPS_DPB1_2301_33154097_intron1\n",
      "removed all ['C' 'T'] from SNPS_DPB1_2725_33154521_intron1\n",
      "removed all ['C' 'T'] from SNPS_DPB1_3360_33155156_intron1\n",
      "removed all ['A' 'G'] from SNPS_DPB1_3820_33155616_intron1\n",
      "removed all ['C' 'T'] from SNPS_DPB1_3964_33155760_intron1\n",
      "removed all ['C' 'T'] from SNPS_DPB1_4079_33155875_intron1\n",
      "removed all ['A' 'G'] from SNPS_DPB1_4165_33155961_intron1\n",
      "removed all ['A' 'C'] from SNPS_DPB1_4318_33156114_intron1\n",
      "removed all ['C' 'T'] from SNPS_DPB1_4369_33156165_intron1\n",
      "removed all ['C' 'T'] from SNPS_DPB1_4371_33156167_intron1\n",
      "removed all ['A' 'C'] from SNPS_DPB1_4382_33156178_intron1\n",
      "removed all ['.' 'C'] from SNPS_DPB1_4387_33156183_intron1\n",
      "removed all ['Z' 'z'] from INS_SNPS_DPB1_4412x4413_33156208\n",
      "removed all ['A' 'G'] from SNPS_DPB1_4499_33156295_intron1\n",
      "removed all ['C' 'T'] from SNPS_DPB1_4527_33156323_intron1\n",
      "removed all ['A' 'T'] from SNPS_DPB1_4541_33156337_intron1\n",
      "removed all ['C' 'G'] from SNPS_DPB1_4719_33156515_exon2\n",
      "removed all ['A' 'G'] from SNPS_DPB1_4751_33156547_exon2\n",
      "removed all ['A' 'G'] from SNPS_DPB1_4828_33156624_exon2\n",
      "removed all ['a' 'p'] from SNPS_DPB1_4873_33156669_exon2_T\n",
      "removed all ['C' 'T'] from SNPS_DPB1_4941_33156737_intron2\n",
      "removed all ['A' 'G'] from SNPS_DPB1_4997_33156793_intron2\n",
      "removed all ['A' 'G'] from SNPS_DPB1_4998_33156794_intron2\n",
      "removed all ['G' 'T'] from SNPS_DPB1_5030_33156826_intron2\n",
      "removed all ['G' 'T'] from SNPS_DPB1_5032_33156828_intron2\n",
      "removed all ['Z' 'z'] from INS_SNPS_DPB1_5035x5036_33156832\n",
      "removed all ['A' 'G'] from SNPS_DPB1_5162_33156958_intron2\n",
      "removed all ['A' 'G'] from SNPS_DPB1_5254_33157050_intron2\n",
      "removed all ['a' 'p'] from SNPS_DPB1_5262_33157058_intron2_A\n",
      "removed all ['A' 'G'] from SNPS_DPB1_5335_33157131_intron2\n",
      "removed all ['A' 'G'] from SNPS_DPB1_5347_33157143_intron2\n",
      "removed all ['A' 'G'] from SNPS_DPB1_5373_33157169_intron2\n",
      "removed all ['A' 'G'] from SNPS_DPB1_5763_33157559_intron2\n",
      "removed all ['C' 'G'] from SNPS_DPB1_5952_33157748_intron2\n",
      "removed all ['C' 'T'] from SNPS_DPB1_6089_33157885_intron2\n",
      "removed all ['A' 'T'] from SNPS_DPB1_6090_33157886_intron2\n",
      "removed all ['A' 'G'] from SNPS_DPB1_6153_33157949_intron2\n",
      "removed all ['A' 'C'] from SNPS_DPB1_6271_33158067_intron2\n",
      "removed all ['a' 'p'] from SNPS_DPB1_6346_33158142_intron2_A\n",
      "removed all ['C' 'T'] from SNPS_DPB1_6366_33158162_intron2\n",
      "removed all ['G' 'T'] from SNPS_DPB1_7269_33159065_intron2\n",
      "removed all ['C' 'T'] from SNPS_DPB1_7505_33159301_intron2\n",
      "removed all ['A' 'G'] from SNPS_DPB1_8711_33160507_intron2\n",
      "removed all ['C' 'T'] from SNPS_DPB1_9122_33160918_exon3\n",
      "removed all ['a' 'p'] from SNPS_DPB1_9150_33160946_intron3_A\n",
      "removed all ['C' 'T'] from SNPS_DPB1_9204_33161000_intron3\n",
      "removed all ['A' 'G'] from SNPS_DPB1_9701_33161497_exon4\n",
      "removed all ['C' 'T'] from SNPS_DPB1_9764_33161560_exon4\n",
      "removed all ['a' 'p'] from SNPS_DPB1_9944_33161740_intron4_T\n",
      "removed all ['I' 'V'] from AA_A_-22\n",
      "removed all ['H' 'Q'] from AA_A_3\n",
      "removed all ['E' 'K'] from AA_A_19\n",
      "removed all ['Q' 'R'] from AA_A_43\n",
      "removed all ['A' 'E'] from AA_A_236\n",
      "removed all ['A' 'V'] from AA_A_245\n",
      "removed all ['E' 'K'] from AA_A_268\n",
      "removed all ['H' 'P'] from AA_A_283\n",
      "removed all ['I' 'L'] from AA_A_288\n",
      "removed all ['C' 'H'] from AA_C_309\n",
      "removed all ['I' 'M'] from AA_C_308\n",
      "removed all ['L' 'P'] from AA_C_291\n",
      "removed all ['A' 'S'] from AA_C_289\n",
      "removed L from AA_C_285 count: 8\n",
      "removed all ['I' 'N'] from AA_C_284\n",
      "removed all ['C' 'L'] from AA_C_270\n",
      "removed all ['L' 'P'] from AA_C_193\n",
      "removed R from AA_C_184 count: 8\n",
      "removed all ['G' 'R'] from AA_C_170\n",
      "removed Q from AA_C_156 count: 17\n",
      "removed V from AA_C_152 count: 72\n",
      "removed all ['S' 'T'] from AA_C_143\n",
      "removed all ['I' 'T'] from AA_C_-5\n",
      "removed all ['Q' 'R'] from AA_C_-18\n",
      "removed x from AA_B_325 count: 97\n",
      "removed x from AA_B_305 count: 3\n",
      "removed x from AA_B_282 count: 3\n",
      "removed all ['A' 'G'] from AA_B_211\n",
      "removed G from AA_B_167 count: 19\n",
      "removed all ['D' 'E'] from AA_B_166\n",
      "removed all ['F' 'L'] from AA_B_109\n",
      "removed F from AA_B_99 count: 815\n",
      "removed V from AA_B_97 count: 736\n",
      "removed all ['D' 'G'] from AA_B_30\n",
      "removed D from AA_B_9 count: 793\n",
      "removed x from AA_DRB1_233 count: 219\n",
      "removed x from AA_DRB1_231 count: 219\n",
      "removed x from AA_DRB1_189 count: 219\n",
      "removed x from AA_DRB1_181 count: 219\n",
      "removed x from AA_DRB1_180 count: 219\n",
      "removed x from AA_DRB1_166 count: 219\n",
      "removed x from AA_DRB1_149 count: 219\n",
      "removed x from AA_DRB1_142 count: 219\n",
      "removed x from AA_DRB1_140 count: 219\n",
      "removed x from AA_DRB1_133 count: 219\n",
      "removed x from AA_DRB1_120 count: 219\n",
      "removed x from AA_DRB1_104 count: 219\n",
      "removed x from AA_DRB1_98 count: 219\n",
      "removed x from AA_DRB1_96 count: 219\n",
      "removed all ['R' 'T'] from AA_DRB1_51\n",
      "removed L from AA_DRB1_10 count: 207\n",
      "removed x from AA_DRB1_4 count: 219\n",
      "removed x from AA_DRB1_-1 count: 219\n",
      "removed x from AA_DRB1_-17 count: 219\n",
      "removed x from AA_DRB1_-24 count: 219\n",
      "removed x from AA_DRB1_-25 count: 219\n",
      "removed all ['E' 'K'] from AA_DQA1_1\n",
      "removed all ['L' 'V'] from AA_DQA1_102\n",
      "removed all ['A' 'T'] from AA_DPA1_190\n",
      "removed all ['A' 'P'] from AA_DPA1_96\n",
      "removed all ['A' 'L'] from AA_DPA1_73\n",
      "removed all ['I' 'T'] from AA_DPA1_72\n",
      "removed all ['L' 'S'] from AA_DPA1_66\n",
      "removed all ['D' 'E'] from AA_DPA1_28\n",
      "removed all ['P' 'T'] from AA_DPA1_18\n",
      "removed all ['E' 'Q'] from AA_DPB1_33\n",
      "removed R from AA_DPB1_69 count: 281\n",
      "removed V from AA_DPB1_84 count: 280\n",
      "removed x from AA_DPB1_96 count: 3\n",
      "removed x from AA_DPB1_170 count: 3\n",
      "removed x from AA_DPB1_178 count: 3\n",
      "removed x from AA_DPB1_205 count: 3\n"
     ]
    }
   ],
   "source": [
    "f_in=open(\"data/genotype/3_KCHIP_bmarkerphased/KCHIP_HLA.hg18.intersection_HAN.LABELED.NoSameAllele.bMarkers.2field.saveRareAllele.beagle5.1.AGM.bgl.phased.aa\",'r')\n",
    "f_out=open(\"data/genotype/3_KCHIP_bmarkerphased/KCHIP_HLA.hg18.intersection_HAN.LABELED.NoSameAllele.bMarkers.2field.saveRareAllele.beagle5.1.AGM.bgl.phased.QC.aa\",'w')\n",
    "\n",
    "ind_count=None\n",
    "line_cnt=0\n",
    "\n",
    "while True:\n",
    "    line_cnt+=1\n",
    "    line=f_in.readline().strip()\n",
    "    line_split=line.split(' ')\n",
    "    if not line:\n",
    "        break\n",
    "    if ind_count is None:\n",
    "        ind_count=int(len(line_split[2:])/2)\n",
    "    else:\n",
    "        assert ind_count==int(len(line_split[2:])/2)\n",
    "    \n",
    "    line_type=line_split[0]\n",
    "    line_id=line_split[1]\n",
    "    line_data=line_split[2:]\n",
    "    line_data=np.array(line_data)[iid_df_merged['index'].tolist()]\n",
    "    \n",
    "    \n",
    "    \n",
    "    if line_id in removed_aaformat_nodup:\n",
    "        line_data_unique=np.unique(line_data)\n",
    "        if len(line_data_unique)==2:\n",
    "            print(\"removed all\",line_data_unique,\"from\",line_id)\n",
    "            continue\n",
    "        elif len(line_data_unique)>2:\n",
    "            total_removed=0\n",
    "            #line_data_array=np.array(line_data)\n",
    "            for removed_match in removed[removed.str.contains(line_id+'_')]:\n",
    "                removed_match=removed_match.split('_')[-1]\n",
    "                match_cnt=(line_data==removed_match).sum()\n",
    "                total_removed+=match_cnt\n",
    "                line_data=np.where(line_data==removed_match, \"NA\", line_data) \n",
    "                print(\"removed\",removed_match,\"from\",line_id,\"count:\",match_cnt)\n",
    "            if total_removed==0:\n",
    "                raise\n",
    "            f_out.write(' '.join([line_type,line_id]+line_data.tolist())+'\\n')\n",
    "            #f_out.write(' '.join([line_type,line_id]+line_data))\n",
    "        else:\n",
    "            raise\n",
    "    else:\n",
    "        f_out.write(' '.join([line_type,line_id]+line_data.tolist())+'\\n')\n",
    "        \n",
    "f_in.close()\n",
    "f_out.close()"
   ]
  },
  {
   "cell_type": "markdown",
   "metadata": {},
   "source": [
    "# Merge"
   ]
  },
  {
   "cell_type": "code",
   "execution_count": 28,
   "metadata": {},
   "outputs": [],
   "source": [
    "!echo 'data/genotype/0_1000G/KCHIP_HLA_6_28Mb_35Mb_20200113_QC.newfilter.nooverlap' > data/genotype/4_merge/merge_list.tsv"
   ]
  },
  {
   "cell_type": "code",
   "execution_count": 30,
   "metadata": {},
   "outputs": [
    {
     "data": {
      "text/plain": [
       "'plink --bfile data/genotype/3_KCHIP_bmarkerphased/KCHIP_HLA.hg18.intersection_HAN.LABELED.NoSameAllele.bMarkers.2field.saveRareAllele.QC.noaa --merge-list data/genotype/4_merge/merge_list.tsv --make-bed --keep-allele-order --out data/genotype/4_merge/KCHIP_HLA_SNP_1000G_merged'"
      ]
     },
     "execution_count": 30,
     "metadata": {},
     "output_type": "execute_result"
    }
   ],
   "source": [
    "command='plink --bfile data/genotype/3_KCHIP_bmarkerphased/KCHIP_HLA.hg18.intersection_HAN.LABELED.NoSameAllele.bMarkers.2field.saveRareAllele.QC.noaa \\\n",
    "--merge-list data/genotype/4_merge/merge_list.tsv \\\n",
    "--make-bed \\\n",
    "--keep-allele-order \\\n",
    "--out data/genotype/4_merge/KCHIP_HLA_SNP_1000G_merged'\n",
    "command"
   ]
  },
  {
   "cell_type": "code",
   "execution_count": 121,
   "metadata": {},
   "outputs": [],
   "source": [
    "! cp data/genotype/3_KCHIP_bmarkerphased/KCHIP_HLA.hg18.intersection_HAN.LABELED.NoSameAllele.bMarkers.2field.saveRareAllele.beagle5.1.AGM.bgl.phased.QC.aa \\\n",
    "data/genotype/4_merge/KCHIP_HLA.hg18.intersection_HAN.LABELED.NoSameAllele.bMarkers.2field.saveRareAllele.beagle5.1.AGM.bgl.phased.QC.aa"
   ]
  },
  {
   "cell_type": "code",
   "execution_count": 31,
   "metadata": {},
   "outputs": [
    {
     "data": {
      "text/plain": [
       "'plink --bfile data/genotype/3_KCHIP_bmarkerphased/KCHIP_HLA.hg18.intersection_HAN.LABELED.NoSameAllele.bMarkers.2field.saveRareAllele.QC --merge-list data/genotype/4_merge/merge_list.tsv --make-bed --keep-allele-order --out data/genotype/4_merge/KCHIP_HLA_AA_SNP_1000G_merged'"
      ]
     },
     "execution_count": 31,
     "metadata": {},
     "output_type": "execute_result"
    }
   ],
   "source": [
    "command='plink --bfile data/genotype/3_KCHIP_bmarkerphased/KCHIP_HLA.hg18.intersection_HAN.LABELED.NoSameAllele.bMarkers.2field.saveRareAllele.QC \\\n",
    "--merge-list data/genotype/4_merge/merge_list.tsv \\\n",
    "--make-bed \\\n",
    "--keep-allele-order \\\n",
    "--out data/genotype/4_merge/KCHIP_HLA_AA_SNP_1000G_merged'\n",
    "command"
   ]
  },
  {
   "cell_type": "code",
   "execution_count": null,
   "metadata": {},
   "outputs": [],
   "source": []
  },
  {
   "cell_type": "code",
   "execution_count": null,
   "metadata": {},
   "outputs": [],
   "source": []
  }
 ],
 "metadata": {
  "kernelspec": {
   "display_name": "Python 3",
   "language": "python",
   "name": "python3"
  },
  "language_info": {
   "codemirror_mode": {
    "name": "ipython",
    "version": 3
   },
   "file_extension": ".py",
   "mimetype": "text/x-python",
   "name": "python",
   "nbconvert_exporter": "python",
   "pygments_lexer": "ipython3",
   "version": "3.6.9"
  }
 },
 "nbformat": 4,
 "nbformat_minor": 4
}
