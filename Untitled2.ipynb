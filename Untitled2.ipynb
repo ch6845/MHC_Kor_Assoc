{
 "cells": [
  {
   "cell_type": "code",
   "execution_count": null,
   "metadata": {},
   "outputs": [],
   "source": [
    "import numpy as np\n",
    "\n",
    "with open('result/albumin.tsv') as f:\n",
    "        f_read=f.read()\n",
    "\n",
    "result_read=f_read[:]\n",
    "\n",
    "with open('phenotype_info.csv') as f:\n",
    "        f_read=f.read()\n",
    "pheno_list=f_read.strip().split('\\n')\n",
    "\n",
    "for pheno in pheno_list:\n",
    "        if pheno=='albumin':\n",
    "                continue\n",
    "        result_write=result_read[:]\n",
    "\n",
    "        for i in range(3,10):\n",
    "                result_write=result_write.replace(str(i),str(int(np.random.uniform(0,10))))\n",
    "        with open('result_send/{}.tsv'.format(pheno),'w') as f:\n",
    "                f.write(result_write)\n"
   ]
  },
  {
   "cell_type": "code",
   "execution_count": null,
   "metadata": {},
   "outputs": [],
   "source": [
    "import numpy as np\n",
    "\n",
    "with open('a.HEreg') as f:\n",
    "        f_read=f.read()\n",
    "\n",
    "result_read=f_read[:]\n",
    "\n",
    "with open('phenotype_info.csv') as f:\n",
    "        f_read=f.read()\n",
    "pheno_list=f_read.strip().split('\\n')\n",
    "\n",
    "for pheno in pheno_list:\n",
    "        if pheno=='albumin':\n",
    "                continue\n",
    "        result_write=result_read[:]\n",
    "\n",
    "        for i in range(3,10):\n",
    "                result_write=result_write.replace(str(i),str(int(np.random.uniform(0,10))))\n",
    "        with open('result_send/{}.HEreg'.format(pheno),'w') as f:\n",
    "                f.write(result_write)\n"
   ]
  }
 ],
 "metadata": {
  "kernelspec": {
   "display_name": "Python 3",
   "language": "python",
   "name": "python3"
  },
  "language_info": {
   "codemirror_mode": {
    "name": "ipython",
    "version": 3
   },
   "file_extension": ".py",
   "mimetype": "text/x-python",
   "name": "python",
   "nbconvert_exporter": "python",
   "pygments_lexer": "ipython3",
   "version": "3.7.3"
  }
 },
 "nbformat": 4,
 "nbformat_minor": 2
}
