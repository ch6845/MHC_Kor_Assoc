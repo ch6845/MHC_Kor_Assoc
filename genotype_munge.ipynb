{
 "cells": [
  {
   "cell_type": "markdown",
   "metadata": {},
   "source": [
    "0 iid\n",
    "1 chr\n",
    "2 bp\n",
    "3 rsid\n",
    "4 al\n",
    "5 ref\n",
    "6 ?\n",
    "7 pass\n",
    "8 iqs format\n",
    "\n",
    "\n",
    "awk -F' ' '{print $2$8}' KCHIP_HLA_6_26Mb_36Mb_20191218.vcf > output.txt\n",
    "\n",
    "f=open('output.txt','r')\n",
    "\n",
    "f_read=f.read()\n",
    "f_read_lines=f_read.split('\\n')\n",
    "\n",
    "filter_rsid=[]\n",
    "for line in f_read_lines[15:-1]:\n",
    "    line_split=line.split('IQS=')\n",
    "    if float(line_split[1])>0.8:\n",
    "        filter_rsid.append(line_split[0])\n",
    "\n",
    "len(filter_rsid),len(f_read_lines[15:-1])\n",
    "\n",
    "f=open('rsid_filter.txt','w')\n",
    "for rsid in filter_rsid:\n",
    "    f.write(rsid+'\\n')\n",
    "    \n",
    "    \n",
    "    \n",
    "vcftools --gzvcf /jdata/scratch/GenomeResearch/GRbhan/ImputedKBA/KCHIP_HLA_6_26Mb_36Mb_20191218.vcf.gz \\\n",
    "--chr 6 \\\n",
    "--from-bp 28000000 \\\n",
    "--to-bp 35000000 \\\n",
    "--maf 0.01 \\\n",
    "--snps /jdata/scratch/GenomeResearch/GRbhan/temp/rsid_filter.txt \\\n",
    "--recode \\\n",
    "--recode-INFO-all \\\n",
    "--out KCHIP_HLA_6_28Mb_35Mb_20200113_QC\n",
    "\n",
    "tail KCHIP_HLA_6_28Mb_35Mb_20200113_QC.recode.vcf | awk -F' ' '{print $2}'"
   ]
  },
  {
   "cell_type": "code",
   "execution_count": null,
   "metadata": {},
   "outputs": [],
   "source": [
    "(101581, 139685)"
   ]
  },
  {
   "cell_type": "code",
   "execution_count": null,
   "metadata": {},
   "outputs": [],
   "source": [
    " tail KCHIP_HLA_6_26Mb_36Mb_20191218_qc.vcf.gz.recode.vcf -n10 | awk -F' ' '{print $3$8}'"
   ]
  }
 ],
 "metadata": {
  "kernelspec": {
   "display_name": "Python 3",
   "language": "python",
   "name": "python3"
  },
  "language_info": {
   "codemirror_mode": {
    "name": "ipython",
    "version": 3
   },
   "file_extension": ".py",
   "mimetype": "text/x-python",
   "name": "python",
   "nbconvert_exporter": "python",
   "pygments_lexer": "ipython3",
   "version": "3.7.3"
  }
 },
 "nbformat": 4,
 "nbformat_minor": 2
}
